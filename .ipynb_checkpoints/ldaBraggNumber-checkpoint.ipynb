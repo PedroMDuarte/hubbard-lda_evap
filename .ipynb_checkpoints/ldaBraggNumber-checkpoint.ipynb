{
 "metadata": {
  "name": "",
  "signature": "sha256:3eb5ce6816b637fddf3e66a7509e712413ed20f1cf6331175f11a6deff3d0405"
 },
 "nbformat": 3,
 "nbformat_minor": 0,
 "worksheets": [
  {
   "cells": [
    {
     "cell_type": "code",
     "collapsed": false,
     "input": [
      "import IPython\n",
      "IPython.__version__"
     ],
     "language": "python",
     "metadata": {},
     "outputs": [
      {
       "metadata": {},
       "output_type": "pyout",
       "prompt_number": 1,
       "text": [
        "'2.0.0'"
       ]
      }
     ],
     "prompt_number": 1
    },
    {
     "cell_type": "markdown",
     "metadata": {},
     "source": [
      "# $S/N = 1.6 k_{\\mathrm{b}}$,  $\\alpha=1.15$"
     ]
    },
    {
     "cell_type": "code",
     "collapsed": true,
     "input": [
      "import scubic\n",
      "import lda\n",
      "\n",
      "profs = [ \n",
      "        #0\n",
      "        {'wIR':47.,\\\n",
      "         'wGR':47./1.15,\\\n",
      "         'g0':3.725,\\\n",
      "         's0':7.,\\\n",
      "         'extents':40.,\\\n",
      "         'T':0.091,\\\n",
      "         'aS':470.,\\\n",
      "         'direc':'111'\n",
      "        },\n",
      "        #1\n",
      "        {'wIR':47.,\\\n",
      "         'wGR':47./1.15,\\\n",
      "         'g0':3.725,\\\n",
      "         's0':7.,\\\n",
      "         'extents':40.,\\\n",
      "         'T':0.0775,\\\n",
      "         'aS':380.,\\\n",
      "         'direc':'111'\n",
      "        },\n",
      "        #2\n",
      "        {'wIR':47.,\\\n",
      "         'wGR':47./1.15,\\\n",
      "         'g0':3.725,\\\n",
      "         's0':7.,\\\n",
      "         'extents':40.,\\\n",
      "         'T':0.065,\\\n",
      "         'aS':290.,\\\n",
      "         'direc':'111'\n",
      "        },\n",
      "        #3\n",
      "        {'wIR':47.,\\\n",
      "         'wGR':47./1.15,\\\n",
      "         'g0':3.725,\\\n",
      "         's0':7.,\\\n",
      "         'extents':40.,\\\n",
      "         'T':0.0542,\\\n",
      "         'aS':200.,\\\n",
      "         'direc':'111'\n",
      "        },\n",
      "        ]\n",
      "\n",
      "\n",
      "\n",
      "\n",
      "\n",
      "tags = range(len(profs)) \n",
      "#tags = [2] \n",
      "\n",
      "x = []\n",
      "y = [] \n",
      "for tag in tags:\n",
      "    print '\\n',tag\n",
      "\n",
      "    s       = profs[tag]['s0']\n",
      "    g       = profs[tag]['g0']\n",
      "    wIR     = profs[tag]['wIR']\n",
      "    wGR     = profs[tag]['wGR']\n",
      "    T       = profs[tag]['T'] \n",
      "    extents = profs[tag]['extents']\n",
      "    direc   = profs[tag]['direc'] \n",
      "    aS      = profs[tag].get('aS',650.)\n",
      "    mu0     = profs[tag].get('mu0','halfMott')\n",
      "    x2lims  = profs[tag].get('x2lims', (-40.,40.))\n",
      "    y2lims  = profs[tag].get('y2lims', (0.,1.1))\n",
      "    \n",
      "    pot = scubic.sc(allIR=s, allGR=g, allIRw=wIR, allGRw=wGR)\n",
      "    test = lda.lda(potential = pot, Temperature=T, a_s=aS, extents=extents, globalMu=mu0, verbose=True, \\\n",
      "                   ignoreExtents=False, ignoreSlopeErrors=True, ignoreMuThreshold=True)\n",
      "    fig = lda.plotLine( test , line_direction=direc, extents=extents, \\\n",
      "                       x1lims=(-50.,50.), x2lims=x2lims, y2lims=y2lims, y3lims=(0.,24.)) \n",
      "    print test.getRadius()/wIR\n",
      "    print test.Number\n",
      "    plt.close()\n",
      "    fig.savefig('BraggNumber/profiles/1p6_115/%03d.png'%tag, dpi=300)\n",
      "    \n",
      "    x.append( aS ) \n",
      "    y.append( test.Number ) \n",
      "    \n",
      "np.savetxt( 'BraggNumber/1p6_a=1.15.dat', np.column_stack( ( np.array(x), np.array(y) ) ) ) "
     ],
     "language": "python",
     "metadata": {},
     "outputs": [
      {
       "output_type": "stream",
       "stream": "stdout",
       "text": [
        "\n",
        "0\n",
        "OK: Bottom of the band has positive slope up to r111 = 10 um\n",
        "bandOrigin = -13.91\n",
        "band100 = -4.64\n",
        "0.245369142754\n",
        "OK: Chemical potential is below evaporation threshold.\n",
        "OK: Chemical potential is below the bottom of the band along 100\n",
        "OK: Radial density profile along 111 decreases monotonically.\n",
        "0.450877075969"
       ]
      },
      {
       "output_type": "stream",
       "stream": "stdout",
       "text": [
        "\n",
        "281245.981264\n",
        "\n"
       ]
      },
      {
       "output_type": "stream",
       "stream": "stdout",
       "text": [
        "1\n",
        "OK: Bottom of the band has positive slope up to r111 = 10 um\n",
        "bandOrigin = -13.91\n",
        "band100 = -4.64\n",
        "0.245369142754\n",
        "OK: Chemical potential is below evaporation threshold.\n",
        "OK: Chemical potential is below the bottom of the band along 100\n",
        "OK: Radial density profile along 111 decreases monotonically.\n",
        "0.418862135663"
       ]
      },
      {
       "output_type": "stream",
       "stream": "stdout",
       "text": [
        "\n",
        "228746.562827\n",
        "\n"
       ]
      },
      {
       "output_type": "stream",
       "stream": "stdout",
       "text": [
        "2\n",
        "OK: Bottom of the band has positive slope up to r111 = 10 um\n",
        "bandOrigin = -13.91\n",
        "band100 = -4.64\n",
        "0.245369142754\n",
        "OK: Chemical potential is below evaporation threshold.\n",
        "OK: Chemical potential is below the bottom of the band along 100\n",
        "OK: Radial density profile along 111 decreases monotonically.\n",
        "0.386847195358"
       ]
      },
      {
       "output_type": "stream",
       "stream": "stdout",
       "text": [
        "\n",
        "180157.122896\n",
        "\n"
       ]
      },
      {
       "output_type": "stream",
       "stream": "stdout",
       "text": [
        "3\n",
        "OK: Bottom of the band has positive slope up to r111 = 10 um\n",
        "bandOrigin = -13.91\n",
        "band100 = -4.64\n",
        "0.245369142754\n",
        "OK: Chemical potential is below evaporation threshold.\n",
        "OK: Chemical potential is below the bottom of the band along 100\n",
        "OK: Radial density profile along 111 decreases monotonically.\n",
        "0.360168078437"
       ]
      },
      {
       "output_type": "stream",
       "stream": "stdout",
       "text": [
        "\n",
        "136693.147659\n",
        "\n"
       ]
      },
      {
       "output_type": "stream",
       "stream": "stdout",
       "text": [
        "4\n",
        "OK: Bottom of the band has positive slope up to r111 = 10 um\n",
        "bandOrigin = -13.91\n",
        "band100 = -4.64\n",
        "0.245369142754\n",
        "OK: Chemical potential is below evaporation threshold.\n",
        "OK: Chemical potential is below the bottom of the band along 100\n",
        "OK: Radial density profile along 111 decreases monotonically.\n",
        "0.328153138131"
       ]
      },
      {
       "output_type": "stream",
       "stream": "stdout",
       "text": [
        "\n",
        "98866.7444792\n",
        "\n"
       ]
      },
      {
       "output_type": "stream",
       "stream": "stdout",
       "text": [
        "5\n",
        "OK: Bottom of the band has positive slope up to r111 = 10 um\n",
        "bandOrigin = -13.91\n",
        "band100 = -4.64\n",
        "0.245369142754\n",
        "OK: Chemical potential is below evaporation threshold.\n",
        "OK: Chemical potential is below the bottom of the band along 100\n",
        "OK: Radial density profile along 111 decreases monotonically.\n",
        "0.290802374441"
       ]
      },
      {
       "output_type": "stream",
       "stream": "stdout",
       "text": [
        "\n",
        "67522.8008325\n"
       ]
      }
     ],
     "prompt_number": 54
    },
    {
     "cell_type": "markdown",
     "metadata": {},
     "source": [
      "# $S/N = 1.7 k_{\\mathrm{b}}$,  $\\alpha=1.175$"
     ]
    },
    {
     "cell_type": "code",
     "collapsed": false,
     "input": [
      "import scubic\n",
      "import lda\n",
      "\n",
      "profs = [ \n",
      "        #0\n",
      "        {'wIR':47.,\\\n",
      "         'wGR':47./1.175,\\\n",
      "         'g0':3.586,\\\n",
      "         's0':7.,\\\n",
      "         'extents':40.,\\\n",
      "         'T':0.109,\\\n",
      "         'aS':470.,\\\n",
      "         'direc':'111'\n",
      "        },\n",
      "        #1\n",
      "        {'wIR':47.,\\\n",
      "         'wGR':47./1.175,\\\n",
      "         'g0':3.586,\\\n",
      "         's0':7.,\\\n",
      "         'extents':40.,\\\n",
      "         'T':0.093,\\\n",
      "         'aS':380.,\\\n",
      "         'direc':'111'\n",
      "        },\n",
      "        #2\n",
      "        {'wIR':47.,\\\n",
      "         'wGR':47./1.175,\\\n",
      "         'g0':3.586,\\\n",
      "         's0':7.,\\\n",
      "         'extents':40.,\\\n",
      "         'T':0.0773,\\\n",
      "         'aS':290.,\\\n",
      "         'direc':'111'\n",
      "        },\n",
      "        #3\n",
      "        {'wIR':47.,\\\n",
      "         'wGR':47./1.175,\\\n",
      "         'g0':3.586,\\\n",
      "         's0':7.,\\\n",
      "         'extents':40.,\\\n",
      "         'T':0.0635,\\\n",
      "         'aS':200.,\\\n",
      "         'direc':'111'\n",
      "        },\n",
      "        ]\n",
      "\n",
      "\n",
      "tags = range(len(profs)) \n",
      "#tags = [2] \n",
      "\n",
      "x = []\n",
      "y = []\n",
      "d = []\n",
      "for tag in tags:\n",
      "    print '\\n',tag\n",
      "\n",
      "    s       = profs[tag]['s0']\n",
      "    g       = profs[tag]['g0']\n",
      "    wIR     = profs[tag]['wIR']\n",
      "    wGR     = profs[tag]['wGR']\n",
      "    T       = profs[tag]['T'] \n",
      "    extents = profs[tag]['extents']\n",
      "    direc   = profs[tag]['direc'] \n",
      "    aS      = profs[tag].get('aS',650.)\n",
      "    mu0     = profs[tag].get('mu0','halfMott')\n",
      "    x2lims  = profs[tag].get('x2lims', (-40.,40.))\n",
      "    y2lims  = profs[tag].get('y2lims', (0.,1.1))\n",
      "    \n",
      "    pot = scubic.sc(allIR=s, allGR=g, allIRw=wIR, allGRw=wGR)\n",
      "    test = lda.lda(potential = pot, Temperature=T, a_s=aS, extents=extents, globalMu=mu0, verbose=True, \\\n",
      "                   ignoreExtents=False, ignoreSlopeErrors=True, ignoreMuThreshold=True)\n",
      "    fig = lda.plotLine( test , line_direction=direc, extents=extents, \\\n",
      "                       x1lims=(-50.,50.), x2lims=x2lims, y2lims=y2lims, y3lims=(0.,24.)) \n",
      "    print test.getRadius()/wIR\n",
      "    print test.Number\n",
      "    plt.close()\n",
      "    fig.savefig('BraggNumber/profiles/1p7_117/%03d.png'%tag, dpi=300)\n",
      "    \n",
      "    x.append( aS ) \n",
      "    y.append( test.Number ) \n",
      "    d.append( test.PeakD ) \n",
      "    \n",
      "np.savetxt( 'BraggNumber/1p7_a=1.17.dat', np.column_stack( ( np.array(x), np.array(y), np.array(d) ) ) )"
     ],
     "language": "python",
     "metadata": {},
     "outputs": [
      {
       "output_type": "stream",
       "stream": "stdout",
       "text": [
        "\n",
        "0\n",
        "OK: Bottom of the band has positive slope up to r111 = 10 um\n",
        "bandOrigin = -13.91\n",
        "band100 = -4.64\n",
        "0.245369142754\n",
        "OK: Chemical potential is below evaporation threshold.\n",
        "OK: Chemical potential is below the bottom of the band along 100\n",
        "OK: Radial density profile along 111 decreases monotonically.\n",
        "0.392183018742"
       ]
      },
      {
       "output_type": "stream",
       "stream": "stdout",
       "text": [
        "\n",
        "188278.422748\n",
        "\n"
       ]
      },
      {
       "output_type": "stream",
       "stream": "stdout",
       "text": [
        "1\n",
        "OK: Bottom of the band has positive slope up to r111 = 10 um\n",
        "bandOrigin = -13.91\n",
        "band100 = -4.64\n",
        "0.245369142754\n",
        "OK: Chemical potential is below evaporation threshold.\n",
        "OK: Chemical potential is below the bottom of the band along 100\n",
        "OK: Radial density profile along 111 decreases monotonically.\n",
        "0.360168078437"
       ]
      },
      {
       "output_type": "stream",
       "stream": "stdout",
       "text": [
        "\n",
        "144343.823422\n",
        "\n"
       ]
      },
      {
       "output_type": "stream",
       "stream": "stdout",
       "text": [
        "2\n",
        "OK: Bottom of the band has positive slope up to r111 = 10 um\n",
        "bandOrigin = -13.91\n",
        "band100 = -4.64\n",
        "0.245369142754\n",
        "OK: Chemical potential is below evaporation threshold.\n",
        "OK: Chemical potential is below the bottom of the band along 100\n",
        "OK: Radial density profile along 111 decreases monotonically.\n",
        "0.322817314747"
       ]
      },
      {
       "output_type": "stream",
       "stream": "stdout",
       "text": [
        "\n",
        "105233.7453\n",
        "\n"
       ]
      },
      {
       "output_type": "stream",
       "stream": "stdout",
       "text": [
        "3\n",
        "OK: Bottom of the band has positive slope up to r111 = 10 um\n",
        "bandOrigin = -13.91\n",
        "band100 = -4.64\n",
        "0.245369142754\n",
        "OK: Chemical potential is below evaporation threshold.\n",
        "OK: Chemical potential is below the bottom of the band along 100\n",
        "OK: Radial density profile along 111 decreases monotonically.\n",
        "0.290802374441"
       ]
      },
      {
       "output_type": "stream",
       "stream": "stdout",
       "text": [
        "\n",
        "72382.5192038\n"
       ]
      }
     ],
     "prompt_number": 110
    },
    {
     "cell_type": "markdown",
     "metadata": {},
     "source": [
      "# $S/N = 2.0 k_{\\mathrm{b}}$,  $\\alpha=1.175$"
     ]
    },
    {
     "cell_type": "code",
     "collapsed": false,
     "input": [
      "import scubic\n",
      "import lda\n",
      "\n",
      "profs = [ \n",
      "        #0\n",
      "        {'wIR':47.,\\\n",
      "         'wGR':47./1.175,\\\n",
      "         'g0':3.490,\\\n",
      "         's0':7.,\\\n",
      "         'extents':40.,\\\n",
      "         'T':0.1575,\\\n",
      "         'aS':470.,\\\n",
      "         'direc':'111'\n",
      "        },\n",
      "        #1\n",
      "        {'wIR':47.,\\\n",
      "         'wGR':47./1.175,\\\n",
      "         'g0':3.490,\\\n",
      "         's0':7.,\\\n",
      "         'extents':40.,\\\n",
      "         'T':0.1355,\\\n",
      "         'aS':380.,\\\n",
      "         'direc':'111'\n",
      "        },\n",
      "        #2\n",
      "        {'wIR':47.,\\\n",
      "         'wGR':47./1.175,\\\n",
      "         'g0':3.490,\\\n",
      "         's0':7.,\\\n",
      "         'extents':40.,\\\n",
      "         'T':0.112,\\\n",
      "         'aS':290.,\\\n",
      "         'direc':'111'\n",
      "        },\n",
      "        #3\n",
      "        {'wIR':47.,\\\n",
      "         'wGR':47./1.175,\\\n",
      "         'g0':3.490,\\\n",
      "         's0':7.,\\\n",
      "         'extents':40.,\\\n",
      "         'T':0.09,\\\n",
      "         'aS':200.,\\\n",
      "         'direc':'111'\n",
      "        },\n",
      "        ]\n",
      "\n",
      "\n",
      "\n",
      "\n",
      "\n",
      "tags = range(len(profs)) \n",
      "#tags = [2] \n",
      "\n",
      "x = []\n",
      "y = [] \n",
      "d = [] \n",
      "for tag in tags:\n",
      "    print '\\n',tag\n",
      "\n",
      "    s       = profs[tag]['s0']\n",
      "    g       = profs[tag]['g0']\n",
      "    wIR     = profs[tag]['wIR']\n",
      "    wGR     = profs[tag]['wGR']\n",
      "    T       = profs[tag]['T'] \n",
      "    extents = profs[tag]['extents']\n",
      "    direc   = profs[tag]['direc'] \n",
      "    aS      = profs[tag].get('aS',650.)\n",
      "    mu0     = profs[tag].get('mu0','halfMott')\n",
      "    x2lims  = profs[tag].get('x2lims', (-40.,40.))\n",
      "    y2lims  = profs[tag].get('y2lims', (0.,1.1))\n",
      "    \n",
      "    pot = scubic.sc(allIR=s, allGR=g, allIRw=wIR, allGRw=wGR)\n",
      "    test = lda.lda(potential = pot, Temperature=T, a_s=aS, extents=extents, globalMu=mu0, verbose=True, \\\n",
      "                   ignoreExtents=False, ignoreSlopeErrors=True, ignoreMuThreshold=True)\n",
      "    fig = lda.plotLine( test , line_direction=direc, extents=extents, \\\n",
      "                       x1lims=(-50.,50.), x2lims=x2lims, y2lims=y2lims, y3lims=(0.,24.)) \n",
      "    print test.getRadius()/wIR\n",
      "    print test.Number\n",
      "    plt.close()\n",
      "    fig.savefig('BraggNumber/profiles/2p0_117/%03d.png'%tag, dpi=300)\n",
      "    \n",
      "    x.append( aS ) \n",
      "    y.append( test.Number ) \n",
      "    d.append( test.PeakD )\n",
      "\n",
      "    \n",
      "np.savetxt( 'BraggNumber/2p0_a=1.17.dat', np.column_stack( ( np.array(x), np.array(y), np.array(d) ) ) ) "
     ],
     "language": "python",
     "metadata": {},
     "outputs": [
      {
       "output_type": "stream",
       "stream": "stdout",
       "text": [
        "\n",
        "0\n",
        "OK: Bottom of the band has positive slope up to r111 = 10 um\n",
        "bandOrigin = -13.91\n",
        "band100 = -4.64\n",
        "0.245369142754\n",
        "OK: Chemical potential is below evaporation threshold.\n",
        "OK: Chemical potential is below the bottom of the band along 100\n",
        "OK: Radial density profile along 111 decreases monotonically.\n",
        "0.376175548589"
       ]
      },
      {
       "output_type": "stream",
       "stream": "stdout",
       "text": [
        "\n",
        "180336.71531\n",
        "\n"
       ]
      },
      {
       "output_type": "stream",
       "stream": "stdout",
       "text": [
        "1\n",
        "OK: Bottom of the band has positive slope up to r111 = 10 um\n",
        "bandOrigin = -13.91\n",
        "band100 = -4.64\n",
        "0.245369142754\n",
        "OK: Chemical potential is below evaporation threshold.\n",
        "OK: Chemical potential is below the bottom of the band along 100\n",
        "OK: Radial density profile along 111 decreases monotonically.\n",
        "0.344160608284"
       ]
      },
      {
       "output_type": "stream",
       "stream": "stdout",
       "text": [
        "\n",
        "138437.669988\n",
        "\n"
       ]
      },
      {
       "output_type": "stream",
       "stream": "stdout",
       "text": [
        "2\n",
        "OK: Bottom of the band has positive slope up to r111 = 10 um\n",
        "bandOrigin = -13.91\n",
        "band100 = -4.64\n",
        "0.245369142754\n",
        "OK: Chemical potential is below evaporation threshold.\n",
        "OK: Chemical potential is below the bottom of the band along 100\n",
        "OK: Radial density profile along 111 decreases monotonically.\n",
        "0.306809844594"
       ]
      },
      {
       "output_type": "stream",
       "stream": "stdout",
       "text": [
        "\n",
        "100314.583381\n",
        "\n"
       ]
      },
      {
       "output_type": "stream",
       "stream": "stdout",
       "text": [
        "3\n",
        "OK: Bottom of the band has positive slope up to r111 = 10 um\n",
        "bandOrigin = -13.91\n",
        "band100 = -4.64\n",
        "0.245369142754\n",
        "OK: Chemical potential is below evaporation threshold.\n",
        "OK: Chemical potential is below the bottom of the band along 100\n",
        "OK: Radial density profile along 111 decreases monotonically.\n",
        "0.269459080904"
       ]
      },
      {
       "output_type": "stream",
       "stream": "stdout",
       "text": [
        "\n",
        "68083.5793418\n"
       ]
      }
     ],
     "prompt_number": 111
    },
    {
     "cell_type": "markdown",
     "metadata": {},
     "source": [
      "# $S/N = 1.7 k_{\\mathrm{b}}$,    $\\alpha=1.175$,    $6E_{R}$"
     ]
    },
    {
     "cell_type": "code",
     "collapsed": false,
     "input": [
      "import scubic\n",
      "import lda\n",
      "\n",
      "profs = [ \n",
      "        #0\n",
      "        {'wIR':47.,\\\n",
      "         'wGR':47./1.175,\\\n",
      "         'g0':2.945,\\\n",
      "         's0':6.,\\\n",
      "         'extents':35.,\\\n",
      "         'T':0.102,\\\n",
      "         'aS':470.,\\\n",
      "         'direc':'111'\n",
      "        },\n",
      "        #1\n",
      "        {'wIR':47.,\\\n",
      "         'wGR':47./1.175,\\\n",
      "         'g0':2.945,\\\n",
      "         's0':6.,\\\n",
      "         'extents':35.,\\\n",
      "         'T':0.09,\\\n",
      "         'aS':380.,\\\n",
      "         'direc':'111'\n",
      "        },\n",
      "        #2\n",
      "        {'wIR':47.,\\\n",
      "         'wGR':47./1.175,\\\n",
      "         'g0':2.945,\\\n",
      "         's0':6.,\\\n",
      "         'extents':35.,\\\n",
      "         'T':0.079,\\\n",
      "         'aS':290.,\\\n",
      "         'direc':'111'\n",
      "        },\n",
      "        #3\n",
      "        {'wIR':47.,\\\n",
      "         'wGR':47./1.175,\\\n",
      "         'g0':2.945,\\\n",
      "         's0':6.,\\\n",
      "         'extents':35.,\\\n",
      "         'T':0.0710,\\\n",
      "         'aS':200.,\\\n",
      "         'direc':'111'\n",
      "        },\n",
      "        ]\n",
      "\n",
      "\n",
      "tags = range(len(profs)) \n",
      "#tags = [2] \n",
      "\n",
      "x = []\n",
      "y = [] \n",
      "d = [] \n",
      "for tag in tags:\n",
      "    print '\\n',tag\n",
      "\n",
      "    s       = profs[tag]['s0']\n",
      "    g       = profs[tag]['g0']\n",
      "    wIR     = profs[tag]['wIR']\n",
      "    wGR     = profs[tag]['wGR']\n",
      "    T       = profs[tag]['T'] \n",
      "    extents = profs[tag]['extents']\n",
      "    direc   = profs[tag]['direc'] \n",
      "    aS      = profs[tag].get('aS',650.)\n",
      "    mu0     = profs[tag].get('mu0','halfMott')\n",
      "    x2lims  = profs[tag].get('x2lims', (-40.,40.))\n",
      "    y2lims  = profs[tag].get('y2lims', (0.,1.1))\n",
      "    \n",
      "    pot = scubic.sc(allIR=s, allGR=g, allIRw=wIR, allGRw=wGR)\n",
      "    test = lda.lda(potential = pot, Temperature=T, a_s=aS, extents=extents, globalMu=mu0, verbose=True, \\\n",
      "                   ignoreExtents=False, ignoreSlopeErrors=True, ignoreMuThreshold=True)\n",
      "    fig = lda.plotLine( test , line_direction=direc, extents=extents, \\\n",
      "                       x1lims=(-50.,50.), x2lims=x2lims, y2lims=y2lims, y3lims=(0.,24.)) \n",
      "    print test.getRadius()/wIR\n",
      "    print test.Number\n",
      "    plt.close()\n",
      "    fig.savefig('BraggNumber/profiles/1p7_117_6Er/%03d.png'%tag, dpi=300)\n",
      "    \n",
      "    x.append( aS ) \n",
      "    y.append( test.Number ) \n",
      "    d.append( test.PeakD )\n",
      "\n",
      "    \n",
      "np.savetxt( 'BraggNumber/1p7_a=1.17_6Er.dat', np.column_stack( ( np.array(x), np.array(y), np.array(d) ) ) ) "
     ],
     "language": "python",
     "metadata": {},
     "outputs": [
      {
       "output_type": "stream",
       "stream": "stdout",
       "text": [
        "\n",
        "0\n",
        "OK: Bottom of the band has positive slope up to r111 = 10 um\n",
        "bandOrigin = -11.51\n",
        "band100 = -3.84\n",
        "0.209795482902\n",
        "OK: Chemical potential is below evaporation threshold.\n",
        "OK: Chemical potential is below the bottom of the band along 100\n",
        "OK: Radial density profile along 111 decreases monotonically.\n",
        "0.389848596011"
       ]
      },
      {
       "output_type": "stream",
       "stream": "stdout",
       "text": [
        "\n",
        "180275.051406\n",
        "\n"
       ]
      },
      {
       "output_type": "stream",
       "stream": "stdout",
       "text": [
        "1\n",
        "OK: Bottom of the band has positive slope up to r111 = 10 um\n",
        "bandOrigin = -11.51\n",
        "band100 = -3.84\n",
        "0.209795482902\n",
        "OK: Chemical potential is below evaporation threshold.\n",
        "OK: Chemical potential is below the bottom of the band along 100\n",
        "OK: Radial density profile along 111 decreases monotonically.\n",
        "0.361835523244"
       ]
      },
      {
       "output_type": "stream",
       "stream": "stdout",
       "text": [
        "\n",
        "142522.375117\n",
        "\n"
       ]
      },
      {
       "output_type": "stream",
       "stream": "stdout",
       "text": [
        "2\n",
        "OK: Bottom of the band has positive slope up to r111 = 10 um\n",
        "bandOrigin = -11.51\n",
        "band100 = -3.84\n",
        "0.209795482902\n",
        "OK: Chemical potential is below evaporation threshold.\n",
        "OK: Chemical potential is below the bottom of the band along 100\n",
        "OK: Radial density profile along 111 decreases monotonically.\n",
        "0.338491295938"
       ]
      },
      {
       "output_type": "stream",
       "stream": "stdout",
       "text": [
        "\n",
        "109624.159948\n",
        "\n"
       ]
      },
      {
       "output_type": "stream",
       "stream": "stdout",
       "text": [
        "3\n",
        "OK: Bottom of the band has positive slope up to r111 = 10 um\n",
        "bandOrigin = -11.51\n",
        "band100 = -3.84\n",
        "0.209795482902\n",
        "OK: Chemical potential is below evaporation threshold.\n",
        "OK: Chemical potential is below the bottom of the band along 100\n",
        "OK: Radial density profile along 111 decreases monotonically.\n",
        "0.30580937771"
       ]
      },
      {
       "output_type": "stream",
       "stream": "stdout",
       "text": [
        "\n",
        "82910.3975114\n"
       ]
      }
     ],
     "prompt_number": 112
    },
    {
     "cell_type": "markdown",
     "metadata": {},
     "source": [
      "# Matching $380a_{0}$.  $S/N = 1.6 k_{\\mathrm{b}}$,    $\\alpha=1.175$,    $7E_{R}$"
     ]
    },
    {
     "cell_type": "code",
     "collapsed": false,
     "input": [
      "import scubic\n",
      "import lda\n",
      "    \n",
      "\n",
      "profs = [ \n",
      "        #0\n",
      "        {'wIR':47.,\\\n",
      "         'wGR':47./1.175,\\\n",
      "         'g0':3.675,\\\n",
      "         's0':7.,\\\n",
      "         'extents':35.,\\\n",
      "         'T':0.086,\\\n",
      "         'aS':470.,\\\n",
      "         'mu0':0.302,\\\n",
      "         #'mu0':'halfMott',\\\n",
      "         'direc':'111'\n",
      "        },\n",
      "        #1\n",
      "        {'wIR':47.,\\\n",
      "         'wGR':47./1.175,\\\n",
      "         'g0':3.675,\\\n",
      "         's0':7.,\\\n",
      "         'extents':35.,\\\n",
      "         'T':0.083,\\\n",
      "         'aS':380.,\\\n",
      "         'mu0':'halfMott',\\\n",
      "         'direc':'111'\n",
      "        },\n",
      "        #2\n",
      "        {'wIR':47.,\\\n",
      "         'wGR':47./1.175,\\\n",
      "         'g0':3.675,\\\n",
      "         's0':7.,\\\n",
      "         'extents':35.,\\\n",
      "         'T':0.080,\\\n",
      "         'aS':290.,\\\n",
      "         'mu0':0.269,\\\n",
      "         'direc':'111'\n",
      "        },\n",
      "        #3\n",
      "        {'wIR':47.,\\\n",
      "         'wGR':47./1.175,\\\n",
      "         'g0':3.675,\\\n",
      "         's0':7.,\\\n",
      "         'extents':35.,\\\n",
      "         'T':0.078,\\\n",
      "         'aS':200.,\\\n",
      "         'mu0':0.239,\\\n",
      "         'direc':'111'\n",
      "        },\n",
      "        ]\n",
      "\n",
      "\n",
      "\n",
      "\n",
      "\n",
      "tags = range(len(profs)) \n",
      "#tags = [3] \n",
      "\n",
      "x = []\n",
      "y = [] \n",
      "d = [] \n",
      "for tag in tags:\n",
      "    print '\\n',tag\n",
      "\n",
      "    s       = profs[tag]['s0']\n",
      "    g       = profs[tag]['g0']\n",
      "    wIR     = profs[tag]['wIR']\n",
      "    wGR     = profs[tag]['wGR']\n",
      "    T       = profs[tag]['T'] \n",
      "    extents = profs[tag]['extents']\n",
      "    direc   = profs[tag]['direc'] \n",
      "    aS      = profs[tag].get('aS',650.)\n",
      "    mu0     = profs[tag].get('mu0','halfMott')\n",
      "    x2lims  = profs[tag].get('x2lims', (-40.,40.))\n",
      "    y2lims  = profs[tag].get('y2lims', (0.,1.3))\n",
      "    \n",
      "    pot = scubic.sc(allIR=s, allGR=g, allIRw=wIR, allGRw=wGR)\n",
      "    test = lda.lda(potential = pot, Temperature=T, a_s=aS, extents=extents, globalMu=mu0, verbose=True, \\\n",
      "                   ignoreExtents=False, ignoreSlopeErrors=True, ignoreMuThreshold=True)\n",
      "    fig = lda.plotLine( test , line_direction=direc, extents=extents, \\\n",
      "                       x1lims=(-50.,50.), x2lims=x2lims, y2lims=y2lims, y3lims=(0.,24.)) \n",
      "    print test.getRadius()/wIR\n",
      "    print test.Number\n",
      "    plt.close()\n",
      "    fig.savefig('BraggNumber/profiles/1p6_117_7Er_Match_380/%03d.png'%tag, dpi=300)\n",
      "    \n",
      "    x.append( aS ) \n",
      "    y.append( test.Number ) \n",
      "    d.append( test.PeakD)\n",
      "    \n",
      "np.savetxt( 'BraggNumber/1p6_a=1.17_7Er_Match_380.dat', np.column_stack( ( np.array(x), np.array(y), np.array(d) ) ) ) "
     ],
     "language": "python",
     "metadata": {},
     "outputs": [
      {
       "output_type": "stream",
       "stream": "stdout",
       "text": [
        "\n",
        "0\n",
        "OK: Bottom of the band has positive slope up to r111 = 10 um\n",
        "bandOrigin = -13.91\n",
        "band100 = -4.64\n",
        "0.245369142754\n",
        "OK: Chemical potential is below evaporation threshold.\n",
        "OK: Chemical potential is below the bottom of the band along 100\n",
        "OK: Radial density profile along 111 decreases monotonically.\n",
        "0.394517441473"
       ]
      },
      {
       "output_type": "stream",
       "stream": "stdout",
       "text": [
        "\n",
        "184052.703803\n",
        "\n"
       ]
      },
      {
       "output_type": "stream",
       "stream": "stdout",
       "text": [
        "1\n",
        "OK: Bottom of the band has positive slope up to r111 = 10 um\n",
        "bandOrigin = -13.91\n",
        "band100 = -4.64\n",
        "0.245369142754\n",
        "OK: Chemical potential is below evaporation threshold.\n",
        "OK: Chemical potential is below the bottom of the band along 100\n",
        "OK: Radial density profile along 111 decreases monotonically.\n",
        "0.389848596011"
       ]
      },
      {
       "output_type": "stream",
       "stream": "stdout",
       "text": [
        "\n",
        "174833.339286\n",
        "\n"
       ]
      },
      {
       "output_type": "stream",
       "stream": "stdout",
       "text": [
        "2\n",
        "OK: Bottom of the band has positive slope up to r111 = 10 um\n",
        "bandOrigin = -13.91\n",
        "band100 = -4.64\n",
        "0.245369142754\n",
        "OK: Chemical potential is below evaporation threshold.\n",
        "OK: Chemical potential is below the bottom of the band along 100\n",
        "OK: Radial density profile along 111 decreases monotonically.\n",
        "0.375842059628"
       ]
      },
      {
       "output_type": "stream",
       "stream": "stdout",
       "text": [
        "\n",
        "165884.59525\n",
        "\n"
       ]
      },
      {
       "output_type": "stream",
       "stream": "stdout",
       "text": [
        "3\n",
        "OK: Bottom of the band has positive slope up to r111 = 10 um\n",
        "bandOrigin = -13.91\n",
        "band100 = -4.64\n",
        "0.245369142754\n",
        "OK: Chemical potential is below evaporation threshold.\n",
        "OK: Chemical potential is below the bottom of the band along 100\n",
        "OK: Radial density profile along 111 decreases monotonically.\n",
        "0.347828986861"
       ]
      },
      {
       "output_type": "stream",
       "stream": "stdout",
       "text": [
        "\n",
        "153752.865314\n"
       ]
      }
     ],
     "prompt_number": 79
    },
    {
     "cell_type": "markdown",
     "metadata": {},
     "source": [
      "# Matching $380a_{0}$.  $S/N = 1.7 k_{\\mathrm{b}}$,    $\\alpha=1.175$,    $7E_{R}$"
     ]
    },
    {
     "cell_type": "code",
     "collapsed": false,
     "input": [
      "import scubic\n",
      "import lda\n",
      "    \n",
      "\n",
      "profs = [ \n",
      "        #0\n",
      "        {'wIR':47.,\\\n",
      "         'wGR':47./1.175,\\\n",
      "         'g0':3.66,\\\n",
      "         's0':7.,\\\n",
      "         'extents':35.,\\\n",
      "         'T':0.0985,\\\n",
      "         'aS':470.,\\\n",
      "         'mu0':0.2995,\\\n",
      "         #'mu0':'halfMott',\\\n",
      "         'direc':'111'\n",
      "        },\n",
      "        #1\n",
      "        {'wIR':47.,\\\n",
      "         'wGR':47./1.175,\\\n",
      "         'g0':3.66,\\\n",
      "         's0':7.,\\\n",
      "         'extents':35.,\\\n",
      "         'T':0.095,\\\n",
      "         'aS':380.,\\\n",
      "         'mu0':'halfMott',\\\n",
      "         'direc':'111'\n",
      "        },\n",
      "        #2\n",
      "        {'wIR':47.,\\\n",
      "         'wGR':47./1.175,\\\n",
      "         'g0':3.66,\\\n",
      "         's0':7.,\\\n",
      "         'extents':35.,\\\n",
      "         'T':0.092,\\\n",
      "         'aS':290.,\\\n",
      "         'mu0':0.267,\\\n",
      "         'direc':'111'\n",
      "        },\n",
      "        #3\n",
      "        {'wIR':47.,\\\n",
      "         'wGR':47./1.175,\\\n",
      "         'g0':3.66,\\\n",
      "         's0':7.,\\\n",
      "         'extents':35.,\\\n",
      "         'T':0.089,\\\n",
      "         'aS':200.,\\\n",
      "         'mu0':0.238,\\\n",
      "         'direc':'111'\n",
      "        },\n",
      "        ]\n",
      "\n",
      "\n",
      "\n",
      "\n",
      "\n",
      "tags = range(len(profs)) \n",
      "#tags = [3] \n",
      "\n",
      "x = []\n",
      "y = [] \n",
      "d = [] \n",
      "for tag in tags:\n",
      "    print '\\n',tag\n",
      "\n",
      "    s       = profs[tag]['s0']\n",
      "    g       = profs[tag]['g0']\n",
      "    wIR     = profs[tag]['wIR']\n",
      "    wGR     = profs[tag]['wGR']\n",
      "    T       = profs[tag]['T'] \n",
      "    extents = profs[tag]['extents']\n",
      "    direc   = profs[tag]['direc'] \n",
      "    aS      = profs[tag].get('aS',650.)\n",
      "    mu0     = profs[tag].get('mu0','halfMott')\n",
      "    x2lims  = profs[tag].get('x2lims', (-40.,40.))\n",
      "    y2lims  = profs[tag].get('y2lims', (0.,1.3))\n",
      "    \n",
      "    pot = scubic.sc(allIR=s, allGR=g, allIRw=wIR, allGRw=wGR)\n",
      "    test = lda.lda(potential = pot, Temperature=T, a_s=aS, extents=extents, globalMu=mu0, verbose=True, \\\n",
      "                   ignoreExtents=False, ignoreSlopeErrors=True, ignoreMuThreshold=True)\n",
      "    fig = lda.plotLine( test , line_direction=direc, extents=extents, \\\n",
      "                       x1lims=(-50.,50.), x2lims=x2lims, y2lims=y2lims, y3lims=(0.,24.)) \n",
      "    print test.getRadius()/wIR\n",
      "    print test.Number\n",
      "    plt.close()\n",
      "    fig.savefig('BraggNumber/profiles/1p7_117_7Er_Match_380/%03d.png'%tag, dpi=300)\n",
      "    \n",
      "    x.append( aS ) \n",
      "    y.append( test.Number ) \n",
      "    d.append( test.PeakD)\n",
      "    \n",
      "np.savetxt( 'BraggNumber/1p7_a=1.17_7Er_Match_380.dat', np.column_stack( ( np.array(x), np.array(y), np.array(d) ) ) ) "
     ],
     "language": "python",
     "metadata": {},
     "outputs": [
      {
       "output_type": "stream",
       "stream": "stdout",
       "text": [
        "\n",
        "0\n",
        "OK: Bottom of the band has positive slope up to r111 = 10 um\n",
        "bandOrigin = -13.91\n",
        "band100 = -4.64\n",
        "0.245369142754\n",
        "OK: Chemical potential is below evaporation threshold.\n",
        "OK: Chemical potential is below the bottom of the band along 100\n",
        "OK: Radial density profile along 111 decreases monotonically.\n",
        "0.389848596011"
       ]
      },
      {
       "output_type": "stream",
       "stream": "stdout",
       "text": [
        "\n",
        "183591.984991\n",
        "\n"
       ]
      },
      {
       "output_type": "stream",
       "stream": "stdout",
       "text": [
        "1\n",
        "OK: Bottom of the band has positive slope up to r111 = 10 um\n",
        "bandOrigin = -13.91\n",
        "band100 = -4.64\n",
        "0.245369142754\n",
        "OK: Chemical potential is below evaporation threshold.\n",
        "OK: Chemical potential is below the bottom of the band along 100\n",
        "OK: Radial density profile along 111 decreases monotonically.\n",
        "0.38517975055"
       ]
      },
      {
       "output_type": "stream",
       "stream": "stdout",
       "text": [
        "\n",
        "175913.784958\n",
        "\n"
       ]
      },
      {
       "output_type": "stream",
       "stream": "stdout",
       "text": [
        "2\n",
        "OK: Bottom of the band has positive slope up to r111 = 10 um\n",
        "bandOrigin = -13.91\n",
        "band100 = -4.64\n",
        "0.245369142754\n",
        "OK: Chemical potential is below evaporation threshold.\n",
        "OK: Chemical potential is below the bottom of the band along 100\n",
        "OK: Radial density profile along 111 decreases monotonically.\n",
        "0.366504368705"
       ]
      },
      {
       "output_type": "stream",
       "stream": "stdout",
       "text": [
        "\n",
        "166115.799815\n",
        "\n"
       ]
      },
      {
       "output_type": "stream",
       "stream": "stdout",
       "text": [
        "3\n",
        "OK: Bottom of the band has positive slope up to r111 = 10 um\n",
        "bandOrigin = -13.91\n",
        "band100 = -4.64\n",
        "0.245369142754\n",
        "OK: Chemical potential is below evaporation threshold.\n",
        "OK: Chemical potential is below the bottom of the band along 100\n",
        "OK: Radial density profile along 111 decreases monotonically.\n",
        "0.343160141399"
       ]
      },
      {
       "output_type": "stream",
       "stream": "stdout",
       "text": [
        "\n",
        "153992.968268\n"
       ]
      }
     ],
     "prompt_number": 134
    },
    {
     "cell_type": "markdown",
     "metadata": {},
     "source": [
      "# Matching $290a_{0}$.  $S/N = 1.6 k_{\\mathrm{b}}$,    $\\alpha=1.175$,    $7E_{R}$"
     ]
    },
    {
     "cell_type": "code",
     "collapsed": false,
     "input": [
      "import scubic\n",
      "import lda\n",
      "\n",
      "profs = [ \n",
      "        #0\n",
      "        {'wIR':47.,\\\n",
      "         'wGR':47./1.175,\\\n",
      "         'g0':3.755,\\\n",
      "         's0':7.,\\\n",
      "         'extents':35.,\\\n",
      "         'T':0.077,\\\n",
      "         'aS':470.,\\\n",
      "         'mu0':0.248,\\\n",
      "         #'mu0':'halfMott',\\\n",
      "         'direc':'111'\n",
      "        },\n",
      "        #1\n",
      "        {'wIR':47.,\\\n",
      "         'wGR':47./1.175,\\\n",
      "         'g0':3.755,\\\n",
      "         's0':7.,\\\n",
      "         'extents':35.,\\\n",
      "         'T':0.0752,\\\n",
      "         'aS':380.,\\\n",
      "         'mu0':0.234,\\\n",
      "         'direc':'111'\n",
      "        },\n",
      "        #2\n",
      "        {'wIR':47.,\\\n",
      "         'wGR':47./1.175,\\\n",
      "         'g0':3.755,\\\n",
      "         's0':7.,\\\n",
      "         'extents':35.,\\\n",
      "         'T':0.072,\\\n",
      "         'aS':290.,\\\n",
      "         'mu0':'halfMott',\\\n",
      "         'direc':'111'\n",
      "        },\n",
      "        #3\n",
      "        {'wIR':47.,\\\n",
      "         'wGR':47./1.175,\\\n",
      "         'g0':3.755,\\\n",
      "         's0':7.,\\\n",
      "         'extents':35.,\\\n",
      "         'T':0.070,\\\n",
      "         'aS':200.,\\\n",
      "         'mu0':0.192,\\\n",
      "         'direc':'111'\n",
      "        },\n",
      "        ]\n",
      "\n",
      "\n",
      "\n",
      "\n",
      "\n",
      "tags = range(len(profs)) \n",
      "#tags = [0,1] \n",
      "\n",
      "x = []\n",
      "y = [] \n",
      "d = [] \n",
      "for tag in tags:\n",
      "    print '\\n',tag\n",
      "\n",
      "    s       = profs[tag]['s0']\n",
      "    g       = profs[tag]['g0']\n",
      "    wIR     = profs[tag]['wIR']\n",
      "    wGR     = profs[tag]['wGR']\n",
      "    T       = profs[tag]['T'] \n",
      "    extents = profs[tag]['extents']\n",
      "    direc   = profs[tag]['direc'] \n",
      "    aS      = profs[tag].get('aS',650.)\n",
      "    mu0     = profs[tag].get('mu0','halfMott')\n",
      "    x2lims  = profs[tag].get('x2lims', (-40.,40.))\n",
      "    y2lims  = profs[tag].get('y2lims', (0.,1.3))\n",
      "    \n",
      "    pot = scubic.sc(allIR=s, allGR=g, allIRw=wIR, allGRw=wGR)\n",
      "    test = lda.lda(potential = pot, Temperature=T, a_s=aS, extents=extents, globalMu=mu0, verbose=True, \\\n",
      "                   ignoreExtents=False, ignoreSlopeErrors=True, ignoreMuThreshold=True)\n",
      "    fig = lda.plotLine( test , line_direction=direc, extents=extents, \\\n",
      "                       x1lims=(-50.,50.), x2lims=x2lims, y2lims=y2lims, y3lims=(0.,24.)) \n",
      "    print test.getRadius()/wIR\n",
      "    print test.Number\n",
      "    plt.close()\n",
      "    fig.savefig('BraggNumber/profiles/1p6_117_7Er_Match_290/%03d.png'%tag, dpi=300)\n",
      "    \n",
      "    x.append( aS ) \n",
      "    y.append( test.Number ) \n",
      "    d.append( test.PeakD)\n",
      "    \n",
      "np.savetxt( 'BraggNumber/1p6_a=1.17_7Er_Match_290.dat', np.column_stack( ( np.array(x), np.array(y), np.array(d) ) ) ) "
     ],
     "language": "python",
     "metadata": {},
     "outputs": [
      {
       "output_type": "stream",
       "stream": "stdout",
       "text": [
        "\n",
        "0\n",
        "OK: Bottom of the band has positive slope up to r111 = 10 um\n",
        "bandOrigin = -13.91\n",
        "band100 = -4.64\n",
        "0.245369142754\n",
        "OK: Chemical potential is below evaporation threshold.\n",
        "OK: Chemical potential is below the bottom of the band along 100\n",
        "OK: Radial density profile along 111 decreases monotonically.\n",
        "0.403855132395"
       ]
      },
      {
       "output_type": "stream",
       "stream": "stdout",
       "text": [
        "\n",
        "184397.314942\n",
        "\n"
       ]
      },
      {
       "output_type": "stream",
       "stream": "stdout",
       "text": [
        "1\n",
        "OK: Bottom of the band has positive slope up to r111 = 10 um\n",
        "bandOrigin = -13.91\n",
        "band100 = -4.64\n",
        "0.245369142754\n",
        "OK: Chemical potential is below evaporation threshold.\n",
        "OK: Chemical potential is below the bottom of the band along 100\n",
        "OK: Radial density profile along 111 decreases monotonically.\n",
        "0.394517441473"
       ]
      },
      {
       "output_type": "stream",
       "stream": "stdout",
       "text": [
        "\n",
        "175262.035481\n",
        "\n"
       ]
      },
      {
       "output_type": "stream",
       "stream": "stdout",
       "text": [
        "2\n",
        "OK: Bottom of the band has positive slope up to r111 = 10 um\n",
        "bandOrigin = -13.91\n",
        "band100 = -4.64\n",
        "0.245369142754\n",
        "OK: Chemical potential is below evaporation threshold.\n",
        "OK: Chemical potential is below the bottom of the band along 100\n",
        "OK: Radial density profile along 111 decreases monotonically.\n",
        "0.389848596011"
       ]
      },
      {
       "output_type": "stream",
       "stream": "stdout",
       "text": [
        "\n",
        "165993.375496\n",
        "\n"
       ]
      },
      {
       "output_type": "stream",
       "stream": "stdout",
       "text": [
        "3\n",
        "OK: Bottom of the band has positive slope up to r111 = 10 um\n",
        "bandOrigin = -13.91\n",
        "band100 = -4.64\n",
        "0.245369142754\n",
        "OK: Chemical potential is below evaporation threshold.\n",
        "OK: Chemical potential is below the bottom of the band along 100\n",
        "OK: Radial density profile along 111 decreases monotonically.\n",
        "0.366504368705"
       ]
      },
      {
       "output_type": "stream",
       "stream": "stdout",
       "text": [
        "\n",
        "152768.192733\n"
       ]
      }
     ],
     "prompt_number": 78
    },
    {
     "cell_type": "markdown",
     "metadata": {},
     "source": [
      "# Matching $290a_{0}$.  $S/N = 1.7 k_{\\mathrm{b}}$,    $\\alpha=1.175$,    $7E_{R}$"
     ]
    },
    {
     "cell_type": "code",
     "collapsed": false,
     "input": [
      "import scubic\n",
      "import lda\n",
      "\n",
      "profs = [ \n",
      "        #0\n",
      "        {'wIR':47.,\\\n",
      "         'wGR':47./1.175,\\\n",
      "         'g0':3.738,\\\n",
      "         's0':7.,\\\n",
      "         'extents':35.,\\\n",
      "         'T':0.088,\\\n",
      "         'aS':470.,\\\n",
      "         'mu0':0.249,\\\n",
      "         #'mu0':'halfMott',\\\n",
      "         'direc':'111'\n",
      "        },\n",
      "        #1\n",
      "        {'wIR':47.,\\\n",
      "         'wGR':47./1.175,\\\n",
      "         'g0':3.738,\\\n",
      "         's0':7.,\\\n",
      "         'extents':35.,\\\n",
      "         'T':0.086,\\\n",
      "         'aS':380.,\\\n",
      "         'mu0':0.235,\\\n",
      "         'direc':'111'\n",
      "        },\n",
      "        #2\n",
      "        {'wIR':47.,\\\n",
      "         'wGR':47./1.175,\\\n",
      "         'g0':3.738,\\\n",
      "         's0':7.,\\\n",
      "         'extents':35.,\\\n",
      "         'T':0.083,\\\n",
      "         'aS':290.,\\\n",
      "         'mu0':'halfMott',\\\n",
      "         'direc':'111'\n",
      "        },\n",
      "        #3\n",
      "        {'wIR':47.,\\\n",
      "         'wGR':47./1.175,\\\n",
      "         'g0':3.738,\\\n",
      "         's0':7.,\\\n",
      "         'extents':35.,\\\n",
      "         'T':0.080,\\\n",
      "         'aS':200.,\\\n",
      "         'mu0':0.195,\\\n",
      "         'direc':'111'\n",
      "        },\n",
      "        ]\n",
      "\n",
      "\n",
      "\n",
      "\n",
      "\n",
      "tags = range(len(profs)) \n",
      "#tags = [0,1] \n",
      "\n",
      "x = []\n",
      "y = [] \n",
      "d = [] \n",
      "for tag in tags:\n",
      "    print '\\n',tag\n",
      "\n",
      "    s       = profs[tag]['s0']\n",
      "    g       = profs[tag]['g0']\n",
      "    wIR     = profs[tag]['wIR']\n",
      "    wGR     = profs[tag]['wGR']\n",
      "    T       = profs[tag]['T'] \n",
      "    extents = profs[tag]['extents']\n",
      "    direc   = profs[tag]['direc'] \n",
      "    aS      = profs[tag].get('aS',650.)\n",
      "    mu0     = profs[tag].get('mu0','halfMott')\n",
      "    x2lims  = profs[tag].get('x2lims', (-40.,40.))\n",
      "    y2lims  = profs[tag].get('y2lims', (0.,1.3))\n",
      "    \n",
      "    pot = scubic.sc(allIR=s, allGR=g, allIRw=wIR, allGRw=wGR)\n",
      "    test = lda.lda(potential = pot, Temperature=T, a_s=aS, extents=extents, globalMu=mu0, verbose=True, \\\n",
      "                   ignoreExtents=False, ignoreSlopeErrors=True, ignoreMuThreshold=True)\n",
      "    fig = lda.plotLine( test , line_direction=direc, extents=extents, \\\n",
      "                       x1lims=(-50.,50.), x2lims=x2lims, y2lims=y2lims, y3lims=(0.,24.)) \n",
      "    print test.getRadius()/wIR\n",
      "    print test.Number\n",
      "    plt.close()\n",
      "    fig.savefig('BraggNumber/profiles/1p7_117_7Er_Match_290/%03d.png'%tag, dpi=300)\n",
      "    \n",
      "    x.append( aS ) \n",
      "    y.append( test.Number ) \n",
      "    d.append( test.PeakD)\n",
      "    \n",
      "np.savetxt( 'BraggNumber/1p7_a=1.17_7Er_Match_290.dat', np.column_stack( ( np.array(x), np.array(y), np.array(d) ) ) ) "
     ],
     "language": "python",
     "metadata": {},
     "outputs": [
      {
       "output_type": "stream",
       "stream": "stdout",
       "text": [
        "\n",
        "0\n",
        "OK: Bottom of the band has positive slope up to r111 = 10 um\n",
        "bandOrigin = -13.91\n",
        "band100 = -4.64\n",
        "0.245369142754\n",
        "OK: Chemical potential is below evaporation threshold.\n",
        "OK: Chemical potential is below the bottom of the band along 100\n",
        "OK: Radial density profile along 111 decreases monotonically.\n",
        "0.394517441473"
       ]
      },
      {
       "output_type": "stream",
       "stream": "stdout",
       "text": [
        "\n",
        "183830.797837\n",
        "\n"
       ]
      },
      {
       "output_type": "stream",
       "stream": "stdout",
       "text": [
        "1\n",
        "OK: Bottom of the band has positive slope up to r111 = 10 um\n",
        "bandOrigin = -13.91\n",
        "band100 = -4.64\n",
        "0.245369142754\n",
        "OK: Chemical potential is below evaporation threshold.\n",
        "OK: Chemical potential is below the bottom of the band along 100\n",
        "OK: Radial density profile along 111 decreases monotonically.\n",
        "0.389848596011"
       ]
      },
      {
       "output_type": "stream",
       "stream": "stdout",
       "text": [
        "\n",
        "174942.179808\n",
        "\n"
       ]
      },
      {
       "output_type": "stream",
       "stream": "stdout",
       "text": [
        "2\n",
        "OK: Bottom of the band has positive slope up to r111 = 10 um\n",
        "bandOrigin = -13.91\n",
        "band100 = -4.64\n",
        "0.245369142754\n",
        "OK: Chemical potential is below evaporation threshold.\n",
        "OK: Chemical potential is below the bottom of the band along 100\n",
        "OK: Radial density profile along 111 decreases monotonically.\n",
        "0.380510905089"
       ]
      },
      {
       "output_type": "stream",
       "stream": "stdout",
       "text": [
        "\n",
        "165569.332956\n",
        "\n"
       ]
      },
      {
       "output_type": "stream",
       "stream": "stdout",
       "text": [
        "3\n",
        "OK: Bottom of the band has positive slope up to r111 = 10 um\n",
        "bandOrigin = -13.91\n",
        "band100 = -4.64\n",
        "0.245369142754\n",
        "OK: Chemical potential is below evaporation threshold.\n",
        "OK: Chemical potential is below the bottom of the band along 100\n",
        "OK: Radial density profile along 111 decreases monotonically.\n",
        "0.357166677783"
       ]
      },
      {
       "output_type": "stream",
       "stream": "stdout",
       "text": [
        "\n",
        "154053.263551\n"
       ]
      }
     ],
     "prompt_number": 156
    },
    {
     "cell_type": "markdown",
     "metadata": {},
     "source": [
      "# Matching $290a_{0}$.  $S/N = 1.7 k_{\\mathrm{b}}$,    $\\alpha=1.175$,    $7E_{R}$,  $n=1$"
     ]
    },
    {
     "cell_type": "code",
     "collapsed": false,
     "input": [
      "import scubic\n",
      "import lda\n",
      "\n",
      "profs = [ \n",
      "        #0\n",
      "        {'wIR':47.,\\\n",
      "         'wGR':47./1.175,\\\n",
      "         'g0':3.738,\\\n",
      "         's0':7.,\\\n",
      "         'extents':35.,\\\n",
      "         'T':0.117,\\\n",
      "         'aS':470.,\\\n",
      "         'mu0':'halfMott',\\\n",
      "         'direc':'111'\n",
      "        },\n",
      "        #1\n",
      "        {'wIR':47.,\\\n",
      "         'wGR':47./1.175,\\\n",
      "         'g0':3.738,\\\n",
      "         's0':7.,\\\n",
      "         'extents':35.,\\\n",
      "         'T':0.099,\\\n",
      "         'aS':380.,\\\n",
      "         'mu0':'halfMott',\\\n",
      "         'direc':'111'\n",
      "        },\n",
      "        #2\n",
      "        {'wIR':47.,\\\n",
      "         'wGR':47./1.175,\\\n",
      "         'g0':3.738,\\\n",
      "         's0':7.,\\\n",
      "         'extents':35.,\\\n",
      "         'T':0.083,\\\n",
      "         'aS':290.,\\\n",
      "         'mu0':'halfMott',\\\n",
      "         'direc':'111'\n",
      "        },\n",
      "        #3\n",
      "        {'wIR':47.,\\\n",
      "         'wGR':47./1.175,\\\n",
      "         'g0':3.738,\\\n",
      "         's0':7.,\\\n",
      "         'extents':35.,\\\n",
      "         'T':0.068,\\\n",
      "         'aS':200.,\\\n",
      "         'mu0':'halfMott',\\\n",
      "         'direc':'111'\n",
      "        },\n",
      "        ]\n",
      "\n",
      "\n",
      "\n",
      "\n",
      "\n",
      "tags = range(len(profs)) \n",
      "#tags = [0,1] \n",
      "\n",
      "x = []\n",
      "y = [] \n",
      "d = [] \n",
      "for tag in tags:\n",
      "    print '\\n',tag\n",
      "\n",
      "    s       = profs[tag]['s0']\n",
      "    g       = profs[tag]['g0']\n",
      "    wIR     = profs[tag]['wIR']\n",
      "    wGR     = profs[tag]['wGR']\n",
      "    T       = profs[tag]['T'] \n",
      "    extents = profs[tag]['extents']\n",
      "    direc   = profs[tag]['direc'] \n",
      "    aS      = profs[tag].get('aS',650.)\n",
      "    mu0     = profs[tag].get('mu0','halfMott')\n",
      "    x2lims  = profs[tag].get('x2lims', (-40.,40.))\n",
      "    y2lims  = profs[tag].get('y2lims', (0.,1.3))\n",
      "    \n",
      "    pot = scubic.sc(allIR=s, allGR=g, allIRw=wIR, allGRw=wGR)\n",
      "    test = lda.lda(potential = pot, Temperature=T, a_s=aS, extents=extents, globalMu=mu0, verbose=True, \\\n",
      "                   ignoreExtents=False, ignoreSlopeErrors=True, ignoreMuThreshold=True)\n",
      "    fig = lda.plotLine( test , line_direction=direc, extents=extents, \\\n",
      "                       x1lims=(-50.,50.), x2lims=x2lims, y2lims=y2lims, y3lims=(0.,24.)) \n",
      "    print test.getRadius()/wIR\n",
      "    print test.Number\n",
      "    plt.close()\n",
      "    fig.savefig('BraggNumber/profiles/1p7_117_7Er_Match_290_U2/%03d.png'%tag, dpi=300)\n",
      "    \n",
      "    x.append( aS ) \n",
      "    y.append( test.Number ) \n",
      "    d.append( test.PeakD)\n",
      "    \n",
      "np.savetxt( 'BraggNumber/1p7_a=1.17_7Er_Match_290_U2.dat', np.column_stack( ( np.array(x), np.array(y), np.array(d) ) ) ) "
     ],
     "language": "python",
     "metadata": {},
     "outputs": [
      {
       "output_type": "stream",
       "stream": "stdout",
       "text": [
        "\n",
        "0\n",
        "OK: Bottom of the band has positive slope up to r111 = 10 um\n",
        "bandOrigin = -13.91\n",
        "band100 = -4.64\n",
        "0.245369142754\n",
        "OK: Chemical potential is below evaporation threshold.\n",
        "OK: Chemical potential is below the bottom of the band along 100\n",
        "OK: Radial density profile along 111 decreases monotonically.\n",
        "0.450543587007"
       ]
      },
      {
       "output_type": "stream",
       "stream": "stdout",
       "text": [
        "\n",
        "286346.187689\n",
        "\n"
       ]
      },
      {
       "output_type": "stream",
       "stream": "stdout",
       "text": [
        "1\n",
        "OK: Bottom of the band has positive slope up to r111 = 10 um\n",
        "bandOrigin = -13.91\n",
        "band100 = -4.64\n",
        "0.245369142754\n",
        "OK: Chemical potential is below evaporation threshold.\n",
        "OK: Chemical potential is below the bottom of the band along 100\n",
        "OK: Radial density profile along 111 decreases monotonically.\n",
        "0.413192823318"
       ]
      },
      {
       "output_type": "stream",
       "stream": "stdout",
       "text": [
        "\n",
        "222264.188909\n",
        "\n"
       ]
      },
      {
       "output_type": "stream",
       "stream": "stdout",
       "text": [
        "2\n",
        "OK: Bottom of the band has positive slope up to r111 = 10 um\n",
        "bandOrigin = -13.91\n",
        "band100 = -4.64\n",
        "0.245369142754\n",
        "OK: Chemical potential is below evaporation threshold.\n",
        "OK: Chemical potential is below the bottom of the band along 100\n",
        "OK: Radial density profile along 111 decreases monotonically.\n",
        "0.380510905089"
       ]
      },
      {
       "output_type": "stream",
       "stream": "stdout",
       "text": [
        "\n",
        "165569.332956\n",
        "\n"
       ]
      },
      {
       "output_type": "stream",
       "stream": "stdout",
       "text": [
        "3\n",
        "OK: Bottom of the band has positive slope up to r111 = 10 um\n",
        "bandOrigin = -13.91\n",
        "band100 = -4.64\n",
        "0.245369142754\n",
        "OK: Chemical potential is below evaporation threshold.\n",
        "OK: Chemical potential is below the bottom of the band along 100\n",
        "OK: Radial density profile along 111 decreases monotonically.\n",
        "0.343160141399"
       ]
      },
      {
       "output_type": "stream",
       "stream": "stdout",
       "text": [
        "\n",
        "116263.207095\n"
       ]
      }
     ],
     "prompt_number": 199
    },
    {
     "cell_type": "markdown",
     "metadata": {},
     "source": [
      "## Plot the atom numbers at half-filling for various scattering lengths"
     ]
    },
    {
     "cell_type": "code",
     "collapsed": false,
     "input": [
      "from matplotlib import rc\n",
      "rc('font',**{'family':'serif'})\n",
      "rc('text', usetex=True)\n",
      "\n",
      "fs =[ \n",
      "    'BraggNumber/1p7_a=1.17.dat',\\\n",
      "    'BraggNumber/1p7_a=1.17_7Er_Match_290_U2.dat',\\\n",
      "    #'BraggNumber/2p0_a=1.17.dat',\\\n",
      "    #'BraggNumber/1p7_a=1.17_6Er.dat',\\\n",
      "    #'BraggNumber/1p6_a=1.17_7Er_Match_380.dat',\\\n",
      "    'BraggNumber/1p7_a=1.17_7Er_Match_380.dat',\\\n",
      "    #'BraggNumber/1p6_a=1.17_7Er_Match_290.dat',\\\n",
      "    'BraggNumber/1p7_a=1.17_7Er_Match_290.dat',\\\n",
      "    \n",
      "    ]\n",
      "\n",
      "ls = [\n",
      "    '$\\mu=U/2\\ (\\Rightarrow n=1)$' + '\\n' +\n",
      "    '$g_{0}=3.59\\,E_{R}$',\\\n",
      "\n",
      "    '$\\mu=U/2\\ (\\Rightarrow n=1)$' + '\\n' +\n",
      "    '$g_{0}=3.74\\,E_{R}$',\\\n",
      "\n",
      "    '$N=N_{\\mathrm{Bragg}}$' + '\\n' + \n",
      "    #'$n=1\\ \\mathrm{at}\\ 380a_{0}$' + '\\n' +\n",
      "    '$g_{0}=3.66\\,E_{R}$',\\\n",
      "\n",
      "\n",
      "    '$N=N_{\\mathrm{Bragg}}$' + '\\n' + \n",
      "    #'$n=1\\ \\mathrm{at}\\ 290a_{0}$' + '\\n' +\n",
      "    '$g_{0}=3.74\\,E_{R}$',\\\n",
      "]\n",
      "\n",
      "clrs = [ 'blue', 'green',  'red', 'purple']\n",
      "\n",
      "fs = zip(fs,ls,clrs)\n",
      "\n",
      "fig = plt.figure( figsize=(7.,2.6))\n",
      "gs = matplotlib.gridspec.GridSpec( 1,2,\\\n",
      "        left=0.08, right=0.74, bottom=0.16, top=0.92,\\\n",
      "        wspace=0.35)\n",
      "axN = fig.add_subplot( gs[0] )\n",
      "axn = fig.add_subplot( gs[1] )\n",
      "\n",
      "for f,l,c in fs:\n",
      "    dat = np.loadtxt(f) \n",
      "    try:\n",
      "        dat = dat[ dat[:,0] < 500.] \n",
      "    except:\n",
      "        print f\n",
      "    if c == 'red':\n",
      "        print dat \n",
      "    axN.plot( dat[:,0], dat[:,1]/1e5,'.-',ms=8., color=c)\n",
      "    axn.plot( dat[:,0], dat[:,2],'.-',ms=8., label=l, color=c)\n",
      "\n",
      "axN.set_ylabel('$N$',rotation=0,labelpad=10)\n",
      "axn.set_ylabel('$n$',rotation=0,labelpad=10)\n",
      "for ax in [axn, axN]:\n",
      "    ax.set_xlim(180.,500.)\n",
      "    ax.grid()\n",
      "    ax.set_xlabel('$\\mathrm{Scattering\\ length}\\ (a_{0})$')\n",
      "    \n",
      "axn.legend( bbox_to_anchor = (1.05,1.05), loc='upper left', \\\n",
      "        numpoints=1, labelspacing=1.2, prop={'size':10},\\\n",
      "        handlelength=1.1, handletextpad=0.5 )\n",
      "\n",
      "fig.savefig( 'BraggNumber/ldaNn.png', dpi=300)\n"
     ],
     "language": "python",
     "metadata": {},
     "outputs": [
      {
       "output_type": "stream",
       "stream": "stdout",
       "text": [
        "[[  4.70000000e+02   1.83591985e+05   9.79370670e-01]\n",
        " [  3.80000000e+02   1.75913785e+05   9.99627935e-01]\n",
        " [  2.90000000e+02   1.66115800e+05   1.05395555e+00]\n",
        " [  2.00000000e+02   1.53992968e+05   1.16442803e+00]]\n"
       ]
      },
      {
       "metadata": {},
       "output_type": "display_data",
       "png": "[encoded data removed]",
       "text": [
        "<matplotlib.figure.Figure at 0x9ff64cc>"
       ]
      }
     ],
     "prompt_number": 2
    },
    {
     "cell_type": "markdown",
     "metadata": {},
     "source": [
      "# Number and central density data match"
     ]
    },
    {
     "cell_type": "code",
     "collapsed": false,
     "input": [
      "import scubic\n",
      "import lda\n",
      "    \n",
      "\n",
      "profs = [ \n",
      "        #0\n",
      "        {'wIR':47.,\\\n",
      "         'wGR':47./1.175,\\\n",
      "         'g0':3.666,\\\n",
      "         's0':7.,\\\n",
      "         'extents':35.,\\\n",
      "         'T':0.098,\\\n",
      "         'aS':470.,\\\n",
      "         'mu0':0.2965,\\\n",
      "         #'mu0':'halfMott',\\\n",
      "         'direc':'111'\n",
      "        },\n",
      "        #1\n",
      "        {'wIR':47.,\\\n",
      "         'wGR':47./1.175,\\\n",
      "         'g0':3.666,\\\n",
      "         's0':7.,\\\n",
      "         'extents':35.,\\\n",
      "         'T':0.095,\\\n",
      "         'aS':380.,\\\n",
      "         'mu0':'halfMott',\\\n",
      "         'direc':'111'\n",
      "        },\n",
      "        #2\n",
      "        {'wIR':47.,\\\n",
      "         'wGR':47./1.175,\\\n",
      "         'g0':3.666,\\\n",
      "         's0':7.,\\\n",
      "         'extents':35.,\\\n",
      "         'T':0.092,\\\n",
      "         'aS':290.,\\\n",
      "         'mu0':0.2680,\\\n",
      "         'direc':'111'\n",
      "        },\n",
      "        #3\n",
      "        {'wIR':47.,\\\n",
      "         'wGR':47./1.175,\\\n",
      "         'g0':3.666,\\\n",
      "         's0':7.,\\\n",
      "         'extents':35.,\\\n",
      "         'T':0.0875,\\\n",
      "         'aS':200.,\\\n",
      "         'mu0':0.2306,\\\n",
      "         'direc':'111'\n",
      "        },\n",
      "        ]\n",
      "\n",
      "\n",
      "\n",
      "\n",
      "\n",
      "tags = range(len(profs)) \n",
      "#tags = [3] \n",
      "\n",
      "x = []\n",
      "y = [] \n",
      "d = [] \n",
      "for tag in tags:\n",
      "    print '\\n',tag\n",
      "\n",
      "    s       = profs[tag]['s0']\n",
      "    g       = profs[tag]['g0']\n",
      "    wIR     = profs[tag]['wIR']\n",
      "    wGR     = profs[tag]['wGR']\n",
      "    T       = profs[tag]['T'] \n",
      "    extents = profs[tag]['extents']\n",
      "    direc   = profs[tag]['direc'] \n",
      "    aS      = profs[tag].get('aS',650.)\n",
      "    mu0     = profs[tag].get('mu0','halfMott')\n",
      "    x2lims  = profs[tag].get('x2lims', (-40.,40.))\n",
      "    y2lims  = profs[tag].get('y2lims', (0.,1.3))\n",
      "    \n",
      "    pot = scubic.sc(allIR=s, allGR=g, allIRw=wIR, allGRw=wGR)\n",
      "    test = lda.lda(potential = pot, Temperature=T, a_s=aS, extents=extents, globalMu=mu0, verbose=True, \\\n",
      "                   ignoreExtents=False, ignoreSlopeErrors=True, ignoreMuThreshold=True)\n",
      "    fig = lda.plotLine( test , line_direction=direc, extents=extents, \\\n",
      "                       x1lims=(-50.,50.), x2lims=x2lims, y2lims=y2lims, y3lims=(0.,24.)) \n",
      "    print test.getRadius()/wIR\n",
      "    print test.Number\n",
      "    plt.close()\n",
      "    fig.savefig('BraggNumber/profiles/FinalMatch/%03d.png'%tag, dpi=300)\n",
      "    \n",
      "    x.append( aS ) \n",
      "    y.append( test.Number ) \n",
      "    d.append( test.PeakD)\n",
      "    \n",
      "np.savetxt( 'BraggNumber/FinalMatch.dat', np.column_stack( ( np.array(x), np.array(y), np.array(d) ) ), fmt='%.4g') "
     ],
     "language": "python",
     "metadata": {},
     "outputs": [
      {
       "output_type": "stream",
       "stream": "stdout",
       "text": [
        "\n",
        "0\n",
        "OK: Bottom of the band has positive slope up to r111 = 10 um\n",
        "bandOrigin = -13.91\n",
        "band100 = -4.64\n",
        "0.245369142754\n",
        "OK: Chemical potential is below evaporation threshold.\n",
        "OK: Chemical potential is below the bottom of the band along 100\n",
        "OK: Radial density profile along 111 decreases monotonically.\n",
        "0.389848596011"
       ]
      },
      {
       "output_type": "stream",
       "stream": "stdout",
       "text": [
        "\n",
        "184348.605572\n",
        "\n"
       ]
      },
      {
       "output_type": "stream",
       "stream": "stdout",
       "text": [
        "1\n",
        "OK: Bottom of the band has positive slope up to r111 = 10 um\n",
        "bandOrigin = -13.91\n",
        "band100 = -4.64\n",
        "0.245369142754\n",
        "OK: Chemical potential is below evaporation threshold.\n",
        "OK: Chemical potential is below the bottom of the band along 100\n",
        "OK: Radial density profile along 111 decreases monotonically.\n",
        "0.38517975055"
       ]
      },
      {
       "output_type": "stream",
       "stream": "stdout",
       "text": [
        "\n",
        "178772.498128\n",
        "\n"
       ]
      },
      {
       "output_type": "stream",
       "stream": "stdout",
       "text": [
        "2\n",
        "OK: Bottom of the band has positive slope up to r111 = 10 um\n",
        "bandOrigin = -13.91\n",
        "band100 = -4.64\n",
        "0.245369142754\n",
        "OK: Chemical potential is below evaporation threshold.\n",
        "OK: Chemical potential is below the bottom of the band along 100\n",
        "OK: Radial density profile along 111 decreases monotonically.\n",
        "0.371173214167"
       ]
      },
      {
       "output_type": "stream",
       "stream": "stdout",
       "text": [
        "\n",
        "169487.979849\n",
        "\n"
       ]
      },
      {
       "output_type": "stream",
       "stream": "stdout",
       "text": [
        "3\n",
        "OK: Bottom of the band has positive slope up to r111 = 10 um\n",
        "bandOrigin = -13.91\n",
        "band100 = -4.64\n",
        "0.245369142754\n",
        "OK: Chemical potential is below evaporation threshold.\n",
        "OK: Chemical potential is below the bottom of the band along 100\n",
        "OK: Radial density profile along 111 decreases monotonically.\n",
        "0.343160141399"
       ]
      },
      {
       "output_type": "stream",
       "stream": "stdout",
       "text": [
        "\n",
        "150778.182803\n"
       ]
      }
     ],
     "prompt_number": 31
    },
    {
     "cell_type": "code",
     "collapsed": false,
     "input": [],
     "language": "python",
     "metadata": {},
     "outputs": []
    }
   ],
   "metadata": {}
  }
 ]
}