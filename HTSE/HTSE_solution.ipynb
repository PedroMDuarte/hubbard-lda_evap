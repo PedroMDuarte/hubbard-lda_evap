{
 "metadata": {
  "name": ""
 },
 "nbformat": 3,
 "nbformat_minor": 0,
 "worksheets": [
  {
   "cells": [
    {
     "cell_type": "code",
     "collapsed": false,
     "input": [
      "from IPython.display import display\n",
      "\n",
      "from sympy.interactive import printing\n",
      "printing.init_printing(use_latex=True)\n",
      "\n",
      "from __future__ import division\n",
      "import sympy as sym\n",
      "from sympy import *\n",
      "\n",
      "\n",
      "import matplotlib\n",
      "matplotlib.rc('font',**{'family':'serif'})\n",
      "\n",
      "import numpy as np"
     ],
     "language": "python",
     "metadata": {},
     "outputs": [],
     "prompt_number": 1
    },
    {
     "cell_type": "markdown",
     "metadata": {},
     "source": [
      "# Outline of the HTSE solution to second order"
     ]
    },
    {
     "cell_type": "code",
     "collapsed": false,
     "input": [
      "z0, z, u, B, t , U= symbols(r\"z_{0} z u \\beta t U\")\n",
      "m=6.\n",
      "grand = -sym.log( z0 ) / B - B * (t/z0)**2 * m * ( z + z**3 * u + 2*z**2 * (1-u) / (B*U))\n",
      "grand"
     ],
     "language": "python",
     "metadata": {},
     "outputs": [
      {
       "latex": [
        "$$- 6.0 \\frac{\\beta t^{2} \\left(u z^{3} + z + 2 \\frac{z^{2} \\left(- u + 1\\right)}{U \\beta}\\right)}{z_{{0}}^{2}} - \\frac{\\log{\\left (z_{{0}} \\right )}}{\\beta}$$"
       ],
       "metadata": {},
       "output_type": "pyout",
       "png": "[encoded data removed]",
       "prompt_number": 2,
       "text": [
        "               \u239b              2         \u239e             \n",
        "             2 \u239c   3       2\u22c5z \u22c5(-u + 1)\u239f             \n",
        "  6.0\u22c5\\beta\u22c5t \u22c5\u239cu\u22c5z  + z + \u2500\u2500\u2500\u2500\u2500\u2500\u2500\u2500\u2500\u2500\u2500\u2500\u2500\u239f             \n",
        "               \u239d              U\u22c5\\beta   \u23a0   log(z_{0})\n",
        "- \u2500\u2500\u2500\u2500\u2500\u2500\u2500\u2500\u2500\u2500\u2500\u2500\u2500\u2500\u2500\u2500\u2500\u2500\u2500\u2500\u2500\u2500\u2500\u2500\u2500\u2500\u2500\u2500\u2500\u2500\u2500\u2500\u2500\u2500\u2500\u2500\u2500\u2500\u2500 - \u2500\u2500\u2500\u2500\u2500\u2500\u2500\u2500\u2500\u2500\n",
        "                        2                     \\beta   \n",
        "                   z_{0}                              "
       ]
      }
     ],
     "prompt_number": 2
    },
    {
     "cell_type": "code",
     "collapsed": false,
     "input": [
      "T, mu= symbols(r\"T \\mu\")\n",
      "B = 1 / T \n",
      "z = sym.exp( B*mu )\n",
      "u = sym.exp(-B*U ) \n",
      "\n",
      "z0 = 1 + 2*z + z**2 * u\n",
      "grand = -sym.log( z0 ) / B - B * (t/z0)**2 * m * ( z + z**3 * u + 2*z**2 * (1-u) / (B*U))\n",
      "grand"
     ],
     "language": "python",
     "metadata": {},
     "outputs": [
      {
       "latex": [
        "$$- T \\log{\\left (2 e^{\\frac{\\mu}{T}} + 1 + e^{- \\frac{U}{T}} e^{2 \\frac{\\mu}{T}} \\right )} - 6.0 \\frac{t^{2} \\left(2 \\frac{T \\left(1 - e^{- \\frac{U}{T}}\\right) e^{2 \\frac{\\mu}{T}}}{U} + e^{\\frac{\\mu}{T}} + e^{- \\frac{U}{T}} e^{3 \\frac{\\mu}{T}}\\right)}{T \\left(2 e^{\\frac{\\mu}{T}} + 1 + e^{- \\frac{U}{T}} e^{2 \\frac{\\mu}{T}}\\right)^{2}}$$"
       ],
       "metadata": {},
       "output_type": "pyout",
       "png": "[encoded data removed]",
       "prompt_number": 3,
       "text": [
        "                                          \u239b    \u239b     -U\u239e  2\u22c5\\mu               \n",
        "                                          \u239c    \u239c     \u2500\u2500\u239f  \u2500\u2500\u2500\u2500\u2500    \\mu    -U  \n",
        "                                          \u239c    \u239c     T \u239f    T      \u2500\u2500\u2500    \u2500\u2500  \n",
        "       \u239b   \\mu        -U  2\u22c5\\mu\u239e        2 \u239c2\u22c5T\u22c5\u239d1 - \u212f  \u23a0\u22c5\u212f          T     T   \n",
        "       \u239c   \u2500\u2500\u2500        \u2500\u2500  \u2500\u2500\u2500\u2500\u2500\u239f   6.0\u22c5t \u22c5\u239c\u2500\u2500\u2500\u2500\u2500\u2500\u2500\u2500\u2500\u2500\u2500\u2500\u2500\u2500\u2500\u2500\u2500\u2500\u2500\u2500 + \u212f    + \u212f  \u22c5\u212f\n",
        "       \u239c    T         T     T  \u239f          \u239d         U                         \n",
        "- T\u22c5log\u239d2\u22c5\u212f    + 1 + \u212f  \u22c5\u212f     \u23a0 - \u2500\u2500\u2500\u2500\u2500\u2500\u2500\u2500\u2500\u2500\u2500\u2500\u2500\u2500\u2500\u2500\u2500\u2500\u2500\u2500\u2500\u2500\u2500\u2500\u2500\u2500\u2500\u2500\u2500\u2500\u2500\u2500\u2500\u2500\u2500\u2500\u2500\u2500\u2500\u2500\u2500\u2500\u2500\n",
        "                                                                         2    \n",
        "                                                \u239b   \\mu        -U  2\u22c5\\mu\u239e     \n",
        "                                                \u239c   \u2500\u2500\u2500        \u2500\u2500  \u2500\u2500\u2500\u2500\u2500\u239f     \n",
        "                                                \u239c    T         T     T  \u239f     \n",
        "                                              T\u22c5\u239d2\u22c5\u212f    + 1 + \u212f  \u22c5\u212f     \u23a0     \n",
        "\n",
        "     \u239e\n",
        "3\u22c5\\mu\u239f\n",
        "\u2500\u2500\u2500\u2500\u2500\u239f\n",
        "  T  \u239f\n",
        "     \u239f\n",
        "     \u23a0\n",
        "\u2500\u2500\u2500\u2500\u2500\u2500\n",
        "      \n",
        "      \n",
        "      \n",
        "      \n",
        "      "
       ]
      }
     ],
     "prompt_number": 3
    },
    {
     "cell_type": "code",
     "collapsed": false,
     "input": [
      "sym.simplify(grand)"
     ],
     "language": "python",
     "metadata": {},
     "outputs": [
      {
       "latex": [
        "$$- \\frac{\\left(T^{2} U \\left(2 e^{\\frac{\\mu}{T}} + e^{- \\frac{U}{T} + 2 \\frac{\\mu}{T}} + 1\\right)^{2} e^{\\frac{U}{T}} \\log{\\left (2 e^{\\frac{\\mu}{T}} + e^{- \\frac{U}{T} + 2 \\frac{\\mu}{T}} + 1 \\right )} + 6.0 t^{2} \\left(2 T \\left(e^{\\frac{U}{T}} -1\\right) e^{2 \\frac{\\mu}{T}} + U \\left(e^{\\frac{\\mu}{T}} + e^{- \\frac{U}{T} + 3 \\frac{\\mu}{T}}\\right) e^{\\frac{U}{T}}\\right)\\right) e^{- \\frac{U}{T}}}{T U \\left(2 e^{\\frac{\\mu}{T}} + e^{- \\frac{U}{T} + 2 \\frac{\\mu}{T}} + 1\\right)^{2}}$$"
       ],
       "metadata": {},
       "output_type": "pyout",
       "png": "[encoded data removed]",
       "prompt_number": 4,
       "text": [
        " \u239b                                2                                           \n",
        " \u239c     \u239b   \\mu      U   2\u22c5\\mu    \u239e   U    \u239b   \\mu      U   2\u22c5\\mu    \u239e         \n",
        " \u239c     \u239c   \u2500\u2500\u2500    - \u2500 + \u2500\u2500\u2500\u2500\u2500    \u239f   \u2500    \u239c   \u2500\u2500\u2500    - \u2500 + \u2500\u2500\u2500\u2500\u2500    \u239f         \n",
        " \u239c 2   \u239c    T       T     T      \u239f   T    \u239c    T       T     T      \u239f        2\n",
        "-\u239dT \u22c5U\u22c5\u239d2\u22c5\u212f    + \u212f            + 1\u23a0 \u22c5\u212f \u22c5log\u239d2\u22c5\u212f    + \u212f            + 1\u23a0 + 6.0\u22c5t \n",
        "\u2500\u2500\u2500\u2500\u2500\u2500\u2500\u2500\u2500\u2500\u2500\u2500\u2500\u2500\u2500\u2500\u2500\u2500\u2500\u2500\u2500\u2500\u2500\u2500\u2500\u2500\u2500\u2500\u2500\u2500\u2500\u2500\u2500\u2500\u2500\u2500\u2500\u2500\u2500\u2500\u2500\u2500\u2500\u2500\u2500\u2500\u2500\u2500\u2500\u2500\u2500\u2500\u2500\u2500\u2500\u2500\u2500\u2500\u2500\u2500\u2500\u2500\u2500\u2500\u2500\u2500\u2500\u2500\u2500\u2500\u2500\u2500\u2500\u2500\u2500\u2500\u2500\u2500\n",
        "                                                                              \n",
        "                                                       \u239b   \\mu      U   2\u22c5\\mu \n",
        "                                                       \u239c   \u2500\u2500\u2500    - \u2500 + \u2500\u2500\u2500\u2500\u2500 \n",
        "                                                       \u239c    T       T     T   \n",
        "                                                   T\u22c5U\u22c5\u239d2\u22c5\u212f    + \u212f            \n",
        "\n",
        "                                                   \u239e    \n",
        " \u239b    \u239b U    \u239e  2\u22c5\\mu     \u239b \\mu      U   3\u22c5\\mu\u239e  U\u239e\u239f  -U\n",
        " \u239c    \u239c \u2500    \u239f  \u2500\u2500\u2500\u2500\u2500     \u239c \u2500\u2500\u2500    - \u2500 + \u2500\u2500\u2500\u2500\u2500\u239f  \u2500\u239f\u239f  \u2500\u2500\n",
        " \u239c    \u239c T    \u239f    T       \u239c  T       T     T  \u239f  T\u239f\u239f  T \n",
        "\u22c5\u239d2\u22c5T\u22c5\u239d\u212f  - 1\u23a0\u22c5\u212f      + U\u22c5\u239d\u212f    + \u212f           \u23a0\u22c5\u212f \u23a0\u23a0\u22c5\u212f  \n",
        "\u2500\u2500\u2500\u2500\u2500\u2500\u2500\u2500\u2500\u2500\u2500\u2500\u2500\u2500\u2500\u2500\u2500\u2500\u2500\u2500\u2500\u2500\u2500\u2500\u2500\u2500\u2500\u2500\u2500\u2500\u2500\u2500\u2500\u2500\u2500\u2500\u2500\u2500\u2500\u2500\u2500\u2500\u2500\u2500\u2500\u2500\u2500\u2500\u2500\u2500\u2500\u2500\u2500\u2500\u2500\u2500\n",
        "    2                                                   \n",
        "   \u239e                                                    \n",
        "   \u239f                                                    \n",
        "   \u239f                                                    \n",
        "+ 1\u23a0                                                    "
       ]
      }
     ],
     "prompt_number": 4
    },
    {
     "cell_type": "code",
     "collapsed": false,
     "input": [
      "Density = -1 * diff( grand, mu ) \n",
      "Density"
     ],
     "language": "python",
     "metadata": {},
     "outputs": [
      {
       "latex": [
        "$$\\frac{T \\left(2 \\frac{e^{\\frac{\\mu}{T}}}{T} + 2 \\frac{e^{- \\frac{U}{T}} e^{2 \\frac{\\mu}{T}}}{T}\\right)}{2 e^{\\frac{\\mu}{T}} + 1 + e^{- \\frac{U}{T}} e^{2 \\frac{\\mu}{T}}} + 6.0 \\frac{t^{2} \\left(- 4 \\frac{e^{\\frac{\\mu}{T}}}{T} - 4 \\frac{e^{- \\frac{U}{T}} e^{2 \\frac{\\mu}{T}}}{T}\\right) \\left(2 \\frac{T \\left(1 - e^{- \\frac{U}{T}}\\right) e^{2 \\frac{\\mu}{T}}}{U} + e^{\\frac{\\mu}{T}} + e^{- \\frac{U}{T}} e^{3 \\frac{\\mu}{T}}\\right)}{T \\left(2 e^{\\frac{\\mu}{T}} + 1 + e^{- \\frac{U}{T}} e^{2 \\frac{\\mu}{T}}\\right)^{3}} + 6.0 \\frac{t^{2} \\left(4 \\frac{\\left(1 - e^{- \\frac{U}{T}}\\right) e^{2 \\frac{\\mu}{T}}}{U} + \\frac{e^{\\frac{\\mu}{T}}}{T} + 3 \\frac{e^{- \\frac{U}{T}} e^{3 \\frac{\\mu}{T}}}{T}\\right)}{T \\left(2 e^{\\frac{\\mu}{T}} + 1 + e^{- \\frac{U}{T}} e^{2 \\frac{\\mu}{T}}\\right)^{2}}$$"
       ],
       "metadata": {},
       "output_type": "pyout",
       "png": "[encoded data removed]",
       "prompt_number": 5,
       "text": [
        "  \u239b   \\mu      -U  2\u22c5\\mu\u239e          \u239b     \\mu      -U  2\u22c5\\mu\u239e \u239b    \u239b     -U\u239e  2\n",
        "  \u239c   \u2500\u2500\u2500      \u2500\u2500  \u2500\u2500\u2500\u2500\u2500\u239f          \u239c     \u2500\u2500\u2500      \u2500\u2500  \u2500\u2500\u2500\u2500\u2500\u239f \u239c    \u239c     \u2500\u2500\u239f  \u2500\n",
        "  \u239c    T       T     T  \u239f          \u239c      T       T     T  \u239f \u239c    \u239c     T \u239f   \n",
        "  \u239c2\u22c5\u212f      2\u22c5\u212f  \u22c5\u212f     \u239f        2 \u239c  4\u22c5\u212f      4\u22c5\u212f  \u22c5\u212f     \u239f \u239c2\u22c5T\u22c5\u239d1 - \u212f  \u23a0\u22c5\u212f \n",
        "T\u22c5\u239c\u2500\u2500\u2500\u2500\u2500\u2500 + \u2500\u2500\u2500\u2500\u2500\u2500\u2500\u2500\u2500\u2500\u2500\u2500\u239f   6.0\u22c5t \u22c5\u239c- \u2500\u2500\u2500\u2500\u2500\u2500 - \u2500\u2500\u2500\u2500\u2500\u2500\u2500\u2500\u2500\u2500\u2500\u2500\u239f\u22c5\u239c\u2500\u2500\u2500\u2500\u2500\u2500\u2500\u2500\u2500\u2500\u2500\u2500\u2500\u2500\u2500\u2500\n",
        "  \u239d  T           T      \u23a0          \u239d    T           T      \u23a0 \u239d         U      \n",
        "\u2500\u2500\u2500\u2500\u2500\u2500\u2500\u2500\u2500\u2500\u2500\u2500\u2500\u2500\u2500\u2500\u2500\u2500\u2500\u2500\u2500\u2500\u2500\u2500\u2500 + \u2500\u2500\u2500\u2500\u2500\u2500\u2500\u2500\u2500\u2500\u2500\u2500\u2500\u2500\u2500\u2500\u2500\u2500\u2500\u2500\u2500\u2500\u2500\u2500\u2500\u2500\u2500\u2500\u2500\u2500\u2500\u2500\u2500\u2500\u2500\u2500\u2500\u2500\u2500\u2500\u2500\u2500\u2500\u2500\u2500\u2500\u2500\u2500\u2500\u2500\n",
        "    \\mu        -U  2\u22c5\\mu                                                      \n",
        "    \u2500\u2500\u2500        \u2500\u2500  \u2500\u2500\u2500\u2500\u2500                              \u239b   \\mu        -U  2\u22c5\\mu\n",
        "     T         T     T                                \u239c   \u2500\u2500\u2500        \u2500\u2500  \u2500\u2500\u2500\u2500\u2500\n",
        " 2\u22c5\u212f    + 1 + \u212f  \u22c5\u212f                                   \u239c    T         T     T  \n",
        "                                                    T\u22c5\u239d2\u22c5\u212f    + 1 + \u212f  \u22c5\u212f     \n",
        "\n",
        "\u22c5\\mu                    \u239e          \u239b  \u239b     -U\u239e  2\u22c5\\mu    \\mu      -U  3\u22c5\\mu\u239e\n",
        "\u2500\u2500\u2500\u2500    \\mu    -U  3\u22c5\\mu\u239f          \u239c  \u239c     \u2500\u2500\u239f  \u2500\u2500\u2500\u2500\u2500    \u2500\u2500\u2500      \u2500\u2500  \u2500\u2500\u2500\u2500\u2500\u239f\n",
        " T      \u2500\u2500\u2500    \u2500\u2500  \u2500\u2500\u2500\u2500\u2500\u239f          \u239c  \u239c     T \u239f    T       T       T     T  \u239f\n",
        "         T     T     T  \u239f        2 \u239c4\u22c5\u239d1 - \u212f  \u23a0\u22c5\u212f        \u212f      3\u22c5\u212f  \u22c5\u212f     \u239f\n",
        "\u2500\u2500\u2500\u2500 + \u212f    + \u212f  \u22c5\u212f     \u239f   6.0\u22c5t \u22c5\u239c\u2500\u2500\u2500\u2500\u2500\u2500\u2500\u2500\u2500\u2500\u2500\u2500\u2500\u2500\u2500\u2500\u2500\u2500 + \u2500\u2500\u2500\u2500 + \u2500\u2500\u2500\u2500\u2500\u2500\u2500\u2500\u2500\u2500\u2500\u2500\u239f\n",
        "                        \u23a0          \u239d        U             T          T      \u23a0\n",
        "\u2500\u2500\u2500\u2500\u2500\u2500\u2500\u2500\u2500\u2500\u2500\u2500\u2500\u2500\u2500\u2500\u2500\u2500\u2500\u2500\u2500\u2500\u2500\u2500\u2500 + \u2500\u2500\u2500\u2500\u2500\u2500\u2500\u2500\u2500\u2500\u2500\u2500\u2500\u2500\u2500\u2500\u2500\u2500\u2500\u2500\u2500\u2500\u2500\u2500\u2500\u2500\u2500\u2500\u2500\u2500\u2500\u2500\u2500\u2500\u2500\u2500\u2500\u2500\u2500\u2500\u2500\u2500\u2500\u2500\u2500\u2500\u2500\u2500\u2500\n",
        " 3                                                                2          \n",
        "\u239e                                        \u239b   \\mu        -U  2\u22c5\\mu\u239e           \n",
        "\u239f                                        \u239c   \u2500\u2500\u2500        \u2500\u2500  \u2500\u2500\u2500\u2500\u2500\u239f           \n",
        "\u239f                                        \u239c    T         T     T  \u239f           \n",
        "\u23a0                                      T\u22c5\u239d2\u22c5\u212f    + 1 + \u212f  \u22c5\u212f     \u23a0           "
       ]
      }
     ],
     "prompt_number": 5
    },
    {
     "cell_type": "code",
     "collapsed": false,
     "input": [
      "Doublons = diff( grand, U )\n",
      "Doublons"
     ],
     "language": "python",
     "metadata": {},
     "outputs": [
      {
       "latex": [
        "$$\\frac{e^{- \\frac{U}{T}} e^{2 \\frac{\\mu}{T}}}{2 e^{\\frac{\\mu}{T}} + 1 + e^{- \\frac{U}{T}} e^{2 \\frac{\\mu}{T}}} - 6.0 \\frac{t^{2} \\left(- 2 \\frac{T \\left(1 - e^{- \\frac{U}{T}}\\right) e^{2 \\frac{\\mu}{T}}}{U^{2}} + 2 \\frac{e^{- \\frac{U}{T}} e^{2 \\frac{\\mu}{T}}}{U} - \\frac{e^{- \\frac{U}{T}} e^{3 \\frac{\\mu}{T}}}{T}\\right)}{T \\left(2 e^{\\frac{\\mu}{T}} + 1 + e^{- \\frac{U}{T}} e^{2 \\frac{\\mu}{T}}\\right)^{2}} - 12.0 \\frac{t^{2} \\left(2 \\frac{T \\left(1 - e^{- \\frac{U}{T}}\\right) e^{2 \\frac{\\mu}{T}}}{U} + e^{\\frac{\\mu}{T}} + e^{- \\frac{U}{T}} e^{3 \\frac{\\mu}{T}}\\right) e^{- \\frac{U}{T}} e^{2 \\frac{\\mu}{T}}}{T^{2} \\left(2 e^{\\frac{\\mu}{T}} + 1 + e^{- \\frac{U}{T}} e^{2 \\frac{\\mu}{T}}\\right)^{3}}$$"
       ],
       "metadata": {},
       "output_type": "pyout",
       "png": "[encoded data removed]",
       "prompt_number": 6,
       "text": [
        "                                 \u239b      \u239b     -U\u239e  2\u22c5\\mu      -U  2\u22c5\\mu    -U \n",
        "                                 \u239c      \u239c     \u2500\u2500\u239f  \u2500\u2500\u2500\u2500\u2500      \u2500\u2500  \u2500\u2500\u2500\u2500\u2500    \u2500\u2500 \n",
        "                                 \u239c      \u239c     T \u239f    T        T     T      T  \n",
        "        -U  2\u22c5\\mu              2 \u239c  2\u22c5T\u22c5\u239d1 - \u212f  \u23a0\u22c5\u212f        2\u22c5\u212f  \u22c5\u212f        \u212f  \u22c5\n",
        "        \u2500\u2500  \u2500\u2500\u2500\u2500\u2500         6.0\u22c5t \u22c5\u239c- \u2500\u2500\u2500\u2500\u2500\u2500\u2500\u2500\u2500\u2500\u2500\u2500\u2500\u2500\u2500\u2500\u2500\u2500\u2500\u2500 + \u2500\u2500\u2500\u2500\u2500\u2500\u2500\u2500\u2500\u2500\u2500\u2500 - \u2500\u2500\u2500\u2500\n",
        "        T     T                  \u239c            2                 U             \n",
        "       \u212f  \u22c5\u212f                     \u239d           U                                \n",
        "\u2500\u2500\u2500\u2500\u2500\u2500\u2500\u2500\u2500\u2500\u2500\u2500\u2500\u2500\u2500\u2500\u2500\u2500\u2500\u2500\u2500\u2500\u2500 - \u2500\u2500\u2500\u2500\u2500\u2500\u2500\u2500\u2500\u2500\u2500\u2500\u2500\u2500\u2500\u2500\u2500\u2500\u2500\u2500\u2500\u2500\u2500\u2500\u2500\u2500\u2500\u2500\u2500\u2500\u2500\u2500\u2500\u2500\u2500\u2500\u2500\u2500\u2500\u2500\u2500\u2500\u2500\u2500\u2500\u2500\u2500\u2500\u2500\u2500\u2500\u2500\n",
        "   \\mu        -U  2\u22c5\\mu                                              2        \n",
        "   \u2500\u2500\u2500        \u2500\u2500  \u2500\u2500\u2500\u2500\u2500                     \u239b   \\mu        -U  2\u22c5\\mu\u239e         \n",
        "    T         T     T                       \u239c   \u2500\u2500\u2500        \u2500\u2500  \u2500\u2500\u2500\u2500\u2500\u239f         \n",
        "2\u22c5\u212f    + 1 + \u212f  \u22c5\u212f                          \u239c    T         T     T  \u239f         \n",
        "                                          T\u22c5\u239d2\u22c5\u212f    + 1 + \u212f  \u22c5\u212f     \u23a0         \n",
        "\n",
        " 3\u22c5\\mu\u239e                                                                \n",
        " \u2500\u2500\u2500\u2500\u2500\u239f           \u239b    \u239b     -U\u239e  2\u22c5\\mu                    \u239e           \n",
        "   T  \u239f           \u239c    \u239c     \u2500\u2500\u239f  \u2500\u2500\u2500\u2500\u2500    \\mu    -U  3\u22c5\\mu\u239f  -U  2\u22c5\\mu\n",
        "\u212f     \u239f           \u239c    \u239c     T \u239f    T      \u2500\u2500\u2500    \u2500\u2500  \u2500\u2500\u2500\u2500\u2500\u239f  \u2500\u2500  \u2500\u2500\u2500\u2500\u2500\n",
        "\u2500\u2500\u2500\u2500\u2500\u2500\u239f         2 \u239c2\u22c5T\u22c5\u239d1 - \u212f  \u23a0\u22c5\u212f          T     T     T  \u239f  T     T  \n",
        "T     \u239f   12.0\u22c5t \u22c5\u239c\u2500\u2500\u2500\u2500\u2500\u2500\u2500\u2500\u2500\u2500\u2500\u2500\u2500\u2500\u2500\u2500\u2500\u2500\u2500\u2500 + \u212f    + \u212f  \u22c5\u212f     \u239f\u22c5\u212f  \u22c5\u212f     \n",
        "      \u23a0           \u239d         U                              \u23a0           \n",
        "\u2500\u2500\u2500\u2500\u2500\u2500\u2500 - \u2500\u2500\u2500\u2500\u2500\u2500\u2500\u2500\u2500\u2500\u2500\u2500\u2500\u2500\u2500\u2500\u2500\u2500\u2500\u2500\u2500\u2500\u2500\u2500\u2500\u2500\u2500\u2500\u2500\u2500\u2500\u2500\u2500\u2500\u2500\u2500\u2500\u2500\u2500\u2500\u2500\u2500\u2500\u2500\u2500\u2500\u2500\u2500\u2500\u2500\u2500\u2500\u2500\u2500\u2500\u2500\u2500\u2500\u2500\u2500\u2500\n",
        "                                                      3                \n",
        "                             \u239b   \\mu        -U  2\u22c5\\mu\u239e                 \n",
        "                             \u239c   \u2500\u2500\u2500        \u2500\u2500  \u2500\u2500\u2500\u2500\u2500\u239f                 \n",
        "                           2 \u239c    T         T     T  \u239f                 \n",
        "                          T \u22c5\u239d2\u22c5\u212f    + 1 + \u212f  \u22c5\u212f     \u23a0                 "
       ]
      }
     ],
     "prompt_number": 6
    },
    {
     "cell_type": "code",
     "collapsed": false,
     "input": [
      "Entropy = -1* diff( grand, T)\n",
      "Entropy"
     ],
     "language": "python",
     "metadata": {},
     "outputs": [
      {
       "latex": [
        "$$\\frac{T \\left(\\frac{U e^{- \\frac{U}{T}} e^{2 \\frac{\\mu}{T}}}{T^{2}} - 2 \\frac{\\mu e^{\\frac{\\mu}{T}}}{T^{2}} - 2 \\frac{\\mu e^{- \\frac{U}{T}} e^{2 \\frac{\\mu}{T}}}{T^{2}}\\right)}{2 e^{\\frac{\\mu}{T}} + 1 + e^{- \\frac{U}{T}} e^{2 \\frac{\\mu}{T}}} + \\log{\\left (2 e^{\\frac{\\mu}{T}} + 1 + e^{- \\frac{U}{T}} e^{2 \\frac{\\mu}{T}} \\right )} + 6.0 \\frac{t^{2} \\left(- 2 \\frac{U e^{- \\frac{U}{T}} e^{2 \\frac{\\mu}{T}}}{T^{2}} + 4 \\frac{\\mu e^{\\frac{\\mu}{T}}}{T^{2}} + 4 \\frac{\\mu e^{- \\frac{U}{T}} e^{2 \\frac{\\mu}{T}}}{T^{2}}\\right) \\left(2 \\frac{T \\left(1 - e^{- \\frac{U}{T}}\\right) e^{2 \\frac{\\mu}{T}}}{U} + e^{\\frac{\\mu}{T}} + e^{- \\frac{U}{T}} e^{3 \\frac{\\mu}{T}}\\right)}{T \\left(2 e^{\\frac{\\mu}{T}} + 1 + e^{- \\frac{U}{T}} e^{2 \\frac{\\mu}{T}}\\right)^{3}} + 6.0 \\frac{t^{2} \\left(2 \\frac{\\left(1 - e^{- \\frac{U}{T}}\\right) e^{2 \\frac{\\mu}{T}}}{U} - 2 \\frac{e^{- \\frac{U}{T}} e^{2 \\frac{\\mu}{T}}}{T} - 4 \\frac{\\mu \\left(1 - e^{- \\frac{U}{T}}\\right) e^{2 \\frac{\\mu}{T}}}{T U} + \\frac{U e^{- \\frac{U}{T}} e^{3 \\frac{\\mu}{T}}}{T^{2}} - \\frac{\\mu e^{\\frac{\\mu}{T}}}{T^{2}} - 3 \\frac{\\mu e^{- \\frac{U}{T}} e^{3 \\frac{\\mu}{T}}}{T^{2}}\\right)}{T \\left(2 e^{\\frac{\\mu}{T}} + 1 + e^{- \\frac{U}{T}} e^{2 \\frac{\\mu}{T}}\\right)^{2}} - 6.0 \\frac{t^{2} \\left(2 \\frac{T \\left(1 - e^{- \\frac{U}{T}}\\right) e^{2 \\frac{\\mu}{T}}}{U} + e^{\\frac{\\mu}{T}} + e^{- \\frac{U}{T}} e^{3 \\frac{\\mu}{T}}\\right)}{T^{2} \\left(2 e^{\\frac{\\mu}{T}} + 1 + e^{- \\frac{U}{T}} e^{2 \\frac{\\mu}{T}}\\right)^{2}}$$"
       ],
       "metadata": {},
       "output_type": "pyout",
       "png": "[encoded data removed]",
       "prompt_number": 7,
       "text": [
        "  \u239b   -U  2\u22c5\\mu          \\mu          -U  2\u22c5\\mu\u239e                              \n",
        "  \u239c   \u2500\u2500  \u2500\u2500\u2500\u2500\u2500          \u2500\u2500\u2500          \u2500\u2500  \u2500\u2500\u2500\u2500\u2500\u239f                              \n",
        "  \u239c   T     T             T           T     T  \u239f                              \n",
        "  \u239cU\u22c5\u212f  \u22c5\u212f        2\u22c5\\mu\u22c5\u212f      2\u22c5\\mu\u22c5\u212f  \u22c5\u212f     \u239f                              \n",
        "T\u22c5\u239c\u2500\u2500\u2500\u2500\u2500\u2500\u2500\u2500\u2500\u2500\u2500\u2500 - \u2500\u2500\u2500\u2500\u2500\u2500\u2500\u2500\u2500\u2500 - \u2500\u2500\u2500\u2500\u2500\u2500\u2500\u2500\u2500\u2500\u2500\u2500\u2500\u2500\u2500\u2500\u239f      \u239b   \\mu        -U  2\u22c5\\mu\n",
        "  \u239c      2             2               2       \u239f      \u239c   \u2500\u2500\u2500        \u2500\u2500  \u2500\u2500\u2500\u2500\u2500\n",
        "  \u239d     T             T               T        \u23a0      \u239c    T         T     T  \n",
        "\u2500\u2500\u2500\u2500\u2500\u2500\u2500\u2500\u2500\u2500\u2500\u2500\u2500\u2500\u2500\u2500\u2500\u2500\u2500\u2500\u2500\u2500\u2500\u2500\u2500\u2500\u2500\u2500\u2500\u2500\u2500\u2500\u2500\u2500\u2500\u2500\u2500\u2500\u2500\u2500\u2500\u2500\u2500\u2500\u2500\u2500\u2500\u2500 + log\u239d2\u22c5\u212f    + 1 + \u212f  \u22c5\u212f     \n",
        "               \\mu        -U  2\u22c5\\mu                                           \n",
        "               \u2500\u2500\u2500        \u2500\u2500  \u2500\u2500\u2500\u2500\u2500                                           \n",
        "                T         T     T                                             \n",
        "            2\u22c5\u212f    + 1 + \u212f  \u22c5\u212f                                                \n",
        "                                                                              \n",
        "\n",
        "           \u239b       -U  2\u22c5\\mu          \\mu          -U  2\u22c5\\mu\u239e \u239b    \u239b     -U\u239e  \n",
        "           \u239c       \u2500\u2500  \u2500\u2500\u2500\u2500\u2500          \u2500\u2500\u2500          \u2500\u2500  \u2500\u2500\u2500\u2500\u2500\u239f \u239c    \u239c     \u2500\u2500\u239f  \n",
        "           \u239c       T     T             T           T     T  \u239f \u239c    \u239c     T \u239f  \n",
        "         2 \u239c  2\u22c5U\u22c5\u212f  \u22c5\u212f        4\u22c5\\mu\u22c5\u212f      4\u22c5\\mu\u22c5\u212f  \u22c5\u212f     \u239f \u239c2\u22c5T\u22c5\u239d1 - \u212f  \u23a0\u22c5\u212f\n",
        "\u239e   6.0\u22c5t \u22c5\u239c- \u2500\u2500\u2500\u2500\u2500\u2500\u2500\u2500\u2500\u2500\u2500\u2500\u2500\u2500 + \u2500\u2500\u2500\u2500\u2500\u2500\u2500\u2500\u2500\u2500 + \u2500\u2500\u2500\u2500\u2500\u2500\u2500\u2500\u2500\u2500\u2500\u2500\u2500\u2500\u2500\u2500\u239f\u22c5\u239c\u2500\u2500\u2500\u2500\u2500\u2500\u2500\u2500\u2500\u2500\u2500\u2500\u2500\u2500\u2500\n",
        "\u239f          \u239c         2              2               2       \u239f \u239d         U     \n",
        "\u239f          \u239d        T              T               T        \u23a0                 \n",
        "\u23a0 + \u2500\u2500\u2500\u2500\u2500\u2500\u2500\u2500\u2500\u2500\u2500\u2500\u2500\u2500\u2500\u2500\u2500\u2500\u2500\u2500\u2500\u2500\u2500\u2500\u2500\u2500\u2500\u2500\u2500\u2500\u2500\u2500\u2500\u2500\u2500\u2500\u2500\u2500\u2500\u2500\u2500\u2500\u2500\u2500\u2500\u2500\u2500\u2500\u2500\u2500\u2500\u2500\u2500\u2500\u2500\u2500\u2500\u2500\u2500\u2500\u2500\u2500\u2500\u2500\u2500\u2500\u2500\u2500\u2500\u2500\u2500\u2500\u2500\u2500\n",
        "                                                                   3          \n",
        "                                          \u239b   \\mu        -U  2\u22c5\\mu\u239e           \n",
        "                                          \u239c   \u2500\u2500\u2500        \u2500\u2500  \u2500\u2500\u2500\u2500\u2500\u239f           \n",
        "                                          \u239c    T         T     T  \u239f           \n",
        "                                        T\u22c5\u239d2\u22c5\u212f    + 1 + \u212f  \u22c5\u212f     \u23a0           \n",
        "\n",
        "2\u22c5\\mu                    \u239e          \u239b  \u239b     -U\u239e  2\u22c5\\mu      -U  2\u22c5\\mu        \n",
        "\u2500\u2500\u2500\u2500\u2500    \\mu    -U  3\u22c5\\mu\u239f          \u239c  \u239c     \u2500\u2500\u239f  \u2500\u2500\u2500\u2500\u2500      \u2500\u2500  \u2500\u2500\u2500\u2500\u2500        \n",
        "  T      \u2500\u2500\u2500    \u2500\u2500  \u2500\u2500\u2500\u2500\u2500\u239f          \u239c  \u239c     T \u239f    T        T     T          \n",
        "          T     T     T  \u239f        2 \u239c2\u22c5\u239d1 - \u212f  \u23a0\u22c5\u212f        2\u22c5\u212f  \u22c5\u212f        4\u22c5\\mu\n",
        "\u2500\u2500\u2500\u2500\u2500 + \u212f    + \u212f  \u22c5\u212f     \u239f   6.0\u22c5t \u22c5\u239c\u2500\u2500\u2500\u2500\u2500\u2500\u2500\u2500\u2500\u2500\u2500\u2500\u2500\u2500\u2500\u2500\u2500\u2500 - \u2500\u2500\u2500\u2500\u2500\u2500\u2500\u2500\u2500\u2500\u2500\u2500 - \u2500\u2500\u2500\u2500\u2500\n",
        "                         \u23a0          \u239c        U                 T              \n",
        "                                    \u239d                                         \n",
        "\u2500\u2500\u2500\u2500\u2500\u2500\u2500\u2500\u2500\u2500\u2500\u2500\u2500\u2500\u2500\u2500\u2500\u2500\u2500\u2500\u2500\u2500\u2500\u2500\u2500\u2500 + \u2500\u2500\u2500\u2500\u2500\u2500\u2500\u2500\u2500\u2500\u2500\u2500\u2500\u2500\u2500\u2500\u2500\u2500\u2500\u2500\u2500\u2500\u2500\u2500\u2500\u2500\u2500\u2500\u2500\u2500\u2500\u2500\u2500\u2500\u2500\u2500\u2500\u2500\u2500\u2500\u2500\u2500\u2500\u2500\u2500\u2500\u2500\u2500\u2500\n",
        "                                                                              \n",
        "                                                                         \u239b   \\\n",
        "                                                                         \u239c   \u2500\n",
        "                                                                         \u239c    \n",
        "                                                                       T\u22c5\u239d2\u22c5\u212f \n",
        "\n",
        " \u239b     -U\u239e  2\u22c5\\mu      -U  3\u22c5\\mu        \\mu          -U  3\u22c5\\mu\u239e               \n",
        " \u239c     \u2500\u2500\u239f  \u2500\u2500\u2500\u2500\u2500      \u2500\u2500  \u2500\u2500\u2500\u2500\u2500        \u2500\u2500\u2500          \u2500\u2500  \u2500\u2500\u2500\u2500\u2500\u239f          \u239b    \n",
        " \u239c     T \u239f    T        T     T           T           T     T  \u239f          \u239c    \n",
        "\u22c5\u239d1 - \u212f  \u23a0\u22c5\u212f        U\u22c5\u212f  \u22c5\u212f        \\mu\u22c5\u212f      3\u22c5\\mu\u22c5\u212f  \u22c5\u212f     \u239f          \u239c    \n",
        "\u2500\u2500\u2500\u2500\u2500\u2500\u2500\u2500\u2500\u2500\u2500\u2500\u2500\u2500\u2500\u2500\u2500 + \u2500\u2500\u2500\u2500\u2500\u2500\u2500\u2500\u2500\u2500\u2500\u2500 - \u2500\u2500\u2500\u2500\u2500\u2500\u2500\u2500 - \u2500\u2500\u2500\u2500\u2500\u2500\u2500\u2500\u2500\u2500\u2500\u2500\u2500\u2500\u2500\u2500\u239f        2 \u239c2\u22c5T\u22c5\n",
        "    T\u22c5U                   2            2              2       \u239f   6.0\u22c5t \u22c5\u239c\u2500\u2500\u2500\u2500\n",
        "                         T            T              T        \u23a0          \u239d    \n",
        "\u2500\u2500\u2500\u2500\u2500\u2500\u2500\u2500\u2500\u2500\u2500\u2500\u2500\u2500\u2500\u2500\u2500\u2500\u2500\u2500\u2500\u2500\u2500\u2500\u2500\u2500\u2500\u2500\u2500\u2500\u2500\u2500\u2500\u2500\u2500\u2500\u2500\u2500\u2500\u2500\u2500\u2500\u2500\u2500\u2500\u2500\u2500\u2500\u2500\u2500\u2500\u2500\u2500\u2500\u2500\u2500\u2500\u2500\u2500\u2500\u2500\u2500\u2500 - \u2500\u2500\u2500\u2500\u2500\u2500\u2500\u2500\u2500\u2500\u2500\u2500\n",
        "                    2                                                         \n",
        "mu        -U  2\u22c5\\mu\u239e                                                          \n",
        "\u2500\u2500        \u2500\u2500  \u2500\u2500\u2500\u2500\u2500\u239f                                                          \n",
        "T         T     T  \u239f                                                         2\n",
        "   + 1 + \u212f  \u22c5\u212f     \u23a0                                                        T \n",
        "\n",
        "                                     \n",
        "\u239b     -U\u239e  2\u22c5\\mu                    \u239e\n",
        "\u239c     \u2500\u2500\u239f  \u2500\u2500\u2500\u2500\u2500    \\mu    -U  3\u22c5\\mu\u239f\n",
        "\u239c     T \u239f    T      \u2500\u2500\u2500    \u2500\u2500  \u2500\u2500\u2500\u2500\u2500\u239f\n",
        "\u239d1 - \u212f  \u23a0\u22c5\u212f          T     T     T  \u239f\n",
        "\u2500\u2500\u2500\u2500\u2500\u2500\u2500\u2500\u2500\u2500\u2500\u2500\u2500\u2500\u2500\u2500 + \u212f    + \u212f  \u22c5\u212f     \u239f\n",
        "     U                              \u23a0\n",
        "\u2500\u2500\u2500\u2500\u2500\u2500\u2500\u2500\u2500\u2500\u2500\u2500\u2500\u2500\u2500\u2500\u2500\u2500\u2500\u2500\u2500\u2500\u2500\u2500\u2500\u2500\u2500\u2500\u2500\u2500\u2500\u2500\u2500\u2500\u2500\u2500\u2500\n",
        "                          2          \n",
        " \u239b   \\mu        -U  2\u22c5\\mu\u239e           \n",
        " \u239c   \u2500\u2500\u2500        \u2500\u2500  \u2500\u2500\u2500\u2500\u2500\u239f           \n",
        " \u239c    T         T     T  \u239f           \n",
        "\u22c5\u239d2\u22c5\u212f    + 1 + \u212f  \u22c5\u212f     \u23a0           "
       ]
      }
     ],
     "prompt_number": 7
    },
    {
     "cell_type": "code",
     "collapsed": false,
     "input": [
      "DensFluc = T* diff( -1* diff( grand, mu), mu )\n",
      "DensFluc"
     ],
     "language": "python",
     "metadata": {},
     "outputs": [
      {
       "latex": [
        "$$T \\left(\\frac{T \\left(2 \\frac{e^{\\frac{\\mu}{T}}}{T^{2}} + 4 \\frac{e^{- \\frac{U}{T}} e^{2 \\frac{\\mu}{T}}}{T^{2}}\\right)}{2 e^{\\frac{\\mu}{T}} + 1 + e^{- \\frac{U}{T}} e^{2 \\frac{\\mu}{T}}} + \\frac{T \\left(- 2 \\frac{e^{\\frac{\\mu}{T}}}{T} - 2 \\frac{e^{- \\frac{U}{T}} e^{2 \\frac{\\mu}{T}}}{T}\\right) \\left(2 \\frac{e^{\\frac{\\mu}{T}}}{T} + 2 \\frac{e^{- \\frac{U}{T}} e^{2 \\frac{\\mu}{T}}}{T}\\right)}{\\left(2 e^{\\frac{\\mu}{T}} + 1 + e^{- \\frac{U}{T}} e^{2 \\frac{\\mu}{T}}\\right)^{2}} + 6.0 \\frac{t^{2} \\left(- 4 \\frac{e^{\\frac{\\mu}{T}}}{T^{2}} - 8 \\frac{e^{- \\frac{U}{T}} e^{2 \\frac{\\mu}{T}}}{T^{2}}\\right) \\left(2 \\frac{T \\left(1 - e^{- \\frac{U}{T}}\\right) e^{2 \\frac{\\mu}{T}}}{U} + e^{\\frac{\\mu}{T}} + e^{- \\frac{U}{T}} e^{3 \\frac{\\mu}{T}}\\right)}{T \\left(2 e^{\\frac{\\mu}{T}} + 1 + e^{- \\frac{U}{T}} e^{2 \\frac{\\mu}{T}}\\right)^{3}} + 6.0 \\frac{t^{2} \\left(- 6 \\frac{e^{\\frac{\\mu}{T}}}{T} - 6 \\frac{e^{- \\frac{U}{T}} e^{2 \\frac{\\mu}{T}}}{T}\\right) \\left(- 4 \\frac{e^{\\frac{\\mu}{T}}}{T} - 4 \\frac{e^{- \\frac{U}{T}} e^{2 \\frac{\\mu}{T}}}{T}\\right) \\left(2 \\frac{T \\left(1 - e^{- \\frac{U}{T}}\\right) e^{2 \\frac{\\mu}{T}}}{U} + e^{\\frac{\\mu}{T}} + e^{- \\frac{U}{T}} e^{3 \\frac{\\mu}{T}}\\right)}{T \\left(2 e^{\\frac{\\mu}{T}} + 1 + e^{- \\frac{U}{T}} e^{2 \\frac{\\mu}{T}}\\right)^{4}} + 12.0 \\frac{t^{2} \\left(- 4 \\frac{e^{\\frac{\\mu}{T}}}{T} - 4 \\frac{e^{- \\frac{U}{T}} e^{2 \\frac{\\mu}{T}}}{T}\\right) \\left(4 \\frac{\\left(1 - e^{- \\frac{U}{T}}\\right) e^{2 \\frac{\\mu}{T}}}{U} + \\frac{e^{\\frac{\\mu}{T}}}{T} + 3 \\frac{e^{- \\frac{U}{T}} e^{3 \\frac{\\mu}{T}}}{T}\\right)}{T \\left(2 e^{\\frac{\\mu}{T}} + 1 + e^{- \\frac{U}{T}} e^{2 \\frac{\\mu}{T}}\\right)^{3}} + 6.0 \\frac{t^{2} \\left(8 \\frac{\\left(1 - e^{- \\frac{U}{T}}\\right) e^{2 \\frac{\\mu}{T}}}{T U} + \\frac{e^{\\frac{\\mu}{T}}}{T^{2}} + 9 \\frac{e^{- \\frac{U}{T}} e^{3 \\frac{\\mu}{T}}}{T^{2}}\\right)}{T \\left(2 e^{\\frac{\\mu}{T}} + 1 + e^{- \\frac{U}{T}} e^{2 \\frac{\\mu}{T}}\\right)^{2}}\\right)$$"
       ],
       "metadata": {},
       "output_type": "pyout",
       "png": "[encoded data removed]",
       "prompt_number": 8,
       "text": [
        "  \u239b  \u239b   \\mu      -U  2\u22c5\\mu\u239e                                                  \n",
        "  \u239c  \u239c   \u2500\u2500\u2500      \u2500\u2500  \u2500\u2500\u2500\u2500\u2500\u239f     \u239b     \\mu      -U  2\u22c5\\mu\u239e \u239b   \\mu      -U  2\u22c5\n",
        "  \u239c  \u239c    T       T     T  \u239f     \u239c     \u2500\u2500\u2500      \u2500\u2500  \u2500\u2500\u2500\u2500\u2500\u239f \u239c   \u2500\u2500\u2500      \u2500\u2500  \u2500\u2500\n",
        "  \u239c  \u239c2\u22c5\u212f      4\u22c5\u212f  \u22c5\u212f     \u239f     \u239c      T       T     T  \u239f \u239c    T       T     \n",
        "  \u239cT\u22c5\u239c\u2500\u2500\u2500\u2500\u2500\u2500 + \u2500\u2500\u2500\u2500\u2500\u2500\u2500\u2500\u2500\u2500\u2500\u2500\u239f     \u239c  2\u22c5\u212f      2\u22c5\u212f  \u22c5\u212f     \u239f \u239c2\u22c5\u212f      2\u22c5\u212f  \u22c5\u212f  \n",
        "  \u239c  \u239c   2           2     \u239f   T\u22c5\u239c- \u2500\u2500\u2500\u2500\u2500\u2500 - \u2500\u2500\u2500\u2500\u2500\u2500\u2500\u2500\u2500\u2500\u2500\u2500\u239f\u22c5\u239c\u2500\u2500\u2500\u2500\u2500\u2500 + \u2500\u2500\u2500\u2500\u2500\u2500\u2500\u2500\u2500\n",
        "  \u239c  \u239d  T           T      \u23a0     \u239d    T           T      \u23a0 \u239d  T           T   \n",
        "T\u22c5\u239c\u2500\u2500\u2500\u2500\u2500\u2500\u2500\u2500\u2500\u2500\u2500\u2500\u2500\u2500\u2500\u2500\u2500\u2500\u2500\u2500\u2500\u2500\u2500\u2500\u2500 + \u2500\u2500\u2500\u2500\u2500\u2500\u2500\u2500\u2500\u2500\u2500\u2500\u2500\u2500\u2500\u2500\u2500\u2500\u2500\u2500\u2500\u2500\u2500\u2500\u2500\u2500\u2500\u2500\u2500\u2500\u2500\u2500\u2500\u2500\u2500\u2500\u2500\u2500\u2500\u2500\u2500\u2500\u2500\u2500\u2500\u2500\u2500\n",
        "  \u239c    \\mu        -U  2\u22c5\\mu                                          2        \n",
        "  \u239c    \u2500\u2500\u2500        \u2500\u2500  \u2500\u2500\u2500\u2500\u2500                 \u239b   \\mu        -U  2\u22c5\\mu\u239e         \n",
        "  \u239c     T         T     T                   \u239c   \u2500\u2500\u2500        \u2500\u2500  \u2500\u2500\u2500\u2500\u2500\u239f         \n",
        "  \u239c 2\u22c5\u212f    + 1 + \u212f  \u22c5\u212f                      \u239c    T         T     T  \u239f         \n",
        "  \u239d                                         \u239d2\u22c5\u212f    + 1 + \u212f  \u22c5\u212f     \u23a0         \n",
        "\n",
        "              \u239b     \\mu      -U  2\u22c5\\mu\u239e \u239b    \u239b     -U\u239e  2\u22c5\\mu                 \n",
        "\\mu\u239e          \u239c     \u2500\u2500\u2500      \u2500\u2500  \u2500\u2500\u2500\u2500\u2500\u239f \u239c    \u239c     \u2500\u2500\u239f  \u2500\u2500\u2500\u2500\u2500    \\mu    -U  3\u22c5\n",
        "\u2500\u2500\u2500\u239f          \u239c      T       T     T  \u239f \u239c    \u239c     T \u239f    T      \u2500\u2500\u2500    \u2500\u2500  \u2500\u2500\n",
        "T  \u239f        2 \u239c  4\u22c5\u212f      8\u22c5\u212f  \u22c5\u212f     \u239f \u239c2\u22c5T\u22c5\u239d1 - \u212f  \u23a0\u22c5\u212f          T     T     \n",
        "   \u239f   6.0\u22c5t \u22c5\u239c- \u2500\u2500\u2500\u2500\u2500\u2500 - \u2500\u2500\u2500\u2500\u2500\u2500\u2500\u2500\u2500\u2500\u2500\u2500\u239f\u22c5\u239c\u2500\u2500\u2500\u2500\u2500\u2500\u2500\u2500\u2500\u2500\u2500\u2500\u2500\u2500\u2500\u2500\u2500\u2500\u2500\u2500 + \u212f    + \u212f  \u22c5\u212f  \n",
        "\u2500\u2500\u2500\u239f          \u239c     2           2     \u239f \u239d         U                           \n",
        "   \u23a0          \u239d    T           T      \u23a0                                       \n",
        "\u2500\u2500\u2500\u2500 + \u2500\u2500\u2500\u2500\u2500\u2500\u2500\u2500\u2500\u2500\u2500\u2500\u2500\u2500\u2500\u2500\u2500\u2500\u2500\u2500\u2500\u2500\u2500\u2500\u2500\u2500\u2500\u2500\u2500\u2500\u2500\u2500\u2500\u2500\u2500\u2500\u2500\u2500\u2500\u2500\u2500\u2500\u2500\u2500\u2500\u2500\u2500\u2500\u2500\u2500\u2500\u2500\u2500\u2500\u2500\u2500\u2500\u2500\u2500\u2500\u2500\u2500\u2500\u2500\u2500\u2500\u2500\u2500\u2500\u2500\u2500\n",
        "                                                          3                   \n",
        "                                 \u239b   \\mu        -U  2\u22c5\\mu\u239e                    \n",
        "                                 \u239c   \u2500\u2500\u2500        \u2500\u2500  \u2500\u2500\u2500\u2500\u2500\u239f                    \n",
        "                                 \u239c    T         T     T  \u239f                    \n",
        "                               T\u22c5\u239d2\u22c5\u212f    + 1 + \u212f  \u22c5\u212f     \u23a0                    \n",
        "\n",
        "   \u239e                                                                          \n",
        "\\mu\u239f          \u239b     \\mu      -U  2\u22c5\\mu\u239e \u239b     \\mu      -U  2\u22c5\\mu\u239e \u239b    \u239b     -\n",
        "\u2500\u2500\u2500\u239f          \u239c     \u2500\u2500\u2500      \u2500\u2500  \u2500\u2500\u2500\u2500\u2500\u239f \u239c     \u2500\u2500\u2500      \u2500\u2500  \u2500\u2500\u2500\u2500\u2500\u239f \u239c    \u239c     \u2500\n",
        "T  \u239f          \u239c      T       T     T  \u239f \u239c      T       T     T  \u239f \u239c    \u239c     T\n",
        "   \u239f        2 \u239c  6\u22c5\u212f      6\u22c5\u212f  \u22c5\u212f     \u239f \u239c  4\u22c5\u212f      4\u22c5\u212f  \u22c5\u212f     \u239f \u239c2\u22c5T\u22c5\u239d1 - \u212f \n",
        "   \u23a0   6.0\u22c5t \u22c5\u239c- \u2500\u2500\u2500\u2500\u2500\u2500 - \u2500\u2500\u2500\u2500\u2500\u2500\u2500\u2500\u2500\u2500\u2500\u2500\u239f\u22c5\u239c- \u2500\u2500\u2500\u2500\u2500\u2500 - \u2500\u2500\u2500\u2500\u2500\u2500\u2500\u2500\u2500\u2500\u2500\u2500\u239f\u22c5\u239c\u2500\u2500\u2500\u2500\u2500\u2500\u2500\u2500\u2500\u2500\u2500\n",
        "              \u239d    T           T      \u23a0 \u239d    T           T      \u23a0 \u239d         U \n",
        "\u2500\u2500\u2500\u2500 + \u2500\u2500\u2500\u2500\u2500\u2500\u2500\u2500\u2500\u2500\u2500\u2500\u2500\u2500\u2500\u2500\u2500\u2500\u2500\u2500\u2500\u2500\u2500\u2500\u2500\u2500\u2500\u2500\u2500\u2500\u2500\u2500\u2500\u2500\u2500\u2500\u2500\u2500\u2500\u2500\u2500\u2500\u2500\u2500\u2500\u2500\u2500\u2500\u2500\u2500\u2500\u2500\u2500\u2500\u2500\u2500\u2500\u2500\u2500\u2500\u2500\u2500\u2500\u2500\u2500\u2500\u2500\u2500\u2500\u2500\u2500\n",
        "                                                                       4      \n",
        "                                              \u239b   \\mu        -U  2\u22c5\\mu\u239e       \n",
        "                                              \u239c   \u2500\u2500\u2500        \u2500\u2500  \u2500\u2500\u2500\u2500\u2500\u239f       \n",
        "                                              \u239c    T         T     T  \u239f       \n",
        "                                            T\u22c5\u239d2\u22c5\u212f    + 1 + \u212f  \u22c5\u212f     \u23a0       \n",
        "\n",
        "                                                                              \n",
        "U\u239e  2\u22c5\\mu                    \u239e           \u239b     \\mu      -U  2\u22c5\\mu\u239e \u239b  \u239b     -U\n",
        "\u2500\u239f  \u2500\u2500\u2500\u2500\u2500    \\mu    -U  3\u22c5\\mu\u239f           \u239c     \u2500\u2500\u2500      \u2500\u2500  \u2500\u2500\u2500\u2500\u2500\u239f \u239c  \u239c     \u2500\u2500\n",
        " \u239f    T      \u2500\u2500\u2500    \u2500\u2500  \u2500\u2500\u2500\u2500\u2500\u239f           \u239c      T       T     T  \u239f \u239c  \u239c     T \n",
        " \u23a0\u22c5\u212f          T     T     T  \u239f         2 \u239c  4\u22c5\u212f      4\u22c5\u212f  \u22c5\u212f     \u239f \u239c4\u22c5\u239d1 - \u212f  \n",
        "\u2500\u2500\u2500\u2500\u2500\u2500\u2500\u2500\u2500 + \u212f    + \u212f  \u22c5\u212f     \u239f   12.0\u22c5t \u22c5\u239c- \u2500\u2500\u2500\u2500\u2500\u2500 - \u2500\u2500\u2500\u2500\u2500\u2500\u2500\u2500\u2500\u2500\u2500\u2500\u239f\u22c5\u239c\u2500\u2500\u2500\u2500\u2500\u2500\u2500\u2500\u2500\u2500\n",
        "                             \u23a0           \u239d    T           T      \u23a0 \u239d        U \n",
        "\u2500\u2500\u2500\u2500\u2500\u2500\u2500\u2500\u2500\u2500\u2500\u2500\u2500\u2500\u2500\u2500\u2500\u2500\u2500\u2500\u2500\u2500\u2500\u2500\u2500\u2500\u2500\u2500\u2500\u2500 + \u2500\u2500\u2500\u2500\u2500\u2500\u2500\u2500\u2500\u2500\u2500\u2500\u2500\u2500\u2500\u2500\u2500\u2500\u2500\u2500\u2500\u2500\u2500\u2500\u2500\u2500\u2500\u2500\u2500\u2500\u2500\u2500\u2500\u2500\u2500\u2500\u2500\u2500\u2500\u2500\u2500\u2500\u2500\u2500\u2500\n",
        "                                                                              \n",
        "                                                           \u239b   \\mu        -U  \n",
        "                                                           \u239c   \u2500\u2500\u2500        \u2500\u2500  \n",
        "                                                           \u239c    T         T   \n",
        "                                                         T\u22c5\u239d2\u22c5\u212f    + 1 + \u212f  \u22c5\u212f\n",
        "\n",
        "                                         \u239b  \u239b     -U\u239e  2\u22c5\\mu    \\mu      -U  3\n",
        "\u239e  2\u22c5\\mu    \\mu      -U  3\u22c5\\mu\u239e          \u239c  \u239c     \u2500\u2500\u239f  \u2500\u2500\u2500\u2500\u2500    \u2500\u2500\u2500      \u2500\u2500  \u2500\n",
        "\u239f  \u2500\u2500\u2500\u2500\u2500    \u2500\u2500\u2500      \u2500\u2500  \u2500\u2500\u2500\u2500\u2500\u239f          \u239c  \u239c     T \u239f    T       T       T    \n",
        "\u239f    T       T       T     T  \u239f        2 \u239c8\u22c5\u239d1 - \u212f  \u23a0\u22c5\u212f        \u212f      9\u22c5\u212f  \u22c5\u212f \n",
        "\u23a0\u22c5\u212f        \u212f      3\u22c5\u212f  \u22c5\u212f     \u239f   6.0\u22c5t \u22c5\u239c\u2500\u2500\u2500\u2500\u2500\u2500\u2500\u2500\u2500\u2500\u2500\u2500\u2500\u2500\u2500\u2500\u2500\u2500 + \u2500\u2500\u2500\u2500 + \u2500\u2500\u2500\u2500\u2500\u2500\u2500\u2500\n",
        "\u2500\u2500\u2500\u2500\u2500\u2500\u2500\u2500 + \u2500\u2500\u2500\u2500 + \u2500\u2500\u2500\u2500\u2500\u2500\u2500\u2500\u2500\u2500\u2500\u2500\u239f          \u239c       T\u22c5U             2          2 \n",
        "            T          T      \u23a0          \u239d                      T          T  \n",
        "\u2500\u2500\u2500\u2500\u2500\u2500\u2500\u2500\u2500\u2500\u2500\u2500\u2500\u2500\u2500\u2500\u2500\u2500\u2500\u2500\u2500\u2500\u2500\u2500\u2500\u2500\u2500\u2500\u2500\u2500\u2500 + \u2500\u2500\u2500\u2500\u2500\u2500\u2500\u2500\u2500\u2500\u2500\u2500\u2500\u2500\u2500\u2500\u2500\u2500\u2500\u2500\u2500\u2500\u2500\u2500\u2500\u2500\u2500\u2500\u2500\u2500\u2500\u2500\u2500\u2500\u2500\u2500\u2500\u2500\u2500\u2500\u2500\u2500\u2500\u2500\n",
        "      3                                                                 2     \n",
        "2\u22c5\\mu\u239e                                         \u239b   \\mu        -U  2\u22c5\\mu\u239e      \n",
        "\u2500\u2500\u2500\u2500\u2500\u239f                                         \u239c   \u2500\u2500\u2500        \u2500\u2500  \u2500\u2500\u2500\u2500\u2500\u239f      \n",
        "  T  \u239f                                         \u239c    T         T     T  \u239f      \n",
        "     \u23a0                                       T\u22c5\u239d2\u22c5\u212f    + 1 + \u212f  \u22c5\u212f     \u23a0      \n",
        "\n",
        "\u22c5\\mu\u239e\u239e\n",
        "\u2500\u2500\u2500\u2500\u239f\u239f\n",
        " T  \u239f\u239f\n",
        "    \u239f\u239f\n",
        "\u2500\u2500\u2500\u2500\u239f\u239f\n",
        "    \u239f\u239f\n",
        "    \u23a0\u239f\n",
        "\u2500\u2500\u2500\u2500\u2500\u239f\n",
        "     \u239f\n",
        "     \u239f\n",
        "     \u239f\n",
        "     \u239f\n",
        "     \u23a0"
       ]
      }
     ],
     "prompt_number": 8
    },
    {
     "cell_type": "markdown",
     "metadata": {},
     "source": [
      "## Defining numpy functions to obtain solutions"
     ]
    },
    {
     "cell_type": "code",
     "collapsed": false,
     "input": [
      "Temperature = 2.4\n",
      "tval = 1.0\n",
      "muval = 10.\n",
      "Uval = 20. \n",
      "dens = Density.subs(( (T, Temperature), (t,tval), (mu,muval), (U,Uval) ))\n",
      "part0 = z0.subs( ( (T, Temperature), (t,tval), (mu,muval), (U,Uval) ))\n",
      "doub = Doublons.subs( ( (T, Temperature), (t,tval), (mu,muval), (U,Uval) ))\n",
      "entr = Entropy.subs( ( (T, Temperature), (t,tval), (mu,muval), (U,Uval) ))\n",
      "\n",
      "print dens\n",
      "print part0\n",
      "print doub\n",
      "print entr"
     ],
     "language": "python",
     "metadata": {},
     "outputs": [
      {
       "output_type": "stream",
       "stream": "stdout",
       "text": [
        "1.00000000000000\n",
        "131.000186129712\n",
        "0.0177605167003591\n",
        "0.788114533748191\n"
       ]
      }
     ],
     "prompt_number": 35
    },
    {
     "cell_type": "code",
     "collapsed": false,
     "input": [
      "t0 = Density.as_ordered_terms()[0]\n",
      "t1 = Density.as_ordered_terms()[1]\n",
      "t2 = Density.as_ordered_terms()[2]\n",
      "\n",
      "print t0.subs( ( (T, Temperature), (t,tval), (mu,muval), (U,Uval) ))\n",
      "print t1.subs( ( (T, Temperature), (t,tval), (mu,muval), (U,Uval) ))\n",
      "print t2.subs( ( (T, Temperature), (t,tval), (mu,muval), (U,Uval) ))\n"
     ],
     "language": "python",
     "metadata": {},
     "outputs": [
      {
       "output_type": "stream",
       "stream": "stdout",
       "text": [
        "1.00000000000000\n",
        "-0.136843698918206\n",
        "0.136843698918206\n"
       ]
      }
     ],
     "prompt_number": 24
    },
    {
     "cell_type": "code",
     "collapsed": false,
     "input": [
      "def htse_dens( T, t, mu, U ):\n",
      "    z0  = 2.*np.exp(mu/T)  + np.exp(-U/T + 2.*mu/T)  + 1. \n",
      "    \n",
      "    \n",
      "    term1 = ( 2.*np.exp(mu/T) + 2.*np.exp(-U/T + 2.*mu/T) ) / z0 \n",
      "    term2 = 6.*((t/T)**2.)*(-4.*np.exp(mu/T) - 4.*np.exp(-U/T + 2.*mu/T) ) * \\\n",
      "                           ( 2.*T*(1-np.exp(-U/t))*np.exp(2.*mu/T) / U + np.exp( mu/T ) + np.exp( -U/T + 3.*mu/T)) \\\n",
      "                      / z0**3.\n",
      "    term3 = 6.*((t/T)**2.)*(4.*T*(1-np.exp(-U/T))*np.exp(2.*mu/T)/U + np.exp(mu/T) + 3.*np.exp( -U/T + 3.*mu/T) ) \\\n",
      "                      / z0**2.\n",
      "        \n",
      "    #print z0    \n",
      "    #print term1\n",
      "    #print term2\n",
      "    #print term3 \n",
      "    return  term1 + term2 + term3\n",
      "\n",
      "def htse_doub( T, t, mu, U ):\n",
      "    z0  = 2.*np.exp(mu/T)  + np.exp(-U/T + 2.*mu/T)  + 1. \n",
      "    \n",
      "    \n",
      "    term1 = np.exp(-U/T + 2.*mu/T) / z0 \n",
      "    term2 = -6.*((t/T)**2.)*( -2.*(T**2.)*(1-np.exp(-U/T))*np.exp(2.*mu/T) / (U**2.) + \\\n",
      "                              2.*np.exp(-U/T+2.*mu/T)*T/U - np.exp(-U/T+3.*mu/T) ) \\\n",
      "                 / z0**2. \n",
      "    term3 = -12.*((t/T)**2.)*( 2.*T*(1-np.exp(-U/T))*np.exp(2.*mu/T) / U  + np.exp(mu/T) + np.exp(-U/T+3.*mu/T) ) *\\\n",
      "                             np.exp(-U/T+2.*mu/T) \\\n",
      "                 / z0**3. \n",
      "            \n",
      "    \n",
      "    #print z0    \n",
      "    #print term1\n",
      "    #print term2\n",
      "    #print term3 \n",
      "    return  term1 + term2 + term3\n",
      "\n",
      "\n",
      "def htse_entr( T, t, mu, U ):\n",
      "    z0  = 2.*np.exp(mu/T)  + np.exp(-U/T + 2.*mu/T)  + 1. \n",
      "    \n",
      "    term0 = (  U*np.exp(-U/T+2.*mu/T) - 2.*mu*np.exp(mu/T) - 2.*mu*np.exp(-U/T+2.*mu/T) ) / T / z0\n",
      "    term1 = np.log( z0 ) \n",
      "    term2 = 6. * ((t/T)**2.) * ( -2.*U*np.exp(-U/T+2.*mu/T)/T + 4.*mu*np.exp(mu/T)/T + 4.*mu*np.exp(-U/T+2.*mu/T)/T) \\\n",
      "                             * ( 2.*T*(1-np.exp(-U/T))*np.exp(2.*mu/T)/U  + np.exp(mu/T) + np.exp(-U/T+3.*mu/T) ) \\\n",
      "                         / z0**3. \n",
      "    term3 = 6. * ((t/T)**2.) * ( 2.*(1-np.exp(-U/T))*np.exp(2.*mu/T)*T/U - 2.*np.exp(-U/T+2.*mu/T) \\\n",
      "                                 -4.*mu*(1-np.exp(-U/T))*np.exp(2.*mu/T)/U + U*np.exp(-U/T+3.*mu/T)/T \\\n",
      "                                 -mu*np.exp(mu/T)/T - 3.*mu*np.exp(-U/T+3.*mu/T)/T ) \\\n",
      "                         / z0**2. \n",
      "    term4 = -6. * ((t/T)**2.) * (2.*T*(1-np.exp(-U/T))*np.exp(2.*mu/T)/U + np.exp(mu/T) + np.exp(-U/T+3.*mu/T) ) \\\n",
      "                         / z0**2. \n",
      "    \n",
      "    #print z0   \n",
      "    #print term0\n",
      "    #print term1\n",
      "    #print term2\n",
      "    #print term3\n",
      "    #print term4\n",
      "    return  term0 + term1 + term2 + term3 + term4\n",
      "\n",
      "\n",
      "\n",
      "\n",
      "print htse_dens( 2.4, 1., 10., 20.)\n",
      "print htse_doub( 2.4, 1., 10., 20.)\n",
      "print htse_entr( 2.4, 1., 10., 20.)\n"
     ],
     "language": "python",
     "metadata": {},
     "outputs": [
      {
       "output_type": "stream",
       "stream": "stdout",
       "text": [
        "0.999970864501\n",
        "0.0177605167004\n",
        "0.788114533748\n"
       ]
      }
     ],
     "prompt_number": 49
    },
    {
     "cell_type": "code",
     "collapsed": false,
     "input": [
      "%%timeit \n",
      "\n",
      "htse_dens( 2.4, 1., 10., 20.)"
     ],
     "language": "python",
     "metadata": {},
     "outputs": [
      {
       "output_type": "stream",
       "stream": "stdout",
       "text": [
        "10000 loops, best of 3: 50.8 \u00b5s per loop\n"
       ]
      }
     ],
     "prompt_number": 50
    },
    {
     "cell_type": "code",
     "collapsed": false,
     "input": [],
     "language": "python",
     "metadata": {},
     "outputs": []
    }
   ],
   "metadata": {}
  }
 ]
}