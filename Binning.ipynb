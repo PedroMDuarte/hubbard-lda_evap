{
 "metadata": {
  "name": "",
  "signature": "sha256:903c60aa5181ad8f0f49f70f48dcf575b5943ea4ba713d3d9a826e4ce92fd178"
 },
 "nbformat": 3,
 "nbformat_minor": 0,
 "worksheets": [
  {
   "cells": [
    {
     "cell_type": "markdown",
     "metadata": {},
     "source": [
      "# Matching all Ns and the density at $380a_{0}$.  \n",
      "# $S/N = 1.7 k_{\\mathrm{b}}$,    $\\alpha=1.175$,    $7E_{R}$"
     ]
    },
    {
     "cell_type": "code",
     "collapsed": false,
     "input": [
      "import scubic\n",
      "import lda\n",
      "    \n",
      "\n",
      "profs = [ \n",
      "        #0\n",
      "        {'wIR':47.,\\\n",
      "         'wGR':47./1.175,\\\n",
      "         'g0':3.66,\\\n",
      "         's0':7.,\\\n",
      "         'extents':35.,\\\n",
      "         'T':0.087,\\\n",
      "         'aS':80.,\\\n",
      "         'mu0':0.190,\\\n",
      "         'direc':'111'\n",
      "        },\n",
      "        #1\n",
      "        {'wIR':47.,\\\n",
      "         'wGR':47./1.175,\\\n",
      "         'g0':3.66,\\\n",
      "         's0':7.,\\\n",
      "         'extents':35.,\\\n",
      "         'T':0.089,\\\n",
      "         'aS':200.,\\\n",
      "         'mu0':0.238,\\\n",
      "         'direc':'111'\n",
      "        },\n",
      "        #2\n",
      "        {'wIR':47.,\\\n",
      "         'wGR':47./1.175,\\\n",
      "         'g0':3.66,\\\n",
      "         's0':7.,\\\n",
      "         'extents':35.,\\\n",
      "         'T':0.092,\\\n",
      "         'aS':290.,\\\n",
      "         'mu0':0.267,\\\n",
      "         'direc':'111'\n",
      "        },\n",
      "        #3\n",
      "        {'wIR':47.,\\\n",
      "         'wGR':47./1.175,\\\n",
      "         'g0':3.66,\\\n",
      "         's0':7.,\\\n",
      "         'extents':35.,\\\n",
      "         'T':0.095,\\\n",
      "         'aS':380.,\\\n",
      "         'mu0':'halfMott',\\\n",
      "         'direc':'111'\n",
      "        },\n",
      "        #4\n",
      "        {'wIR':47.,\\\n",
      "         'wGR':47./1.175,\\\n",
      "         'g0':3.66,\\\n",
      "         's0':7.,\\\n",
      "         'extents':35.,\\\n",
      "         'T':0.0985,\\\n",
      "         'aS':470.,\\\n",
      "         'mu0':0.2995,\\\n",
      "         #'mu0':'halfMott',\\\n",
      "         'direc':'111'\n",
      "        },\n",
      "        #5\n",
      "        {'wIR':47.,\\\n",
      "         'wGR':47./1.175,\\\n",
      "         'g0':3.66,\\\n",
      "         's0':7.,\\\n",
      "         'extents':35.,\\\n",
      "         'T':0.101,\\\n",
      "         'aS':560.,\\\n",
      "         'mu0':0.314,\\\n",
      "         #'mu0':'halfMott',\\\n",
      "         'direc':'111'\n",
      "        },\n",
      "\n",
      "]\n",
      "\n",
      "\n",
      "\n",
      "\n",
      "\n",
      "tags = range(len(profs)) \n",
      "tags = [5] \n",
      "\n",
      "x = []\n",
      "y = [] \n",
      "d = [] \n",
      "for tag in tags:\n",
      "    print '\\n',tag\n",
      "\n",
      "    s       = profs[tag]['s0']\n",
      "    g       = profs[tag]['g0']\n",
      "    wIR     = profs[tag]['wIR']\n",
      "    wGR     = profs[tag]['wGR']\n",
      "    T       = profs[tag]['T'] \n",
      "    extents = profs[tag]['extents']\n",
      "    direc   = profs[tag]['direc'] \n",
      "    aS      = profs[tag].get('aS',650.)\n",
      "    mu0     = profs[tag].get('mu0','halfMott')\n",
      "    x2lims  = profs[tag].get('x2lims', (-40.,40.))\n",
      "    y2lims  = profs[tag].get('y2lims', (0.,1.3))\n",
      "    \n",
      "    pot = scubic.sc(allIR=s, allGR=g, allIRw=wIR, allGRw=wGR)\n",
      "    test = lda.lda(potential = pot, Temperature=T, a_s=aS, extents=extents, globalMu=mu0, verbose=True, \\\n",
      "                   ignoreExtents=False, ignoreSlopeErrors=True, ignoreMuThreshold=True)\n",
      "    fig = lda.plotLine( test , line_direction=direc, extents=extents, \\\n",
      "                       x1lims=(-50.,50.), x2lims=x2lims, y2lims=y2lims, y3lims=(0.,24.)) \n",
      "    print test.getRadius()/wIR\n",
      "    print test.Number\n",
      "    plt.close()\n",
      "    fig.savefig('Binning/profiles/1p7_117_7Er_Match_380/%03d.png'%tag, dpi=300)\n",
      "    \n",
      "    x.append( aS ) \n",
      "    y.append( test.Number ) \n",
      "    d.append( test.PeakD)\n",
      "    \n",
      "#np.savetxt( 'BraggNumber/1p7_a=1.17_7Er_Match_380.dat', np.column_stack( ( np.array(x), np.array(y), np.array(d) ) ) ) "
     ],
     "language": "python",
     "metadata": {},
     "outputs": [
      {
       "output_type": "stream",
       "stream": "stdout",
       "text": [
        "\n",
        "5\n",
        "OK: Bottom of the band has positive slope up to r111 = 10 um\n",
        "bandOrigin = -13.91\n",
        "band100 = -4.64\n",
        "0.245369142754\n",
        "OK: Chemical potential is below evaporation threshold.\n",
        "OK: Chemical potential is below the bottom of the band along 100\n",
        "OK: Radial density profile along 111 decreases monotonically.\n",
        "0.399186286934"
       ]
      },
      {
       "output_type": "stream",
       "stream": "stdout",
       "text": [
        "\n",
        "192733.044628\n"
       ]
      }
     ],
     "prompt_number": 16
    },
    {
     "cell_type": "markdown",
     "metadata": {},
     "source": [
      "# Binning V1"
     ]
    },
    {
     "cell_type": "code",
     "collapsed": false,
     "input": [
      "import scubic\n",
      "import lda\n",
      "    \n",
      "\n",
      "profs = [ \n",
      "        #0\n",
      "        {'wIR':47.,\\\n",
      "         'wGR':47./1.175,\\\n",
      "         'g0':3.66,\\\n",
      "         's0':7.,\\\n",
      "         'extents':35.,\\\n",
      "         'T':0.087,\\\n",
      "         'aS':80.,\\\n",
      "         'mu0':0.190,\\\n",
      "         'direc':'111'\n",
      "        },\n",
      "        #1\n",
      "        {'wIR':47.,\\\n",
      "         'wGR':47./1.175,\\\n",
      "         'g0':3.66,\\\n",
      "         's0':7.,\\\n",
      "         'extents':35.,\\\n",
      "         'T':0.089,\\\n",
      "         'aS':200.,\\\n",
      "         'mu0':0.238,\\\n",
      "         'direc':'111'\n",
      "        },\n",
      "        #2\n",
      "        {'wIR':47.,\\\n",
      "         'wGR':47./1.175,\\\n",
      "         'g0':3.66,\\\n",
      "         's0':7.,\\\n",
      "         'extents':35.,\\\n",
      "         'T':0.092,\\\n",
      "         'aS':290.,\\\n",
      "         'mu0':0.267,\\\n",
      "         'direc':'111'\n",
      "        },\n",
      "        #3\n",
      "        {'wIR':47.,\\\n",
      "         'wGR':47./1.175,\\\n",
      "         'g0':3.66,\\\n",
      "         's0':7.,\\\n",
      "         'extents':35.,\\\n",
      "         'T':0.095,\\\n",
      "         'aS':380.,\\\n",
      "         'mu0':'halfMott',\\\n",
      "         'direc':'111'\n",
      "        },\n",
      "        #4\n",
      "        {'wIR':47.,\\\n",
      "         'wGR':47./1.175,\\\n",
      "         'g0':3.66,\\\n",
      "         's0':7.,\\\n",
      "         'extents':35.,\\\n",
      "         'T':0.0985,\\\n",
      "         'aS':470.,\\\n",
      "         'mu0':0.2995,\\\n",
      "         #'mu0':'halfMott',\\\n",
      "         'direc':'111'\n",
      "        },\n",
      "        #5\n",
      "        {'wIR':47.,\\\n",
      "         'wGR':47./1.175,\\\n",
      "         'g0':3.66,\\\n",
      "         's0':7.,\\\n",
      "         'extents':35.,\\\n",
      "         'T':0.101,\\\n",
      "         'aS':560.,\\\n",
      "         'mu0':0.314,\\\n",
      "         #'mu0':'halfMott',\\\n",
      "         'direc':'111'\n",
      "        },\n",
      "\n",
      "]\n",
      "\n",
      "\n",
      "\n",
      "\n",
      "tags = range(len(profs)) \n",
      "outs = [] \n",
      "\n",
      "for tag in tags:\n",
      "    print '\\n',tag\n",
      "    \n",
      "    s       = profs[tag]['s0']\n",
      "    g       = profs[tag]['g0']\n",
      "    wIR     = profs[tag]['wIR']\n",
      "    wGR     = profs[tag]['wGR']\n",
      "    T       = profs[tag]['T'] \n",
      "    extents = profs[tag]['extents']\n",
      "    direc   = profs[tag]['direc'] \n",
      "    aS      = profs[tag].get('aS',650.)\n",
      "    mu0     = profs[tag].get('mu0','halfMott')\n",
      "    x2lims  = profs[tag].get('x2lims', (-40.,40.))\n",
      "    y2lims  = profs[tag].get('y2lims', (0.,1.3))\n",
      "    \n",
      "    pot = scubic.sc(allIR=s, allGR=g, allIRw=wIR, allGRw=wGR)\n",
      "    lda0 = lda.lda(potential = pot, Temperature=T, a_s=aS, extents=extents, globalMu=mu0, verbose=True, \\\n",
      "                   ignoreExtents=False, ignoreSlopeErrors=True, ignoreMuThreshold=True)\n",
      "    \n",
      "    fig111, binresult, peak_dens, radius1e, peak_t, output = lda.CheckInhomog( lda0, closefig = True ) ;\n",
      "    fig111.savefig('Binning/bins/1p7_117_7Er_Match_380/%03d.png'%tag, dpi=300)\n",
      "    \n",
      "    outs.append( (aS, output))\n"
     ],
     "language": "python",
     "metadata": {},
     "outputs": [
      {
       "output_type": "stream",
       "stream": "stdout",
       "text": [
        "\n",
        "0\n",
        "OK: Bottom of the band has positive slope up to r111 = 10 um\n",
        "bandOrigin = -13.91\n",
        "band100 = -4.64\n",
        "0.245369142754\n",
        "OK: Chemical potential is below evaporation threshold.\n",
        "OK: Chemical potential is below the bottom of the band along 100\n",
        "OK: Radial density profile along 111 decreases monotonically.\n",
        "1.34866918059"
       ]
      },
      {
       "output_type": "stream",
       "stream": "stdout",
       "text": [
        "\n",
        "[1.3486691805945736, 1.2, 1.05, 0.95, 0.75, 0.5, 0.25]\n",
        "[1.2, 1.05, 0.95, 0.75, 0.5, 0.25, 0.0]\n",
        "[(1.2743345902972867, 6.0400224616287925), (1.125, 8.615058488388874), (1.0, 10.082957557465472), (0.85, 12.987149977485052), (0.625, 16.254473494889325), (0.375, 18.67207951099338)]"
       ]
      },
      {
       "output_type": "stream",
       "stream": "stdout",
       "text": [
        "\n",
        " Bins cut radii =  [6.0400224616287925, 8.615058488388874, 10.082957557465472, 12.987149977485052, 16.254473494889325, 18.67207951099338]\n",
        "Total natoms from adding bins =  1.0\n",
        "\n"
       ]
      },
      {
       "output_type": "stream",
       "stream": "stdout",
       "text": [
        "|   Atoms in bin |   n min |   n max |   Mean n |   Mean t |   Mean U |   Mean U/t |\n",
        "|----------------+---------+---------+----------+----------+----------+------------|\n",
        "|          0.057 |   1.200 |   1.349 |    1.260 |    0.040 |    0.119 |      2.951 |\n",
        "|          0.088 |   1.050 |   1.200 |    1.120 |    0.042 |    0.117 |      2.791 |\n",
        "|          0.081 |   0.950 |   1.050 |    1.000 |    0.043 |    0.115 |      2.648 |\n",
        "|          0.194 |   0.750 |   0.950 |    0.850 |    0.045 |    0.111 |      2.456 |\n",
        "|          0.270 |   0.500 |   0.750 |    0.640 |    0.049 |    0.106 |      2.165 |\n",
        "|          0.171 |   0.250 |   0.500 |    0.380 |    0.053 |    0.100 |      1.887 |\n",
        "|          0.139 |   0.000 |   0.250 |    0.120 |    0.060 |    0.092 |      1.554 |\n",
        "\n"
       ]
      },
      {
       "output_type": "stream",
       "stream": "stdout",
       "text": [
        "1\n",
        "OK: Bottom of the band has positive slope up to r111 = 10 um\n",
        "bandOrigin = -13.91\n",
        "band100 = -4.64\n",
        "0.245369142754\n",
        "OK: Chemical potential is below evaporation threshold.\n",
        "OK: Chemical potential is below the bottom of the band along 100\n",
        "OK: Radial density profile along 111 decreases monotonically.\n",
        "1.16442802751"
       ]
      },
      {
       "output_type": "stream",
       "stream": "stdout",
       "text": [
        "\n",
        "[1.1644280275054824, 1.05, 0.95, 0.75, 0.5, 0.25]\n",
        "[1.05, 0.95, 0.75, 0.5, 0.25, 0.0]\n",
        "[(1.1072140137527411, 7.375981432207716), (1.0, 10.021473406401789), (0.85, 13.52931666605565), (0.625, 17.061333704198812), (0.375, 19.709336260771128)]"
       ]
      },
      {
       "output_type": "stream",
       "stream": "stdout",
       "text": [
        "\n",
        " Bins cut radii =  [7.375981432207716, 10.021473406401789, 13.52931666605565, 17.061333704198812, 19.709336260771128]\n",
        "Total natoms from adding bins =  1.0\n",
        "\n"
       ]
      },
      {
       "output_type": "stream",
       "stream": "stdout",
       "text": [
        "|   Atoms in bin |   n min |   n max |   Mean n |   Mean t |   Mean U |   Mean U/t |\n",
        "|----------------+---------+---------+----------+----------+----------+------------|\n",
        "|          0.079 |   1.050 |   1.164 |    1.100 |    0.041 |    0.296 |      7.253 |\n",
        "|          0.108 |   0.950 |   1.050 |    1.000 |    0.043 |    0.288 |      6.713 |\n",
        "|          0.224 |   0.750 |   0.950 |    0.850 |    0.046 |    0.277 |      6.054 |\n",
        "|          0.277 |   0.500 |   0.750 |    0.620 |    0.050 |    0.261 |      5.221 |\n",
        "|          0.181 |   0.250 |   0.500 |    0.380 |    0.055 |    0.245 |      4.473 |\n",
        "|          0.132 |   0.000 |   0.250 |    0.120 |    0.062 |    0.225 |      3.639 |\n",
        "\n"
       ]
      },
      {
       "output_type": "stream",
       "stream": "stdout",
       "text": [
        "2\n",
        "OK: Bottom of the band has positive slope up to r111 = 10 um\n",
        "bandOrigin = -13.91\n",
        "band100 = -4.64\n",
        "0.245369142754\n",
        "OK: Chemical potential is below evaporation threshold.\n",
        "OK: Chemical potential is below the bottom of the band along 100\n",
        "OK: Radial density profile along 111 decreases monotonically.\n",
        "1.05395555319"
       ]
      },
      {
       "output_type": "stream",
       "stream": "stdout",
       "text": [
        "\n",
        "[1.0539555531887261, 1.05, 0.95, 0.75, 0.5, 0.25]\n",
        "[1.05, 0.95, 0.75, 0.5, 0.25, 0.0]\n",
        "[(1.051977776594363, 1.898084278349155), (1.0, 9.188074421651523), (0.85, 13.83896575502917), (0.625, 17.57223374254784), (0.375, 20.376590745470004)]"
       ]
      },
      {
       "output_type": "stream",
       "stream": "stdout",
       "text": [
        "\n",
        " Bins cut radii =  [1.898084278349155, 9.188074421651523, 13.83896575502917, 17.57223374254784, 20.376590745470004]\n",
        "Total natoms from adding bins =  1.0\n",
        "\n"
       ]
      },
      {
       "output_type": "stream",
       "stream": "stdout",
       "text": [
        "|   Atoms in bin |   n min |   n max |   Mean n |   Mean t |   Mean U |   Mean U/t |\n",
        "|----------------+---------+---------+----------+----------+----------+------------|\n",
        "|          0.001 |   1.050 |   1.054 |    1.050 |    0.040 |    0.437 |     11.044 |\n",
        "|          0.125 |   0.950 |   1.050 |    0.990 |    0.042 |    0.425 |     10.220 |\n",
        "|          0.261 |   0.750 |   0.950 |    0.860 |    0.046 |    0.402 |      8.847 |\n",
        "|          0.286 |   0.500 |   0.750 |    0.630 |    0.051 |    0.376 |      7.448 |\n",
        "|          0.195 |   0.250 |   0.500 |    0.390 |    0.056 |    0.351 |      6.290 |\n",
        "|          0.132 |   0.000 |   0.250 |    0.120 |    0.064 |    0.319 |      5.054 |\n",
        "\n"
       ]
      },
      {
       "output_type": "stream",
       "stream": "stdout",
       "text": [
        "3\n",
        "OK: Bottom of the band has positive slope up to r111 = 10 um\n",
        "bandOrigin = -13.91\n",
        "band100 = -4.64\n",
        "0.245369142754\n",
        "OK: Chemical potential is below evaporation threshold.\n",
        "OK: Chemical potential is below the bottom of the band along 100\n",
        "OK: Radial density profile along 111 decreases monotonically.\n",
        "0.999627935335"
       ]
      },
      {
       "output_type": "stream",
       "stream": "stdout",
       "text": [
        "\n",
        "[0.99962793533534744, 0.95, 0.75, 0.5, 0.25]\n",
        "[0.95, 0.75, 0.5, 0.25, 0.0]\n",
        "[(0.9748139676676737, 8.197386875158493), (0.85, 14.106190361371633), (0.625, 17.91209147654137), (0.375, 20.840284730745317)]"
       ]
      },
      {
       "output_type": "stream",
       "stream": "stdout",
       "text": [
        "\n",
        " Bins cut radii =  [8.197386875158493, 14.106190361371633, 17.91209147654137, 20.840284730745317]\n",
        "Total natoms from adding bins =  1.0\n",
        "\n"
       ]
      },
      {
       "output_type": "stream",
       "stream": "stdout",
       "text": [
        "|   Atoms in bin |   n min |   n max |   Mean n |   Mean t |   Mean U |   Mean U/t |\n",
        "|----------------+---------+---------+----------+----------+----------+------------|\n",
        "|          0.079 |   0.950 |   1.000 |    0.970 |    0.041 |    0.561 |     13.644 |\n",
        "|          0.299 |   0.750 |   0.950 |    0.860 |    0.045 |    0.529 |     11.693 |\n",
        "|          0.297 |   0.500 |   0.750 |    0.630 |    0.051 |    0.490 |      9.602 |\n",
        "|          0.192 |   0.250 |   0.500 |    0.380 |    0.057 |    0.455 |      8.034 |\n",
        "|          0.133 |   0.000 |   0.250 |    0.120 |    0.065 |    0.413 |      6.423 |\n",
        "\n"
       ]
      },
      {
       "output_type": "stream",
       "stream": "stdout",
       "text": [
        "4\n",
        "OK: Bottom of the band has positive slope up to r111 = 10 um\n",
        "bandOrigin = -13.91\n",
        "band100 = -4.64\n",
        "0.245369142754\n",
        "OK: Chemical potential is below evaporation threshold.\n",
        "OK: Chemical potential is below the bottom of the band along 100\n",
        "OK: Radial density profile along 111 decreases monotonically.\n",
        "0.979370670114"
       ]
      },
      {
       "output_type": "stream",
       "stream": "stdout",
       "text": [
        "\n",
        "[0.97937067011448964, 0.95, 0.75, 0.5, 0.25]\n",
        "[0.95, 0.75, 0.5, 0.25, 0.0]\n",
        "[(0.96468533505724485, 7.378239794422693), (0.85, 14.297068123889726), (0.625, 18.125306538625782), (0.375, 21.164076697789607)]"
       ]
      },
      {
       "output_type": "stream",
       "stream": "stdout",
       "text": [
        "\n",
        " Bins cut radii =  [7.378239794422693, 14.297068123889726, 18.125306538625782, 21.164076697789607]\n",
        "Total natoms from adding bins =  1.0\n",
        "\n"
       ]
      },
      {
       "output_type": "stream",
       "stream": "stdout",
       "text": [
        "|   Atoms in bin |   n min |   n max |   Mean n |   Mean t |   Mean U |   Mean U/t |\n",
        "|----------------+---------+---------+----------+----------+----------+------------|\n",
        "|          0.058 |   0.950 |   0.979 |    0.960 |    0.041 |    0.696 |     17.038 |\n",
        "|          0.318 |   0.750 |   0.950 |    0.860 |    0.045 |    0.655 |     14.488 |\n",
        "|          0.292 |   0.500 |   0.750 |    0.620 |    0.051 |    0.603 |     11.748 |\n",
        "|          0.190 |   0.250 |   0.500 |    0.390 |    0.057 |    0.560 |      9.807 |\n",
        "|          0.141 |   0.000 |   0.250 |    0.130 |    0.066 |    0.506 |      7.796 |\n",
        "\n"
       ]
      },
      {
       "output_type": "stream",
       "stream": "stdout",
       "text": [
        "5\n",
        "OK: Bottom of the band has positive slope up to r111 = 10 um\n",
        "bandOrigin = -13.91\n",
        "band100 = -4.64\n",
        "0.245369142754\n",
        "OK: Chemical potential is below evaporation threshold.\n",
        "OK: Chemical potential is below the bottom of the band along 100\n",
        "OK: Radial density profile along 111 decreases monotonically.\n",
        "0.974524223332"
       ]
      },
      {
       "output_type": "stream",
       "stream": "stdout",
       "text": [
        "\n",
        "[0.97452422333163768, 0.95, 0.75, 0.5, 0.25]\n",
        "[0.95, 0.75, 0.5, 0.25, 0.0]\n",
        "[(0.96226211166581876, 7.3354092094227825), (0.85, 14.595480781241267), (0.625, 18.400274044413457), (0.375, 21.495803892373434)]"
       ]
      },
      {
       "output_type": "stream",
       "stream": "stdout",
       "text": [
        "\n",
        " Bins cut radii =  [7.3354092094227825, 14.595480781241267, 18.400274044413457, 21.495803892373434]\n",
        "Total natoms from adding bins =  1.0\n",
        "\n"
       ]
      },
      {
       "output_type": "stream",
       "stream": "stdout",
       "text": [
        "|   Atoms in bin |   n min |   n max |   Mean n |   Mean t |   Mean U |   Mean U/t |\n",
        "|----------------+---------+---------+----------+----------+----------+------------|\n",
        "|          0.050 |   0.950 |   0.975 |    0.960 |    0.041 |    0.830 |     20.362 |\n",
        "|          0.341 |   0.750 |   0.950 |    0.860 |    0.046 |    0.777 |     17.117 |\n",
        "|          0.273 |   0.500 |   0.750 |    0.620 |    0.052 |    0.714 |     13.771 |\n",
        "|          0.200 |   0.250 |   0.500 |    0.390 |    0.058 |    0.662 |     11.468 |\n",
        "|          0.135 |   0.000 |   0.250 |    0.120 |    0.067 |    0.595 |      9.016 |\n"
       ]
      }
     ],
     "prompt_number": 1
    },
    {
     "cell_type": "code",
     "collapsed": false,
     "input": [
      "for o in outs:\n",
      "    print \"%03d a0\" % o[0]\n",
      "    print o[1]\n",
      "    print \"\\n\""
     ],
     "language": "python",
     "metadata": {},
     "outputs": [
      {
       "output_type": "stream",
       "stream": "stdout",
       "text": [
        "080 a0\n",
        "|   Atoms in bin |   n min |   n max |   Mean n |   Mean t |   Mean U |   Mean U/t |\n",
        "|----------------+---------+---------+----------+----------+----------+------------|\n",
        "|          0.057 |   1.200 |   1.349 |    1.260 |    0.040 |    0.119 |      2.951 |\n",
        "|          0.088 |   1.050 |   1.200 |    1.120 |    0.042 |    0.117 |      2.791 |\n",
        "|          0.081 |   0.950 |   1.050 |    1.000 |    0.043 |    0.115 |      2.648 |\n",
        "|          0.194 |   0.750 |   0.950 |    0.850 |    0.045 |    0.111 |      2.456 |\n",
        "|          0.270 |   0.500 |   0.750 |    0.640 |    0.049 |    0.106 |      2.165 |\n",
        "|          0.171 |   0.250 |   0.500 |    0.380 |    0.053 |    0.100 |      1.887 |\n",
        "|          0.139 |   0.000 |   0.250 |    0.120 |    0.060 |    0.092 |      1.554 |\n",
        "\n",
        "\n",
        "200 a0\n",
        "|   Atoms in bin |   n min |   n max |   Mean n |   Mean t |   Mean U |   Mean U/t |\n",
        "|----------------+---------+---------+----------+----------+----------+------------|\n",
        "|          0.079 |   1.050 |   1.164 |    1.100 |    0.041 |    0.296 |      7.253 |\n",
        "|          0.108 |   0.950 |   1.050 |    1.000 |    0.043 |    0.288 |      6.713 |\n",
        "|          0.224 |   0.750 |   0.950 |    0.850 |    0.046 |    0.277 |      6.054 |\n",
        "|          0.277 |   0.500 |   0.750 |    0.620 |    0.050 |    0.261 |      5.221 |\n",
        "|          0.181 |   0.250 |   0.500 |    0.380 |    0.055 |    0.245 |      4.473 |\n",
        "|          0.132 |   0.000 |   0.250 |    0.120 |    0.062 |    0.225 |      3.639 |\n",
        "\n",
        "\n",
        "290 a0\n",
        "|   Atoms in bin |   n min |   n max |   Mean n |   Mean t |   Mean U |   Mean U/t |\n",
        "|----------------+---------+---------+----------+----------+----------+------------|\n",
        "|          0.001 |   1.050 |   1.054 |    1.050 |    0.040 |    0.437 |     11.044 |\n",
        "|          0.125 |   0.950 |   1.050 |    0.990 |    0.042 |    0.425 |     10.220 |\n",
        "|          0.261 |   0.750 |   0.950 |    0.860 |    0.046 |    0.402 |      8.847 |\n",
        "|          0.286 |   0.500 |   0.750 |    0.630 |    0.051 |    0.376 |      7.448 |\n",
        "|          0.195 |   0.250 |   0.500 |    0.390 |    0.056 |    0.351 |      6.290 |\n",
        "|          0.132 |   0.000 |   0.250 |    0.120 |    0.064 |    0.319 |      5.054 |\n",
        "\n",
        "\n",
        "380 a0\n",
        "|   Atoms in bin |   n min |   n max |   Mean n |   Mean t |   Mean U |   Mean U/t |\n",
        "|----------------+---------+---------+----------+----------+----------+------------|\n",
        "|          0.079 |   0.950 |   1.000 |    0.970 |    0.041 |    0.561 |     13.644 |\n",
        "|          0.299 |   0.750 |   0.950 |    0.860 |    0.045 |    0.529 |     11.693 |\n",
        "|          0.297 |   0.500 |   0.750 |    0.630 |    0.051 |    0.490 |      9.602 |\n",
        "|          0.192 |   0.250 |   0.500 |    0.380 |    0.057 |    0.455 |      8.034 |\n",
        "|          0.133 |   0.000 |   0.250 |    0.120 |    0.065 |    0.413 |      6.423 |\n",
        "\n",
        "\n",
        "470 a0\n",
        "|   Atoms in bin |   n min |   n max |   Mean n |   Mean t |   Mean U |   Mean U/t |\n",
        "|----------------+---------+---------+----------+----------+----------+------------|\n",
        "|          0.058 |   0.950 |   0.979 |    0.960 |    0.041 |    0.696 |     17.038 |\n",
        "|          0.318 |   0.750 |   0.950 |    0.860 |    0.045 |    0.655 |     14.488 |\n",
        "|          0.292 |   0.500 |   0.750 |    0.620 |    0.051 |    0.603 |     11.748 |\n",
        "|          0.190 |   0.250 |   0.500 |    0.390 |    0.057 |    0.560 |      9.807 |\n",
        "|          0.141 |   0.000 |   0.250 |    0.130 |    0.066 |    0.506 |      7.796 |\n",
        "\n",
        "\n",
        "560 a0\n",
        "|   Atoms in bin |   n min |   n max |   Mean n |   Mean t |   Mean U |   Mean U/t |\n",
        "|----------------+---------+---------+----------+----------+----------+------------|\n",
        "|          0.050 |   0.950 |   0.975 |    0.960 |    0.041 |    0.830 |     20.362 |\n",
        "|          0.341 |   0.750 |   0.950 |    0.860 |    0.046 |    0.777 |     17.117 |\n",
        "|          0.273 |   0.500 |   0.750 |    0.620 |    0.052 |    0.714 |     13.771 |\n",
        "|          0.200 |   0.250 |   0.500 |    0.390 |    0.058 |    0.662 |     11.468 |\n",
        "|          0.135 |   0.000 |   0.250 |    0.120 |    0.067 |    0.595 |      9.016 |\n",
        "\n",
        "\n"
       ]
      }
     ],
     "prompt_number": 2
    },
    {
     "cell_type": "markdown",
     "metadata": {},
     "source": [
      "# Binning V2"
     ]
    },
    {
     "cell_type": "code",
     "collapsed": false,
     "input": [
      "import scubic\n",
      "import lda\n",
      "    \n",
      "\n",
      "\n",
      "\n",
      "profs = [ \n",
      "        #0\n",
      "        {'wIR':47.,\\\n",
      "         'wGR':47./1.175,\\\n",
      "         'g0':3.66,\\\n",
      "         's0':7.,\\\n",
      "         'extents':35.,\\\n",
      "         'T':0.084,\\\n",
      "         'aS':80.,\\\n",
      "         'mu0':0.178,\\\n",
      "         'direc':'111'\n",
      "        },\n",
      "        #1\n",
      "        {'wIR':47.,\\\n",
      "         'wGR':47./1.175,\\\n",
      "         'g0':3.666,\\\n",
      "         's0':7.,\\\n",
      "         'extents':35.,\\\n",
      "         'T':0.0875,\\\n",
      "         'aS':200.,\\\n",
      "         'mu0':0.2306,\\\n",
      "         'direc':'111'\n",
      "        },\n",
      "        #2\n",
      "        {'wIR':47.,\\\n",
      "         'wGR':47./1.175,\\\n",
      "         'g0':3.666,\\\n",
      "         's0':7.,\\\n",
      "         'extents':35.,\\\n",
      "         'T':0.092,\\\n",
      "         'aS':290.,\\\n",
      "         'mu0':0.2680,\\\n",
      "         'direc':'111'\n",
      "        },\n",
      "        #3\n",
      "        {'wIR':47.,\\\n",
      "         'wGR':47./1.175,\\\n",
      "         'g0':3.666,\\\n",
      "         's0':7.,\\\n",
      "         'extents':35.,\\\n",
      "         'T':0.095,\\\n",
      "         'aS':380.,\\\n",
      "         'mu0':'halfMott',\\\n",
      "         'direc':'111'\n",
      "        },\n",
      "        #4\n",
      "        {'wIR':47.,\\\n",
      "         'wGR':47./1.175,\\\n",
      "         'g0':3.666,\\\n",
      "         's0':7.,\\\n",
      "         'extents':35.,\\\n",
      "         'T':0.098,\\\n",
      "         'aS':470.,\\\n",
      "         'mu0':0.2965,\\\n",
      "         #'mu0':'halfMott',\\\n",
      "         'direc':'111'\n",
      "        },\n",
      "        #5\n",
      "        {'wIR':47.,\\\n",
      "         'wGR':47./1.175,\\\n",
      "         'g0':3.66,\\\n",
      "         's0':7.,\\\n",
      "         'extents':35.,\\\n",
      "         'T':0.095,\\\n",
      "         'aS':560.,\\\n",
      "         'mu0':0.305,\\\n",
      "         #'mu0':'halfMott',\\\n",
      "         'direc':'111'\n",
      "        },\n",
      "\n",
      "        ]\n",
      "\n",
      "\n",
      "\n",
      "tags = range(len(profs)) \n",
      "outs = [] \n",
      "\n",
      "for tag in tags:\n",
      "    print '\\n',tag\n",
      "    \n",
      "    s       = profs[tag]['s0']\n",
      "    g       = profs[tag]['g0']\n",
      "    wIR     = profs[tag]['wIR']\n",
      "    wGR     = profs[tag]['wGR']\n",
      "    T       = profs[tag]['T'] \n",
      "    extents = profs[tag]['extents']\n",
      "    direc   = profs[tag]['direc'] \n",
      "    aS      = profs[tag].get('aS',650.)\n",
      "    mu0     = profs[tag].get('mu0','halfMott')\n",
      "    x2lims  = profs[tag].get('x2lims', (-40.,40.))\n",
      "    y2lims  = profs[tag].get('y2lims', (0.,1.3))\n",
      "    \n",
      "    pot = scubic.sc(allIR=s, allGR=g, allIRw=wIR, allGRw=wGR)\n",
      "    lda0 = lda.lda(potential = pot, Temperature=T, a_s=aS, extents=extents, globalMu=mu0, verbose=True, \\\n",
      "                   ignoreExtents=False, ignoreSlopeErrors=True, ignoreMuThreshold=True)\n",
      "    \n",
      "    fig111, binresult, peak_dens, radius1e, peak_t, output = lda.CheckInhomog( lda0, closefig = True ) ;\n",
      "    fig111.savefig('Binning/bins/FinalMatch/%03d.png'%tag, dpi=300)\n",
      "    \n",
      "    outs.append( (aS, output))\n"
     ],
     "language": "python",
     "metadata": {},
     "outputs": [
      {
       "output_type": "stream",
       "stream": "stdout",
       "text": [
        "\n",
        "0\n",
        "OK: Bottom of the band has positive slope up to r111 = 10 um\n",
        "bandOrigin = -13.91\n",
        "band100 = -4.64\n",
        "0.245369142754\n",
        "OK: Chemical potential is below evaporation threshold.\n",
        "OK: Chemical potential is below the bottom of the band along 100\n",
        "OK: Radial density profile along 111 decreases monotonically.\n",
        "1.31267848392"
       ]
      },
      {
       "output_type": "stream",
       "stream": "stdout",
       "text": [
        "\n",
        "[1.3126784839167067, 1.2, 1.05, 0.95, 0.75, 0.5, 0.25]\n",
        "[1.2, 1.05, 0.95, 0.75, 0.5, 0.25, 0.0]\n",
        "[(1.2563392419583534, 5.243783190632646), (1.125, 8.050241234554681), (1.0, 9.60419324573256), (0.85, 12.5957464671479), (0.625, 15.893290984665505), (0.375, 18.301818840073903)]"
       ]
      },
      {
       "output_type": "stream",
       "stream": "stdout",
       "text": [
        "\n",
        " Bins cut radii =  [5.243783190632646, 8.050241234554681, 9.60419324573256, 12.5957464671479, 15.893290984665505, 18.301818840073903]\n",
        "Total natoms from adding bins =  1.0\n",
        "\n"
       ]
      },
      {
       "output_type": "stream",
       "stream": "stdout",
       "text": [
        "\\begin{tabular}{rrrrrrr}\n",
        "\\hline\n",
        "   Atoms in bin &   n min &   n max &   Mean n &   Mean t &   Mean U &   Mean U/t \\\\\n",
        "\\hline\n",
        "          0.038 &   1.200 &   1.313 &    1.250 &    0.040 &    0.120 &      2.978 \\\\\n",
        "          0.093 &   1.050 &   1.200 &    1.120 &    0.041 &    0.117 &      2.830 \\\\\n",
        "          0.078 &   0.950 &   1.050 &    1.000 &    0.043 &    0.115 &      2.683 \\\\\n",
        "          0.193 &   0.750 &   0.950 &    0.850 &    0.045 &    0.112 &      2.495 \\\\\n",
        "          0.276 &   0.500 &   0.750 &    0.640 &    0.048 &    0.107 &      2.208 \\\\\n",
        "          0.178 &   0.250 &   0.500 &    0.390 &    0.052 &    0.101 &      1.931 \\\\\n",
        "          0.145 &   0.000 &   0.250 &    0.120 &    0.059 &    0.093 &      1.598 \\\\\n",
        "\\hline\n",
        "\\end{tabular}\n",
        "\n"
       ]
      },
      {
       "output_type": "stream",
       "stream": "stdout",
       "text": [
        "1\n",
        "OK: Bottom of the band has positive slope up to r111 = 10 um\n",
        "bandOrigin = -13.91\n",
        "band100 = -4.64\n",
        "0.245369142754\n",
        "OK: Chemical potential is below evaporation threshold.\n",
        "OK: Chemical potential is below the bottom of the band along 100\n",
        "OK: Radial density profile along 111 decreases monotonically.\n",
        "1.14974494605"
       ]
      },
      {
       "output_type": "stream",
       "stream": "stdout",
       "text": [
        "\n",
        "[1.1497449460482312, 1.05, 0.95, 0.75, 0.5, 0.25]\n",
        "[1.05, 0.95, 0.75, 0.5, 0.25, 0.0]\n",
        "[(1.0998724730241156, 6.960039507867668), (1.0, 9.751307196665412), (0.85, 13.354380762667947), (0.625, 16.95899439303543), (0.375, 19.609986388403975)]"
       ]
      },
      {
       "output_type": "stream",
       "stream": "stdout",
       "text": [
        "\n",
        " Bins cut radii =  [6.960039507867668, 9.751307196665412, 13.354380762667947, 16.95899439303543, 19.609986388403975]\n",
        "Total natoms from adding bins =  1.0\n",
        "\n"
       ]
      },
      {
       "output_type": "stream",
       "stream": "stdout",
       "text": [
        "\\begin{tabular}{rrrrrrr}\n",
        "\\hline\n",
        "   Atoms in bin &   n min &   n max &   Mean n &   Mean t &   Mean U &   Mean U/t \\\\\n",
        "\\hline\n",
        "          0.067 &   1.050 &   1.150 &    1.090 &    0.041 &    0.297 &      7.296 \\\\\n",
        "          0.100 &   0.950 &   1.050 &    1.000 &    0.043 &    0.289 &      6.796 \\\\\n",
        "          0.231 &   0.750 &   0.950 &    0.850 &    0.045 &    0.278 &      6.124 \\\\\n",
        "          0.277 &   0.500 &   0.750 &    0.630 &    0.050 &    0.262 &      5.275 \\\\\n",
        "          0.186 &   0.250 &   0.500 &    0.390 &    0.055 &    0.247 &      4.526 \\\\\n",
        "          0.139 &   0.000 &   0.250 &    0.130 &    0.062 &    0.226 &      3.687 \\\\\n",
        "\\hline\n",
        "\\end{tabular}\n",
        "\n"
       ]
      },
      {
       "output_type": "stream",
       "stream": "stdout",
       "text": [
        "2\n",
        "OK: Bottom of the band has positive slope up to r111 = 10 um\n",
        "bandOrigin = -13.91\n",
        "band100 = -4.64\n",
        "0.245369142754\n",
        "OK: Chemical potential is below evaporation threshold.\n",
        "OK: Chemical potential is below the bottom of the band along 100\n",
        "OK: Radial density profile along 111 decreases monotonically.\n",
        "1.05516999716"
       ]
      },
      {
       "output_type": "stream",
       "stream": "stdout",
       "text": [
        "\n",
        "[1.055169997157003, 1.05, 0.95, 0.75, 0.5, 0.25]\n",
        "[1.05, 0.95, 0.75, 0.5, 0.25, 0.0]\n",
        "[(1.0525849985785016, 2.184420587689959), (1.0, 9.300668894875146), (0.85, 13.94936099908334), (0.625, 17.699064135228678), (0.375, 20.508815930391698)]"
       ]
      },
      {
       "output_type": "stream",
       "stream": "stdout",
       "text": [
        "\n",
        " Bins cut radii =  [2.184420587689959, 9.300668894875146, 13.94936099908334, 17.699064135228678, 20.508815930391698]\n",
        "Total natoms from adding bins =  1.0\n",
        "\n"
       ]
      },
      {
       "output_type": "stream",
       "stream": "stdout",
       "text": [
        "\\begin{tabular}{rrrrrrr}\n",
        "\\hline\n",
        "   Atoms in bin &   n min &   n max &   Mean n &   Mean t &   Mean U &   Mean U/t \\\\\n",
        "\\hline\n",
        "          0.002 &   1.050 &   1.055 &    1.050 &    0.040 &    0.437 &     11.034 \\\\\n",
        "          0.122 &   0.950 &   1.050 &    1.000 &    0.042 &    0.425 &     10.216 \\\\\n",
        "          0.273 &   0.750 &   0.950 &    0.850 &    0.046 &    0.402 &      8.804 \\\\\n",
        "          0.285 &   0.500 &   0.750 &    0.620 &    0.051 &    0.375 &      7.369 \\\\\n",
        "          0.180 &   0.250 &   0.500 &    0.390 &    0.056 &    0.350 &      6.246 \\\\\n",
        "          0.138 &   0.000 &   0.250 &    0.130 &    0.064 &    0.319 &      5.046 \\\\\n",
        "\\hline\n",
        "\\end{tabular}\n",
        "\n"
       ]
      },
      {
       "output_type": "stream",
       "stream": "stdout",
       "text": [
        "3\n",
        "OK: Bottom of the band has positive slope up to r111 = 10 um\n",
        "bandOrigin = -13.91\n",
        "band100 = -4.64\n",
        "0.245369142754\n",
        "OK: Chemical potential is below evaporation threshold.\n",
        "OK: Chemical potential is below the bottom of the band along 100\n",
        "OK: Radial density profile along 111 decreases monotonically.\n",
        "0.999627935335"
       ]
      },
      {
       "output_type": "stream",
       "stream": "stdout",
       "text": [
        "\n",
        "[0.99962793533534744, 0.95, 0.75, 0.5, 0.25]\n",
        "[0.95, 0.75, 0.5, 0.25, 0.0]\n",
        "[(0.9748139676676737, 8.253429966809492), (0.85, 14.185783438821144), (0.625, 18.013328764465083), (0.375, 20.951727468291036)]"
       ]
      },
      {
       "output_type": "stream",
       "stream": "stdout",
       "text": [
        "\n",
        " Bins cut radii =  [8.253429966809492, 14.185783438821144, 18.013328764465083, 20.951727468291036]\n",
        "Total natoms from adding bins =  1.0\n",
        "\n"
       ]
      },
      {
       "output_type": "stream",
       "stream": "stdout",
       "text": [
        "\\begin{tabular}{rrrrrrr}\n",
        "\\hline\n",
        "   Atoms in bin &   n min &   n max &   Mean n &   Mean t &   Mean U &   Mean U/t \\\\\n",
        "\\hline\n",
        "          0.084 &   0.950 &   1.000 &    0.970 &    0.041 &    0.560 &     13.597 \\\\\n",
        "          0.304 &   0.750 &   0.950 &    0.860 &    0.046 &    0.527 &     11.604 \\\\\n",
        "          0.280 &   0.500 &   0.750 &    0.620 &    0.051 &    0.489 &      9.552 \\\\\n",
        "          0.193 &   0.250 &   0.500 &    0.390 &    0.057 &    0.455 &      8.032 \\\\\n",
        "          0.139 &   0.000 &   0.250 &    0.130 &    0.065 &    0.413 &      6.413 \\\\\n",
        "\\hline\n",
        "\\end{tabular}\n",
        "\n"
       ]
      },
      {
       "output_type": "stream",
       "stream": "stdout",
       "text": [
        "4\n",
        "OK: Bottom of the band has positive slope up to r111 = 10 um\n",
        "bandOrigin = -13.91\n",
        "band100 = -4.64\n",
        "0.245369142754\n",
        "OK: Chemical potential is below evaporation threshold.\n",
        "OK: Chemical potential is below the bottom of the band along 100\n",
        "OK: Radial density profile along 111 decreases monotonically.\n",
        "0.978346609316"
       ]
      },
      {
       "output_type": "stream",
       "stream": "stdout",
       "text": [
        "\n",
        "[0.97834660931556172, 0.95, 0.75, 0.5, 0.25]\n",
        "[0.95, 0.75, 0.5, 0.25, 0.0]\n",
        "[(0.96417330465778084, 7.278767398053698), (0.85, 14.289925754034371), (0.625, 18.15131188709015), (0.375, 21.203401570031204)]"
       ]
      },
      {
       "output_type": "stream",
       "stream": "stdout",
       "text": [
        "\n",
        " Bins cut radii =  [7.278767398053698, 14.289925754034371, 18.15131188709015, 21.203401570031204]\n",
        "Total natoms from adding bins =  1.0\n",
        "\n"
       ]
      },
      {
       "output_type": "stream",
       "stream": "stdout",
       "text": [
        "\\begin{tabular}{rrrrrrr}\n",
        "\\hline\n",
        "   Atoms in bin &   n min &   n max &   Mean n &   Mean t &   Mean U &   Mean U/t \\\\\n",
        "\\hline\n",
        "          0.053 &   0.950 &   0.978 &    0.960 &    0.041 &    0.697 &     17.090 \\\\\n",
        "          0.322 &   0.750 &   0.950 &    0.860 &    0.045 &    0.655 &     14.520 \\\\\n",
        "          0.291 &   0.500 &   0.750 &    0.630 &    0.051 &    0.603 &     11.747 \\\\\n",
        "          0.203 &   0.250 &   0.500 &    0.380 &    0.057 &    0.559 &      9.753 \\\\\n",
        "          0.132 &   0.000 &   0.250 &    0.120 &    0.066 &    0.504 &      7.698 \\\\\n",
        "\\hline\n",
        "\\end{tabular}\n",
        "\n"
       ]
      },
      {
       "output_type": "stream",
       "stream": "stdout",
       "text": [
        "5\n",
        "OK: Bottom of the band has positive slope up to r111 = 10 um\n",
        "bandOrigin = -13.91\n",
        "band100 = -4.64\n",
        "0.245369142754\n",
        "OK: Chemical potential is below evaporation threshold.\n",
        "OK: Chemical potential is below the bottom of the band along 100\n",
        "OK: Radial density profile along 111 decreases monotonically.\n",
        "0.975130105022"
       ]
      },
      {
       "output_type": "stream",
       "stream": "stdout",
       "text": [
        "\n",
        "[0.97513010502160613, 0.95, 0.75, 0.5, 0.25]\n",
        "[0.95, 0.75, 0.5, 0.25, 0.0]\n",
        "[(0.96256505251080304, 7.36191312656353), (0.85, 14.331824630120334), (0.625, 18.141030802064737), (0.375, 21.172455968383563)]"
       ]
      },
      {
       "output_type": "stream",
       "stream": "stdout",
       "text": [
        "\n",
        " Bins cut radii =  [7.36191312656353, 14.331824630120334, 18.141030802064737, 21.172455968383563]\n",
        "Total natoms from adding bins =  1.0\n",
        "\n"
       ]
      },
      {
       "output_type": "stream",
       "stream": "stdout",
       "text": [
        "\\begin{tabular}{rrrrrrr}\n",
        "\\hline\n",
        "   Atoms in bin &   n min &   n max &   Mean n &   Mean t &   Mean U &   Mean U/t \\\\\n",
        "\\hline\n",
        "          0.058 &   0.950 &   0.975 &    0.960 &    0.041 &    0.829 &     20.300 \\\\\n",
        "          0.320 &   0.750 &   0.950 &    0.870 &    0.045 &    0.780 &     17.261 \\\\\n",
        "          0.293 &   0.500 &   0.750 &    0.620 &    0.051 &    0.719 &     13.998 \\\\\n",
        "          0.192 &   0.250 &   0.500 &    0.390 &    0.057 &    0.667 &     11.684 \\\\\n",
        "          0.137 &   0.000 &   0.250 &    0.130 &    0.065 &    0.605 &      9.332 \\\\\n",
        "\\hline\n",
        "\\end{tabular}\n"
       ]
      }
     ],
     "prompt_number": 1
    },
    {
     "cell_type": "code",
     "collapsed": false,
     "input": [
      "for o in outs:\n",
      "    print \"%03d a0\" % o[0]\n",
      "    print o[1]\n",
      "    print \"\\n\""
     ],
     "language": "python",
     "metadata": {},
     "outputs": [
      {
       "output_type": "stream",
       "stream": "stdout",
       "text": [
        "080 a0\n",
        "|   Atoms in bin |   n min |   n max |   Mean n |   Mean t |   Mean U |   Mean U/t |\n",
        "|----------------+---------+---------+----------+----------+----------+------------|\n",
        "|          0.038 |   1.200 |   1.313 |    1.250 |    0.040 |    0.120 |      2.978 |\n",
        "|          0.093 |   1.050 |   1.200 |    1.120 |    0.041 |    0.117 |      2.830 |\n",
        "|          0.078 |   0.950 |   1.050 |    1.000 |    0.043 |    0.115 |      2.683 |\n",
        "|          0.193 |   0.750 |   0.950 |    0.850 |    0.045 |    0.112 |      2.495 |\n",
        "|          0.276 |   0.500 |   0.750 |    0.640 |    0.048 |    0.107 |      2.208 |\n",
        "|          0.178 |   0.250 |   0.500 |    0.390 |    0.052 |    0.101 |      1.931 |\n",
        "|          0.145 |   0.000 |   0.250 |    0.120 |    0.059 |    0.093 |      1.598 |\n",
        "\n",
        "\n",
        "200 a0\n",
        "|   Atoms in bin |   n min |   n max |   Mean n |   Mean t |   Mean U |   Mean U/t |\n",
        "|----------------+---------+---------+----------+----------+----------+------------|\n",
        "|          0.067 |   1.050 |   1.150 |    1.090 |    0.041 |    0.297 |      7.296 |\n",
        "|          0.100 |   0.950 |   1.050 |    1.000 |    0.043 |    0.289 |      6.796 |\n",
        "|          0.231 |   0.750 |   0.950 |    0.850 |    0.045 |    0.278 |      6.124 |\n",
        "|          0.277 |   0.500 |   0.750 |    0.630 |    0.050 |    0.262 |      5.275 |\n",
        "|          0.186 |   0.250 |   0.500 |    0.390 |    0.055 |    0.247 |      4.526 |\n",
        "|          0.139 |   0.000 |   0.250 |    0.130 |    0.062 |    0.226 |      3.687 |\n",
        "\n",
        "\n",
        "290 a0\n",
        "|   Atoms in bin |   n min |   n max |   Mean n |   Mean t |   Mean U |   Mean U/t |\n",
        "|----------------+---------+---------+----------+----------+----------+------------|\n",
        "|          0.002 |   1.050 |   1.055 |    1.050 |    0.040 |    0.437 |     11.034 |\n",
        "|          0.122 |   0.950 |   1.050 |    1.000 |    0.042 |    0.425 |     10.216 |\n",
        "|          0.273 |   0.750 |   0.950 |    0.850 |    0.046 |    0.402 |      8.804 |\n",
        "|          0.285 |   0.500 |   0.750 |    0.620 |    0.051 |    0.375 |      7.369 |\n",
        "|          0.180 |   0.250 |   0.500 |    0.390 |    0.056 |    0.350 |      6.246 |\n",
        "|          0.138 |   0.000 |   0.250 |    0.130 |    0.064 |    0.319 |      5.046 |\n",
        "\n",
        "\n",
        "380 a0\n",
        "|   Atoms in bin |   n min |   n max |   Mean n |   Mean t |   Mean U |   Mean U/t |\n",
        "|----------------+---------+---------+----------+----------+----------+------------|\n",
        "|          0.084 |   0.950 |   1.000 |    0.970 |    0.041 |    0.560 |     13.597 |\n",
        "|          0.304 |   0.750 |   0.950 |    0.860 |    0.046 |    0.527 |     11.604 |\n",
        "|          0.280 |   0.500 |   0.750 |    0.620 |    0.051 |    0.489 |      9.552 |\n",
        "|          0.193 |   0.250 |   0.500 |    0.390 |    0.057 |    0.455 |      8.032 |\n",
        "|          0.139 |   0.000 |   0.250 |    0.130 |    0.065 |    0.413 |      6.413 |\n",
        "\n",
        "\n",
        "470 a0\n",
        "|   Atoms in bin |   n min |   n max |   Mean n |   Mean t |   Mean U |   Mean U/t |\n",
        "|----------------+---------+---------+----------+----------+----------+------------|\n",
        "|          0.053 |   0.950 |   0.978 |    0.960 |    0.041 |    0.697 |     17.090 |\n",
        "|          0.322 |   0.750 |   0.950 |    0.860 |    0.045 |    0.655 |     14.520 |\n",
        "|          0.291 |   0.500 |   0.750 |    0.630 |    0.051 |    0.603 |     11.747 |\n",
        "|          0.203 |   0.250 |   0.500 |    0.380 |    0.057 |    0.559 |      9.753 |\n",
        "|          0.132 |   0.000 |   0.250 |    0.120 |    0.066 |    0.504 |      7.698 |\n",
        "\n",
        "\n",
        "560 a0\n",
        "|   Atoms in bin |   n min |   n max |   Mean n |   Mean t |   Mean U |   Mean U/t |\n",
        "|----------------+---------+---------+----------+----------+----------+------------|\n",
        "|          0.058 |   0.950 |   0.975 |    0.960 |    0.041 |    0.829 |     20.300 |\n",
        "|          0.320 |   0.750 |   0.950 |    0.870 |    0.045 |    0.780 |     17.261 |\n",
        "|          0.293 |   0.500 |   0.750 |    0.620 |    0.051 |    0.719 |     13.998 |\n",
        "|          0.192 |   0.250 |   0.500 |    0.390 |    0.057 |    0.667 |     11.684 |\n",
        "|          0.137 |   0.000 |   0.250 |    0.130 |    0.065 |    0.605 |      9.332 |\n",
        "\n",
        "\n"
       ]
      }
     ],
     "prompt_number": 2
    },
    {
     "cell_type": "code",
     "collapsed": false,
     "input": [],
     "language": "python",
     "metadata": {},
     "outputs": []
    }
   ],
   "metadata": {}
  }
 ]
}