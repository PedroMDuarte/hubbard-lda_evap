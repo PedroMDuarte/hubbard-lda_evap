{
 "metadata": {
  "name": ""
 },
 "nbformat": 3,
 "nbformat_minor": 0,
 "worksheets": [
  {
   "cells": [
    {
     "cell_type": "code",
     "collapsed": false,
     "input": [
      "## Benchmark testing the code for finding the optimal green value for evaporation"
     ],
     "language": "python",
     "metadata": {},
     "outputs": []
    },
    {
     "cell_type": "code",
     "collapsed": false,
     "input": [
      "import optevap"
     ],
     "language": "python",
     "metadata": {},
     "outputs": [],
     "prompt_number": 1
    },
    {
     "cell_type": "code",
     "collapsed": false,
     "input": [
      "%%timeit \n",
      "\n",
      "optevap.optimal( s0=7., wL=47., wC=40.) "
     ],
     "language": "python",
     "metadata": {},
     "outputs": [
      {
       "output_type": "stream",
       "stream": "stdout",
       "text": [
        "1 loops, best of 3: 14.5 s per loop\n"
       ]
      }
     ],
     "prompt_number": 2
    },
    {
     "cell_type": "markdown",
     "metadata": {},
     "source": [
      "## Setup big scan below for a_s = 650 and unrestricted number "
     ]
    },
    {
     "cell_type": "code",
     "collapsed": false,
     "input": [
      "s=7.0\n",
      "aS=650.\n",
      "wIRs = np.arange( 44., 81., 2. )\n",
      "\n",
      "results = []\n",
      "for wIR in wIRs:\n",
      "    wGRs = np.arange( 28., wIR+8., 2.) \n",
      "    for wGR in wGRs:\n",
      "        print \"working on wIR=%.2f, wGR=%.2f....\" % (wIR,wGR),\n",
      "        try:\n",
      "            res =  np.array( [ [s, wIR, wGR]+optevap.optimal( s0=s, wL=wIR, wC=wGR, a_s=aS ) ] )\n",
      "            \n",
      "            f_handle = file('EtaF_data/002/wIRwGR_ETA_results.dat', 'a')\n",
      "            np.savetxt(f_handle, res)\n",
      "            f_handle.close()\n",
      "            \n",
      "        except:\n",
      "            print \"    --> failed\"\n",
      "            "
     ],
     "language": "python",
     "metadata": {},
     "outputs": [
      {
       "output_type": "stream",
       "stream": "stdout",
       "text": [
        "working on wIR=44.00, wGR=28.00.... "
       ]
      },
      {
       "output_type": "stream",
       "stream": "stdout",
       "text": [
        "2.24011105223 "
       ]
      },
      {
       "output_type": "stream",
       "stream": "stdout",
       "text": [
        "working on wIR=44.00, wGR=30.00.... "
       ]
      },
      {
       "output_type": "stream",
       "stream": "stdout",
       "text": [
        "2.57155605486 "
       ]
      },
      {
       "output_type": "stream",
       "stream": "stdout",
       "text": [
        "working on wIR=44.00, wGR=32.00.... "
       ]
      },
      {
       "output_type": "stream",
       "stream": "stdout",
       "text": [
        "2.93919271026 "
       ]
      },
      {
       "output_type": "stream",
       "stream": "stdout",
       "text": [
        "working on wIR=44.00, wGR=34.00.... "
       ]
      },
      {
       "output_type": "stream",
       "stream": "stdout",
       "text": [
        "3.30302088824 "
       ]
      },
      {
       "output_type": "stream",
       "stream": "stdout",
       "text": [
        "working on wIR=44.00, wGR=36.00.... "
       ]
      },
      {
       "output_type": "stream",
       "stream": "stdout",
       "text": [
        "3.703040719 "
       ]
      },
      {
       "output_type": "stream",
       "stream": "stdout",
       "text": [
        "working on wIR=44.00, wGR=38.00.... "
       ]
      },
      {
       "output_type": "stream",
       "stream": "stdout",
       "text": [
        "4.1259188258 "
       ]
      },
      {
       "output_type": "stream",
       "stream": "stdout",
       "text": [
        "working on wIR=44.00, wGR=40.00.... "
       ]
      },
      {
       "output_type": "stream",
       "stream": "stdout",
       "text": [
        "4.35486422426 "
       ]
      },
      {
       "output_type": "stream",
       "stream": "stdout",
       "text": [
        "working on wIR=44.00, wGR=42.00.... "
       ]
      },
      {
       "output_type": "stream",
       "stream": "stdout",
       "text": [
        "4.34088279929 "
       ]
      },
      {
       "output_type": "stream",
       "stream": "stdout",
       "text": [
        "working on wIR=44.00, wGR=44.00.... "
       ]
      },
      {
       "output_type": "stream",
       "stream": "stdout",
       "text": [
        "4.36141291243 "
       ]
      },
      {
       "output_type": "stream",
       "stream": "stdout",
       "text": [
        "working on wIR=44.00, wGR=46.00.... "
       ]
      },
      {
       "output_type": "stream",
       "stream": "stdout",
       "text": [
        "4.36431079405 "
       ]
      },
      {
       "output_type": "stream",
       "stream": "stdout",
       "text": [
        "working on wIR=44.00, wGR=48.00.... "
       ]
      },
      {
       "output_type": "stream",
       "stream": "stdout",
       "text": [
        "4.37154125938 "
       ]
      },
      {
       "output_type": "stream",
       "stream": "stdout",
       "text": [
        "working on wIR=44.00, wGR=50.00.... "
       ]
      },
      {
       "output_type": "stream",
       "stream": "stdout",
       "text": [
        "4.3719357577 "
       ]
      },
      {
       "output_type": "stream",
       "stream": "stdout",
       "text": [
        "working on wIR=46.00, wGR=28.00.... "
       ]
      },
      {
       "output_type": "stream",
       "stream": "stdout",
       "text": [
        "2.04985406488 "
       ]
      },
      {
       "output_type": "stream",
       "stream": "stdout",
       "text": [
        "working on wIR=46.00, wGR=30.00.... "
       ]
      },
      {
       "output_type": "stream",
       "stream": "stdout",
       "text": [
        "2.35280364944 "
       ]
      },
      {
       "output_type": "stream",
       "stream": "stdout",
       "text": [
        "working on wIR=46.00, wGR=32.00.... "
       ]
      },
      {
       "output_type": "stream",
       "stream": "stdout",
       "text": [
        "2.69030108084 "
       ]
      },
      {
       "output_type": "stream",
       "stream": "stdout",
       "text": [
        "working on wIR=46.00, wGR=34.00.... "
       ]
      },
      {
       "output_type": "stream",
       "stream": "stdout",
       "text": [
        "3.03537895454 "
       ]
      },
      {
       "output_type": "stream",
       "stream": "stdout",
       "text": [
        "working on wIR=46.00, wGR=36.00.... "
       ]
      },
      {
       "output_type": "stream",
       "stream": "stdout",
       "text": [
        "3.40137063877 "
       ]
      },
      {
       "output_type": "stream",
       "stream": "stdout",
       "text": [
        "working on wIR=46.00, wGR=38.00.... "
       ]
      },
      {
       "output_type": "stream",
       "stream": "stdout",
       "text": [
        "3.77494274421 "
       ]
      },
      {
       "output_type": "stream",
       "stream": "stdout",
       "text": [
        "working on wIR=46.00, wGR=40.00.... "
       ]
      },
      {
       "output_type": "stream",
       "stream": "stdout",
       "text": [
        "4.18276204344 "
       ]
      },
      {
       "output_type": "stream",
       "stream": "stdout",
       "text": [
        "working on wIR=46.00, wGR=42.00.... "
       ]
      },
      {
       "output_type": "stream",
       "stream": "stdout",
       "text": [
        "4.35438675278 "
       ]
      },
      {
       "output_type": "stream",
       "stream": "stdout",
       "text": [
        "working on wIR=46.00, wGR=44.00.... "
       ]
      },
      {
       "output_type": "stream",
       "stream": "stdout",
       "text": [
        "4.34731685925 "
       ]
      },
      {
       "output_type": "stream",
       "stream": "stdout",
       "text": [
        "working on wIR=46.00, wGR=46.00.... "
       ]
      },
      {
       "output_type": "stream",
       "stream": "stdout",
       "text": [
        "4.36141291243 "
       ]
      },
      {
       "output_type": "stream",
       "stream": "stdout",
       "text": [
        "working on wIR=46.00, wGR=48.00.... "
       ]
      },
      {
       "output_type": "stream",
       "stream": "stdout",
       "text": [
        "4.36245552666 "
       ]
      },
      {
       "output_type": "stream",
       "stream": "stdout",
       "text": [
        "working on wIR=46.00, wGR=50.00.... "
       ]
      },
      {
       "output_type": "stream",
       "stream": "stdout",
       "text": [
        "4.38147916598 "
       ]
      },
      {
       "output_type": "stream",
       "stream": "stdout",
       "text": [
        "working on wIR=46.00, wGR=52.00.... "
       ]
      },
      {
       "output_type": "stream",
       "stream": "stdout",
       "text": [
        "4.38596978278 "
       ]
      },
      {
       "output_type": "stream",
       "stream": "stdout",
       "text": [
        "working on wIR=48.00, wGR=28.00.... "
       ]
      },
      {
       "output_type": "stream",
       "stream": "stdout",
       "text": [
        "1.88367963019 "
       ]
      },
      {
       "output_type": "stream",
       "stream": "stdout",
       "text": [
        "working on wIR=48.00, wGR=30.00.... "
       ]
      },
      {
       "output_type": "stream",
       "stream": "stdout",
       "text": [
        "2.16082140721 "
       ]
      },
      {
       "output_type": "stream",
       "stream": "stdout",
       "text": [
        "working on wIR=48.00, wGR=32.00.... "
       ]
      },
      {
       "output_type": "stream",
       "stream": "stdout",
       "text": [
        "2.45853457887 "
       ]
      },
      {
       "output_type": "stream",
       "stream": "stdout",
       "text": [
        "working on wIR=48.00, wGR=34.00.... "
       ]
      },
      {
       "output_type": "stream",
       "stream": "stdout",
       "text": [
        "2.78878842642 "
       ]
      },
      {
       "output_type": "stream",
       "stream": "stdout",
       "text": [
        "working on wIR=48.00, wGR=36.00.... "
       ]
      },
      {
       "output_type": "stream",
       "stream": "stdout",
       "text": [
        "3.12491620586 "
       ]
      },
      {
       "output_type": "stream",
       "stream": "stdout",
       "text": [
        "working on wIR=48.00, wGR=38.00.... "
       ]
      },
      {
       "output_type": "stream",
       "stream": "stdout",
       "text": [
        "3.48054273171 "
       ]
      },
      {
       "output_type": "stream",
       "stream": "stdout",
       "text": [
        "working on wIR=48.00, wGR=40.00.... "
       ]
      },
      {
       "output_type": "stream",
       "stream": "stdout",
       "text": [
        "3.84146027948 "
       ]
      },
      {
       "output_type": "stream",
       "stream": "stdout",
       "text": [
        "working on wIR=48.00, wGR=42.00.... "
       ]
      },
      {
       "output_type": "stream",
       "stream": "stdout",
       "text": [
        "4.23520995813 "
       ]
      },
      {
       "output_type": "stream",
       "stream": "stdout",
       "text": [
        "working on wIR=48.00, wGR=44.00.... "
       ]
      },
      {
       "output_type": "stream",
       "stream": "stdout",
       "text": [
        "4.34659211031 "
       ]
      },
      {
       "output_type": "stream",
       "stream": "stdout",
       "text": [
        "working on wIR=48.00, wGR=46.00.... "
       ]
      },
      {
       "output_type": "stream",
       "stream": "stdout",
       "text": [
        "4.34482815038 "
       ]
      },
      {
       "output_type": "stream",
       "stream": "stdout",
       "text": [
        "working on wIR=48.00, wGR=48.00.... "
       ]
      },
      {
       "output_type": "stream",
       "stream": "stdout",
       "text": [
        "4.36141291243 "
       ]
      },
      {
       "output_type": "stream",
       "stream": "stdout",
       "text": [
        "working on wIR=48.00, wGR=50.00.... "
       ]
      },
      {
       "output_type": "stream",
       "stream": "stdout",
       "text": [
        "4.37090995412 "
       ]
      },
      {
       "output_type": "stream",
       "stream": "stdout",
       "text": [
        "working on wIR=48.00, wGR=52.00.... "
       ]
      },
      {
       "output_type": "stream",
       "stream": "stdout",
       "text": [
        "4.37783151907 "
       ]
      },
      {
       "output_type": "stream",
       "stream": "stdout",
       "text": [
        "working on wIR=48.00, wGR=54.00.... "
       ]
      },
      {
       "output_type": "stream",
       "stream": "stdout",
       "text": [
        "4.40175011994 "
       ]
      },
      {
       "output_type": "stream",
       "stream": "stdout",
       "text": [
        "working on wIR=50.00, wGR=28.00.... "
       ]
      },
      {
       "output_type": "stream",
       "stream": "stdout",
       "text": [
        "1.73704448051 "
       ]
      },
      {
       "output_type": "stream",
       "stream": "stdout",
       "text": [
        "working on wIR=50.00, wGR=30.00.... "
       ]
      },
      {
       "output_type": "stream",
       "stream": "stdout",
       "text": [
        "1.99208337474 "
       ]
      },
      {
       "output_type": "stream",
       "stream": "stdout",
       "text": [
        "working on wIR=50.00, wGR=32.00.... "
       ]
      },
      {
       "output_type": "stream",
       "stream": "stdout",
       "text": [
        "2.26578546788 "
       ]
      },
      {
       "output_type": "stream",
       "stream": "stdout",
       "text": [
        "working on wIR=50.00, wGR=34.00.... "
       ]
      },
      {
       "output_type": "stream",
       "stream": "stdout",
       "text": [
        "2.55785937585 "
       ]
      },
      {
       "output_type": "stream",
       "stream": "stdout",
       "text": [
        "working on wIR=50.00, wGR=36.00.... "
       ]
      },
      {
       "output_type": "stream",
       "stream": "stdout",
       "text": [
        "2.88096810866 "
       ]
      },
      {
       "output_type": "stream",
       "stream": "stdout",
       "text": [
        "working on wIR=50.00, wGR=38.00.... "
       ]
      },
      {
       "output_type": "stream",
       "stream": "stdout",
       "text": [
        "3.20844491942 "
       ]
      },
      {
       "output_type": "stream",
       "stream": "stdout",
       "text": [
        "working on wIR=50.00, wGR=40.00.... "
       ]
      },
      {
       "output_type": "stream",
       "stream": "stdout",
       "text": [
        "3.55420297124 "
       ]
      },
      {
       "output_type": "stream",
       "stream": "stdout",
       "text": [
        "working on wIR=50.00, wGR=42.00.... "
       ]
      },
      {
       "output_type": "stream",
       "stream": "stdout",
       "text": [
        "3.90316949741 "
       ]
      },
      {
       "output_type": "stream",
       "stream": "stdout",
       "text": [
        "working on wIR=50.00, wGR=44.00.... "
       ]
      },
      {
       "output_type": "stream",
       "stream": "stdout",
       "text": [
        "4.28375065022 "
       ]
      },
      {
       "output_type": "stream",
       "stream": "stdout",
       "text": [
        "working on wIR=50.00, wGR=46.00.... "
       ]
      },
      {
       "output_type": "stream",
       "stream": "stdout",
       "text": [
        "4.35185546436 "
       ]
      },
      {
       "output_type": "stream",
       "stream": "stdout",
       "text": [
        "working on wIR=50.00, wGR=48.00.... "
       ]
      },
      {
       "output_type": "stream",
       "stream": "stdout",
       "text": [
        "4.34657392244 "
       ]
      },
      {
       "output_type": "stream",
       "stream": "stdout",
       "text": [
        "working on wIR=50.00, wGR=50.00.... "
       ]
      },
      {
       "output_type": "stream",
       "stream": "stdout",
       "text": [
        "4.38315225254 "
       ]
      },
      {
       "output_type": "stream",
       "stream": "stdout",
       "text": [
        "working on wIR=50.00, wGR=52.00.... "
       ]
      },
      {
       "output_type": "stream",
       "stream": "stdout",
       "text": [
        "4.39497950226 "
       ]
      },
      {
       "output_type": "stream",
       "stream": "stdout",
       "text": [
        "working on wIR=50.00, wGR=54.00.... "
       ]
      },
      {
       "output_type": "stream",
       "stream": "stdout",
       "text": [
        "4.39196057405 "
       ]
      },
      {
       "output_type": "stream",
       "stream": "stdout",
       "text": [
        "working on wIR=50.00, wGR=56.00.... "
       ]
      },
      {
       "output_type": "stream",
       "stream": "stdout",
       "text": [
        "4.40403491411 "
       ]
      },
      {
       "output_type": "stream",
       "stream": "stdout",
       "text": [
        "working on wIR=52.00, wGR=28.00.... "
       ]
      },
      {
       "output_type": "stream",
       "stream": "stdout",
       "text": [
        "1.60700118391 "
       ]
      },
      {
       "output_type": "stream",
       "stream": "stdout",
       "text": [
        "working on wIR=52.00, wGR=30.00.... "
       ]
      },
      {
       "output_type": "stream",
       "stream": "stdout",
       "text": [
        "1.84279897812 "
       ]
      },
      {
       "output_type": "stream",
       "stream": "stdout",
       "text": [
        "working on wIR=52.00, wGR=32.00.... "
       ]
      },
      {
       "output_type": "stream",
       "stream": "stdout",
       "text": [
        "2.09485868918 "
       ]
      },
      {
       "output_type": "stream",
       "stream": "stdout",
       "text": [
        "working on wIR=52.00, wGR=34.00.... "
       ]
      },
      {
       "output_type": "stream",
       "stream": "stdout",
       "text": [
        "2.36488477797 "
       ]
      },
      {
       "output_type": "stream",
       "stream": "stdout",
       "text": [
        "working on wIR=52.00, wGR=36.00.... "
       ]
      },
      {
       "output_type": "stream",
       "stream": "stdout",
       "text": [
        "2.66462288153 "
       ]
      },
      {
       "output_type": "stream",
       "stream": "stdout",
       "text": [
        "working on wIR=52.00, wGR=38.00.... "
       ]
      },
      {
       "output_type": "stream",
       "stream": "stdout",
       "text": [
        "2.96739360154 "
       ]
      },
      {
       "output_type": "stream",
       "stream": "stdout",
       "text": [
        "working on wIR=52.00, wGR=40.00.... "
       ]
      },
      {
       "output_type": "stream",
       "stream": "stdout",
       "text": [
        "3.28653030641 "
       ]
      },
      {
       "output_type": "stream",
       "stream": "stdout",
       "text": [
        "working on wIR=52.00, wGR=42.00.... "
       ]
      },
      {
       "output_type": "stream",
       "stream": "stdout",
       "text": [
        "3.62288163442 "
       ]
      },
      {
       "output_type": "stream",
       "stream": "stdout",
       "text": [
        "working on wIR=52.00, wGR=44.00.... "
       ]
      },
      {
       "output_type": "stream",
       "stream": "stdout",
       "text": [
        "3.96056827868 "
       ]
      },
      {
       "output_type": "stream",
       "stream": "stdout",
       "text": [
        "working on wIR=52.00, wGR=46.00.... "
       ]
      },
      {
       "output_type": "stream",
       "stream": "stdout",
       "text": [
        "4.3146103382 "
       ]
      },
      {
       "output_type": "stream",
       "stream": "stdout",
       "text": [
        "working on wIR=52.00, wGR=48.00.... "
       ]
      },
      {
       "output_type": "stream",
       "stream": "stdout",
       "text": [
        "4.35104195326 "
       ]
      },
      {
       "output_type": "stream",
       "stream": "stdout",
       "text": [
        "working on wIR=52.00, wGR=50.00.... "
       ]
      },
      {
       "output_type": "stream",
       "stream": "stdout",
       "text": [
        "4.36051641203 "
       ]
      },
      {
       "output_type": "stream",
       "stream": "stdout",
       "text": [
        "working on wIR=52.00, wGR=52.00.... "
       ]
      },
      {
       "output_type": "stream",
       "stream": "stdout",
       "text": [
        "4.38315225254 "
       ]
      },
      {
       "output_type": "stream",
       "stream": "stdout",
       "text": [
        "working on wIR=52.00, wGR=54.00.... "
       ]
      },
      {
       "output_type": "stream",
       "stream": "stdout",
       "text": [
        "4.38198622186 "
       ]
      },
      {
       "output_type": "stream",
       "stream": "stdout",
       "text": [
        "working on wIR=52.00, wGR=56.00.... "
       ]
      },
      {
       "output_type": "stream",
       "stream": "stdout",
       "text": [
        "4.39218329554 "
       ]
      },
      {
       "output_type": "stream",
       "stream": "stdout",
       "text": [
        "working on wIR=52.00, wGR=58.00.... "
       ]
      },
      {
       "output_type": "stream",
       "stream": "stdout",
       "text": [
        "4.42490671253 "
       ]
      },
      {
       "output_type": "stream",
       "stream": "stdout",
       "text": [
        "working on wIR=54.00, wGR=28.00.... "
       ]
      },
      {
       "output_type": "stream",
       "stream": "stdout",
       "text": [
        "1.47780445955 "
       ]
      },
      {
       "output_type": "stream",
       "stream": "stdout",
       "text": [
        "working on wIR=54.00, wGR=30.00.... "
       ]
      },
      {
       "output_type": "stream",
       "stream": "stdout",
       "text": [
        "1.7097925595 "
       ]
      },
      {
       "output_type": "stream",
       "stream": "stdout",
       "text": [
        "working on wIR=54.00, wGR=32.00.... "
       ]
      },
      {
       "output_type": "stream",
       "stream": "stdout",
       "text": [
        "1.94352694178 "
       ]
      },
      {
       "output_type": "stream",
       "stream": "stdout",
       "text": [
        "working on wIR=54.00, wGR=34.00.... "
       ]
      },
      {
       "output_type": "stream",
       "stream": "stdout",
       "text": [
        "2.19295213979 "
       ]
      },
      {
       "output_type": "stream",
       "stream": "stdout",
       "text": [
        "working on wIR=54.00, wGR=36.00.... "
       ]
      },
      {
       "output_type": "stream",
       "stream": "stdout",
       "text": [
        "2.45853457887 "
       ]
      },
      {
       "output_type": "stream",
       "stream": "stdout",
       "text": [
        "working on wIR=54.00, wGR=38.00.... "
       ]
      },
      {
       "output_type": "stream",
       "stream": "stdout",
       "text": [
        "2.75262653128 "
       ]
      },
      {
       "output_type": "stream",
       "stream": "stdout",
       "text": [
        "working on wIR=54.00, wGR=40.00.... "
       ]
      },
      {
       "output_type": "stream",
       "stream": "stdout",
       "text": [
        "3.0485612535 "
       ]
      },
      {
       "output_type": "stream",
       "stream": "stdout",
       "text": [
        "working on wIR=54.00, wGR=42.00.... "
       ]
      },
      {
       "output_type": "stream",
       "stream": "stdout",
       "text": [
        "3.35967211531 "
       ]
      },
      {
       "output_type": "stream",
       "stream": "stdout",
       "text": [
        "working on wIR=54.00, wGR=44.00.... "
       ]
      },
      {
       "output_type": "stream",
       "stream": "stdout",
       "text": [
        "3.68705898079 "
       ]
      },
      {
       "output_type": "stream",
       "stream": "stdout",
       "text": [
        "working on wIR=54.00, wGR=46.00.... "
       ]
      },
      {
       "output_type": "stream",
       "stream": "stdout",
       "text": [
        "4.01408886488 "
       ]
      },
      {
       "output_type": "stream",
       "stream": "stdout",
       "text": [
        "working on wIR=54.00, wGR=48.00.... "
       ]
      },
      {
       "output_type": "stream",
       "stream": "stdout",
       "text": [
        "4.34293555458 "
       ]
      },
      {
       "output_type": "stream",
       "stream": "stdout",
       "text": [
        "working on wIR=54.00, wGR=50.00.... "
       ]
      },
      {
       "output_type": "stream",
       "stream": "stdout",
       "text": [
        "4.35019513706 "
       ]
      },
      {
       "output_type": "stream",
       "stream": "stdout",
       "text": [
        "working on wIR=54.00, wGR=52.00.... "
       ]
      },
      {
       "output_type": "stream",
       "stream": "stdout",
       "text": [
        "4.35120308929 "
       ]
      },
      {
       "output_type": "stream",
       "stream": "stdout",
       "text": [
        "working on wIR=54.00, wGR=54.00.... "
       ]
      },
      {
       "output_type": "stream",
       "stream": "stdout",
       "text": [
        "4.38315225254 "
       ]
      },
      {
       "output_type": "stream",
       "stream": "stdout",
       "text": [
        "working on wIR=54.00, wGR=56.00.... "
       ]
      },
      {
       "output_type": "stream",
       "stream": "stdout",
       "text": [
        "4.40780135437 "
       ]
      },
      {
       "output_type": "stream",
       "stream": "stdout",
       "text": [
        "working on wIR=54.00, wGR=58.00.... "
       ]
      },
      {
       "output_type": "stream",
       "stream": "stdout",
       "text": [
        "4.4346333412 "
       ]
      },
      {
       "output_type": "stream",
       "stream": "stdout",
       "text": [
        "working on wIR=54.00, wGR=60.00.... "
       ]
      },
      {
       "output_type": "stream",
       "stream": "stdout",
       "text": [
        "4.44809752164 "
       ]
      },
      {
       "output_type": "stream",
       "stream": "stdout",
       "text": [
        "working on wIR=56.00, wGR=28.00.... "
       ]
      },
      {
       "output_type": "stream",
       "stream": "stdout",
       "text": [
        "1.37413195282 "
       ]
      },
      {
       "output_type": "stream",
       "stream": "stdout",
       "text": [
        "working on wIR=56.00, wGR=30.00.... "
       ]
      },
      {
       "output_type": "stream",
       "stream": "stdout",
       "text": [
        "1.57744739482 "
       ]
      },
      {
       "output_type": "stream",
       "stream": "stdout",
       "text": [
        "working on wIR=56.00, wGR=32.00.... "
       ]
      },
      {
       "output_type": "stream",
       "stream": "stdout",
       "text": [
        "1.80811795139 "
       ]
      },
      {
       "output_type": "stream",
       "stream": "stdout",
       "text": [
        "working on wIR=56.00, wGR=34.00.... "
       ]
      },
      {
       "output_type": "stream",
       "stream": "stdout",
       "text": [
        "2.03947690606 "
       ]
      },
      {
       "output_type": "stream",
       "stream": "stdout",
       "text": [
        "working on wIR=56.00, wGR=36.00.... "
       ]
      },
      {
       "output_type": "stream",
       "stream": "stdout",
       "text": [
        "2.28606085203 "
       ]
      },
      {
       "output_type": "stream",
       "stream": "stdout",
       "text": [
        "working on wIR=56.00, wGR=38.00.... "
       ]
      },
      {
       "output_type": "stream",
       "stream": "stdout",
       "text": [
        "2.54712335674 "
       ]
      },
      {
       "output_type": "stream",
       "stream": "stdout",
       "text": [
        "working on wIR=56.00, wGR=40.00.... "
       ]
      },
      {
       "output_type": "stream",
       "stream": "stdout",
       "text": [
        "2.83563072338 "
       ]
      },
      {
       "output_type": "stream",
       "stream": "stdout",
       "text": [
        "working on wIR=56.00, wGR=42.00.... "
       ]
      },
      {
       "output_type": "stream",
       "stream": "stdout",
       "text": [
        "3.12491620586 "
       ]
      },
      {
       "output_type": "stream",
       "stream": "stdout",
       "text": [
        "working on wIR=56.00, wGR=44.00.... "
       ]
      },
      {
       "output_type": "stream",
       "stream": "stdout",
       "text": [
        "3.42840050637 "
       ]
      },
      {
       "output_type": "stream",
       "stream": "stdout",
       "text": [
        "working on wIR=56.00, wGR=46.00.... "
       ]
      },
      {
       "output_type": "stream",
       "stream": "stdout",
       "text": [
        "3.7471567518 "
       ]
      },
      {
       "output_type": "stream",
       "stream": "stdout",
       "text": [
        "working on wIR=56.00, wGR=48.00.... "
       ]
      },
      {
       "output_type": "stream",
       "stream": "stdout",
       "text": [
        "4.06410818139 "
       ]
      },
      {
       "output_type": "stream",
       "stream": "stdout",
       "text": [
        "working on wIR=56.00, wGR=50.00.... "
       ]
      },
      {
       "output_type": "stream",
       "stream": "stdout",
       "text": [
        "4.33642656248 "
       ]
      },
      {
       "output_type": "stream",
       "stream": "stdout",
       "text": [
        "working on wIR=56.00, wGR=52.00.... "
       ]
      },
      {
       "output_type": "stream",
       "stream": "stdout",
       "text": [
        "4.34058674313 "
       ]
      },
      {
       "output_type": "stream",
       "stream": "stdout",
       "text": [
        "working on wIR=56.00, wGR=54.00.... "
       ]
      },
      {
       "output_type": "stream",
       "stream": "stdout",
       "text": [
        "4.35600511792 "
       ]
      },
      {
       "output_type": "stream",
       "stream": "stdout",
       "text": [
        "working on wIR=56.00, wGR=56.00.... "
       ]
      },
      {
       "output_type": "stream",
       "stream": "stdout",
       "text": [
        "4.39658790362 "
       ]
      },
      {
       "output_type": "stream",
       "stream": "stdout",
       "text": [
        "working on wIR=56.00, wGR=58.00.... "
       ]
      },
      {
       "output_type": "stream",
       "stream": "stdout",
       "text": [
        "4.41988401319 "
       ]
      },
      {
       "output_type": "stream",
       "stream": "stdout",
       "text": [
        "working on wIR=56.00, wGR=60.00.... "
       ]
      },
      {
       "output_type": "stream",
       "stream": "stdout",
       "text": [
        "4.42823833911 "
       ]
      },
      {
       "output_type": "stream",
       "stream": "stdout",
       "text": [
        "working on wIR=56.00, wGR=62.00.... "
       ]
      },
      {
       "output_type": "stream",
       "stream": "stdout",
       "text": [
        "4.45949841626 "
       ]
      },
      {
       "output_type": "stream",
       "stream": "stdout",
       "text": [
        "working on wIR=58.00, wGR=28.00.... "
       ]
      },
      {
       "output_type": "stream",
       "stream": "stdout",
       "text": [
        "1.30246011678 "
       ]
      },
      {
       "output_type": "stream",
       "stream": "stdout",
       "text": [
        "working on wIR=58.00, wGR=30.00.... "
       ]
      },
      {
       "output_type": "stream",
       "stream": "stdout",
       "text": [
        "1.47053359992 "
       ]
      },
      {
       "output_type": "stream",
       "stream": "stdout",
       "text": [
        "working on wIR=58.00, wGR=32.00.... "
       ]
      },
      {
       "output_type": "stream",
       "stream": "stdout",
       "text": [
        "1.68647380962 "
       ]
      },
      {
       "output_type": "stream",
       "stream": "stdout",
       "text": [
        "working on wIR=58.00, wGR=34.00.... "
       ]
      },
      {
       "output_type": "stream",
       "stream": "stdout",
       "text": [
        "1.90215207414 "
       ]
      },
      {
       "output_type": "stream",
       "stream": "stdout",
       "text": [
        "working on wIR=58.00, wGR=36.00.... "
       ]
      },
      {
       "output_type": "stream",
       "stream": "stdout",
       "text": [
        "2.13111974791 "
       ]
      },
      {
       "output_type": "stream",
       "stream": "stdout",
       "text": [
        "working on wIR=58.00, wGR=38.00.... "
       ]
      },
      {
       "output_type": "stream",
       "stream": "stdout",
       "text": [
        "2.3744883611 "
       ]
      },
      {
       "output_type": "stream",
       "stream": "stdout",
       "text": [
        "working on wIR=58.00, wGR=40.00.... "
       ]
      },
      {
       "output_type": "stream",
       "stream": "stdout",
       "text": [
        "2.64434540682 "
       ]
      },
      {
       "output_type": "stream",
       "stream": "stdout",
       "text": [
        "working on wIR=58.00, wGR=42.00.... "
       ]
      },
      {
       "output_type": "stream",
       "stream": "stdout",
       "text": [
        "2.91402414435 "
       ]
      },
      {
       "output_type": "stream",
       "stream": "stdout",
       "text": [
        "working on wIR=58.00, wGR=44.00.... "
       ]
      },
      {
       "output_type": "stream",
       "stream": "stdout",
       "text": [
        "3.19685794225 "
       ]
      },
      {
       "output_type": "stream",
       "stream": "stdout",
       "text": [
        "working on wIR=58.00, wGR=46.00.... "
       ]
      },
      {
       "output_type": "stream",
       "stream": "stdout",
       "text": [
        "3.49318774484 "
       ]
      },
      {
       "output_type": "stream",
       "stream": "stdout",
       "text": [
        "working on wIR=58.00, wGR=48.00.... "
       ]
      },
      {
       "output_type": "stream",
       "stream": "stdout",
       "text": [
        "3.8035465804 "
       ]
      },
      {
       "output_type": "stream",
       "stream": "stdout",
       "text": [
        "working on wIR=58.00, wGR=50.00.... "
       ]
      },
      {
       "output_type": "stream",
       "stream": "stdout",
       "text": [
        "4.11095630384 "
       ]
      },
      {
       "output_type": "stream",
       "stream": "stdout",
       "text": [
        "working on wIR=58.00, wGR=52.00.... "
       ]
      },
      {
       "output_type": "stream",
       "stream": "stdout",
       "text": [
        "4.33585603256 "
       ]
      },
      {
       "output_type": "stream",
       "stream": "stdout",
       "text": [
        "working on wIR=58.00, wGR=54.00.... "
       ]
      },
      {
       "output_type": "stream",
       "stream": "stdout",
       "text": [
        "4.34655792515 "
       ]
      },
      {
       "output_type": "stream",
       "stream": "stdout",
       "text": [
        "working on wIR=58.00, wGR=56.00.... "
       ]
      },
      {
       "output_type": "stream",
       "stream": "stdout",
       "text": [
        "4.36750305746 "
       ]
      },
      {
       "output_type": "stream",
       "stream": "stdout",
       "text": [
        "working on wIR=58.00, wGR=58.00.... "
       ]
      },
      {
       "output_type": "stream",
       "stream": "stdout",
       "text": [
        "4.39658790362 "
       ]
      },
      {
       "output_type": "stream",
       "stream": "stdout",
       "text": [
        "working on wIR=58.00, wGR=60.00.... "
       ]
      },
      {
       "output_type": "stream",
       "stream": "stdout",
       "text": [
        "4.40937924206 "
       ]
      },
      {
       "output_type": "stream",
       "stream": "stdout",
       "text": [
        "working on wIR=58.00, wGR=62.00.... "
       ]
      },
      {
       "output_type": "stream",
       "stream": "stdout",
       "text": [
        "4.45758455928 "
       ]
      },
      {
       "output_type": "stream",
       "stream": "stdout",
       "text": [
        "working on wIR=58.00, wGR=64.00.... "
       ]
      },
      {
       "output_type": "stream",
       "stream": "stdout",
       "text": [
        "4.49908379853 "
       ]
      },
      {
       "output_type": "stream",
       "stream": "stdout",
       "text": [
        "working on wIR=60.00, wGR=28.00.... "
       ]
      },
      {
       "output_type": "stream",
       "stream": "stdout",
       "text": [
        "1.21707662024 "
       ]
      },
      {
       "output_type": "stream",
       "stream": "stdout",
       "text": [
        "working on wIR=60.00, wGR=30.00.... "
       ]
      },
      {
       "output_type": "stream",
       "stream": "stdout",
       "text": [
        "1.39715428344 "
       ]
      },
      {
       "output_type": "stream",
       "stream": "stdout",
       "text": [
        "working on wIR=60.00, wGR=32.00.... "
       ]
      },
      {
       "output_type": "stream",
       "stream": "stdout",
       "text": [
        "1.56345679965 "
       ]
      },
      {
       "output_type": "stream",
       "stream": "stdout",
       "text": [
        "working on wIR=60.00, wGR=34.00.... "
       ]
      },
      {
       "output_type": "stream",
       "stream": "stdout",
       "text": [
        "1.77832951224 "
       ]
      },
      {
       "output_type": "stream",
       "stream": "stdout",
       "text": [
        "working on wIR=60.00, wGR=36.00.... "
       ]
      },
      {
       "output_type": "stream",
       "stream": "stdout",
       "text": [
        "1.99208337474 "
       ]
      },
      {
       "output_type": "stream",
       "stream": "stdout",
       "text": [
        "working on wIR=60.00, wGR=38.00.... "
       ]
      },
      {
       "output_type": "stream",
       "stream": "stdout",
       "text": [
        "2.21882745743 "
       ]
      },
      {
       "output_type": "stream",
       "stream": "stdout",
       "text": [
        "working on wIR=60.00, wGR=40.00.... "
       ]
      },
      {
       "output_type": "stream",
       "stream": "stdout",
       "text": [
        "2.45853457887 "
       ]
      },
      {
       "output_type": "stream",
       "stream": "stdout",
       "text": [
        "working on wIR=60.00, wGR=42.00.... "
       ]
      },
      {
       "output_type": "stream",
       "stream": "stdout",
       "text": [
        "2.72386774674 "
       ]
      },
      {
       "output_type": "stream",
       "stream": "stdout",
       "text": [
        "working on wIR=60.00, wGR=44.00.... "
       ]
      },
      {
       "output_type": "stream",
       "stream": "stdout",
       "text": [
        "2.98816021789 "
       ]
      },
      {
       "output_type": "stream",
       "stream": "stdout",
       "text": [
        "working on wIR=60.00, wGR=46.00.... "
       ]
      },
      {
       "output_type": "stream",
       "stream": "stdout",
       "text": [
        "3.26474536211 "
       ]
      },
      {
       "output_type": "stream",
       "stream": "stdout",
       "text": [
        "working on wIR=60.00, wGR=48.00.... "
       ]
      },
      {
       "output_type": "stream",
       "stream": "stdout",
       "text": [
        "3.55420297124 "
       ]
      },
      {
       "output_type": "stream",
       "stream": "stdout",
       "text": [
        "working on wIR=60.00, wGR=50.00.... "
       ]
      },
      {
       "output_type": "stream",
       "stream": "stdout",
       "text": [
        "3.85655704344 "
       ]
      },
      {
       "output_type": "stream",
       "stream": "stdout",
       "text": [
        "working on wIR=60.00, wGR=52.00.... "
       ]
      },
      {
       "output_type": "stream",
       "stream": "stdout",
       "text": [
        "4.15492343829 "
       ]
      },
      {
       "output_type": "stream",
       "stream": "stdout",
       "text": [
        "working on wIR=60.00, wGR=54.00.... "
       ]
      },
      {
       "output_type": "stream",
       "stream": "stdout",
       "text": [
        "4.34482796516 "
       ]
      },
      {
       "output_type": "stream",
       "stream": "stdout",
       "text": [
        "working on wIR=60.00, wGR=56.00.... "
       ]
      },
      {
       "output_type": "stream",
       "stream": "stdout",
       "text": [
        "4.34564807521 "
       ]
      },
      {
       "output_type": "stream",
       "stream": "stdout",
       "text": [
        "working on wIR=60.00, wGR=58.00.... "
       ]
      },
      {
       "output_type": "stream",
       "stream": "stdout",
       "text": [
        "4.37782611194 "
       ]
      },
      {
       "output_type": "stream",
       "stream": "stdout",
       "text": [
        "working on wIR=60.00, wGR=60.00.... "
       ]
      },
      {
       "output_type": "stream",
       "stream": "stdout",
       "text": [
        "4.41832724372 "
       ]
      },
      {
       "output_type": "stream",
       "stream": "stdout",
       "text": [
        "working on wIR=60.00, wGR=62.00.... "
       ]
      },
      {
       "output_type": "stream",
       "stream": "stdout",
       "text": [
        "4.43714513912 "
       ]
      },
      {
       "output_type": "stream",
       "stream": "stdout",
       "text": [
        "working on wIR=60.00, wGR=64.00.... "
       ]
      },
      {
       "output_type": "stream",
       "stream": "stdout",
       "text": [
        "4.45371955329 "
       ]
      },
      {
       "output_type": "stream",
       "stream": "stdout",
       "text": [
        "working on wIR=60.00, wGR=66.00.... "
       ]
      },
      {
       "output_type": "stream",
       "stream": "stdout",
       "text": [
        "4.51357020049 "
       ]
      },
      {
       "output_type": "stream",
       "stream": "stdout",
       "text": [
        "working on wIR=62.00, wGR=28.00.... "
       ]
      },
      {
       "output_type": "stream",
       "stream": "stdout",
       "text": [
        "1.13982201687 "
       ]
      },
      {
       "output_type": "stream",
       "stream": "stdout",
       "text": [
        "working on wIR=62.00, wGR=30.00.... "
       ]
      },
      {
       "output_type": "stream",
       "stream": "stdout",
       "text": [
        "1.30846915202 "
       ]
      },
      {
       "output_type": "stream",
       "stream": "stdout",
       "text": [
        "working on wIR=62.00, wGR=32.00.... "
       ]
      },
      {
       "output_type": "stream",
       "stream": "stdout",
       "text": [
        "1.48874712408 "
       ]
      },
      {
       "output_type": "stream",
       "stream": "stdout",
       "text": [
        "working on wIR=62.00, wGR=34.00.... "
       ]
      },
      {
       "output_type": "stream",
       "stream": "stdout",
       "text": [
        "1.66629541556 "
       ]
      },
      {
       "output_type": "stream",
       "stream": "stdout",
       "text": [
        "working on wIR=62.00, wGR=36.00.... "
       ]
      },
      {
       "output_type": "stream",
       "stream": "stdout",
       "text": [
        "1.86648113486 "
       ]
      },
      {
       "output_type": "stream",
       "stream": "stdout",
       "text": [
        "working on wIR=62.00, wGR=38.00.... "
       ]
      },
      {
       "output_type": "stream",
       "stream": "stdout",
       "text": [
        "2.07810603812 "
       ]
      },
      {
       "output_type": "stream",
       "stream": "stdout",
       "text": [
        "working on wIR=62.00, wGR=40.00.... "
       ]
      },
      {
       "output_type": "stream",
       "stream": "stdout",
       "text": [
        "2.30247775336 "
       ]
      },
      {
       "output_type": "stream",
       "stream": "stdout",
       "text": [
        "working on wIR=62.00, wGR=42.00.... "
       ]
      },
      {
       "output_type": "stream",
       "stream": "stdout",
       "text": [
        "2.53848172308 "
       ]
      },
      {
       "output_type": "stream",
       "stream": "stdout",
       "text": [
        "working on wIR=62.00, wGR=44.00.... "
       ]
      },
      {
       "output_type": "stream",
       "stream": "stdout",
       "text": [
        "2.79933145622 "
       ]
      },
      {
       "output_type": "stream",
       "stream": "stdout",
       "text": [
        "working on wIR=62.00, wGR=46.00.... "
       ]
      },
      {
       "output_type": "stream",
       "stream": "stdout",
       "text": [
        "3.05836020732 "
       ]
      },
      {
       "output_type": "stream",
       "stream": "stdout",
       "text": [
        "working on wIR=62.00, wGR=48.00.... "
       ]
      },
      {
       "output_type": "stream",
       "stream": "stdout",
       "text": [
        "3.32890134735 "
       ]
      },
      {
       "output_type": "stream",
       "stream": "stdout",
       "text": [
        "working on wIR=62.00, wGR=50.00.... "
       ]
      },
      {
       "output_type": "stream",
       "stream": "stdout",
       "text": [
        "3.61175997825 "
       ]
      },
      {
       "output_type": "stream",
       "stream": "stdout",
       "text": [
        "working on wIR=62.00, wGR=52.00.... "
       ]
      },
      {
       "output_type": "stream",
       "stream": "stdout",
       "text": [
        "3.90647959248 "
       ]
      },
      {
       "output_type": "stream",
       "stream": "stdout",
       "text": [
        "working on wIR=62.00, wGR=54.00.... "
       ]
      },
      {
       "output_type": "stream",
       "stream": "stdout",
       "text": [
        "4.1962657055 "
       ]
      },
      {
       "output_type": "stream",
       "stream": "stdout",
       "text": [
        "working on wIR=62.00, wGR=56.00.... "
       ]
      },
      {
       "output_type": "stream",
       "stream": "stdout",
       "text": [
        "4.33126772469 "
       ]
      },
      {
       "output_type": "stream",
       "stream": "stdout",
       "text": [
        "working on wIR=62.00, wGR=58.00.... "
       ]
      },
      {
       "output_type": "stream",
       "stream": "stdout",
       "text": [
        "4.33839391324 "
       ]
      },
      {
       "output_type": "stream",
       "stream": "stdout",
       "text": [
        "working on wIR=62.00, wGR=60.00.... "
       ]
      },
      {
       "output_type": "stream",
       "stream": "stdout",
       "text": [
        "4.38361438685 "
       ]
      },
      {
       "output_type": "stream",
       "stream": "stdout",
       "text": [
        "working on wIR=62.00, wGR=62.00.... "
       ]
      },
      {
       "output_type": "stream",
       "stream": "stdout",
       "text": [
        "4.41832724372 "
       ]
      },
      {
       "output_type": "stream",
       "stream": "stdout",
       "text": [
        "working on wIR=62.00, wGR=64.00.... "
       ]
      },
      {
       "output_type": "stream",
       "stream": "stdout",
       "text": [
        "4.45108001031 "
       ]
      },
      {
       "output_type": "stream",
       "stream": "stdout",
       "text": [
        "working on wIR=62.00, wGR=66.00.... "
       ]
      },
      {
       "output_type": "stream",
       "stream": "stdout",
       "text": [
        "4.50027412234 "
       ]
      },
      {
       "output_type": "stream",
       "stream": "stdout",
       "text": [
        "working on wIR=62.00, wGR=68.00.... "
       ]
      },
      {
       "output_type": "stream",
       "stream": "stdout",
       "text": [
        "4.555599489 "
       ]
      },
      {
       "output_type": "stream",
       "stream": "stdout",
       "text": [
        "working on wIR=64.00, wGR=28.00.... "
       ]
      },
      {
       "output_type": "stream",
       "stream": "stdout",
       "text": [
        "1.06969624826 "
       ]
      },
      {
       "output_type": "stream",
       "stream": "stdout",
       "text": [
        "working on wIR=64.00, wGR=30.00.... "
       ]
      },
      {
       "output_type": "stream",
       "stream": "stdout",
       "text": [
        "1.22796763193 "
       ]
      },
      {
       "output_type": "stream",
       "stream": "stdout",
       "text": [
        "working on wIR=64.00, wGR=32.00.... "
       ]
      },
      {
       "output_type": "stream",
       "stream": "stdout",
       "text": [
        "1.39715428344 "
       ]
      },
      {
       "output_type": "stream",
       "stream": "stdout",
       "text": [
        "working on wIR=64.00, wGR=34.00.... "
       ]
      },
      {
       "output_type": "stream",
       "stream": "stdout",
       "text": [
        "1.57725620278 "
       ]
      },
      {
       "output_type": "stream",
       "stream": "stdout",
       "text": [
        "working on wIR=64.00, wGR=36.00.... "
       ]
      },
      {
       "output_type": "stream",
       "stream": "stdout",
       "text": [
        "1.75246911191 "
       ]
      },
      {
       "output_type": "stream",
       "stream": "stdout",
       "text": [
        "working on wIR=64.00, wGR=38.00.... "
       ]
      },
      {
       "output_type": "stream",
       "stream": "stdout",
       "text": [
        "1.95107412366 "
       ]
      },
      {
       "output_type": "stream",
       "stream": "stdout",
       "text": [
        "working on wIR=64.00, wGR=40.00.... "
       ]
      },
      {
       "output_type": "stream",
       "stream": "stdout",
       "text": [
        "2.16082140721 "
       ]
      },
      {
       "output_type": "stream",
       "stream": "stdout",
       "text": [
        "working on wIR=64.00, wGR=42.00.... "
       ]
      },
      {
       "output_type": "stream",
       "stream": "stdout",
       "text": [
        "2.38230560145 "
       ]
      },
      {
       "output_type": "stream",
       "stream": "stdout",
       "text": [
        "working on wIR=64.00, wGR=44.00.... "
       ]
      },
      {
       "output_type": "stream",
       "stream": "stdout",
       "text": [
        "2.62792727484 "
       ]
      },
      {
       "output_type": "stream",
       "stream": "stdout",
       "text": [
        "working on wIR=64.00, wGR=46.00.... "
       ]
      },
      {
       "output_type": "stream",
       "stream": "stdout",
       "text": [
        "2.87101968675 "
       ]
      },
      {
       "output_type": "stream",
       "stream": "stdout",
       "text": [
        "working on wIR=64.00, wGR=48.00.... "
       ]
      },
      {
       "output_type": "stream",
       "stream": "stdout",
       "text": [
        "3.12491620586 "
       ]
      },
      {
       "output_type": "stream",
       "stream": "stdout",
       "text": [
        "working on wIR=64.00, wGR=50.00.... "
       ]
      },
      {
       "output_type": "stream",
       "stream": "stdout",
       "text": [
        "3.38961683217 "
       ]
      },
      {
       "output_type": "stream",
       "stream": "stdout",
       "text": [
        "working on wIR=64.00, wGR=52.00.... "
       ]
      },
      {
       "output_type": "stream",
       "stream": "stdout",
       "text": [
        "3.66613953942 "
       ]
      },
      {
       "output_type": "stream",
       "stream": "stdout",
       "text": [
        "working on wIR=64.00, wGR=54.00.... "
       ]
      },
      {
       "output_type": "stream",
       "stream": "stdout",
       "text": [
        "3.95357355657 "
       ]
      },
      {
       "output_type": "stream",
       "stream": "stdout",
       "text": [
        "working on wIR=64.00, wGR=56.00.... "
       ]
      },
      {
       "output_type": "stream",
       "stream": "stdout",
       "text": [
        "4.23520995813 "
       ]
      },
      {
       "output_type": "stream",
       "stream": "stdout",
       "text": [
        "working on wIR=64.00, wGR=58.00.... "
       ]
      },
      {
       "output_type": "stream",
       "stream": "stdout",
       "text": [
        "4.32654926305 "
       ]
      },
      {
       "output_type": "stream",
       "stream": "stdout",
       "text": [
        "working on wIR=64.00, wGR=60.00.... "
       ]
      },
      {
       "output_type": "stream",
       "stream": "stdout",
       "text": [
        "4.33111092566 "
       ]
      },
      {
       "output_type": "stream",
       "stream": "stdout",
       "text": [
        "working on wIR=64.00, wGR=62.00.... "
       ]
      },
      {
       "output_type": "stream",
       "stream": "stdout",
       "text": [
        "4.38648371242 "
       ]
      },
      {
       "output_type": "stream",
       "stream": "stdout",
       "text": [
        "working on wIR=64.00, wGR=64.00.... "
       ]
      },
      {
       "output_type": "stream",
       "stream": "stdout",
       "text": [
        "4.41832724372 "
       ]
      },
      {
       "output_type": "stream",
       "stream": "stdout",
       "text": [
        "working on wIR=64.00, wGR=66.00.... "
       ]
      },
      {
       "output_type": "stream",
       "stream": "stdout",
       "text": [
        "4.46551001823 "
       ]
      },
      {
       "output_type": "stream",
       "stream": "stdout",
       "text": [
        "working on wIR=64.00, wGR=68.00.... "
       ]
      },
      {
       "output_type": "stream",
       "stream": "stdout",
       "text": [
        "4.52295303935 "
       ]
      },
      {
       "output_type": "stream",
       "stream": "stdout",
       "text": [
        "working on wIR=64.00, wGR=70.00.... "
       ]
      },
      {
       "output_type": "stream",
       "stream": "stdout",
       "text": [
        "4.57259079112 "
       ]
      },
      {
       "output_type": "stream",
       "stream": "stdout",
       "text": [
        "working on wIR=66.00, wGR=28.00.... "
       ]
      },
      {
       "output_type": "stream",
       "stream": "stdout",
       "text": [
        "1.00584844648 "
       ]
      },
      {
       "output_type": "stream",
       "stream": "stdout",
       "text": [
        "working on wIR=66.00, wGR=30.00.... "
       ]
      },
      {
       "output_type": "stream",
       "stream": "stdout",
       "text": [
        "1.15467296152 "
       ]
      },
      {
       "output_type": "stream",
       "stream": "stdout",
       "text": [
        "working on wIR=66.00, wGR=32.00.... "
       ]
      },
      {
       "output_type": "stream",
       "stream": "stdout",
       "text": [
        "1.31376123621 "
       ]
      },
      {
       "output_type": "stream",
       "stream": "stdout",
       "text": [
        "working on wIR=66.00, wGR=34.00.... "
       ]
      },
      {
       "output_type": "stream",
       "stream": "stdout",
       "text": [
        "1.48311327057 "
       ]
      },
      {
       "output_type": "stream",
       "stream": "stdout",
       "text": [
        "working on wIR=66.00, wGR=36.00.... "
       ]
      },
      {
       "output_type": "stream",
       "stream": "stdout",
       "text": [
        "1.64866394607 "
       ]
      },
      {
       "output_type": "stream",
       "stream": "stdout",
       "text": [
        "working on wIR=66.00, wGR=38.00.... "
       ]
      },
      {
       "output_type": "stream",
       "stream": "stdout",
       "text": [
        "1.83541466419 "
       ]
      },
      {
       "output_type": "stream",
       "stream": "stdout",
       "text": [
        "working on wIR=66.00, wGR=40.00.... "
       ]
      },
      {
       "output_type": "stream",
       "stream": "stdout",
       "text": [
        "2.03226001572 "
       ]
      },
      {
       "output_type": "stream",
       "stream": "stdout",
       "text": [
        "working on wIR=66.00, wGR=42.00.... "
       ]
      },
      {
       "output_type": "stream",
       "stream": "stdout",
       "text": [
        "2.24011105223 "
       ]
      },
      {
       "output_type": "stream",
       "stream": "stdout",
       "text": [
        "working on wIR=66.00, wGR=44.00.... "
       ]
      },
      {
       "output_type": "stream",
       "stream": "stdout",
       "text": [
        "2.45853457887 "
       ]
      },
      {
       "output_type": "stream",
       "stream": "stdout",
       "text": [
        "working on wIR=66.00, wGR=46.00.... "
       ]
      },
      {
       "output_type": "stream",
       "stream": "stdout",
       "text": [
        "2.70045071249 "
       ]
      },
      {
       "output_type": "stream",
       "stream": "stdout",
       "text": [
        "working on wIR=66.00, wGR=48.00.... "
       ]
      },
      {
       "output_type": "stream",
       "stream": "stdout",
       "text": [
        "2.93919271026 "
       ]
      },
      {
       "output_type": "stream",
       "stream": "stdout",
       "text": [
        "working on wIR=66.00, wGR=50.00.... "
       ]
      },
      {
       "output_type": "stream",
       "stream": "stdout",
       "text": [
        "3.18809394198 "
       ]
      },
      {
       "output_type": "stream",
       "stream": "stdout",
       "text": [
        "working on wIR=66.00, wGR=52.00.... "
       ]
      },
      {
       "output_type": "stream",
       "stream": "stdout",
       "text": [
        "3.44731578363 "
       ]
      },
      {
       "output_type": "stream",
       "stream": "stdout",
       "text": [
        "working on wIR=66.00, wGR=54.00.... "
       ]
      },
      {
       "output_type": "stream",
       "stream": "stdout",
       "text": [
        "3.71759350039 "
       ]
      },
      {
       "output_type": "stream",
       "stream": "stdout",
       "text": [
        "working on wIR=66.00, wGR=56.00.... "
       ]
      },
      {
       "output_type": "stream",
       "stream": "stdout",
       "text": [
        "3.99807037628 "
       ]
      },
      {
       "output_type": "stream",
       "stream": "stdout",
       "text": [
        "working on wIR=66.00, wGR=58.00.... "
       ]
      },
      {
       "output_type": "stream",
       "stream": "stdout",
       "text": [
        "4.28874641129 "
       ]
      },
      {
       "output_type": "stream",
       "stream": "stdout",
       "text": [
        "working on wIR=66.00, wGR=60.00.... "
       ]
      },
      {
       "output_type": "stream",
       "stream": "stdout",
       "text": [
        "4.32479889954 "
       ]
      },
      {
       "output_type": "stream",
       "stream": "stdout",
       "text": [
        "working on wIR=66.00, wGR=62.00.... "
       ]
      },
      {
       "output_type": "stream",
       "stream": "stdout",
       "text": [
        "4.32789234762 "
       ]
      },
      {
       "output_type": "stream",
       "stream": "stdout",
       "text": [
        "working on wIR=66.00, wGR=64.00.... "
       ]
      },
      {
       "output_type": "stream",
       "stream": "stdout",
       "text": [
        "4.37003871118 "
       ]
      },
      {
       "output_type": "stream",
       "stream": "stdout",
       "text": [
        "working on wIR=66.00, wGR=66.00.... "
       ]
      },
      {
       "output_type": "stream",
       "stream": "stdout",
       "text": [
        "4.44006658383 "
       ]
      },
      {
       "output_type": "stream",
       "stream": "stdout",
       "text": [
        "working on wIR=66.00, wGR=68.00.... "
       ]
      },
      {
       "output_type": "stream",
       "stream": "stdout",
       "text": [
        "4.4715749339 "
       ]
      },
      {
       "output_type": "stream",
       "stream": "stdout",
       "text": [
        "working on wIR=66.00, wGR=70.00.... "
       ]
      },
      {
       "output_type": "stream",
       "stream": "stdout",
       "text": [
        "4.53129706318 "
       ]
      },
      {
       "output_type": "stream",
       "stream": "stdout",
       "text": [
        "working on wIR=66.00, wGR=72.00.... "
       ]
      },
      {
       "output_type": "stream",
       "stream": "stdout",
       "text": [
        "4.59072906825 "
       ]
      },
      {
       "output_type": "stream",
       "stream": "stdout",
       "text": [
        "working on wIR=68.00, wGR=28.00.... "
       ]
      },
      {
       "output_type": "stream",
       "stream": "stdout",
       "text": [
        "0.947551001915 "
       ]
      },
      {
       "output_type": "stream",
       "stream": "stdout",
       "text": [
        "working on wIR=68.00, wGR=30.00.... "
       ]
      },
      {
       "output_type": "stream",
       "stream": "stdout",
       "text": [
        "1.08774987465 "
       ]
      },
      {
       "output_type": "stream",
       "stream": "stdout",
       "text": [
        "working on wIR=68.00, wGR=32.00.... "
       ]
      },
      {
       "output_type": "stream",
       "stream": "stdout",
       "text": [
        "1.23761763515 "
       ]
      },
      {
       "output_type": "stream",
       "stream": "stdout",
       "text": [
        "working on wIR=68.00, wGR=34.00.... "
       ]
      },
      {
       "output_type": "stream",
       "stream": "stdout",
       "text": [
        "1.39715428344 "
       ]
      },
      {
       "output_type": "stream",
       "stream": "stdout",
       "text": [
        "working on wIR=68.00, wGR=36.00.... "
       ]
      },
      {
       "output_type": "stream",
       "stream": "stdout",
       "text": [
        "1.56635981949 "
       ]
      },
      {
       "output_type": "stream",
       "stream": "stdout",
       "text": [
        "working on wIR=68.00, wGR=38.00.... "
       ]
      },
      {
       "output_type": "stream",
       "stream": "stdout",
       "text": [
        "1.72980960435 "
       ]
      },
      {
       "output_type": "stream",
       "stream": "stdout",
       "text": [
        "working on wIR=68.00, wGR=40.00.... "
       ]
      },
      {
       "output_type": "stream",
       "stream": "stdout",
       "text": [
        "1.91524609901 "
       ]
      },
      {
       "output_type": "stream",
       "stream": "stdout",
       "text": [
        "working on wIR=68.00, wGR=42.00.... "
       ]
      },
      {
       "output_type": "stream",
       "stream": "stdout",
       "text": [
        "2.11027762619 "
       ]
      },
      {
       "output_type": "stream",
       "stream": "stdout",
       "text": [
        "working on wIR=68.00, wGR=44.00.... "
       ]
      },
      {
       "output_type": "stream",
       "stream": "stdout",
       "text": [
        "2.31604165777 "
       ]
      },
      {
       "output_type": "stream",
       "stream": "stdout",
       "text": [
        "working on wIR=68.00, wGR=46.00.... "
       ]
      },
      {
       "output_type": "stream",
       "stream": "stdout",
       "text": [
        "2.53137610943 "
       ]
      },
      {
       "output_type": "stream",
       "stream": "stdout",
       "text": [
        "working on wIR=68.00, wGR=48.00.... "
       ]
      },
      {
       "output_type": "stream",
       "stream": "stdout",
       "text": [
        "2.76961435537 "
       ]
      },
      {
       "output_type": "stream",
       "stream": "stdout",
       "text": [
        "working on wIR=68.00, wGR=50.00.... "
       ]
      },
      {
       "output_type": "stream",
       "stream": "stdout",
       "text": [
        "3.00408965065 "
       ]
      },
      {
       "output_type": "stream",
       "stream": "stdout",
       "text": [
        "working on wIR=68.00, wGR=52.00.... "
       ]
      },
      {
       "output_type": "stream",
       "stream": "stdout",
       "text": [
        "3.24813536614 "
       ]
      },
      {
       "output_type": "stream",
       "stream": "stdout",
       "text": [
        "working on wIR=68.00, wGR=54.00.... "
       ]
      },
      {
       "output_type": "stream",
       "stream": "stdout",
       "text": [
        "3.50212744111 "
       ]
      },
      {
       "output_type": "stream",
       "stream": "stdout",
       "text": [
        "working on wIR=68.00, wGR=56.00.... "
       ]
      },
      {
       "output_type": "stream",
       "stream": "stdout",
       "text": [
        "3.76634830429 "
       ]
      },
      {
       "output_type": "stream",
       "stream": "stdout",
       "text": [
        "working on wIR=68.00, wGR=58.00.... "
       ]
      },
      {
       "output_type": "stream",
       "stream": "stdout",
       "text": [
        "4.04017719887 "
       ]
      },
      {
       "output_type": "stream",
       "stream": "stdout",
       "text": [
        "working on wIR=68.00, wGR=60.00.... "
       ]
      },
      {
       "output_type": "stream",
       "stream": "stdout",
       "text": [
        "4.32361412483 "
       ]
      },
      {
       "output_type": "stream",
       "stream": "stdout",
       "text": [
        "working on wIR=68.00, wGR=62.00.... "
       ]
      },
      {
       "output_type": "stream",
       "stream": "stdout",
       "text": [
        "4.33012457993 "
       ]
      },
      {
       "output_type": "stream",
       "stream": "stdout",
       "text": [
        "working on wIR=68.00, wGR=64.00.... "
       ]
      },
      {
       "output_type": "stream",
       "stream": "stdout",
       "text": [
        "4.33610281001 "
       ]
      },
      {
       "output_type": "stream",
       "stream": "stdout",
       "text": [
        "working on wIR=68.00, wGR=66.00.... "
       ]
      },
      {
       "output_type": "stream",
       "stream": "stdout",
       "text": [
        "4.38936731794 "
       ]
      },
      {
       "output_type": "stream",
       "stream": "stdout",
       "text": [
        "working on wIR=68.00, wGR=68.00.... "
       ]
      },
      {
       "output_type": "stream",
       "stream": "stdout",
       "text": [
        "4.44006658383 "
       ]
      },
      {
       "output_type": "stream",
       "stream": "stdout",
       "text": [
        "working on wIR=68.00, wGR=70.00.... "
       ]
      },
      {
       "output_type": "stream",
       "stream": "stdout",
       "text": [
        "4.48687892171 "
       ]
      },
      {
       "output_type": "stream",
       "stream": "stdout",
       "text": [
        "working on wIR=68.00, wGR=72.00.... "
       ]
      },
      {
       "output_type": "stream",
       "stream": "stdout",
       "text": [
        "4.55551355013 "
       ]
      },
      {
       "output_type": "stream",
       "stream": "stdout",
       "text": [
        "working on wIR=68.00, wGR=74.00.... "
       ]
      },
      {
       "output_type": "stream",
       "stream": "stdout",
       "text": [
        "4.61974296261 "
       ]
      },
      {
       "output_type": "stream",
       "stream": "stdout",
       "text": [
        "working on wIR=70.00, wGR=28.00.... "
       ]
      },
      {
       "output_type": "stream",
       "stream": "stdout",
       "text": [
        "0.894178741399 "
       ]
      },
      {
       "output_type": "stream",
       "stream": "stdout",
       "text": [
        "working on wIR=70.00, wGR=30.00.... "
       ]
      },
      {
       "output_type": "stream",
       "stream": "stdout",
       "text": [
        "1.02648069803 "
       ]
      },
      {
       "output_type": "stream",
       "stream": "stdout",
       "text": [
        "working on wIR=70.00, wGR=32.00.... "
       ]
      },
      {
       "output_type": "stream",
       "stream": "stdout",
       "text": [
        "1.16790692754 "
       ]
      },
      {
       "output_type": "stream",
       "stream": "stdout",
       "text": [
        "working on wIR=70.00, wGR=34.00.... "
       ]
      },
      {
       "output_type": "stream",
       "stream": "stdout",
       "text": [
        "1.31845742992 "
       ]
      },
      {
       "output_type": "stream",
       "stream": "stdout",
       "text": [
        "working on wIR=70.00, wGR=36.00.... "
       ]
      },
      {
       "output_type": "stream",
       "stream": "stdout",
       "text": [
        "1.47813220517 "
       ]
      },
      {
       "output_type": "stream",
       "stream": "stdout",
       "text": [
        "working on wIR=70.00, wGR=38.00.... "
       ]
      },
      {
       "output_type": "stream",
       "stream": "stdout",
       "text": [
        "1.64693125329 "
       ]
      },
      {
       "output_type": "stream",
       "stream": "stdout",
       "text": [
        "working on wIR=70.00, wGR=40.00.... "
       ]
      },
      {
       "output_type": "stream",
       "stream": "stdout",
       "text": [
        "1.80811795139 "
       ]
      },
      {
       "output_type": "stream",
       "stream": "stdout",
       "text": [
        "working on wIR=70.00, wGR=42.00.... "
       ]
      },
      {
       "output_type": "stream",
       "stream": "stdout",
       "text": [
        "1.99208337474 "
       ]
      },
      {
       "output_type": "stream",
       "stream": "stdout",
       "text": [
        "working on wIR=70.00, wGR=44.00.... "
       ]
      },
      {
       "output_type": "stream",
       "stream": "stdout",
       "text": [
        "2.18558706644 "
       ]
      },
      {
       "output_type": "stream",
       "stream": "stdout",
       "text": [
        "working on wIR=70.00, wGR=46.00.... "
       ]
      },
      {
       "output_type": "stream",
       "stream": "stdout",
       "text": [
        "2.38879247551 "
       ]
      },
      {
       "output_type": "stream",
       "stream": "stdout",
       "text": [
        "working on wIR=70.00, wGR=48.00.... "
       ]
      },
      {
       "output_type": "stream",
       "stream": "stdout",
       "text": [
        "2.614362608 "
       ]
      },
      {
       "output_type": "stream",
       "stream": "stdout",
       "text": [
        "working on wIR=70.00, wGR=50.00.... "
       ]
      },
      {
       "output_type": "stream",
       "stream": "stdout",
       "text": [
        "2.83563072338 "
       ]
      },
      {
       "output_type": "stream",
       "stream": "stdout",
       "text": [
        "working on wIR=70.00, wGR=52.00.... "
       ]
      },
      {
       "output_type": "stream",
       "stream": "stdout",
       "text": [
        "3.06593019041 "
       ]
      },
      {
       "output_type": "stream",
       "stream": "stdout",
       "text": [
        "working on wIR=70.00, wGR=54.00.... "
       ]
      },
      {
       "output_type": "stream",
       "stream": "stdout",
       "text": [
        "3.30526100909 "
       ]
      },
      {
       "output_type": "stream",
       "stream": "stdout",
       "text": [
        "working on wIR=70.00, wGR=56.00.... "
       ]
      },
      {
       "output_type": "stream",
       "stream": "stdout",
       "text": [
        "3.55420297124 "
       ]
      },
      {
       "output_type": "stream",
       "stream": "stdout",
       "text": [
        "working on wIR=70.00, wGR=58.00.... "
       ]
      },
      {
       "output_type": "stream",
       "stream": "stdout",
       "text": [
        "3.8126080342 "
       ]
      },
      {
       "output_type": "stream",
       "stream": "stdout",
       "text": [
        "working on wIR=70.00, wGR=60.00.... "
       ]
      },
      {
       "output_type": "stream",
       "stream": "stdout",
       "text": [
        "4.08007994147 "
       ]
      },
      {
       "output_type": "stream",
       "stream": "stdout",
       "text": [
        "working on wIR=70.00, wGR=62.00.... "
       ]
      },
      {
       "output_type": "stream",
       "stream": "stdout",
       "text": [
        "4.31196998092 "
       ]
      },
      {
       "output_type": "stream",
       "stream": "stdout",
       "text": [
        "working on wIR=70.00, wGR=64.00.... "
       ]
      },
      {
       "output_type": "stream",
       "stream": "stdout",
       "text": [
        "4.31895773126 "
       ]
      },
      {
       "output_type": "stream",
       "stream": "stdout",
       "text": [
        "working on wIR=70.00, wGR=66.00.... "
       ]
      },
      {
       "output_type": "stream",
       "stream": "stdout",
       "text": [
        "4.33690506396 "
       ]
      },
      {
       "output_type": "stream",
       "stream": "stdout",
       "text": [
        "working on wIR=70.00, wGR=68.00.... "
       ]
      },
      {
       "output_type": "stream",
       "stream": "stdout",
       "text": [
        "4.39697124431 "
       ]
      },
      {
       "output_type": "stream",
       "stream": "stdout",
       "text": [
        "working on wIR=70.00, wGR=70.00.... "
       ]
      },
      {
       "output_type": "stream",
       "stream": "stdout",
       "text": [
        "4.47524157501 "
       ]
      },
      {
       "output_type": "stream",
       "stream": "stdout",
       "text": [
        "working on wIR=70.00, wGR=72.00.... "
       ]
      },
      {
       "output_type": "stream",
       "stream": "stdout",
       "text": [
        "4.51677010007 "
       ]
      },
      {
       "output_type": "stream",
       "stream": "stdout",
       "text": [
        "working on wIR=70.00, wGR=74.00.... "
       ]
      },
      {
       "output_type": "stream",
       "stream": "stdout",
       "text": [
        "4.58037292738 "
       ]
      },
      {
       "output_type": "stream",
       "stream": "stdout",
       "text": [
        "working on wIR=70.00, wGR=76.00.... "
       ]
      },
      {
       "output_type": "stream",
       "stream": "stdout",
       "text": [
        "4.66545276055 "
       ]
      },
      {
       "output_type": "stream",
       "stream": "stdout",
       "text": [
        "working on wIR=72.00, wGR=28.00.... "
       ]
      },
      {
       "output_type": "stream",
       "stream": "stdout",
       "text": [
        "0.845192097387 "
       ]
      },
      {
       "output_type": "stream",
       "stream": "stdout",
       "text": [
        "working on wIR=72.00, wGR=30.00.... "
       ]
      },
      {
       "output_type": "stream",
       "stream": "stdout",
       "text": [
        "0.970246030164 "
       ]
      },
      {
       "output_type": "stream",
       "stream": "stdout",
       "text": [
        "working on wIR=72.00, wGR=32.00.... "
       ]
      },
      {
       "output_type": "stream",
       "stream": "stdout",
       "text": [
        "1.1039243721 "
       ]
      },
      {
       "output_type": "stream",
       "stream": "stdout",
       "text": [
        "working on wIR=72.00, wGR=34.00.... "
       ]
      },
      {
       "output_type": "stream",
       "stream": "stdout",
       "text": [
        "1.24622712319 "
       ]
      },
      {
       "output_type": "stream",
       "stream": "stdout",
       "text": [
        "working on wIR=72.00, wGR=36.00.... "
       ]
      },
      {
       "output_type": "stream",
       "stream": "stdout",
       "text": [
        "1.39715428344 "
       ]
      },
      {
       "output_type": "stream",
       "stream": "stdout",
       "text": [
        "working on wIR=72.00, wGR=38.00.... "
       ]
      },
      {
       "output_type": "stream",
       "stream": "stdout",
       "text": [
        "1.55670585284 "
       ]
      },
      {
       "output_type": "stream",
       "stream": "stdout",
       "text": [
        "working on wIR=72.00, wGR=40.00.... "
       ]
      },
      {
       "output_type": "stream",
       "stream": "stdout",
       "text": [
        "1.7248818314 "
       ]
      },
      {
       "output_type": "stream",
       "stream": "stdout",
       "text": [
        "working on wIR=72.00, wGR=42.00.... "
       ]
      },
      {
       "output_type": "stream",
       "stream": "stdout",
       "text": [
        "1.88367963019 "
       ]
      },
      {
       "output_type": "stream",
       "stream": "stdout",
       "text": [
        "working on wIR=72.00, wGR=44.00.... "
       ]
      },
      {
       "output_type": "stream",
       "stream": "stdout",
       "text": [
        "2.066048997 "
       ]
      },
      {
       "output_type": "stream",
       "stream": "stdout",
       "text": [
        "working on wIR=72.00, wGR=46.00.... "
       ]
      },
      {
       "output_type": "stream",
       "stream": "stdout",
       "text": [
        "2.25792498649 "
       ]
      },
      {
       "output_type": "stream",
       "stream": "stdout",
       "text": [
        "working on wIR=72.00, wGR=48.00.... "
       ]
      },
      {
       "output_type": "stream",
       "stream": "stdout",
       "text": [
        "2.45853457887 "
       ]
      },
      {
       "output_type": "stream",
       "stream": "stdout",
       "text": [
        "working on wIR=72.00, wGR=50.00.... "
       ]
      },
      {
       "output_type": "stream",
       "stream": "stdout",
       "text": [
        "2.68101412254 "
       ]
      },
      {
       "output_type": "stream",
       "stream": "stdout",
       "text": [
        "working on wIR=72.00, wGR=52.00.... "
       ]
      },
      {
       "output_type": "stream",
       "stream": "stdout",
       "text": [
        "2.89869687494 "
       ]
      },
      {
       "output_type": "stream",
       "stream": "stdout",
       "text": [
        "working on wIR=72.00, wGR=54.00.... "
       ]
      },
      {
       "output_type": "stream",
       "stream": "stdout",
       "text": [
        "3.12491620586 "
       ]
      },
      {
       "output_type": "stream",
       "stream": "stdout",
       "text": [
        "working on wIR=72.00, wGR=56.00.... "
       ]
      },
      {
       "output_type": "stream",
       "stream": "stdout",
       "text": [
        "3.35967211531 "
       ]
      },
      {
       "output_type": "stream",
       "stream": "stdout",
       "text": [
        "working on wIR=72.00, wGR=58.00.... "
       ]
      },
      {
       "output_type": "stream",
       "stream": "stdout",
       "text": [
        "3.60373830393 "
       ]
      },
      {
       "output_type": "stream",
       "stream": "stdout",
       "text": [
        "working on wIR=72.00, wGR=60.00.... "
       ]
      },
      {
       "output_type": "stream",
       "stream": "stdout",
       "text": [
        "3.85655704344 "
       ]
      },
      {
       "output_type": "stream",
       "stream": "stdout",
       "text": [
        "working on wIR=72.00, wGR=62.00.... "
       ]
      },
      {
       "output_type": "stream",
       "stream": "stdout",
       "text": [
        "4.11794590972 "
       ]
      },
      {
       "output_type": "stream",
       "stream": "stdout",
       "text": [
        "working on wIR=72.00, wGR=64.00.... "
       ]
      },
      {
       "output_type": "stream",
       "stream": "stdout",
       "text": [
        "4.2979662064 "
       ]
      },
      {
       "output_type": "stream",
       "stream": "stdout",
       "text": [
        "working on wIR=72.00, wGR=66.00.... "
       ]
      },
      {
       "output_type": "stream",
       "stream": "stdout",
       "text": [
        "4.31136751175 "
       ]
      },
      {
       "output_type": "stream",
       "stream": "stdout",
       "text": [
        "working on wIR=72.00, wGR=68.00.... "
       ]
      },
      {
       "output_type": "stream",
       "stream": "stdout",
       "text": [
        "4.32037059247 "
       ]
      },
      {
       "output_type": "stream",
       "stream": "stdout",
       "text": [
        "working on wIR=72.00, wGR=70.00.... "
       ]
      },
      {
       "output_type": "stream",
       "stream": "stdout",
       "text": [
        "4.39082537407 "
       ]
      },
      {
       "output_type": "stream",
       "stream": "stdout",
       "text": [
        "working on wIR=72.00, wGR=72.00.... "
       ]
      },
      {
       "output_type": "stream",
       "stream": "stdout",
       "text": [
        "4.48867722609 "
       ]
      },
      {
       "output_type": "stream",
       "stream": "stdout",
       "text": [
        "working on wIR=72.00, wGR=74.00.... "
       ]
      },
      {
       "output_type": "stream",
       "stream": "stdout",
       "text": [
        "4.53276632042 "
       ]
      },
      {
       "output_type": "stream",
       "stream": "stdout",
       "text": [
        "working on wIR=72.00, wGR=76.00.... "
       ]
      },
      {
       "output_type": "stream",
       "stream": "stdout",
       "text": [
        "4.59085029928 "
       ]
      },
      {
       "output_type": "stream",
       "stream": "stdout",
       "text": [
        "working on wIR=72.00, wGR=78.00.... "
       ]
      },
      {
       "output_type": "stream",
       "stream": "stdout",
       "text": [
        "4.68629444589 "
       ]
      },
      {
       "output_type": "stream",
       "stream": "stdout",
       "text": [
        "working on wIR=74.00, wGR=28.00.... "
       ]
      },
      {
       "output_type": "stream",
       "stream": "stdout",
       "text": [
        "0.800123417249 "
       ]
      },
      {
       "output_type": "stream",
       "stream": "stdout",
       "text": [
        "working on wIR=74.00, wGR=30.00.... "
       ]
      },
      {
       "output_type": "stream",
       "stream": "stdout",
       "text": [
        "0.918509024903 "
       ]
      },
      {
       "output_type": "stream",
       "stream": "stdout",
       "text": [
        "working on wIR=74.00, wGR=32.00.... "
       ]
      },
      {
       "output_type": "stream",
       "stream": "stdout",
       "text": [
        "1.04505915722 "
       ]
      },
      {
       "output_type": "stream",
       "stream": "stdout",
       "text": [
        "working on wIR=74.00, wGR=34.00.... "
       ]
      },
      {
       "output_type": "stream",
       "stream": "stdout",
       "text": [
        "1.17977381421 "
       ]
      },
      {
       "output_type": "stream",
       "stream": "stdout",
       "text": [
        "working on wIR=74.00, wGR=36.00.... "
       ]
      },
      {
       "output_type": "stream",
       "stream": "stdout",
       "text": [
        "1.32265299586 "
       ]
      },
      {
       "output_type": "stream",
       "stream": "stdout",
       "text": [
        "working on wIR=74.00, wGR=38.00.... "
       ]
      },
      {
       "output_type": "stream",
       "stream": "stdout",
       "text": [
        "1.47369670218 "
       ]
      },
      {
       "output_type": "stream",
       "stream": "stdout",
       "text": [
        "working on wIR=74.00, wGR=40.00.... "
       ]
      },
      {
       "output_type": "stream",
       "stream": "stdout",
       "text": [
        "1.63290493316 "
       ]
      },
      {
       "output_type": "stream",
       "stream": "stdout",
       "text": [
        "working on wIR=74.00, wGR=42.00.... "
       ]
      },
      {
       "output_type": "stream",
       "stream": "stdout",
       "text": [
        "1.80027768881 "
       ]
      },
      {
       "output_type": "stream",
       "stream": "stdout",
       "text": [
        "working on wIR=74.00, wGR=44.00.... "
       ]
      },
      {
       "output_type": "stream",
       "stream": "stdout",
       "text": [
        "1.95659082063 "
       ]
      },
      {
       "output_type": "stream",
       "stream": "stdout",
       "text": [
        "working on wIR=74.00, wGR=46.00.... "
       ]
      },
      {
       "output_type": "stream",
       "stream": "stdout",
       "text": [
        "2.13752431154 "
       ]
      },
      {
       "output_type": "stream",
       "stream": "stdout",
       "text": [
        "working on wIR=74.00, wGR=48.00.... "
       ]
      },
      {
       "output_type": "stream",
       "stream": "stdout",
       "text": [
        "2.32743667948 "
       ]
      },
      {
       "output_type": "stream",
       "stream": "stdout",
       "text": [
        "working on wIR=74.00, wGR=50.00.... "
       ]
      },
      {
       "output_type": "stream",
       "stream": "stdout",
       "text": [
        "2.52543042479 "
       ]
      },
      {
       "output_type": "stream",
       "stream": "stdout",
       "text": [
        "working on wIR=74.00, wGR=52.00.... "
       ]
      },
      {
       "output_type": "stream",
       "stream": "stdout",
       "text": [
        "2.7448389213 "
       ]
      },
      {
       "output_type": "stream",
       "stream": "stdout",
       "text": [
        "working on wIR=74.00, wGR=54.00.... "
       ]
      },
      {
       "output_type": "stream",
       "stream": "stdout",
       "text": [
        "2.9589954245 "
       ]
      },
      {
       "output_type": "stream",
       "stream": "stdout",
       "text": [
        "working on wIR=74.00, wGR=56.00.... "
       ]
      },
      {
       "output_type": "stream",
       "stream": "stdout",
       "text": [
        "3.18123330517 "
       ]
      },
      {
       "output_type": "stream",
       "stream": "stdout",
       "text": [
        "working on wIR=74.00, wGR=58.00.... "
       ]
      },
      {
       "output_type": "stream",
       "stream": "stdout",
       "text": [
        "3.41157402622 "
       ]
      },
      {
       "output_type": "stream",
       "stream": "stdout",
       "text": [
        "working on wIR=74.00, wGR=60.00.... "
       ]
      },
      {
       "output_type": "stream",
       "stream": "stdout",
       "text": [
        "3.65091156194 "
       ]
      },
      {
       "output_type": "stream",
       "stream": "stdout",
       "text": [
        "working on wIR=74.00, wGR=62.00.... "
       ]
      },
      {
       "output_type": "stream",
       "stream": "stdout",
       "text": [
        "3.89836223448 "
       ]
      },
      {
       "output_type": "stream",
       "stream": "stdout",
       "text": [
        "working on wIR=74.00, wGR=64.00.... "
       ]
      },
      {
       "output_type": "stream",
       "stream": "stdout",
       "text": [
        "4.15392604381 "
       ]
      },
      {
       "output_type": "stream",
       "stream": "stdout",
       "text": [
        "working on wIR=74.00, wGR=66.00.... "
       ]
      },
      {
       "output_type": "stream",
       "stream": "stdout",
       "text": [
        "4.30573543894 "
       ]
      },
      {
       "output_type": "stream",
       "stream": "stdout",
       "text": [
        "working on wIR=74.00, wGR=68.00.... "
       ]
      },
      {
       "output_type": "stream",
       "stream": "stdout",
       "text": [
        "4.31193166219 "
       ]
      },
      {
       "output_type": "stream",
       "stream": "stdout",
       "text": [
        "working on wIR=74.00, wGR=70.00.... "
       ]
      },
      {
       "output_type": "stream",
       "stream": "stdout",
       "text": [
        "4.33033686731 "
       ]
      },
      {
       "output_type": "stream",
       "stream": "stdout",
       "text": [
        "working on wIR=74.00, wGR=72.00.... "
       ]
      },
      {
       "output_type": "stream",
       "stream": "stdout",
       "text": [
        "4.39099725254 "
       ]
      },
      {
       "output_type": "stream",
       "stream": "stdout",
       "text": [
        "working on wIR=74.00, wGR=74.00.... "
       ]
      },
      {
       "output_type": "stream",
       "stream": "stdout",
       "text": [
        "4.48867722609 "
       ]
      },
      {
       "output_type": "stream",
       "stream": "stdout",
       "text": [
        "working on wIR=74.00, wGR=76.00.... "
       ]
      },
      {
       "output_type": "stream",
       "stream": "stdout",
       "text": [
        "4.54031844498 "
       ]
      },
      {
       "output_type": "stream",
       "stream": "stdout",
       "text": [
        "working on wIR=74.00, wGR=78.00.... "
       ]
      },
      {
       "output_type": "stream",
       "stream": "stdout",
       "text": [
        "4.61687931668 "
       ]
      },
      {
       "output_type": "stream",
       "stream": "stdout",
       "text": [
        "working on wIR=74.00, wGR=80.00.... "
       ]
      },
      {
       "output_type": "stream",
       "stream": "stdout",
       "text": [
        "4.70793935862 "
       ]
      },
      {
       "output_type": "stream",
       "stream": "stdout",
       "text": [
        "working on wIR=76.00, wGR=28.00.... "
       ]
      },
      {
       "output_type": "stream",
       "stream": "stdout",
       "text": [
        "0.758565760536 "
       ]
      },
      {
       "output_type": "stream",
       "stream": "stdout",
       "text": [
        "working on wIR=76.00, wGR=30.00.... "
       ]
      },
      {
       "output_type": "stream",
       "stream": "stdout",
       "text": [
        "0.870802531227 "
       ]
      },
      {
       "output_type": "stream",
       "stream": "stdout",
       "text": [
        "working on wIR=76.00, wGR=32.00.... "
       ]
      },
      {
       "output_type": "stream",
       "stream": "stdout",
       "text": [
        "0.990779768863 "
       ]
      },
      {
       "output_type": "stream",
       "stream": "stdout",
       "text": [
        "working on wIR=76.00, wGR=34.00.... "
       ]
      },
      {
       "output_type": "stream",
       "stream": "stdout",
       "text": [
        "1.11849747344 "
       ]
      },
      {
       "output_type": "stream",
       "stream": "stdout",
       "text": [
        "working on wIR=76.00, wGR=36.00.... "
       ]
      },
      {
       "output_type": "stream",
       "stream": "stdout",
       "text": [
        "1.25395564497 "
       ]
      },
      {
       "output_type": "stream",
       "stream": "stdout",
       "text": [
        "working on wIR=76.00, wGR=38.00.... "
       ]
      },
      {
       "output_type": "stream",
       "stream": "stdout",
       "text": [
        "1.39715428344 "
       ]
      },
      {
       "output_type": "stream",
       "stream": "stdout",
       "text": [
        "working on wIR=76.00, wGR=40.00.... "
       ]
      },
      {
       "output_type": "stream",
       "stream": "stdout",
       "text": [
        "1.54809338885 "
       ]
      },
      {
       "output_type": "stream",
       "stream": "stdout",
       "text": [
        "working on wIR=76.00, wGR=42.00.... "
       ]
      },
      {
       "output_type": "stream",
       "stream": "stdout",
       "text": [
        "1.70677296121 "
       ]
      },
      {
       "output_type": "stream",
       "stream": "stdout",
       "text": [
        "working on wIR=76.00, wGR=44.00.... "
       ]
      },
      {
       "output_type": "stream",
       "stream": "stdout",
       "text": [
        "1.87319300051 "
       ]
      },
      {
       "output_type": "stream",
       "stream": "stdout",
       "text": [
        "working on wIR=76.00, wGR=46.00.... "
       ]
      },
      {
       "output_type": "stream",
       "stream": "stdout",
       "text": [
        "2.02695054614 "
       ]
      },
      {
       "output_type": "stream",
       "stream": "stdout",
       "text": [
        "working on wIR=76.00, wGR=48.00.... "
       ]
      },
      {
       "output_type": "stream",
       "stream": "stdout",
       "text": [
        "2.2065518104 "
       ]
      },
      {
       "output_type": "stream",
       "stream": "stdout",
       "text": [
        "working on wIR=76.00, wGR=50.00.... "
       ]
      },
      {
       "output_type": "stream",
       "stream": "stdout",
       "text": [
        "2.39426194704 "
       ]
      },
      {
       "output_type": "stream",
       "stream": "stdout",
       "text": [
        "working on wIR=76.00, wGR=52.00.... "
       ]
      },
      {
       "output_type": "stream",
       "stream": "stdout",
       "text": [
        "2.58963372192 "
       ]
      },
      {
       "output_type": "stream",
       "stream": "stdout",
       "text": [
        "working on wIR=76.00, wGR=54.00.... "
       ]
      },
      {
       "output_type": "stream",
       "stream": "stdout",
       "text": [
        "2.80600050979 "
       ]
      },
      {
       "output_type": "stream",
       "stream": "stdout",
       "text": [
        "working on wIR=76.00, wGR=56.00.... "
       ]
      },
      {
       "output_type": "stream",
       "stream": "stdout",
       "text": [
        "3.01669556425 "
       ]
      },
      {
       "output_type": "stream",
       "stream": "stdout",
       "text": [
        "working on wIR=76.00, wGR=58.00.... "
       ]
      },
      {
       "output_type": "stream",
       "stream": "stdout",
       "text": [
        "3.23505225706 "
       ]
      },
      {
       "output_type": "stream",
       "stream": "stdout",
       "text": [
        "working on wIR=76.00, wGR=60.00.... "
       ]
      },
      {
       "output_type": "stream",
       "stream": "stdout",
       "text": [
        "3.46128665395 "
       ]
      },
      {
       "output_type": "stream",
       "stream": "stdout",
       "text": [
        "working on wIR=76.00, wGR=62.00.... "
       ]
      },
      {
       "output_type": "stream",
       "stream": "stdout",
       "text": [
        "3.69588497161 "
       ]
      },
      {
       "output_type": "stream",
       "stream": "stdout",
       "text": [
        "working on wIR=76.00, wGR=64.00.... "
       ]
      },
      {
       "output_type": "stream",
       "stream": "stdout",
       "text": [
        "3.93817503738 "
       ]
      },
      {
       "output_type": "stream",
       "stream": "stdout",
       "text": [
        "working on wIR=76.00, wGR=66.00.... "
       ]
      },
      {
       "output_type": "stream",
       "stream": "stdout",
       "text": [
        "4.18815685128 "
       ]
      },
      {
       "output_type": "stream",
       "stream": "stdout",
       "text": [
        "working on wIR=76.00, wGR=68.00.... "
       ]
      },
      {
       "output_type": "stream",
       "stream": "stdout",
       "text": [
        "4.29431534009 "
       ]
      },
      {
       "output_type": "stream",
       "stream": "stdout",
       "text": [
        "working on wIR=76.00, wGR=70.00.... "
       ]
      },
      {
       "output_type": "stream",
       "stream": "stdout",
       "text": [
        "4.30509820585 "
       ]
      },
      {
       "output_type": "stream",
       "stream": "stdout",
       "text": [
        "working on wIR=76.00, wGR=72.00.... "
       ]
      },
      {
       "output_type": "stream",
       "stream": "stdout",
       "text": [
        "4.3351049343 "
       ]
      },
      {
       "output_type": "stream",
       "stream": "stdout",
       "text": [
        "working on wIR=76.00, wGR=74.00.... "
       ]
      },
      {
       "output_type": "stream",
       "stream": "stdout",
       "text": [
        "4.39793163618 "
       ]
      },
      {
       "output_type": "stream",
       "stream": "stdout",
       "text": [
        "working on wIR=76.00, wGR=76.00.... "
       ]
      },
      {
       "output_type": "stream",
       "stream": "stdout",
       "text": [
        "4.5104165662 "
       ]
      },
      {
       "output_type": "stream",
       "stream": "stdout",
       "text": [
        "working on wIR=76.00, wGR=78.00.... "
       ]
      },
      {
       "output_type": "stream",
       "stream": "stdout",
       "text": [
        "4.55693066359 "
       ]
      },
      {
       "output_type": "stream",
       "stream": "stdout",
       "text": [
        "working on wIR=76.00, wGR=80.00.... "
       ]
      },
      {
       "output_type": "stream",
       "stream": "stdout",
       "text": [
        "4.65260233528 "
       ]
      },
      {
       "output_type": "stream",
       "stream": "stdout",
       "text": [
        "working on wIR=76.00, wGR=82.00.... "
       ]
      },
      {
       "output_type": "stream",
       "stream": "stdout",
       "text": [
        "4.73032189878 "
       ]
      },
      {
       "output_type": "stream",
       "stream": "stdout",
       "text": [
        "working on wIR=78.00, wGR=28.00.... "
       ]
      },
      {
       "output_type": "stream",
       "stream": "stdout",
       "text": [
        "0.720163680614 "
       ]
      },
      {
       "output_type": "stream",
       "stream": "stdout",
       "text": [
        "working on wIR=78.00, wGR=30.00.... "
       ]
      },
      {
       "output_type": "stream",
       "stream": "stdout",
       "text": [
        "0.826718510909 "
       ]
      },
      {
       "output_type": "stream",
       "stream": "stdout",
       "text": [
        "working on wIR=78.00, wGR=32.00.... "
       ]
      },
      {
       "output_type": "stream",
       "stream": "stdout",
       "text": [
        "0.940621950189 "
       ]
      },
      {
       "output_type": "stream",
       "stream": "stdout",
       "text": [
        "working on wIR=78.00, wGR=34.00.... "
       ]
      },
      {
       "output_type": "stream",
       "stream": "stdout",
       "text": [
        "1.06187399846 "
       ]
      },
      {
       "output_type": "stream",
       "stream": "stdout",
       "text": [
        "working on wIR=78.00, wGR=36.00.... "
       ]
      },
      {
       "output_type": "stream",
       "stream": "stdout",
       "text": [
        "1.19047465571 "
       ]
      },
      {
       "output_type": "stream",
       "stream": "stdout",
       "text": [
        "working on wIR=78.00, wGR=38.00.... "
       ]
      },
      {
       "output_type": "stream",
       "stream": "stdout",
       "text": [
        "1.32642392195 "
       ]
      },
      {
       "output_type": "stream",
       "stream": "stdout",
       "text": [
        "working on wIR=78.00, wGR=40.00.... "
       ]
      },
      {
       "output_type": "stream",
       "stream": "stdout",
       "text": [
        "1.46972179717 "
       ]
      },
      {
       "output_type": "stream",
       "stream": "stdout",
       "text": [
        "working on wIR=78.00, wGR=42.00.... "
       ]
      },
      {
       "output_type": "stream",
       "stream": "stdout",
       "text": [
        "1.62036828138 "
       ]
      },
      {
       "output_type": "stream",
       "stream": "stdout",
       "text": [
        "working on wIR=78.00, wGR=44.00.... "
       ]
      },
      {
       "output_type": "stream",
       "stream": "stdout",
       "text": [
        "1.77836337458 "
       ]
      },
      {
       "output_type": "stream",
       "stream": "stdout",
       "text": [
        "working on wIR=78.00, wGR=46.00.... "
       ]
      },
      {
       "output_type": "stream",
       "stream": "stdout",
       "text": [
        "1.94370707676 "
       ]
      },
      {
       "output_type": "stream",
       "stream": "stdout",
       "text": [
        "working on wIR=78.00, wGR=48.00.... "
       ]
      },
      {
       "output_type": "stream",
       "stream": "stdout",
       "text": [
        "2.09485868918 "
       ]
      },
      {
       "output_type": "stream",
       "stream": "stdout",
       "text": [
        "working on wIR=78.00, wGR=50.00.... "
       ]
      },
      {
       "output_type": "stream",
       "stream": "stdout",
       "text": [
        "2.27305341981 "
       ]
      },
      {
       "output_type": "stream",
       "stream": "stdout",
       "text": [
        "working on wIR=78.00, wGR=52.00.... "
       ]
      },
      {
       "output_type": "stream",
       "stream": "stdout",
       "text": [
        "2.45853457887 "
       ]
      },
      {
       "output_type": "stream",
       "stream": "stdout",
       "text": [
        "working on wIR=78.00, wGR=54.00.... "
       ]
      },
      {
       "output_type": "stream",
       "stream": "stdout",
       "text": [
        "2.66462288153 "
       ]
      },
      {
       "output_type": "stream",
       "stream": "stdout",
       "text": [
        "working on wIR=78.00, wGR=56.00.... "
       ]
      },
      {
       "output_type": "stream",
       "stream": "stdout",
       "text": [
        "2.86465158544 "
       ]
      },
      {
       "output_type": "stream",
       "stream": "stdout",
       "text": [
        "working on wIR=78.00, wGR=58.00.... "
       ]
      },
      {
       "output_type": "stream",
       "stream": "stdout",
       "text": [
        "3.0719540604 "
       ]
      },
      {
       "output_type": "stream",
       "stream": "stdout",
       "text": [
        "working on wIR=78.00, wGR=60.00.... "
       ]
      },
      {
       "output_type": "stream",
       "stream": "stdout",
       "text": [
        "3.28653030641 "
       ]
      },
      {
       "output_type": "stream",
       "stream": "stdout",
       "text": [
        "working on wIR=78.00, wGR=62.00.... "
       ]
      },
      {
       "output_type": "stream",
       "stream": "stdout",
       "text": [
        "3.50878231361 "
       ]
      },
      {
       "output_type": "stream",
       "stream": "stdout",
       "text": [
        "working on wIR=78.00, wGR=64.00.... "
       ]
      },
      {
       "output_type": "stream",
       "stream": "stdout",
       "text": [
        "3.73880654436 "
       ]
      },
      {
       "output_type": "stream",
       "stream": "stdout",
       "text": [
        "working on wIR=78.00, wGR=66.00.... "
       ]
      },
      {
       "output_type": "stream",
       "stream": "stdout",
       "text": [
        "3.97613313165 "
       ]
      },
      {
       "output_type": "stream",
       "stream": "stdout",
       "text": [
        "working on wIR=78.00, wGR=68.00.... "
       ]
      },
      {
       "output_type": "stream",
       "stream": "stdout",
       "text": [
        "4.22076207547 "
       ]
      },
      {
       "output_type": "stream",
       "stream": "stdout",
       "text": [
        "working on wIR=78.00, wGR=70.00.... "
       ]
      },
      {
       "output_type": "stream",
       "stream": "stdout",
       "text": [
        "4.28107996766 "
       ]
      },
      {
       "output_type": "stream",
       "stream": "stdout",
       "text": [
        "working on wIR=78.00, wGR=72.00.... "
       ]
      },
      {
       "output_type": "stream",
       "stream": "stdout",
       "text": [
        "4.3130981579 "
       ]
      },
      {
       "output_type": "stream",
       "stream": "stdout",
       "text": [
        "working on wIR=78.00, wGR=74.00.... "
       ]
      },
      {
       "output_type": "stream",
       "stream": "stdout",
       "text": [
        "4.32789762205 "
       ]
      },
      {
       "output_type": "stream",
       "stream": "stdout",
       "text": [
        "working on wIR=78.00, wGR=76.00.... "
       ]
      },
      {
       "output_type": "stream",
       "stream": "stdout",
       "text": [
        "4.4051735123 "
       ]
      },
      {
       "output_type": "stream",
       "stream": "stdout",
       "text": [
        "working on wIR=78.00, wGR=78.00.... "
       ]
      },
      {
       "output_type": "stream",
       "stream": "stdout",
       "text": [
        "4.5104165662 "
       ]
      },
      {
       "output_type": "stream",
       "stream": "stdout",
       "text": [
        "working on wIR=78.00, wGR=80.00.... "
       ]
      },
      {
       "output_type": "stream",
       "stream": "stdout",
       "text": [
        "4.58794257718 "
       ]
      },
      {
       "output_type": "stream",
       "stream": "stdout",
       "text": [
        "working on wIR=78.00, wGR=82.00.... "
       ]
      },
      {
       "output_type": "stream",
       "stream": "stdout",
       "text": [
        "4.65552923328 "
       ]
      },
      {
       "output_type": "stream",
       "stream": "stdout",
       "text": [
        "working on wIR=78.00, wGR=84.00.... "
       ]
      },
      {
       "output_type": "stream",
       "stream": "stdout",
       "text": [
        "4.75338341321 "
       ]
      },
      {
       "output_type": "stream",
       "stream": "stdout",
       "text": [
        "working on wIR=80.00, wGR=28.00.... "
       ]
      },
      {
       "output_type": "stream",
       "stream": "stdout",
       "text": [
        "0.684605598883 "
       ]
      },
      {
       "output_type": "stream",
       "stream": "stdout",
       "text": [
        "working on wIR=80.00, wGR=30.00.... "
       ]
      },
      {
       "output_type": "stream",
       "stream": "stdout",
       "text": [
        "0.785899284432 "
       ]
      },
      {
       "output_type": "stream",
       "stream": "stdout",
       "text": [
        "working on wIR=80.00, wGR=32.00.... "
       ]
      },
      {
       "output_type": "stream",
       "stream": "stdout",
       "text": [
        "0.894178741399 "
       ]
      },
      {
       "output_type": "stream",
       "stream": "stdout",
       "text": [
        "working on wIR=80.00, wGR=34.00.... "
       ]
      },
      {
       "output_type": "stream",
       "stream": "stdout",
       "text": [
        "1.00944396978 "
       ]
      },
      {
       "output_type": "stream",
       "stream": "stdout",
       "text": [
        "working on wIR=80.00, wGR=36.00.... "
       ]
      },
      {
       "output_type": "stream",
       "stream": "stdout",
       "text": [
        "1.13169496958 "
       ]
      },
      {
       "output_type": "stream",
       "stream": "stdout",
       "text": [
        "working on wIR=80.00, wGR=38.00.... "
       ]
      },
      {
       "output_type": "stream",
       "stream": "stdout",
       "text": [
        "1.2609317408 "
       ]
      },
      {
       "output_type": "stream",
       "stream": "stdout",
       "text": [
        "working on wIR=80.00, wGR=40.00.... "
       ]
      },
      {
       "output_type": "stream",
       "stream": "stdout",
       "text": [
        "1.39715428344 "
       ]
      },
      {
       "output_type": "stream",
       "stream": "stdout",
       "text": [
        "working on wIR=80.00, wGR=42.00.... "
       ]
      },
      {
       "output_type": "stream",
       "stream": "stdout",
       "text": [
        "1.54036259749 "
       ]
      },
      {
       "output_type": "stream",
       "stream": "stdout",
       "text": [
        "working on wIR=80.00, wGR=44.00.... "
       ]
      },
      {
       "output_type": "stream",
       "stream": "stdout",
       "text": [
        "1.69055668296 "
       ]
      },
      {
       "output_type": "stream",
       "stream": "stdout",
       "text": [
        "working on wIR=80.00, wGR=46.00.... "
       ]
      },
      {
       "output_type": "stream",
       "stream": "stdout",
       "text": [
        "1.84773653984 "
       ]
      },
      {
       "output_type": "stream",
       "stream": "stdout",
       "text": [
        "working on wIR=80.00, wGR=48.00.... "
       ]
      },
      {
       "output_type": "stream",
       "stream": "stdout",
       "text": [
        "2.01190216815 "
       ]
      },
      {
       "output_type": "stream",
       "stream": "stdout",
       "text": [
        "working on wIR=80.00, wGR=50.00.... "
       ]
      },
      {
       "output_type": "stream",
       "stream": "stdout",
       "text": [
        "2.16082140721 "
       ]
      },
      {
       "output_type": "stream",
       "stream": "stdout",
       "text": [
        "working on wIR=80.00, wGR=52.00.... "
       ]
      },
      {
       "output_type": "stream",
       "stream": "stdout",
       "text": [
        "2.33714443404 "
       ]
      },
      {
       "output_type": "stream",
       "stream": "stdout",
       "text": [
        "working on wIR=80.00, wGR=54.00.... "
       ]
      },
      {
       "output_type": "stream",
       "stream": "stdout",
       "text": [
        "2.52038208937 "
       ]
      },
      {
       "output_type": "stream",
       "stream": "stdout",
       "text": [
        "working on wIR=80.00, wGR=56.00.... "
       ]
      },
      {
       "output_type": "stream",
       "stream": "stdout",
       "text": [
        "2.72386774674 "
       ]
      },
      {
       "output_type": "stream",
       "stream": "stdout",
       "text": [
        "working on wIR=80.00, wGR=58.00.... "
       ]
      },
      {
       "output_type": "stream",
       "stream": "stdout",
       "text": [
        "2.920934662 "
       ]
      },
      {
       "output_type": "stream",
       "stream": "stdout",
       "text": [
        "working on wIR=80.00, wGR=60.00.... "
       ]
      },
      {
       "output_type": "stream",
       "stream": "stdout",
       "text": [
        "3.12491620586 "
       ]
      },
      {
       "output_type": "stream",
       "stream": "stdout",
       "text": [
        "working on wIR=80.00, wGR=62.00.... "
       ]
      },
      {
       "output_type": "stream",
       "stream": "stdout",
       "text": [
        "3.33581237834 "
       ]
      },
      {
       "output_type": "stream",
       "stream": "stdout",
       "text": [
        "working on wIR=80.00, wGR=64.00.... "
       ]
      },
      {
       "output_type": "stream",
       "stream": "stdout",
       "text": [
        "3.55420297124 "
       ]
      },
      {
       "output_type": "stream",
       "stream": "stdout",
       "text": [
        "working on wIR=80.00, wGR=66.00.... "
       ]
      },
      {
       "output_type": "stream",
       "stream": "stdout",
       "text": [
        "3.77981155828 "
       ]
      },
      {
       "output_type": "stream",
       "stream": "stdout",
       "text": [
        "working on wIR=80.00, wGR=68.00.... "
       ]
      },
      {
       "output_type": "stream",
       "stream": "stdout",
       "text": [
        "4.012361948 "
       ]
      },
      {
       "output_type": "stream",
       "stream": "stdout",
       "text": [
        "working on wIR=80.00, wGR=70.00.... "
       ]
      },
      {
       "output_type": "stream",
       "stream": "stdout",
       "text": [
        "4.2518541404 "
       ]
      },
      {
       "output_type": "stream",
       "stream": "stdout",
       "text": [
        "working on wIR=80.00, wGR=72.00.... "
       ]
      },
      {
       "output_type": "stream",
       "stream": "stdout",
       "text": [
        "4.27075124565 "
       ]
      },
      {
       "output_type": "stream",
       "stream": "stdout",
       "text": [
        "working on wIR=80.00, wGR=74.00.... "
       ]
      },
      {
       "output_type": "stream",
       "stream": "stdout",
       "text": [
        "4.30372964989 "
       ]
      },
      {
       "output_type": "stream",
       "stream": "stdout",
       "text": [
        "working on wIR=80.00, wGR=76.00.... "
       ]
      },
      {
       "output_type": "stream",
       "stream": "stdout",
       "text": [
        "4.32119051373 "
       ]
      },
      {
       "output_type": "stream",
       "stream": "stdout",
       "text": [
        "working on wIR=80.00, wGR=78.00.... "
       ]
      },
      {
       "output_type": "stream",
       "stream": "stdout",
       "text": [
        "4.40851699703 "
       ]
      },
      {
       "output_type": "stream",
       "stream": "stdout",
       "text": [
        "working on wIR=80.00, wGR=80.00.... "
       ]
      },
      {
       "output_type": "stream",
       "stream": "stdout",
       "text": [
        "4.5104165662 "
       ]
      },
      {
       "output_type": "stream",
       "stream": "stdout",
       "text": [
        "working on wIR=80.00, wGR=82.00.... "
       ]
      },
      {
       "output_type": "stream",
       "stream": "stdout",
       "text": [
        "4.58220944113 "
       ]
      },
      {
       "output_type": "stream",
       "stream": "stdout",
       "text": [
        "working on wIR=80.00, wGR=84.00.... "
       ]
      },
      {
       "output_type": "stream",
       "stream": "stdout",
       "text": [
        "4.68296163546 "
       ]
      },
      {
       "output_type": "stream",
       "stream": "stdout",
       "text": [
        "working on wIR=80.00, wGR=86.00.... "
       ]
      },
      {
       "output_type": "stream",
       "stream": "stdout",
       "text": [
        "4.76154472626\n"
       ]
      }
     ],
     "prompt_number": 2
    },
    {
     "cell_type": "markdown",
     "metadata": {},
     "source": [
      "## Setup big scan below for a_s = 650 and number restricted to 500,000"
     ]
    },
    {
     "cell_type": "code",
     "collapsed": false,
     "input": [
      "s=7.0\n",
      "aS=650.\n",
      "N0=5e5\n",
      "wIRs = np.arange( 44., 81., 2. )\n",
      "\n",
      "results = []\n",
      "for wIR in wIRs:\n",
      "    wGRs = np.arange( 28., wIR+8., 2.) \n",
      "    for wGR in wGRs:\n",
      "        print \"working on wIR=%.2f, wGR=%.2f....\" % (wIR,wGR),\n",
      "        try:\n",
      "            res =  np.array( [ [s, wIR, wGR]+optevap.optimal( s0=s, wL=wIR, wC=wGR, a_s=aS, Number=N0 ) ] )\n",
      "            \n",
      "            f_handle = file('EtaF_data/003/wIRwGR_ETA_results.dat', 'a')\n",
      "            np.savetxt(f_handle, res)\n",
      "            f_handle.close()\n",
      "            \n",
      "        except:\n",
      "            print \"    --> failed\""
     ],
     "language": "python",
     "metadata": {},
     "outputs": [
      {
       "output_type": "stream",
       "stream": "stdout",
       "text": [
        "working on wIR=44.00, wGR=28.00.... "
       ]
      },
      {
       "output_type": "stream",
       "stream": "stdout",
       "text": [
        "2.24011105223 "
       ]
      },
      {
       "output_type": "stream",
       "stream": "stdout",
       "text": [
        "working on wIR=44.00, wGR=30.00.... "
       ]
      },
      {
       "output_type": "stream",
       "stream": "stdout",
       "text": [
        "2.57155605486 "
       ]
      },
      {
       "output_type": "stream",
       "stream": "stdout",
       "text": [
        "working on wIR=44.00, wGR=32.00.... "
       ]
      },
      {
       "output_type": "stream",
       "stream": "stdout",
       "text": [
        "2.93919271026 "
       ]
      },
      {
       "output_type": "stream",
       "stream": "stdout",
       "text": [
        "working on wIR=44.00, wGR=34.00.... "
       ]
      },
      {
       "output_type": "stream",
       "stream": "stdout",
       "text": [
        "3.30302088824 "
       ]
      },
      {
       "output_type": "stream",
       "stream": "stdout",
       "text": [
        "working on wIR=44.00, wGR=36.00.... "
       ]
      },
      {
       "output_type": "stream",
       "stream": "stdout",
       "text": [
        "3.61784725283 "
       ]
      },
      {
       "output_type": "stream",
       "stream": "stdout",
       "text": [
        "working on wIR=44.00, wGR=38.00.... "
       ]
      },
      {
       "output_type": "stream",
       "stream": "stdout",
       "text": [
        "3.85117299593 "
       ]
      },
      {
       "output_type": "stream",
       "stream": "stdout",
       "text": [
        "working on wIR=44.00, wGR=40.00.... "
       ]
      },
      {
       "output_type": "stream",
       "stream": "stdout",
       "text": [
        "4.06797730274 "
       ]
      },
      {
       "output_type": "stream",
       "stream": "stdout",
       "text": [
        "working on wIR=44.00, wGR=42.00.... "
       ]
      },
      {
       "output_type": "stream",
       "stream": "stdout",
       "text": [
        "4.21341352457 "
       ]
      },
      {
       "output_type": "stream",
       "stream": "stdout",
       "text": [
        "working on wIR=44.00, wGR=44.00.... "
       ]
      },
      {
       "output_type": "stream",
       "stream": "stdout",
       "text": [
        "4.3079141578 "
       ]
      },
      {
       "output_type": "stream",
       "stream": "stdout",
       "text": [
        "working on wIR=44.00, wGR=46.00.... "
       ]
      },
      {
       "output_type": "stream",
       "stream": "stdout",
       "text": [
        "4.36431079405 "
       ]
      },
      {
       "output_type": "stream",
       "stream": "stdout",
       "text": [
        "working on wIR=44.00, wGR=48.00.... "
       ]
      },
      {
       "output_type": "stream",
       "stream": "stdout",
       "text": [
        "4.37154125938 "
       ]
      },
      {
       "output_type": "stream",
       "stream": "stdout",
       "text": [
        "working on wIR=44.00, wGR=50.00.... "
       ]
      },
      {
       "output_type": "stream",
       "stream": "stdout",
       "text": [
        "4.3719357577 "
       ]
      },
      {
       "output_type": "stream",
       "stream": "stdout",
       "text": [
        "working on wIR=46.00, wGR=28.00.... "
       ]
      },
      {
       "output_type": "stream",
       "stream": "stdout",
       "text": [
        "2.04985406488 "
       ]
      },
      {
       "output_type": "stream",
       "stream": "stdout",
       "text": [
        "working on wIR=46.00, wGR=30.00.... "
       ]
      },
      {
       "output_type": "stream",
       "stream": "stdout",
       "text": [
        "2.35280364944 "
       ]
      },
      {
       "output_type": "stream",
       "stream": "stdout",
       "text": [
        "working on wIR=46.00, wGR=32.00.... "
       ]
      },
      {
       "output_type": "stream",
       "stream": "stdout",
       "text": [
        "2.69030108084 "
       ]
      },
      {
       "output_type": "stream",
       "stream": "stdout",
       "text": [
        "working on wIR=46.00, wGR=34.00.... "
       ]
      },
      {
       "output_type": "stream",
       "stream": "stdout",
       "text": [
        "3.03537895454 "
       ]
      },
      {
       "output_type": "stream",
       "stream": "stdout",
       "text": [
        "working on wIR=46.00, wGR=36.00.... "
       ]
      },
      {
       "output_type": "stream",
       "stream": "stdout",
       "text": [
        "3.38803725519 "
       ]
      },
      {
       "output_type": "stream",
       "stream": "stdout",
       "text": [
        "working on wIR=46.00, wGR=38.00.... "
       ]
      },
      {
       "output_type": "stream",
       "stream": "stdout",
       "text": [
        "3.62967032653 "
       ]
      },
      {
       "output_type": "stream",
       "stream": "stdout",
       "text": [
        "working on wIR=46.00, wGR=40.00.... "
       ]
      },
      {
       "output_type": "stream",
       "stream": "stdout",
       "text": [
        "3.8611956002 "
       ]
      },
      {
       "output_type": "stream",
       "stream": "stdout",
       "text": [
        "working on wIR=46.00, wGR=42.00.... "
       ]
      },
      {
       "output_type": "stream",
       "stream": "stdout",
       "text": [
        "4.06931477046 "
       ]
      },
      {
       "output_type": "stream",
       "stream": "stdout",
       "text": [
        "working on wIR=46.00, wGR=44.00.... "
       ]
      },
      {
       "output_type": "stream",
       "stream": "stdout",
       "text": [
        "4.21202903833 "
       ]
      },
      {
       "output_type": "stream",
       "stream": "stdout",
       "text": [
        "working on wIR=46.00, wGR=46.00.... "
       ]
      },
      {
       "output_type": "stream",
       "stream": "stdout",
       "text": [
        "4.32623792125 "
       ]
      },
      {
       "output_type": "stream",
       "stream": "stdout",
       "text": [
        "working on wIR=46.00, wGR=48.00.... "
       ]
      },
      {
       "output_type": "stream",
       "stream": "stdout",
       "text": [
        "4.36245552666 "
       ]
      },
      {
       "output_type": "stream",
       "stream": "stdout",
       "text": [
        "working on wIR=46.00, wGR=50.00.... "
       ]
      },
      {
       "output_type": "stream",
       "stream": "stdout",
       "text": [
        "4.38147916598 "
       ]
      },
      {
       "output_type": "stream",
       "stream": "stdout",
       "text": [
        "working on wIR=46.00, wGR=52.00.... "
       ]
      },
      {
       "output_type": "stream",
       "stream": "stdout",
       "text": [
        "4.38596978278 "
       ]
      },
      {
       "output_type": "stream",
       "stream": "stdout",
       "text": [
        "working on wIR=48.00, wGR=28.00.... "
       ]
      },
      {
       "output_type": "stream",
       "stream": "stdout",
       "text": [
        "1.88367963019 "
       ]
      },
      {
       "output_type": "stream",
       "stream": "stdout",
       "text": [
        "working on wIR=48.00, wGR=30.00.... "
       ]
      },
      {
       "output_type": "stream",
       "stream": "stdout",
       "text": [
        "2.16082140721 "
       ]
      },
      {
       "output_type": "stream",
       "stream": "stdout",
       "text": [
        "working on wIR=48.00, wGR=32.00.... "
       ]
      },
      {
       "output_type": "stream",
       "stream": "stdout",
       "text": [
        "2.45853457887 "
       ]
      },
      {
       "output_type": "stream",
       "stream": "stdout",
       "text": [
        "working on wIR=48.00, wGR=34.00.... "
       ]
      },
      {
       "output_type": "stream",
       "stream": "stdout",
       "text": [
        "2.78878842642 "
       ]
      },
      {
       "output_type": "stream",
       "stream": "stdout",
       "text": [
        "working on wIR=48.00, wGR=36.00.... "
       ]
      },
      {
       "output_type": "stream",
       "stream": "stdout",
       "text": [
        "3.12491620586 "
       ]
      },
      {
       "output_type": "stream",
       "stream": "stdout",
       "text": [
        "working on wIR=48.00, wGR=38.00.... "
       ]
      },
      {
       "output_type": "stream",
       "stream": "stdout",
       "text": [
        "3.3871567612 "
       ]
      },
      {
       "output_type": "stream",
       "stream": "stdout",
       "text": [
        "working on wIR=48.00, wGR=40.00.... "
       ]
      },
      {
       "output_type": "stream",
       "stream": "stdout",
       "text": [
        "3.62518044711 "
       ]
      },
      {
       "output_type": "stream",
       "stream": "stdout",
       "text": [
        "working on wIR=48.00, wGR=42.00.... "
       ]
      },
      {
       "output_type": "stream",
       "stream": "stdout",
       "text": [
        "3.86603633826 "
       ]
      },
      {
       "output_type": "stream",
       "stream": "stdout",
       "text": [
        "working on wIR=48.00, wGR=44.00.... "
       ]
      },
      {
       "output_type": "stream",
       "stream": "stdout",
       "text": [
        "4.05867881163 "
       ]
      },
      {
       "output_type": "stream",
       "stream": "stdout",
       "text": [
        "working on wIR=48.00, wGR=46.00.... "
       ]
      },
      {
       "output_type": "stream",
       "stream": "stdout",
       "text": [
        "4.21461485363 "
       ]
      },
      {
       "output_type": "stream",
       "stream": "stdout",
       "text": [
        "working on wIR=48.00, wGR=48.00.... "
       ]
      },
      {
       "output_type": "stream",
       "stream": "stdout",
       "text": [
        "4.32623792125 "
       ]
      },
      {
       "output_type": "stream",
       "stream": "stdout",
       "text": [
        "working on wIR=48.00, wGR=50.00.... "
       ]
      },
      {
       "output_type": "stream",
       "stream": "stdout",
       "text": [
        "4.37090995412 "
       ]
      },
      {
       "output_type": "stream",
       "stream": "stdout",
       "text": [
        "working on wIR=48.00, wGR=52.00.... "
       ]
      },
      {
       "output_type": "stream",
       "stream": "stdout",
       "text": [
        "4.37783151907 "
       ]
      },
      {
       "output_type": "stream",
       "stream": "stdout",
       "text": [
        "working on wIR=48.00, wGR=54.00.... "
       ]
      },
      {
       "output_type": "stream",
       "stream": "stdout",
       "text": [
        "4.40175011994 "
       ]
      },
      {
       "output_type": "stream",
       "stream": "stdout",
       "text": [
        "working on wIR=50.00, wGR=28.00.... "
       ]
      },
      {
       "output_type": "stream",
       "stream": "stdout",
       "text": [
        "1.73704448051 "
       ]
      },
      {
       "output_type": "stream",
       "stream": "stdout",
       "text": [
        "working on wIR=50.00, wGR=30.00.... "
       ]
      },
      {
       "output_type": "stream",
       "stream": "stdout",
       "text": [
        "1.99208337474 "
       ]
      },
      {
       "output_type": "stream",
       "stream": "stdout",
       "text": [
        "working on wIR=50.00, wGR=32.00.... "
       ]
      },
      {
       "output_type": "stream",
       "stream": "stdout",
       "text": [
        "2.26578546788 "
       ]
      },
      {
       "output_type": "stream",
       "stream": "stdout",
       "text": [
        "working on wIR=50.00, wGR=34.00.... "
       ]
      },
      {
       "output_type": "stream",
       "stream": "stdout",
       "text": [
        "2.55785937585 "
       ]
      },
      {
       "output_type": "stream",
       "stream": "stdout",
       "text": [
        "working on wIR=50.00, wGR=36.00.... "
       ]
      },
      {
       "output_type": "stream",
       "stream": "stdout",
       "text": [
        "2.88096810866 "
       ]
      },
      {
       "output_type": "stream",
       "stream": "stdout",
       "text": [
        "working on wIR=50.00, wGR=38.00.... "
       ]
      },
      {
       "output_type": "stream",
       "stream": "stdout",
       "text": [
        "3.15525412597 "
       ]
      },
      {
       "output_type": "stream",
       "stream": "stdout",
       "text": [
        "working on wIR=50.00, wGR=40.00.... "
       ]
      },
      {
       "output_type": "stream",
       "stream": "stdout",
       "text": [
        "3.38599028878 "
       ]
      },
      {
       "output_type": "stream",
       "stream": "stdout",
       "text": [
        "working on wIR=50.00, wGR=42.00.... "
       ]
      },
      {
       "output_type": "stream",
       "stream": "stdout",
       "text": [
        "3.62791731528 "
       ]
      },
      {
       "output_type": "stream",
       "stream": "stdout",
       "text": [
        "working on wIR=50.00, wGR=44.00.... "
       ]
      },
      {
       "output_type": "stream",
       "stream": "stdout",
       "text": [
        "3.85586682227 "
       ]
      },
      {
       "output_type": "stream",
       "stream": "stdout",
       "text": [
        "working on wIR=50.00, wGR=46.00.... "
       ]
      },
      {
       "output_type": "stream",
       "stream": "stdout",
       "text": [
        "4.05341124744 "
       ]
      },
      {
       "output_type": "stream",
       "stream": "stdout",
       "text": [
        "working on wIR=50.00, wGR=48.00.... "
       ]
      },
      {
       "output_type": "stream",
       "stream": "stdout",
       "text": [
        "4.20925215513 "
       ]
      },
      {
       "output_type": "stream",
       "stream": "stdout",
       "text": [
        "working on wIR=50.00, wGR=50.00.... "
       ]
      },
      {
       "output_type": "stream",
       "stream": "stdout",
       "text": [
        "4.32623792125 "
       ]
      },
      {
       "output_type": "stream",
       "stream": "stdout",
       "text": [
        "working on wIR=50.00, wGR=52.00.... "
       ]
      },
      {
       "output_type": "stream",
       "stream": "stdout",
       "text": [
        "4.39497950226 "
       ]
      },
      {
       "output_type": "stream",
       "stream": "stdout",
       "text": [
        "working on wIR=50.00, wGR=54.00.... "
       ]
      },
      {
       "output_type": "stream",
       "stream": "stdout",
       "text": [
        "4.39196057405 "
       ]
      },
      {
       "output_type": "stream",
       "stream": "stdout",
       "text": [
        "working on wIR=50.00, wGR=56.00.... "
       ]
      },
      {
       "output_type": "stream",
       "stream": "stdout",
       "text": [
        "4.40403491411 "
       ]
      },
      {
       "output_type": "stream",
       "stream": "stdout",
       "text": [
        "working on wIR=52.00, wGR=28.00.... "
       ]
      },
      {
       "output_type": "stream",
       "stream": "stdout",
       "text": [
        "1.60700118391 "
       ]
      },
      {
       "output_type": "stream",
       "stream": "stdout",
       "text": [
        "working on wIR=52.00, wGR=30.00.... "
       ]
      },
      {
       "output_type": "stream",
       "stream": "stdout",
       "text": [
        "1.84279897812 "
       ]
      },
      {
       "output_type": "stream",
       "stream": "stdout",
       "text": [
        "working on wIR=52.00, wGR=32.00.... "
       ]
      },
      {
       "output_type": "stream",
       "stream": "stdout",
       "text": [
        "2.09485868918 "
       ]
      },
      {
       "output_type": "stream",
       "stream": "stdout",
       "text": [
        "working on wIR=52.00, wGR=34.00.... "
       ]
      },
      {
       "output_type": "stream",
       "stream": "stdout",
       "text": [
        "2.36488477797 "
       ]
      },
      {
       "output_type": "stream",
       "stream": "stdout",
       "text": [
        "working on wIR=52.00, wGR=36.00.... "
       ]
      },
      {
       "output_type": "stream",
       "stream": "stdout",
       "text": [
        "2.66462288153 "
       ]
      },
      {
       "output_type": "stream",
       "stream": "stdout",
       "text": [
        "working on wIR=52.00, wGR=38.00.... "
       ]
      },
      {
       "output_type": "stream",
       "stream": "stdout",
       "text": [
        "2.93527594655 "
       ]
      },
      {
       "output_type": "stream",
       "stream": "stdout",
       "text": [
        "working on wIR=52.00, wGR=40.00.... "
       ]
      },
      {
       "output_type": "stream",
       "stream": "stdout",
       "text": [
        "3.16421547781 "
       ]
      },
      {
       "output_type": "stream",
       "stream": "stdout",
       "text": [
        "working on wIR=52.00, wGR=42.00.... "
       ]
      },
      {
       "output_type": "stream",
       "stream": "stdout",
       "text": [
        "3.39134251797 "
       ]
      },
      {
       "output_type": "stream",
       "stream": "stdout",
       "text": [
        "working on wIR=52.00, wGR=44.00.... "
       ]
      },
      {
       "output_type": "stream",
       "stream": "stdout",
       "text": [
        "3.63089940236 "
       ]
      },
      {
       "output_type": "stream",
       "stream": "stdout",
       "text": [
        "working on wIR=52.00, wGR=46.00.... "
       ]
      },
      {
       "output_type": "stream",
       "stream": "stdout",
       "text": [
        "3.85188105282 "
       ]
      },
      {
       "output_type": "stream",
       "stream": "stdout",
       "text": [
        "working on wIR=52.00, wGR=48.00.... "
       ]
      },
      {
       "output_type": "stream",
       "stream": "stdout",
       "text": [
        "4.04862351545 "
       ]
      },
      {
       "output_type": "stream",
       "stream": "stdout",
       "text": [
        "working on wIR=52.00, wGR=50.00.... "
       ]
      },
      {
       "output_type": "stream",
       "stream": "stdout",
       "text": [
        "4.20356629702 "
       ]
      },
      {
       "output_type": "stream",
       "stream": "stdout",
       "text": [
        "working on wIR=52.00, wGR=52.00.... "
       ]
      },
      {
       "output_type": "stream",
       "stream": "stdout",
       "text": [
        "4.32623792125 "
       ]
      },
      {
       "output_type": "stream",
       "stream": "stdout",
       "text": [
        "working on wIR=52.00, wGR=54.00.... "
       ]
      },
      {
       "output_type": "stream",
       "stream": "stdout",
       "text": [
        "4.38198622186 "
       ]
      },
      {
       "output_type": "stream",
       "stream": "stdout",
       "text": [
        "working on wIR=52.00, wGR=56.00.... "
       ]
      },
      {
       "output_type": "stream",
       "stream": "stdout",
       "text": [
        "4.39218329554 "
       ]
      },
      {
       "output_type": "stream",
       "stream": "stdout",
       "text": [
        "working on wIR=52.00, wGR=58.00.... "
       ]
      },
      {
       "output_type": "stream",
       "stream": "stdout",
       "text": [
        "4.42490671253 "
       ]
      },
      {
       "output_type": "stream",
       "stream": "stdout",
       "text": [
        "working on wIR=54.00, wGR=28.00.... "
       ]
      },
      {
       "output_type": "stream",
       "stream": "stdout",
       "text": [
        "1.47780445955 "
       ]
      },
      {
       "output_type": "stream",
       "stream": "stdout",
       "text": [
        "working on wIR=54.00, wGR=30.00.... "
       ]
      },
      {
       "output_type": "stream",
       "stream": "stdout",
       "text": [
        "1.7097925595 "
       ]
      },
      {
       "output_type": "stream",
       "stream": "stdout",
       "text": [
        "working on wIR=54.00, wGR=32.00.... "
       ]
      },
      {
       "output_type": "stream",
       "stream": "stdout",
       "text": [
        "1.94352694178 "
       ]
      },
      {
       "output_type": "stream",
       "stream": "stdout",
       "text": [
        "working on wIR=54.00, wGR=34.00.... "
       ]
      },
      {
       "output_type": "stream",
       "stream": "stdout",
       "text": [
        "2.19295213979 "
       ]
      },
      {
       "output_type": "stream",
       "stream": "stdout",
       "text": [
        "working on wIR=54.00, wGR=36.00.... "
       ]
      },
      {
       "output_type": "stream",
       "stream": "stdout",
       "text": [
        "2.45853457887 "
       ]
      },
      {
       "output_type": "stream",
       "stream": "stdout",
       "text": [
        "working on wIR=54.00, wGR=38.00.... "
       ]
      },
      {
       "output_type": "stream",
       "stream": "stdout",
       "text": [
        "2.75262653128 "
       ]
      },
      {
       "output_type": "stream",
       "stream": "stdout",
       "text": [
        "working on wIR=54.00, wGR=40.00.... "
       ]
      },
      {
       "output_type": "stream",
       "stream": "stdout",
       "text": [
        "2.95347004043 "
       ]
      },
      {
       "output_type": "stream",
       "stream": "stdout",
       "text": [
        "working on wIR=54.00, wGR=42.00.... "
       ]
      },
      {
       "output_type": "stream",
       "stream": "stdout",
       "text": [
        "3.15811738841 "
       ]
      },
      {
       "output_type": "stream",
       "stream": "stdout",
       "text": [
        "working on wIR=54.00, wGR=44.00.... "
       ]
      },
      {
       "output_type": "stream",
       "stream": "stdout",
       "text": [
        "3.39027804078 "
       ]
      },
      {
       "output_type": "stream",
       "stream": "stdout",
       "text": [
        "working on wIR=54.00, wGR=46.00.... "
       ]
      },
      {
       "output_type": "stream",
       "stream": "stdout",
       "text": [
        "3.61314029213 "
       ]
      },
      {
       "output_type": "stream",
       "stream": "stdout",
       "text": [
        "working on wIR=54.00, wGR=48.00.... "
       ]
      },
      {
       "output_type": "stream",
       "stream": "stdout",
       "text": [
        "3.844217841 "
       ]
      },
      {
       "output_type": "stream",
       "stream": "stdout",
       "text": [
        "working on wIR=54.00, wGR=50.00.... "
       ]
      },
      {
       "output_type": "stream",
       "stream": "stdout",
       "text": [
        "4.04349670032 "
       ]
      },
      {
       "output_type": "stream",
       "stream": "stdout",
       "text": [
        "working on wIR=54.00, wGR=52.00.... "
       ]
      },
      {
       "output_type": "stream",
       "stream": "stdout",
       "text": [
        "4.2026576031 "
       ]
      },
      {
       "output_type": "stream",
       "stream": "stdout",
       "text": [
        "working on wIR=54.00, wGR=54.00.... "
       ]
      },
      {
       "output_type": "stream",
       "stream": "stdout",
       "text": [
        "4.34797726136 "
       ]
      },
      {
       "output_type": "stream",
       "stream": "stdout",
       "text": [
        "working on wIR=54.00, wGR=56.00.... "
       ]
      },
      {
       "output_type": "stream",
       "stream": "stdout",
       "text": [
        "4.40780135437 "
       ]
      },
      {
       "output_type": "stream",
       "stream": "stdout",
       "text": [
        "working on wIR=54.00, wGR=58.00.... "
       ]
      },
      {
       "output_type": "stream",
       "stream": "stdout",
       "text": [
        "4.4346333412 "
       ]
      },
      {
       "output_type": "stream",
       "stream": "stdout",
       "text": [
        "working on wIR=54.00, wGR=60.00.... "
       ]
      },
      {
       "output_type": "stream",
       "stream": "stdout",
       "text": [
        "4.44809752164 "
       ]
      },
      {
       "output_type": "stream",
       "stream": "stdout",
       "text": [
        "working on wIR=56.00, wGR=28.00.... "
       ]
      },
      {
       "output_type": "stream",
       "stream": "stdout",
       "text": [
        "1.37413195282 "
       ]
      },
      {
       "output_type": "stream",
       "stream": "stdout",
       "text": [
        "working on wIR=56.00, wGR=30.00.... "
       ]
      },
      {
       "output_type": "stream",
       "stream": "stdout",
       "text": [
        "1.57744739482 "
       ]
      },
      {
       "output_type": "stream",
       "stream": "stdout",
       "text": [
        "working on wIR=56.00, wGR=32.00.... "
       ]
      },
      {
       "output_type": "stream",
       "stream": "stdout",
       "text": [
        "1.80811795139 "
       ]
      },
      {
       "output_type": "stream",
       "stream": "stdout",
       "text": [
        "working on wIR=56.00, wGR=34.00.... "
       ]
      },
      {
       "output_type": "stream",
       "stream": "stdout",
       "text": [
        "2.03947690606 "
       ]
      },
      {
       "output_type": "stream",
       "stream": "stdout",
       "text": [
        "working on wIR=56.00, wGR=36.00.... "
       ]
      },
      {
       "output_type": "stream",
       "stream": "stdout",
       "text": [
        "2.28606085203 "
       ]
      },
      {
       "output_type": "stream",
       "stream": "stdout",
       "text": [
        "working on wIR=56.00, wGR=38.00.... "
       ]
      },
      {
       "output_type": "stream",
       "stream": "stdout",
       "text": [
        "2.54712335674 "
       ]
      },
      {
       "output_type": "stream",
       "stream": "stdout",
       "text": [
        "working on wIR=56.00, wGR=40.00.... "
       ]
      },
      {
       "output_type": "stream",
       "stream": "stdout",
       "text": [
        "2.75960844993 "
       ]
      },
      {
       "output_type": "stream",
       "stream": "stdout",
       "text": [
        "working on wIR=56.00, wGR=42.00.... "
       ]
      },
      {
       "output_type": "stream",
       "stream": "stdout",
       "text": [
        "2.9561820947 "
       ]
      },
      {
       "output_type": "stream",
       "stream": "stdout",
       "text": [
        "working on wIR=56.00, wGR=44.00.... "
       ]
      },
      {
       "output_type": "stream",
       "stream": "stdout",
       "text": [
        "3.17415483095 "
       ]
      },
      {
       "output_type": "stream",
       "stream": "stdout",
       "text": [
        "working on wIR=56.00, wGR=46.00.... "
       ]
      },
      {
       "output_type": "stream",
       "stream": "stdout",
       "text": [
        "3.38340158584 "
       ]
      },
      {
       "output_type": "stream",
       "stream": "stdout",
       "text": [
        "working on wIR=56.00, wGR=48.00.... "
       ]
      },
      {
       "output_type": "stream",
       "stream": "stdout",
       "text": [
        "3.61634880219 "
       ]
      },
      {
       "output_type": "stream",
       "stream": "stdout",
       "text": [
        "working on wIR=56.00, wGR=50.00.... "
       ]
      },
      {
       "output_type": "stream",
       "stream": "stdout",
       "text": [
        "3.83324607281 "
       ]
      },
      {
       "output_type": "stream",
       "stream": "stdout",
       "text": [
        "working on wIR=56.00, wGR=52.00.... "
       ]
      },
      {
       "output_type": "stream",
       "stream": "stdout",
       "text": [
        "4.0363059472 "
       ]
      },
      {
       "output_type": "stream",
       "stream": "stdout",
       "text": [
        "working on wIR=56.00, wGR=54.00.... "
       ]
      },
      {
       "output_type": "stream",
       "stream": "stdout",
       "text": [
        "4.19399703668 "
       ]
      },
      {
       "output_type": "stream",
       "stream": "stdout",
       "text": [
        "working on wIR=56.00, wGR=56.00.... "
       ]
      },
      {
       "output_type": "stream",
       "stream": "stdout",
       "text": [
        "4.34797726136 "
       ]
      },
      {
       "output_type": "stream",
       "stream": "stdout",
       "text": [
        "working on wIR=56.00, wGR=58.00.... "
       ]
      },
      {
       "output_type": "stream",
       "stream": "stdout",
       "text": [
        "4.41988401319 "
       ]
      },
      {
       "output_type": "stream",
       "stream": "stdout",
       "text": [
        "working on wIR=56.00, wGR=60.00.... "
       ]
      },
      {
       "output_type": "stream",
       "stream": "stdout",
       "text": [
        "4.42823833911 "
       ]
      },
      {
       "output_type": "stream",
       "stream": "stdout",
       "text": [
        "working on wIR=56.00, wGR=62.00.... "
       ]
      },
      {
       "output_type": "stream",
       "stream": "stdout",
       "text": [
        "4.45949841626 "
       ]
      },
      {
       "output_type": "stream",
       "stream": "stdout",
       "text": [
        "working on wIR=58.00, wGR=28.00.... "
       ]
      },
      {
       "output_type": "stream",
       "stream": "stdout",
       "text": [
        "1.30246011678 "
       ]
      },
      {
       "output_type": "stream",
       "stream": "stdout",
       "text": [
        "working on wIR=58.00, wGR=30.00.... "
       ]
      },
      {
       "output_type": "stream",
       "stream": "stdout",
       "text": [
        "1.47053359992 "
       ]
      },
      {
       "output_type": "stream",
       "stream": "stdout",
       "text": [
        "working on wIR=58.00, wGR=32.00.... "
       ]
      },
      {
       "output_type": "stream",
       "stream": "stdout",
       "text": [
        "1.68647380962 "
       ]
      },
      {
       "output_type": "stream",
       "stream": "stdout",
       "text": [
        "working on wIR=58.00, wGR=34.00.... "
       ]
      },
      {
       "output_type": "stream",
       "stream": "stdout",
       "text": [
        "1.90215207414 "
       ]
      },
      {
       "output_type": "stream",
       "stream": "stdout",
       "text": [
        "working on wIR=58.00, wGR=36.00.... "
       ]
      },
      {
       "output_type": "stream",
       "stream": "stdout",
       "text": [
        "2.13111974791 "
       ]
      },
      {
       "output_type": "stream",
       "stream": "stdout",
       "text": [
        "working on wIR=58.00, wGR=38.00.... "
       ]
      },
      {
       "output_type": "stream",
       "stream": "stdout",
       "text": [
        "2.3744883611 "
       ]
      },
      {
       "output_type": "stream",
       "stream": "stdout",
       "text": [
        "working on wIR=58.00, wGR=40.00.... "
       ]
      },
      {
       "output_type": "stream",
       "stream": "stdout",
       "text": [
        "2.57347565368 "
       ]
      },
      {
       "output_type": "stream",
       "stream": "stdout",
       "text": [
        "working on wIR=58.00, wGR=42.00.... "
       ]
      },
      {
       "output_type": "stream",
       "stream": "stdout",
       "text": [
        "2.7742674594 "
       ]
      },
      {
       "output_type": "stream",
       "stream": "stdout",
       "text": [
        "working on wIR=58.00, wGR=44.00.... "
       ]
      },
      {
       "output_type": "stream",
       "stream": "stdout",
       "text": [
        "2.97235524103 "
       ]
      },
      {
       "output_type": "stream",
       "stream": "stdout",
       "text": [
        "working on wIR=58.00, wGR=46.00.... "
       ]
      },
      {
       "output_type": "stream",
       "stream": "stdout",
       "text": [
        "3.17621214463 "
       ]
      },
      {
       "output_type": "stream",
       "stream": "stdout",
       "text": [
        "working on wIR=58.00, wGR=48.00.... "
       ]
      },
      {
       "output_type": "stream",
       "stream": "stdout",
       "text": [
        "3.39533680837 "
       ]
      },
      {
       "output_type": "stream",
       "stream": "stdout",
       "text": [
        "working on wIR=58.00, wGR=50.00.... "
       ]
      },
      {
       "output_type": "stream",
       "stream": "stdout",
       "text": [
        "3.61573885629 "
       ]
      },
      {
       "output_type": "stream",
       "stream": "stdout",
       "text": [
        "working on wIR=58.00, wGR=52.00.... "
       ]
      },
      {
       "output_type": "stream",
       "stream": "stdout",
       "text": [
        "3.81928709951 "
       ]
      },
      {
       "output_type": "stream",
       "stream": "stdout",
       "text": [
        "working on wIR=58.00, wGR=54.00.... "
       ]
      },
      {
       "output_type": "stream",
       "stream": "stdout",
       "text": [
        "4.02174572546 "
       ]
      },
      {
       "output_type": "stream",
       "stream": "stdout",
       "text": [
        "working on wIR=58.00, wGR=56.00.... "
       ]
      },
      {
       "output_type": "stream",
       "stream": "stdout",
       "text": [
        "4.18525895385 "
       ]
      },
      {
       "output_type": "stream",
       "stream": "stdout",
       "text": [
        "working on wIR=58.00, wGR=58.00.... "
       ]
      },
      {
       "output_type": "stream",
       "stream": "stdout",
       "text": [
        "4.34797726136 "
       ]
      },
      {
       "output_type": "stream",
       "stream": "stdout",
       "text": [
        "working on wIR=58.00, wGR=60.00.... "
       ]
      },
      {
       "output_type": "stream",
       "stream": "stdout",
       "text": [
        "4.40937924206 "
       ]
      },
      {
       "output_type": "stream",
       "stream": "stdout",
       "text": [
        "working on wIR=58.00, wGR=62.00.... "
       ]
      },
      {
       "output_type": "stream",
       "stream": "stdout",
       "text": [
        "4.45758455928 "
       ]
      },
      {
       "output_type": "stream",
       "stream": "stdout",
       "text": [
        "working on wIR=58.00, wGR=64.00.... "
       ]
      },
      {
       "output_type": "stream",
       "stream": "stdout",
       "text": [
        "4.49908379853 "
       ]
      },
      {
       "output_type": "stream",
       "stream": "stdout",
       "text": [
        "working on wIR=60.00, wGR=28.00.... "
       ]
      },
      {
       "output_type": "stream",
       "stream": "stdout",
       "text": [
        "1.21707662024 "
       ]
      },
      {
       "output_type": "stream",
       "stream": "stdout",
       "text": [
        "working on wIR=60.00, wGR=30.00.... "
       ]
      },
      {
       "output_type": "stream",
       "stream": "stdout",
       "text": [
        "1.39715428344 "
       ]
      },
      {
       "output_type": "stream",
       "stream": "stdout",
       "text": [
        "working on wIR=60.00, wGR=32.00.... "
       ]
      },
      {
       "output_type": "stream",
       "stream": "stdout",
       "text": [
        "1.56345679965 "
       ]
      },
      {
       "output_type": "stream",
       "stream": "stdout",
       "text": [
        "working on wIR=60.00, wGR=34.00.... "
       ]
      },
      {
       "output_type": "stream",
       "stream": "stdout",
       "text": [
        "1.77832951224 "
       ]
      },
      {
       "output_type": "stream",
       "stream": "stdout",
       "text": [
        "working on wIR=60.00, wGR=36.00.... "
       ]
      },
      {
       "output_type": "stream",
       "stream": "stdout",
       "text": [
        "1.99208337474 "
       ]
      },
      {
       "output_type": "stream",
       "stream": "stdout",
       "text": [
        "working on wIR=60.00, wGR=38.00.... "
       ]
      },
      {
       "output_type": "stream",
       "stream": "stdout",
       "text": [
        "2.21882745743 "
       ]
      },
      {
       "output_type": "stream",
       "stream": "stdout",
       "text": [
        "working on wIR=60.00, wGR=40.00.... "
       ]
      },
      {
       "output_type": "stream",
       "stream": "stdout",
       "text": [
        "2.39231073275 "
       ]
      },
      {
       "output_type": "stream",
       "stream": "stdout",
       "text": [
        "working on wIR=60.00, wGR=42.00.... "
       ]
      },
      {
       "output_type": "stream",
       "stream": "stdout",
       "text": [
        "2.59239881484 "
       ]
      },
      {
       "output_type": "stream",
       "stream": "stdout",
       "text": [
        "working on wIR=60.00, wGR=44.00.... "
       ]
      },
      {
       "output_type": "stream",
       "stream": "stdout",
       "text": [
        "2.77837491597 "
       ]
      },
      {
       "output_type": "stream",
       "stream": "stdout",
       "text": [
        "working on wIR=60.00, wGR=46.00.... "
       ]
      },
      {
       "output_type": "stream",
       "stream": "stdout",
       "text": [
        "2.98132717028 "
       ]
      },
      {
       "output_type": "stream",
       "stream": "stdout",
       "text": [
        "working on wIR=60.00, wGR=48.00.... "
       ]
      },
      {
       "output_type": "stream",
       "stream": "stdout",
       "text": [
        "3.1727536176 "
       ]
      },
      {
       "output_type": "stream",
       "stream": "stdout",
       "text": [
        "working on wIR=60.00, wGR=50.00.... "
       ]
      },
      {
       "output_type": "stream",
       "stream": "stdout",
       "text": [
        "3.37870708682 "
       ]
      },
      {
       "output_type": "stream",
       "stream": "stdout",
       "text": [
        "working on wIR=60.00, wGR=52.00.... "
       ]
      },
      {
       "output_type": "stream",
       "stream": "stdout",
       "text": [
        "3.58524027178 "
       ]
      },
      {
       "output_type": "stream",
       "stream": "stdout",
       "text": [
        "working on wIR=60.00, wGR=54.00.... "
       ]
      },
      {
       "output_type": "stream",
       "stream": "stdout",
       "text": [
        "3.79492015801 "
       ]
      },
      {
       "output_type": "stream",
       "stream": "stdout",
       "text": [
        "working on wIR=60.00, wGR=56.00.... "
       ]
      },
      {
       "output_type": "stream",
       "stream": "stdout",
       "text": [
        "4.01092346627 "
       ]
      },
      {
       "output_type": "stream",
       "stream": "stdout",
       "text": [
        "working on wIR=60.00, wGR=58.00.... "
       ]
      },
      {
       "output_type": "stream",
       "stream": "stdout",
       "text": [
        "4.18186462732 "
       ]
      },
      {
       "output_type": "stream",
       "stream": "stdout",
       "text": [
        "working on wIR=60.00, wGR=60.00.... "
       ]
      },
      {
       "output_type": "stream",
       "stream": "stdout",
       "text": [
        "4.34797726136 "
       ]
      },
      {
       "output_type": "stream",
       "stream": "stdout",
       "text": [
        "working on wIR=60.00, wGR=62.00.... "
       ]
      },
      {
       "output_type": "stream",
       "stream": "stdout",
       "text": [
        "4.43714513912 "
       ]
      },
      {
       "output_type": "stream",
       "stream": "stdout",
       "text": [
        "working on wIR=60.00, wGR=64.00.... "
       ]
      },
      {
       "output_type": "stream",
       "stream": "stdout",
       "text": [
        "4.45371955329 "
       ]
      },
      {
       "output_type": "stream",
       "stream": "stdout",
       "text": [
        "working on wIR=60.00, wGR=66.00.... "
       ]
      },
      {
       "output_type": "stream",
       "stream": "stdout",
       "text": [
        "4.51357020049 "
       ]
      },
      {
       "output_type": "stream",
       "stream": "stdout",
       "text": [
        "working on wIR=62.00, wGR=28.00.... "
       ]
      },
      {
       "output_type": "stream",
       "stream": "stdout",
       "text": [
        "1.13982201687 "
       ]
      },
      {
       "output_type": "stream",
       "stream": "stdout",
       "text": [
        "working on wIR=62.00, wGR=30.00.... "
       ]
      },
      {
       "output_type": "stream",
       "stream": "stdout",
       "text": [
        "1.30846915202 "
       ]
      },
      {
       "output_type": "stream",
       "stream": "stdout",
       "text": [
        "working on wIR=62.00, wGR=32.00.... "
       ]
      },
      {
       "output_type": "stream",
       "stream": "stdout",
       "text": [
        "1.48874712408 "
       ]
      },
      {
       "output_type": "stream",
       "stream": "stdout",
       "text": [
        "working on wIR=62.00, wGR=34.00.... "
       ]
      },
      {
       "output_type": "stream",
       "stream": "stdout",
       "text": [
        "1.66629541556 "
       ]
      },
      {
       "output_type": "stream",
       "stream": "stdout",
       "text": [
        "working on wIR=62.00, wGR=36.00.... "
       ]
      },
      {
       "output_type": "stream",
       "stream": "stdout",
       "text": [
        "1.86648113486 "
       ]
      },
      {
       "output_type": "stream",
       "stream": "stdout",
       "text": [
        "working on wIR=62.00, wGR=38.00.... "
       ]
      },
      {
       "output_type": "stream",
       "stream": "stdout",
       "text": [
        "2.07810603812 "
       ]
      },
      {
       "output_type": "stream",
       "stream": "stdout",
       "text": [
        "working on wIR=62.00, wGR=40.00.... "
       ]
      },
      {
       "output_type": "stream",
       "stream": "stdout",
       "text": [
        "2.24045750205 "
       ]
      },
      {
       "output_type": "stream",
       "stream": "stdout",
       "text": [
        "working on wIR=62.00, wGR=42.00.... "
       ]
      },
      {
       "output_type": "stream",
       "stream": "stdout",
       "text": [
        "2.42784488383 "
       ]
      },
      {
       "output_type": "stream",
       "stream": "stdout",
       "text": [
        "working on wIR=62.00, wGR=44.00.... "
       ]
      },
      {
       "output_type": "stream",
       "stream": "stdout",
       "text": [
        "2.60286239096 "
       ]
      },
      {
       "output_type": "stream",
       "stream": "stdout",
       "text": [
        "working on wIR=62.00, wGR=46.00.... "
       ]
      },
      {
       "output_type": "stream",
       "stream": "stdout",
       "text": [
        "2.77959876549 "
       ]
      },
      {
       "output_type": "stream",
       "stream": "stdout",
       "text": [
        "working on wIR=62.00, wGR=48.00.... "
       ]
      },
      {
       "output_type": "stream",
       "stream": "stdout",
       "text": [
        "2.97136134843 "
       ]
      },
      {
       "output_type": "stream",
       "stream": "stdout",
       "text": [
        "working on wIR=62.00, wGR=50.00.... "
       ]
      },
      {
       "output_type": "stream",
       "stream": "stdout",
       "text": [
        "3.16424180868 "
       ]
      },
      {
       "output_type": "stream",
       "stream": "stdout",
       "text": [
        "working on wIR=62.00, wGR=52.00.... "
       ]
      },
      {
       "output_type": "stream",
       "stream": "stdout",
       "text": [
        "3.38240846893 "
       ]
      },
      {
       "output_type": "stream",
       "stream": "stdout",
       "text": [
        "working on wIR=62.00, wGR=54.00.... "
       ]
      },
      {
       "output_type": "stream",
       "stream": "stdout",
       "text": [
        "3.59107312403 "
       ]
      },
      {
       "output_type": "stream",
       "stream": "stdout",
       "text": [
        "working on wIR=62.00, wGR=56.00.... "
       ]
      },
      {
       "output_type": "stream",
       "stream": "stdout",
       "text": [
        "3.80123356134 "
       ]
      },
      {
       "output_type": "stream",
       "stream": "stdout",
       "text": [
        "working on wIR=62.00, wGR=58.00.... "
       ]
      },
      {
       "output_type": "stream",
       "stream": "stdout",
       "text": [
        "3.99700862101 "
       ]
      },
      {
       "output_type": "stream",
       "stream": "stdout",
       "text": [
        "working on wIR=62.00, wGR=60.00.... "
       ]
      },
      {
       "output_type": "stream",
       "stream": "stdout",
       "text": [
        "4.1715643268 "
       ]
      },
      {
       "output_type": "stream",
       "stream": "stdout",
       "text": [
        "working on wIR=62.00, wGR=62.00.... "
       ]
      },
      {
       "output_type": "stream",
       "stream": "stdout",
       "text": [
        "4.32623792125 "
       ]
      },
      {
       "output_type": "stream",
       "stream": "stdout",
       "text": [
        "working on wIR=62.00, wGR=64.00.... "
       ]
      },
      {
       "output_type": "stream",
       "stream": "stdout",
       "text": [
        "4.45108001031 "
       ]
      },
      {
       "output_type": "stream",
       "stream": "stdout",
       "text": [
        "working on wIR=62.00, wGR=66.00.... "
       ]
      },
      {
       "output_type": "stream",
       "stream": "stdout",
       "text": [
        "4.50027412234 "
       ]
      },
      {
       "output_type": "stream",
       "stream": "stdout",
       "text": [
        "working on wIR=62.00, wGR=68.00.... "
       ]
      },
      {
       "output_type": "stream",
       "stream": "stdout",
       "text": [
        "4.555599489 "
       ]
      },
      {
       "output_type": "stream",
       "stream": "stdout",
       "text": [
        "working on wIR=64.00, wGR=28.00.... "
       ]
      },
      {
       "output_type": "stream",
       "stream": "stdout",
       "text": [
        "1.06969624826 "
       ]
      },
      {
       "output_type": "stream",
       "stream": "stdout",
       "text": [
        "working on wIR=64.00, wGR=30.00.... "
       ]
      },
      {
       "output_type": "stream",
       "stream": "stdout",
       "text": [
        "1.22796763193 "
       ]
      },
      {
       "output_type": "stream",
       "stream": "stdout",
       "text": [
        "working on wIR=64.00, wGR=32.00.... "
       ]
      },
      {
       "output_type": "stream",
       "stream": "stdout",
       "text": [
        "1.39715428344 "
       ]
      },
      {
       "output_type": "stream",
       "stream": "stdout",
       "text": [
        "working on wIR=64.00, wGR=34.00.... "
       ]
      },
      {
       "output_type": "stream",
       "stream": "stdout",
       "text": [
        "1.57725620278 "
       ]
      },
      {
       "output_type": "stream",
       "stream": "stdout",
       "text": [
        "working on wIR=64.00, wGR=36.00.... "
       ]
      },
      {
       "output_type": "stream",
       "stream": "stdout",
       "text": [
        "1.75246911191 "
       ]
      },
      {
       "output_type": "stream",
       "stream": "stdout",
       "text": [
        "working on wIR=64.00, wGR=38.00.... "
       ]
      },
      {
       "output_type": "stream",
       "stream": "stdout",
       "text": [
        "1.95107412366 "
       ]
      },
      {
       "output_type": "stream",
       "stream": "stdout",
       "text": [
        "working on wIR=64.00, wGR=40.00.... "
       ]
      },
      {
       "output_type": "stream",
       "stream": "stdout",
       "text": [
        "2.10261685496 "
       ]
      },
      {
       "output_type": "stream",
       "stream": "stdout",
       "text": [
        "working on wIR=64.00, wGR=42.00.... "
       ]
      },
      {
       "output_type": "stream",
       "stream": "stdout",
       "text": [
        "2.26332691626 "
       ]
      },
      {
       "output_type": "stream",
       "stream": "stdout",
       "text": [
        "working on wIR=64.00, wGR=44.00.... "
       ]
      },
      {
       "output_type": "stream",
       "stream": "stdout",
       "text": [
        "2.43021229244 "
       ]
      },
      {
       "output_type": "stream",
       "stream": "stdout",
       "text": [
        "working on wIR=64.00, wGR=46.00.... "
       ]
      },
      {
       "output_type": "stream",
       "stream": "stdout",
       "text": [
        "2.60858829456 "
       ]
      },
      {
       "output_type": "stream",
       "stream": "stdout",
       "text": [
        "working on wIR=64.00, wGR=48.00.... "
       ]
      },
      {
       "output_type": "stream",
       "stream": "stdout",
       "text": [
        "2.78855298422 "
       ]
      },
      {
       "output_type": "stream",
       "stream": "stdout",
       "text": [
        "working on wIR=64.00, wGR=50.00.... "
       ]
      },
      {
       "output_type": "stream",
       "stream": "stdout",
       "text": [
        "2.96956677553 "
       ]
      },
      {
       "output_type": "stream",
       "stream": "stdout",
       "text": [
        "working on wIR=64.00, wGR=52.00.... "
       ]
      },
      {
       "output_type": "stream",
       "stream": "stdout",
       "text": [
        "3.17431107289 "
       ]
      },
      {
       "output_type": "stream",
       "stream": "stdout",
       "text": [
        "working on wIR=64.00, wGR=54.00.... "
       ]
      },
      {
       "output_type": "stream",
       "stream": "stdout",
       "text": [
        "3.35762489049 "
       ]
      },
      {
       "output_type": "stream",
       "stream": "stdout",
       "text": [
        "working on wIR=64.00, wGR=56.00.... "
       ]
      },
      {
       "output_type": "stream",
       "stream": "stdout",
       "text": [
        "3.56736860591 "
       ]
      },
      {
       "output_type": "stream",
       "stream": "stdout",
       "text": [
        "working on wIR=64.00, wGR=58.00.... "
       ]
      },
      {
       "output_type": "stream",
       "stream": "stdout",
       "text": [
        "3.78228658242 "
       ]
      },
      {
       "output_type": "stream",
       "stream": "stdout",
       "text": [
        "working on wIR=64.00, wGR=60.00.... "
       ]
      },
      {
       "output_type": "stream",
       "stream": "stdout",
       "text": [
        "3.96423331014 "
       ]
      },
      {
       "output_type": "stream",
       "stream": "stdout",
       "text": [
        "working on wIR=64.00, wGR=62.00.... "
       ]
      },
      {
       "output_type": "stream",
       "stream": "stdout",
       "text": [
        "4.14649656369 "
       ]
      },
      {
       "output_type": "stream",
       "stream": "stdout",
       "text": [
        "working on wIR=64.00, wGR=64.00.... "
       ]
      },
      {
       "output_type": "stream",
       "stream": "stdout",
       "text": [
        "4.32623792125 "
       ]
      },
      {
       "output_type": "stream",
       "stream": "stdout",
       "text": [
        "working on wIR=64.00, wGR=66.00.... "
       ]
      },
      {
       "output_type": "stream",
       "stream": "stdout",
       "text": [
        "4.46551001823 "
       ]
      },
      {
       "output_type": "stream",
       "stream": "stdout",
       "text": [
        "working on wIR=64.00, wGR=68.00.... "
       ]
      },
      {
       "output_type": "stream",
       "stream": "stdout",
       "text": [
        "4.52295303935 "
       ]
      },
      {
       "output_type": "stream",
       "stream": "stdout",
       "text": [
        "working on wIR=64.00, wGR=70.00.... "
       ]
      },
      {
       "output_type": "stream",
       "stream": "stdout",
       "text": [
        "4.57259079112 "
       ]
      },
      {
       "output_type": "stream",
       "stream": "stdout",
       "text": [
        "working on wIR=66.00, wGR=28.00.... "
       ]
      },
      {
       "output_type": "stream",
       "stream": "stdout",
       "text": [
        "1.00584844648 "
       ]
      },
      {
       "output_type": "stream",
       "stream": "stdout",
       "text": [
        "working on wIR=66.00, wGR=30.00.... "
       ]
      },
      {
       "output_type": "stream",
       "stream": "stdout",
       "text": [
        "1.15467296152 "
       ]
      },
      {
       "output_type": "stream",
       "stream": "stdout",
       "text": [
        "working on wIR=66.00, wGR=32.00.... "
       ]
      },
      {
       "output_type": "stream",
       "stream": "stdout",
       "text": [
        "1.31376123621 "
       ]
      },
      {
       "output_type": "stream",
       "stream": "stdout",
       "text": [
        "working on wIR=66.00, wGR=34.00.... "
       ]
      },
      {
       "output_type": "stream",
       "stream": "stdout",
       "text": [
        "1.48311327057 "
       ]
      },
      {
       "output_type": "stream",
       "stream": "stdout",
       "text": [
        "working on wIR=66.00, wGR=36.00.... "
       ]
      },
      {
       "output_type": "stream",
       "stream": "stdout",
       "text": [
        "1.64866394607 "
       ]
      },
      {
       "output_type": "stream",
       "stream": "stdout",
       "text": [
        "working on wIR=66.00, wGR=38.00.... "
       ]
      },
      {
       "output_type": "stream",
       "stream": "stdout",
       "text": [
        "1.83541466419 "
       ]
      },
      {
       "output_type": "stream",
       "stream": "stdout",
       "text": [
        "working on wIR=66.00, wGR=40.00.... "
       ]
      },
      {
       "output_type": "stream",
       "stream": "stdout",
       "text": [
        "1.97752956357 "
       ]
      },
      {
       "output_type": "stream",
       "stream": "stdout",
       "text": [
        "working on wIR=66.00, wGR=42.00.... "
       ]
      },
      {
       "output_type": "stream",
       "stream": "stdout",
       "text": [
        "2.12823394146 "
       ]
      },
      {
       "output_type": "stream",
       "stream": "stdout",
       "text": [
        "working on wIR=66.00, wGR=44.00.... "
       ]
      },
      {
       "output_type": "stream",
       "stream": "stdout",
       "text": [
        "2.28515829886 "
       ]
      },
      {
       "output_type": "stream",
       "stream": "stdout",
       "text": [
        "working on wIR=66.00, wGR=46.00.... "
       ]
      },
      {
       "output_type": "stream",
       "stream": "stdout",
       "text": [
        "2.43580059072 "
       ]
      },
      {
       "output_type": "stream",
       "stream": "stdout",
       "text": [
        "working on wIR=66.00, wGR=48.00.... "
       ]
      },
      {
       "output_type": "stream",
       "stream": "stdout",
       "text": [
        "2.60877705554 "
       ]
      },
      {
       "output_type": "stream",
       "stream": "stdout",
       "text": [
        "working on wIR=66.00, wGR=50.00.... "
       ]
      },
      {
       "output_type": "stream",
       "stream": "stdout",
       "text": [
        "2.79231990646 "
       ]
      },
      {
       "output_type": "stream",
       "stream": "stdout",
       "text": [
        "working on wIR=66.00, wGR=52.00.... "
       ]
      },
      {
       "output_type": "stream",
       "stream": "stdout",
       "text": [
        "2.96300848907 "
       ]
      },
      {
       "output_type": "stream",
       "stream": "stdout",
       "text": [
        "working on wIR=66.00, wGR=54.00.... "
       ]
      },
      {
       "output_type": "stream",
       "stream": "stdout",
       "text": [
        "3.15721569134 "
       ]
      },
      {
       "output_type": "stream",
       "stream": "stdout",
       "text": [
        "working on wIR=66.00, wGR=56.00.... "
       ]
      },
      {
       "output_type": "stream",
       "stream": "stdout",
       "text": [
        "3.35444026855 "
       ]
      },
      {
       "output_type": "stream",
       "stream": "stdout",
       "text": [
        "working on wIR=66.00, wGR=58.00.... "
       ]
      },
      {
       "output_type": "stream",
       "stream": "stdout",
       "text": [
        "3.55732610382 "
       ]
      },
      {
       "output_type": "stream",
       "stream": "stdout",
       "text": [
        "working on wIR=66.00, wGR=60.00.... "
       ]
      },
      {
       "output_type": "stream",
       "stream": "stdout",
       "text": [
        "3.75891678253 "
       ]
      },
      {
       "output_type": "stream",
       "stream": "stdout",
       "text": [
        "working on wIR=66.00, wGR=62.00.... "
       ]
      },
      {
       "output_type": "stream",
       "stream": "stdout",
       "text": [
        "3.96255942826 "
       ]
      },
      {
       "output_type": "stream",
       "stream": "stdout",
       "text": [
        "working on wIR=66.00, wGR=64.00.... "
       ]
      },
      {
       "output_type": "stream",
       "stream": "stdout",
       "text": [
        "4.13486498914 "
       ]
      },
      {
       "output_type": "stream",
       "stream": "stdout",
       "text": [
        "working on wIR=66.00, wGR=66.00.... "
       ]
      },
      {
       "output_type": "stream",
       "stream": "stdout",
       "text": [
        "4.30434035569 "
       ]
      },
      {
       "output_type": "stream",
       "stream": "stdout",
       "text": [
        "working on wIR=66.00, wGR=68.00.... "
       ]
      },
      {
       "output_type": "stream",
       "stream": "stdout",
       "text": [
        "4.4715749339 "
       ]
      },
      {
       "output_type": "stream",
       "stream": "stdout",
       "text": [
        "working on wIR=66.00, wGR=70.00.... "
       ]
      },
      {
       "output_type": "stream",
       "stream": "stdout",
       "text": [
        "4.53129706318 "
       ]
      },
      {
       "output_type": "stream",
       "stream": "stdout",
       "text": [
        "working on wIR=66.00, wGR=72.00.... "
       ]
      },
      {
       "output_type": "stream",
       "stream": "stdout",
       "text": [
        "4.59072906825 "
       ]
      },
      {
       "output_type": "stream",
       "stream": "stdout",
       "text": [
        "working on wIR=68.00, wGR=28.00.... "
       ]
      },
      {
       "output_type": "stream",
       "stream": "stdout",
       "text": [
        "0.947551001915 "
       ]
      },
      {
       "output_type": "stream",
       "stream": "stdout",
       "text": [
        "working on wIR=68.00, wGR=30.00.... "
       ]
      },
      {
       "output_type": "stream",
       "stream": "stdout",
       "text": [
        "1.08774987465 "
       ]
      },
      {
       "output_type": "stream",
       "stream": "stdout",
       "text": [
        "working on wIR=68.00, wGR=32.00.... "
       ]
      },
      {
       "output_type": "stream",
       "stream": "stdout",
       "text": [
        "1.23761763515 "
       ]
      },
      {
       "output_type": "stream",
       "stream": "stdout",
       "text": [
        "working on wIR=68.00, wGR=34.00.... "
       ]
      },
      {
       "output_type": "stream",
       "stream": "stdout",
       "text": [
        "1.39715428344 "
       ]
      },
      {
       "output_type": "stream",
       "stream": "stdout",
       "text": [
        "working on wIR=68.00, wGR=36.00.... "
       ]
      },
      {
       "output_type": "stream",
       "stream": "stdout",
       "text": [
        "1.56635981949 "
       ]
      },
      {
       "output_type": "stream",
       "stream": "stdout",
       "text": [
        "working on wIR=68.00, wGR=38.00.... "
       ]
      },
      {
       "output_type": "stream",
       "stream": "stdout",
       "text": [
        "1.71647624556 "
       ]
      },
      {
       "output_type": "stream",
       "stream": "stdout",
       "text": [
        "working on wIR=68.00, wGR=40.00.... "
       ]
      },
      {
       "output_type": "stream",
       "stream": "stdout",
       "text": [
        "1.85035437976 "
       ]
      },
      {
       "output_type": "stream",
       "stream": "stdout",
       "text": [
        "working on wIR=68.00, wGR=42.00.... "
       ]
      },
      {
       "output_type": "stream",
       "stream": "stdout",
       "text": [
        "1.98317261431 "
       ]
      },
      {
       "output_type": "stream",
       "stream": "stdout",
       "text": [
        "working on wIR=68.00, wGR=44.00.... "
       ]
      },
      {
       "output_type": "stream",
       "stream": "stdout",
       "text": [
        "2.13798675755 "
       ]
      },
      {
       "output_type": "stream",
       "stream": "stdout",
       "text": [
        "working on wIR=68.00, wGR=46.00.... "
       ]
      },
      {
       "output_type": "stream",
       "stream": "stdout",
       "text": [
        "2.29462529697 "
       ]
      },
      {
       "output_type": "stream",
       "stream": "stdout",
       "text": [
        "working on wIR=68.00, wGR=48.00.... "
       ]
      },
      {
       "output_type": "stream",
       "stream": "stdout",
       "text": [
        "2.45511157112 "
       ]
      },
      {
       "output_type": "stream",
       "stream": "stdout",
       "text": [
        "working on wIR=68.00, wGR=50.00.... "
       ]
      },
      {
       "output_type": "stream",
       "stream": "stdout",
       "text": [
        "2.61304351124 "
       ]
      },
      {
       "output_type": "stream",
       "stream": "stdout",
       "text": [
        "working on wIR=68.00, wGR=52.00.... "
       ]
      },
      {
       "output_type": "stream",
       "stream": "stdout",
       "text": [
        "2.79189777826 "
       ]
      },
      {
       "output_type": "stream",
       "stream": "stdout",
       "text": [
        "working on wIR=68.00, wGR=54.00.... "
       ]
      },
      {
       "output_type": "stream",
       "stream": "stdout",
       "text": [
        "2.9742282767 "
       ]
      },
      {
       "output_type": "stream",
       "stream": "stdout",
       "text": [
        "working on wIR=68.00, wGR=56.00.... "
       ]
      },
      {
       "output_type": "stream",
       "stream": "stdout",
       "text": [
        "3.16002201769 "
       ]
      },
      {
       "output_type": "stream",
       "stream": "stdout",
       "text": [
        "working on wIR=68.00, wGR=58.00.... "
       ]
      },
      {
       "output_type": "stream",
       "stream": "stdout",
       "text": [
        "3.33858829569 "
       ]
      },
      {
       "output_type": "stream",
       "stream": "stdout",
       "text": [
        "working on wIR=68.00, wGR=60.00.... "
       ]
      },
      {
       "output_type": "stream",
       "stream": "stdout",
       "text": [
        "3.54182846843 "
       ]
      },
      {
       "output_type": "stream",
       "stream": "stdout",
       "text": [
        "working on wIR=68.00, wGR=62.00.... "
       ]
      },
      {
       "output_type": "stream",
       "stream": "stdout",
       "text": [
        "3.73366829646 "
       ]
      },
      {
       "output_type": "stream",
       "stream": "stdout",
       "text": [
        "working on wIR=68.00, wGR=64.00.... "
       ]
      },
      {
       "output_type": "stream",
       "stream": "stdout",
       "text": [
        "3.93306936146 "
       ]
      },
      {
       "output_type": "stream",
       "stream": "stdout",
       "text": [
        "working on wIR=68.00, wGR=66.00.... "
       ]
      },
      {
       "output_type": "stream",
       "stream": "stdout",
       "text": [
        "4.10468290801 "
       ]
      },
      {
       "output_type": "stream",
       "stream": "stdout",
       "text": [
        "working on wIR=68.00, wGR=68.00.... "
       ]
      },
      {
       "output_type": "stream",
       "stream": "stdout",
       "text": [
        "4.29383871022 "
       ]
      },
      {
       "output_type": "stream",
       "stream": "stdout",
       "text": [
        "working on wIR=68.00, wGR=70.00.... "
       ]
      },
      {
       "output_type": "stream",
       "stream": "stdout",
       "text": [
        "4.46384199124 "
       ]
      },
      {
       "output_type": "stream",
       "stream": "stdout",
       "text": [
        "working on wIR=68.00, wGR=72.00.... "
       ]
      },
      {
       "output_type": "stream",
       "stream": "stdout",
       "text": [
        "4.55551355013 "
       ]
      },
      {
       "output_type": "stream",
       "stream": "stdout",
       "text": [
        "working on wIR=68.00, wGR=74.00.... "
       ]
      },
      {
       "output_type": "stream",
       "stream": "stdout",
       "text": [
        "4.61974296261 "
       ]
      },
      {
       "output_type": "stream",
       "stream": "stdout",
       "text": [
        "working on wIR=70.00, wGR=28.00.... "
       ]
      },
      {
       "output_type": "stream",
       "stream": "stdout",
       "text": [
        "0.894178741399 "
       ]
      },
      {
       "output_type": "stream",
       "stream": "stdout",
       "text": [
        "working on wIR=70.00, wGR=30.00.... "
       ]
      },
      {
       "output_type": "stream",
       "stream": "stdout",
       "text": [
        "1.02648069803 "
       ]
      },
      {
       "output_type": "stream",
       "stream": "stdout",
       "text": [
        "working on wIR=70.00, wGR=32.00.... "
       ]
      },
      {
       "output_type": "stream",
       "stream": "stdout",
       "text": [
        "1.16790692754 "
       ]
      },
      {
       "output_type": "stream",
       "stream": "stdout",
       "text": [
        "working on wIR=70.00, wGR=34.00.... "
       ]
      },
      {
       "output_type": "stream",
       "stream": "stdout",
       "text": [
        "1.31845742992 "
       ]
      },
      {
       "output_type": "stream",
       "stream": "stdout",
       "text": [
        "working on wIR=70.00, wGR=36.00.... "
       ]
      },
      {
       "output_type": "stream",
       "stream": "stdout",
       "text": [
        "1.47813220517 "
       ]
      },
      {
       "output_type": "stream",
       "stream": "stdout",
       "text": [
        "working on wIR=70.00, wGR=38.00.... "
       ]
      },
      {
       "output_type": "stream",
       "stream": "stdout",
       "text": [
        "1.61979309377 "
       ]
      },
      {
       "output_type": "stream",
       "stream": "stdout",
       "text": [
        "working on wIR=70.00, wGR=40.00.... "
       ]
      },
      {
       "output_type": "stream",
       "stream": "stdout",
       "text": [
        "1.72635382905 "
       ]
      },
      {
       "output_type": "stream",
       "stream": "stdout",
       "text": [
        "working on wIR=70.00, wGR=42.00.... "
       ]
      },
      {
       "output_type": "stream",
       "stream": "stdout",
       "text": [
        "1.87146738134 "
       ]
      },
      {
       "output_type": "stream",
       "stream": "stdout",
       "text": [
        "working on wIR=70.00, wGR=44.00.... "
       ]
      },
      {
       "output_type": "stream",
       "stream": "stdout",
       "text": [
        "1.99507441256 "
       ]
      },
      {
       "output_type": "stream",
       "stream": "stdout",
       "text": [
        "working on wIR=70.00, wGR=46.00.... "
       ]
      },
      {
       "output_type": "stream",
       "stream": "stdout",
       "text": [
        "2.14079931596 "
       ]
      },
      {
       "output_type": "stream",
       "stream": "stdout",
       "text": [
        "working on wIR=70.00, wGR=48.00.... "
       ]
      },
      {
       "output_type": "stream",
       "stream": "stdout",
       "text": [
        "2.30424130695 "
       ]
      },
      {
       "output_type": "stream",
       "stream": "stdout",
       "text": [
        "working on wIR=70.00, wGR=50.00.... "
       ]
      },
      {
       "output_type": "stream",
       "stream": "stdout",
       "text": [
        "2.4532774866 "
       ]
      },
      {
       "output_type": "stream",
       "stream": "stdout",
       "text": [
        "working on wIR=70.00, wGR=52.00.... "
       ]
      },
      {
       "output_type": "stream",
       "stream": "stdout",
       "text": [
        "2.62205751077 "
       ]
      },
      {
       "output_type": "stream",
       "stream": "stdout",
       "text": [
        "working on wIR=70.00, wGR=54.00.... "
       ]
      },
      {
       "output_type": "stream",
       "stream": "stdout",
       "text": [
        "2.78616385638 "
       ]
      },
      {
       "output_type": "stream",
       "stream": "stdout",
       "text": [
        "working on wIR=70.00, wGR=56.00.... "
       ]
      },
      {
       "output_type": "stream",
       "stream": "stdout",
       "text": [
        "2.95951694642 "
       ]
      },
      {
       "output_type": "stream",
       "stream": "stdout",
       "text": [
        "working on wIR=70.00, wGR=58.00.... "
       ]
      },
      {
       "output_type": "stream",
       "stream": "stdout",
       "text": [
        "3.15053719985 "
       ]
      },
      {
       "output_type": "stream",
       "stream": "stdout",
       "text": [
        "working on wIR=70.00, wGR=60.00.... "
       ]
      },
      {
       "output_type": "stream",
       "stream": "stdout",
       "text": [
        "3.32974719647 "
       ]
      },
      {
       "output_type": "stream",
       "stream": "stdout",
       "text": [
        "working on wIR=70.00, wGR=62.00.... "
       ]
      },
      {
       "output_type": "stream",
       "stream": "stdout",
       "text": [
        "3.52411473528 "
       ]
      },
      {
       "output_type": "stream",
       "stream": "stdout",
       "text": [
        "working on wIR=70.00, wGR=64.00.... "
       ]
      },
      {
       "output_type": "stream",
       "stream": "stdout",
       "text": [
        "3.71153320967 "
       ]
      },
      {
       "output_type": "stream",
       "stream": "stdout",
       "text": [
        "working on wIR=70.00, wGR=66.00.... "
       ]
      },
      {
       "output_type": "stream",
       "stream": "stdout",
       "text": [
        "3.90986629155 "
       ]
      },
      {
       "output_type": "stream",
       "stream": "stdout",
       "text": [
        "working on wIR=70.00, wGR=68.00.... "
       ]
      },
      {
       "output_type": "stream",
       "stream": "stdout",
       "text": [
        "4.08255594854 "
       ]
      },
      {
       "output_type": "stream",
       "stream": "stdout",
       "text": [
        "working on wIR=70.00, wGR=70.00.... "
       ]
      },
      {
       "output_type": "stream",
       "stream": "stdout",
       "text": [
        "4.26932358996 "
       ]
      },
      {
       "output_type": "stream",
       "stream": "stdout",
       "text": [
        "working on wIR=70.00, wGR=72.00.... "
       ]
      },
      {
       "output_type": "stream",
       "stream": "stdout",
       "text": [
        "4.44234269015 "
       ]
      },
      {
       "output_type": "stream",
       "stream": "stdout",
       "text": [
        "working on wIR=70.00, wGR=74.00.... "
       ]
      },
      {
       "output_type": "stream",
       "stream": "stdout",
       "text": [
        "4.58037292738 "
       ]
      },
      {
       "output_type": "stream",
       "stream": "stdout",
       "text": [
        "working on wIR=70.00, wGR=76.00.... "
       ]
      },
      {
       "output_type": "stream",
       "stream": "stdout",
       "text": [
        "4.66545276055 "
       ]
      },
      {
       "output_type": "stream",
       "stream": "stdout",
       "text": [
        "working on wIR=72.00, wGR=28.00.... "
       ]
      },
      {
       "output_type": "stream",
       "stream": "stdout",
       "text": [
        "0.845192097387 "
       ]
      },
      {
       "output_type": "stream",
       "stream": "stdout",
       "text": [
        "working on wIR=72.00, wGR=30.00.... "
       ]
      },
      {
       "output_type": "stream",
       "stream": "stdout",
       "text": [
        "0.970246030164 "
       ]
      },
      {
       "output_type": "stream",
       "stream": "stdout",
       "text": [
        "working on wIR=72.00, wGR=32.00.... "
       ]
      },
      {
       "output_type": "stream",
       "stream": "stdout",
       "text": [
        "1.1039243721 "
       ]
      },
      {
       "output_type": "stream",
       "stream": "stdout",
       "text": [
        "working on wIR=72.00, wGR=34.00.... "
       ]
      },
      {
       "output_type": "stream",
       "stream": "stdout",
       "text": [
        "1.24622712319 "
       ]
      },
      {
       "output_type": "stream",
       "stream": "stdout",
       "text": [
        "working on wIR=72.00, wGR=36.00.... "
       ]
      },
      {
       "output_type": "stream",
       "stream": "stdout",
       "text": [
        "1.39715428344 "
       ]
      },
      {
       "output_type": "stream",
       "stream": "stdout",
       "text": [
        "working on wIR=72.00, wGR=38.00.... "
       ]
      },
      {
       "output_type": "stream",
       "stream": "stdout",
       "text": [
        "1.51520097706 "
       ]
      },
      {
       "output_type": "stream",
       "stream": "stdout",
       "text": [
        "working on wIR=72.00, wGR=40.00.... "
       ]
      },
      {
       "output_type": "stream",
       "stream": "stdout",
       "text": [
        "1.63538114598 "
       ]
      },
      {
       "output_type": "stream",
       "stream": "stdout",
       "text": [
        "working on wIR=72.00, wGR=42.00.... "
       ]
      },
      {
       "output_type": "stream",
       "stream": "stdout",
       "text": [
        "1.75093841384 "
       ]
      },
      {
       "output_type": "stream",
       "stream": "stdout",
       "text": [
        "working on wIR=72.00, wGR=44.00.... "
       ]
      },
      {
       "output_type": "stream",
       "stream": "stdout",
       "text": [
        "1.88597337627 "
       ]
      },
      {
       "output_type": "stream",
       "stream": "stdout",
       "text": [
        "working on wIR=72.00, wGR=46.00.... "
       ]
      },
      {
       "output_type": "stream",
       "stream": "stdout",
       "text": [
        "2.02351787195 "
       ]
      },
      {
       "output_type": "stream",
       "stream": "stdout",
       "text": [
        "working on wIR=72.00, wGR=48.00.... "
       ]
      },
      {
       "output_type": "stream",
       "stream": "stdout",
       "text": [
        "2.16237253556 "
       ]
      },
      {
       "output_type": "stream",
       "stream": "stdout",
       "text": [
        "working on wIR=72.00, wGR=50.00.... "
       ]
      },
      {
       "output_type": "stream",
       "stream": "stdout",
       "text": [
        "2.30476350932 "
       ]
      },
      {
       "output_type": "stream",
       "stream": "stdout",
       "text": [
        "working on wIR=72.00, wGR=52.00.... "
       ]
      },
      {
       "output_type": "stream",
       "stream": "stdout",
       "text": [
        "2.46006339248 "
       ]
      },
      {
       "output_type": "stream",
       "stream": "stdout",
       "text": [
        "working on wIR=72.00, wGR=54.00.... "
       ]
      },
      {
       "output_type": "stream",
       "stream": "stdout",
       "text": [
        "2.62092387373 "
       ]
      },
      {
       "output_type": "stream",
       "stream": "stdout",
       "text": [
        "working on wIR=72.00, wGR=56.00.... "
       ]
      },
      {
       "output_type": "stream",
       "stream": "stdout",
       "text": [
        "2.77628663329 "
       ]
      },
      {
       "output_type": "stream",
       "stream": "stdout",
       "text": [
        "working on wIR=72.00, wGR=58.00.... "
       ]
      },
      {
       "output_type": "stream",
       "stream": "stdout",
       "text": [
        "2.94847226113 "
       ]
      },
      {
       "output_type": "stream",
       "stream": "stdout",
       "text": [
        "working on wIR=72.00, wGR=60.00.... "
       ]
      },
      {
       "output_type": "stream",
       "stream": "stdout",
       "text": [
        "3.13223372653 "
       ]
      },
      {
       "output_type": "stream",
       "stream": "stdout",
       "text": [
        "working on wIR=72.00, wGR=62.00.... "
       ]
      },
      {
       "output_type": "stream",
       "stream": "stdout",
       "text": [
        "3.30232688869 "
       ]
      },
      {
       "output_type": "stream",
       "stream": "stdout",
       "text": [
        "working on wIR=72.00, wGR=64.00.... "
       ]
      },
      {
       "output_type": "stream",
       "stream": "stdout",
       "text": [
        "3.49102399504 "
       ]
      },
      {
       "output_type": "stream",
       "stream": "stdout",
       "text": [
        "working on wIR=72.00, wGR=66.00.... "
       ]
      },
      {
       "output_type": "stream",
       "stream": "stdout",
       "text": [
        "3.68306543443 "
       ]
      },
      {
       "output_type": "stream",
       "stream": "stdout",
       "text": [
        "working on wIR=72.00, wGR=68.00.... "
       ]
      },
      {
       "output_type": "stream",
       "stream": "stdout",
       "text": [
        "3.87828835967 "
       ]
      },
      {
       "output_type": "stream",
       "stream": "stdout",
       "text": [
        "working on wIR=72.00, wGR=70.00.... "
       ]
      },
      {
       "output_type": "stream",
       "stream": "stdout",
       "text": [
        "4.06703649264 "
       ]
      },
      {
       "output_type": "stream",
       "stream": "stdout",
       "text": [
        "working on wIR=72.00, wGR=72.00.... "
       ]
      },
      {
       "output_type": "stream",
       "stream": "stdout",
       "text": [
        "4.24758424985 "
       ]
      },
      {
       "output_type": "stream",
       "stream": "stdout",
       "text": [
        "working on wIR=72.00, wGR=74.00.... "
       ]
      },
      {
       "output_type": "stream",
       "stream": "stdout",
       "text": [
        "4.41252601249 "
       ]
      },
      {
       "output_type": "stream",
       "stream": "stdout",
       "text": [
        "working on wIR=72.00, wGR=76.00.... "
       ]
      },
      {
       "output_type": "stream",
       "stream": "stdout",
       "text": [
        "4.59085029928 "
       ]
      },
      {
       "output_type": "stream",
       "stream": "stdout",
       "text": [
        "working on wIR=72.00, wGR=78.00.... "
       ]
      },
      {
       "output_type": "stream",
       "stream": "stdout",
       "text": [
        "4.68629444589 "
       ]
      },
      {
       "output_type": "stream",
       "stream": "stdout",
       "text": [
        "working on wIR=74.00, wGR=28.00.... "
       ]
      },
      {
       "output_type": "stream",
       "stream": "stdout",
       "text": [
        "0.800123417249 "
       ]
      },
      {
       "output_type": "stream",
       "stream": "stdout",
       "text": [
        "working on wIR=74.00, wGR=30.00.... "
       ]
      },
      {
       "output_type": "stream",
       "stream": "stdout",
       "text": [
        "0.918509024903 "
       ]
      },
      {
       "output_type": "stream",
       "stream": "stdout",
       "text": [
        "working on wIR=74.00, wGR=32.00.... "
       ]
      },
      {
       "output_type": "stream",
       "stream": "stdout",
       "text": [
        "1.04505915722 "
       ]
      },
      {
       "output_type": "stream",
       "stream": "stdout",
       "text": [
        "working on wIR=74.00, wGR=34.00.... "
       ]
      },
      {
       "output_type": "stream",
       "stream": "stdout",
       "text": [
        "1.17977381421 "
       ]
      },
      {
       "output_type": "stream",
       "stream": "stdout",
       "text": [
        "working on wIR=74.00, wGR=36.00.... "
       ]
      },
      {
       "output_type": "stream",
       "stream": "stdout",
       "text": [
        "1.32265299586 "
       ]
      },
      {
       "output_type": "stream",
       "stream": "stdout",
       "text": [
        "working on wIR=74.00, wGR=38.00.... "
       ]
      },
      {
       "output_type": "stream",
       "stream": "stdout",
       "text": [
        "1.41012141772 "
       ]
      },
      {
       "output_type": "stream",
       "stream": "stdout",
       "text": [
        "working on wIR=74.00, wGR=40.00.... "
       ]
      },
      {
       "output_type": "stream",
       "stream": "stdout",
       "text": [
        "1.53555437108 "
       ]
      },
      {
       "output_type": "stream",
       "stream": "stdout",
       "text": [
        "working on wIR=74.00, wGR=42.00.... "
       ]
      },
      {
       "output_type": "stream",
       "stream": "stdout",
       "text": [
        "1.6449497085 "
       ]
      },
      {
       "output_type": "stream",
       "stream": "stdout",
       "text": [
        "working on wIR=74.00, wGR=44.00.... "
       ]
      },
      {
       "output_type": "stream",
       "stream": "stdout",
       "text": [
        "1.77278411954 "
       ]
      },
      {
       "output_type": "stream",
       "stream": "stdout",
       "text": [
        "working on wIR=74.00, wGR=46.00.... "
       ]
      },
      {
       "output_type": "stream",
       "stream": "stdout",
       "text": [
        "1.8936241642 "
       ]
      },
      {
       "output_type": "stream",
       "stream": "stdout",
       "text": [
        "working on wIR=74.00, wGR=48.00.... "
       ]
      },
      {
       "output_type": "stream",
       "stream": "stdout",
       "text": [
        "2.02312063643 "
       ]
      },
      {
       "output_type": "stream",
       "stream": "stdout",
       "text": [
        "working on wIR=74.00, wGR=50.00.... "
       ]
      },
      {
       "output_type": "stream",
       "stream": "stdout",
       "text": [
        "2.16924285173 "
       ]
      },
      {
       "output_type": "stream",
       "stream": "stdout",
       "text": [
        "working on wIR=74.00, wGR=52.00.... "
       ]
      },
      {
       "output_type": "stream",
       "stream": "stdout",
       "text": [
        "2.31411354912 "
       ]
      },
      {
       "output_type": "stream",
       "stream": "stdout",
       "text": [
        "working on wIR=74.00, wGR=54.00.... "
       ]
      },
      {
       "output_type": "stream",
       "stream": "stdout",
       "text": [
        "2.46243591803 "
       ]
      },
      {
       "output_type": "stream",
       "stream": "stdout",
       "text": [
        "working on wIR=74.00, wGR=56.00.... "
       ]
      },
      {
       "output_type": "stream",
       "stream": "stdout",
       "text": [
        "2.61562266153 "
       ]
      },
      {
       "output_type": "stream",
       "stream": "stdout",
       "text": [
        "working on wIR=74.00, wGR=58.00.... "
       ]
      },
      {
       "output_type": "stream",
       "stream": "stdout",
       "text": [
        "2.77082566265 "
       ]
      },
      {
       "output_type": "stream",
       "stream": "stdout",
       "text": [
        "working on wIR=74.00, wGR=60.00.... "
       ]
      },
      {
       "output_type": "stream",
       "stream": "stdout",
       "text": [
        "2.94208722974 "
       ]
      },
      {
       "output_type": "stream",
       "stream": "stdout",
       "text": [
        "working on wIR=74.00, wGR=62.00.... "
       ]
      },
      {
       "output_type": "stream",
       "stream": "stdout",
       "text": [
        "3.11680349676 "
       ]
      },
      {
       "output_type": "stream",
       "stream": "stdout",
       "text": [
        "working on wIR=74.00, wGR=64.00.... "
       ]
      },
      {
       "output_type": "stream",
       "stream": "stdout",
       "text": [
        "3.27855946428 "
       ]
      },
      {
       "output_type": "stream",
       "stream": "stdout",
       "text": [
        "working on wIR=74.00, wGR=66.00.... "
       ]
      },
      {
       "output_type": "stream",
       "stream": "stdout",
       "text": [
        "3.47202384308 "
       ]
      },
      {
       "output_type": "stream",
       "stream": "stdout",
       "text": [
        "working on wIR=74.00, wGR=68.00.... "
       ]
      },
      {
       "output_type": "stream",
       "stream": "stdout",
       "text": [
        "3.65312712707 "
       ]
      },
      {
       "output_type": "stream",
       "stream": "stdout",
       "text": [
        "working on wIR=74.00, wGR=70.00.... "
       ]
      },
      {
       "output_type": "stream",
       "stream": "stdout",
       "text": [
        "3.84439067037 "
       ]
      },
      {
       "output_type": "stream",
       "stream": "stdout",
       "text": [
        "working on wIR=74.00, wGR=72.00.... "
       ]
      },
      {
       "output_type": "stream",
       "stream": "stdout",
       "text": [
        "4.02170197132 "
       ]
      },
      {
       "output_type": "stream",
       "stream": "stdout",
       "text": [
        "working on wIR=74.00, wGR=74.00.... "
       ]
      },
      {
       "output_type": "stream",
       "stream": "stdout",
       "text": [
        "4.21240925867 "
       ]
      },
      {
       "output_type": "stream",
       "stream": "stdout",
       "text": [
        "working on wIR=74.00, wGR=76.00.... "
       ]
      },
      {
       "output_type": "stream",
       "stream": "stdout",
       "text": [
        "4.38315169842 "
       ]
      },
      {
       "output_type": "stream",
       "stream": "stdout",
       "text": [
        "working on wIR=74.00, wGR=78.00.... "
       ]
      },
      {
       "output_type": "stream",
       "stream": "stdout",
       "text": [
        "4.5536457901 "
       ]
      },
      {
       "output_type": "stream",
       "stream": "stdout",
       "text": [
        "working on wIR=74.00, wGR=80.00.... "
       ]
      },
      {
       "output_type": "stream",
       "stream": "stdout",
       "text": [
        "4.70793935862 "
       ]
      },
      {
       "output_type": "stream",
       "stream": "stdout",
       "text": [
        "working on wIR=76.00, wGR=28.00.... "
       ]
      },
      {
       "output_type": "stream",
       "stream": "stdout",
       "text": [
        "0.758565760536 "
       ]
      },
      {
       "output_type": "stream",
       "stream": "stdout",
       "text": [
        "working on wIR=76.00, wGR=30.00.... "
       ]
      },
      {
       "output_type": "stream",
       "stream": "stdout",
       "text": [
        "0.870802531227 "
       ]
      },
      {
       "output_type": "stream",
       "stream": "stdout",
       "text": [
        "working on wIR=76.00, wGR=32.00.... "
       ]
      },
      {
       "output_type": "stream",
       "stream": "stdout",
       "text": [
        "0.990779768863 "
       ]
      },
      {
       "output_type": "stream",
       "stream": "stdout",
       "text": [
        "working on wIR=76.00, wGR=34.00.... "
       ]
      },
      {
       "output_type": "stream",
       "stream": "stdout",
       "text": [
        "1.11849747344 "
       ]
      },
      {
       "output_type": "stream",
       "stream": "stdout",
       "text": [
        "working on wIR=76.00, wGR=36.00.... "
       ]
      },
      {
       "output_type": "stream",
       "stream": "stdout",
       "text": [
        "1.23385604362 "
       ]
      },
      {
       "output_type": "stream",
       "stream": "stdout",
       "text": [
        "working on wIR=76.00, wGR=38.00.... "
       ]
      },
      {
       "output_type": "stream",
       "stream": "stdout",
       "text": [
        "1.33688103938 "
       ]
      },
      {
       "output_type": "stream",
       "stream": "stdout",
       "text": [
        "working on wIR=76.00, wGR=40.00.... "
       ]
      },
      {
       "output_type": "stream",
       "stream": "stdout",
       "text": [
        "1.44003338054 "
       ]
      },
      {
       "output_type": "stream",
       "stream": "stdout",
       "text": [
        "working on wIR=76.00, wGR=42.00.... "
       ]
      },
      {
       "output_type": "stream",
       "stream": "stdout",
       "text": [
        "1.54472169381 "
       ]
      },
      {
       "output_type": "stream",
       "stream": "stdout",
       "text": [
        "working on wIR=76.00, wGR=44.00.... "
       ]
      },
      {
       "output_type": "stream",
       "stream": "stdout",
       "text": [
        "1.66163083332 "
       ]
      },
      {
       "output_type": "stream",
       "stream": "stdout",
       "text": [
        "working on wIR=76.00, wGR=46.00.... "
       ]
      },
      {
       "output_type": "stream",
       "stream": "stdout",
       "text": [
        "1.78238497954 "
       ]
      },
      {
       "output_type": "stream",
       "stream": "stdout",
       "text": [
        "working on wIR=76.00, wGR=48.00.... "
       ]
      },
      {
       "output_type": "stream",
       "stream": "stdout",
       "text": [
        "1.89533898646 "
       ]
      },
      {
       "output_type": "stream",
       "stream": "stdout",
       "text": [
        "working on wIR=76.00, wGR=50.00.... "
       ]
      },
      {
       "output_type": "stream",
       "stream": "stdout",
       "text": [
        "2.04134978846 "
       ]
      },
      {
       "output_type": "stream",
       "stream": "stdout",
       "text": [
        "working on wIR=76.00, wGR=52.00.... "
       ]
      },
      {
       "output_type": "stream",
       "stream": "stdout",
       "text": [
        "2.16481286333 "
       ]
      },
      {
       "output_type": "stream",
       "stream": "stdout",
       "text": [
        "working on wIR=76.00, wGR=54.00.... "
       ]
      },
      {
       "output_type": "stream",
       "stream": "stdout",
       "text": [
        "2.31913961703 "
       ]
      },
      {
       "output_type": "stream",
       "stream": "stdout",
       "text": [
        "working on wIR=76.00, wGR=56.00.... "
       ]
      },
      {
       "output_type": "stream",
       "stream": "stdout",
       "text": [
        "2.46220219784 "
       ]
      },
      {
       "output_type": "stream",
       "stream": "stdout",
       "text": [
        "working on wIR=76.00, wGR=58.00.... "
       ]
      },
      {
       "output_type": "stream",
       "stream": "stdout",
       "text": [
        "2.60642532174 "
       ]
      },
      {
       "output_type": "stream",
       "stream": "stdout",
       "text": [
        "working on wIR=76.00, wGR=60.00.... "
       ]
      },
      {
       "output_type": "stream",
       "stream": "stdout",
       "text": [
        "2.76735451901 "
       ]
      },
      {
       "output_type": "stream",
       "stream": "stdout",
       "text": [
        "working on wIR=76.00, wGR=62.00.... "
       ]
      },
      {
       "output_type": "stream",
       "stream": "stdout",
       "text": [
        "2.9170424617 "
       ]
      },
      {
       "output_type": "stream",
       "stream": "stdout",
       "text": [
        "working on wIR=76.00, wGR=64.00.... "
       ]
      },
      {
       "output_type": "stream",
       "stream": "stdout",
       "text": [
        "3.08333013548 "
       ]
      },
      {
       "output_type": "stream",
       "stream": "stdout",
       "text": [
        "working on wIR=76.00, wGR=66.00.... "
       ]
      },
      {
       "output_type": "stream",
       "stream": "stdout",
       "text": [
        "3.26265449878 "
       ]
      },
      {
       "output_type": "stream",
       "stream": "stdout",
       "text": [
        "working on wIR=76.00, wGR=68.00.... "
       ]
      },
      {
       "output_type": "stream",
       "stream": "stdout",
       "text": [
        "3.44335367684 "
       ]
      },
      {
       "output_type": "stream",
       "stream": "stdout",
       "text": [
        "working on wIR=76.00, wGR=70.00.... "
       ]
      },
      {
       "output_type": "stream",
       "stream": "stdout",
       "text": [
        "3.62341381865 "
       ]
      },
      {
       "output_type": "stream",
       "stream": "stdout",
       "text": [
        "working on wIR=76.00, wGR=72.00.... "
       ]
      },
      {
       "output_type": "stream",
       "stream": "stdout",
       "text": [
        "3.80017768976 "
       ]
      },
      {
       "output_type": "stream",
       "stream": "stdout",
       "text": [
        "working on wIR=76.00, wGR=74.00.... "
       ]
      },
      {
       "output_type": "stream",
       "stream": "stdout",
       "text": [
        "3.98088287312 "
       ]
      },
      {
       "output_type": "stream",
       "stream": "stdout",
       "text": [
        "working on wIR=76.00, wGR=76.00.... "
       ]
      },
      {
       "output_type": "stream",
       "stream": "stdout",
       "text": [
        "4.17723426748 "
       ]
      },
      {
       "output_type": "stream",
       "stream": "stdout",
       "text": [
        "working on wIR=76.00, wGR=78.00.... "
       ]
      },
      {
       "output_type": "stream",
       "stream": "stdout",
       "text": [
        "4.34003228736 "
       ]
      },
      {
       "output_type": "stream",
       "stream": "stdout",
       "text": [
        "working on wIR=76.00, wGR=80.00.... "
       ]
      },
      {
       "output_type": "stream",
       "stream": "stdout",
       "text": [
        "4.52647639336 "
       ]
      },
      {
       "output_type": "stream",
       "stream": "stdout",
       "text": [
        "working on wIR=76.00, wGR=82.00.... "
       ]
      },
      {
       "output_type": "stream",
       "stream": "stdout",
       "text": [
        "4.68937372691 "
       ]
      },
      {
       "output_type": "stream",
       "stream": "stdout",
       "text": [
        "working on wIR=78.00, wGR=28.00.... "
       ]
      },
      {
       "output_type": "stream",
       "stream": "stdout",
       "text": [
        "0.720163680614 "
       ]
      },
      {
       "output_type": "stream",
       "stream": "stdout",
       "text": [
        "working on wIR=78.00, wGR=30.00.... "
       ]
      },
      {
       "output_type": "stream",
       "stream": "stdout",
       "text": [
        "0.826718510909 "
       ]
      },
      {
       "output_type": "stream",
       "stream": "stdout",
       "text": [
        "working on wIR=78.00, wGR=32.00.... "
       ]
      },
      {
       "output_type": "stream",
       "stream": "stdout",
       "text": [
        "0.940621950189 "
       ]
      },
      {
       "output_type": "stream",
       "stream": "stdout",
       "text": [
        "working on wIR=78.00, wGR=34.00.... "
       ]
      },
      {
       "output_type": "stream",
       "stream": "stdout",
       "text": [
        "1.06187399846 "
       ]
      },
      {
       "output_type": "stream",
       "stream": "stdout",
       "text": [
        "working on wIR=78.00, wGR=36.00.... "
       ]
      },
      {
       "output_type": "stream",
       "stream": "stdout",
       "text": [
        "1.15873423242 "
       ]
      },
      {
       "output_type": "stream",
       "stream": "stdout",
       "text": [
        "working on wIR=78.00, wGR=38.00.... "
       ]
      },
      {
       "output_type": "stream",
       "stream": "stdout",
       "text": [
        "1.24734515151 "
       ]
      },
      {
       "output_type": "stream",
       "stream": "stdout",
       "text": [
        "working on wIR=78.00, wGR=40.00.... "
       ]
      },
      {
       "output_type": "stream",
       "stream": "stdout",
       "text": [
        "1.34291418311 "
       ]
      },
      {
       "output_type": "stream",
       "stream": "stdout",
       "text": [
        "working on wIR=78.00, wGR=42.00.... "
       ]
      },
      {
       "output_type": "stream",
       "stream": "stdout",
       "text": [
        "1.45386243243 "
       ]
      },
      {
       "output_type": "stream",
       "stream": "stdout",
       "text": [
        "working on wIR=78.00, wGR=44.00.... "
       ]
      },
      {
       "output_type": "stream",
       "stream": "stdout",
       "text": [
        "1.56154091135 "
       ]
      },
      {
       "output_type": "stream",
       "stream": "stdout",
       "text": [
        "working on wIR=78.00, wGR=46.00.... "
       ]
      },
      {
       "output_type": "stream",
       "stream": "stdout",
       "text": [
        "1.67235781013 "
       ]
      },
      {
       "output_type": "stream",
       "stream": "stdout",
       "text": [
        "working on wIR=78.00, wGR=48.00.... "
       ]
      },
      {
       "output_type": "stream",
       "stream": "stdout",
       "text": [
        "1.78606752237 "
       ]
      },
      {
       "output_type": "stream",
       "stream": "stdout",
       "text": [
        "working on wIR=78.00, wGR=50.00.... "
       ]
      },
      {
       "output_type": "stream",
       "stream": "stdout",
       "text": [
        "1.91462040597 "
       ]
      },
      {
       "output_type": "stream",
       "stream": "stdout",
       "text": [
        "working on wIR=78.00, wGR=52.00.... "
       ]
      },
      {
       "output_type": "stream",
       "stream": "stdout",
       "text": [
        "2.02992484333 "
       ]
      },
      {
       "output_type": "stream",
       "stream": "stdout",
       "text": [
        "working on wIR=78.00, wGR=54.00.... "
       ]
      },
      {
       "output_type": "stream",
       "stream": "stdout",
       "text": [
        "2.17513065452 "
       ]
      },
      {
       "output_type": "stream",
       "stream": "stdout",
       "text": [
        "working on wIR=78.00, wGR=56.00.... "
       ]
      },
      {
       "output_type": "stream",
       "stream": "stdout",
       "text": [
        "2.30676488811 "
       ]
      },
      {
       "output_type": "stream",
       "stream": "stdout",
       "text": [
        "working on wIR=78.00, wGR=58.00.... "
       ]
      },
      {
       "output_type": "stream",
       "stream": "stdout",
       "text": [
        "2.45634008355 "
       ]
      },
      {
       "output_type": "stream",
       "stream": "stdout",
       "text": [
        "working on wIR=78.00, wGR=60.00.... "
       ]
      },
      {
       "output_type": "stream",
       "stream": "stdout",
       "text": [
        "2.59358121452 "
       ]
      },
      {
       "output_type": "stream",
       "stream": "stdout",
       "text": [
        "working on wIR=78.00, wGR=62.00.... "
       ]
      },
      {
       "output_type": "stream",
       "stream": "stdout",
       "text": [
        "2.74714408163 "
       ]
      },
      {
       "output_type": "stream",
       "stream": "stdout",
       "text": [
        "working on wIR=78.00, wGR=64.00.... "
       ]
      },
      {
       "output_type": "stream",
       "stream": "stdout",
       "text": [
        "2.912601993 "
       ]
      },
      {
       "output_type": "stream",
       "stream": "stdout",
       "text": [
        "working on wIR=78.00, wGR=66.00.... "
       ]
      },
      {
       "output_type": "stream",
       "stream": "stdout",
       "text": [
        "3.07739975707 "
       ]
      },
      {
       "output_type": "stream",
       "stream": "stdout",
       "text": [
        "working on wIR=78.00, wGR=68.00.... "
       ]
      },
      {
       "output_type": "stream",
       "stream": "stdout",
       "text": [
        "3.24479820512 "
       ]
      },
      {
       "output_type": "stream",
       "stream": "stdout",
       "text": [
        "working on wIR=78.00, wGR=70.00.... "
       ]
      },
      {
       "output_type": "stream",
       "stream": "stdout",
       "text": [
        "3.41014597863 "
       ]
      },
      {
       "output_type": "stream",
       "stream": "stdout",
       "text": [
        "working on wIR=78.00, wGR=72.00.... "
       ]
      },
      {
       "output_type": "stream",
       "stream": "stdout",
       "text": [
        "3.59115705204 "
       ]
      },
      {
       "output_type": "stream",
       "stream": "stdout",
       "text": [
        "working on wIR=78.00, wGR=74.00.... "
       ]
      },
      {
       "output_type": "stream",
       "stream": "stdout",
       "text": [
        "3.7597854781 "
       ]
      },
      {
       "output_type": "stream",
       "stream": "stdout",
       "text": [
        "working on wIR=78.00, wGR=76.00.... "
       ]
      },
      {
       "output_type": "stream",
       "stream": "stdout",
       "text": [
        "3.94570261913 "
       ]
      },
      {
       "output_type": "stream",
       "stream": "stdout",
       "text": [
        "working on wIR=78.00, wGR=78.00.... "
       ]
      },
      {
       "output_type": "stream",
       "stream": "stdout",
       "text": [
        "4.12031993619 "
       ]
      },
      {
       "output_type": "stream",
       "stream": "stdout",
       "text": [
        "working on wIR=78.00, wGR=80.00.... "
       ]
      },
      {
       "output_type": "stream",
       "stream": "stdout",
       "text": [
        "4.3114588782 "
       ]
      },
      {
       "output_type": "stream",
       "stream": "stdout",
       "text": [
        "working on wIR=78.00, wGR=82.00.... "
       ]
      },
      {
       "output_type": "stream",
       "stream": "stdout",
       "text": [
        "4.49085129641 "
       ]
      },
      {
       "output_type": "stream",
       "stream": "stdout",
       "text": [
        "working on wIR=78.00, wGR=84.00.... "
       ]
      },
      {
       "output_type": "stream",
       "stream": "stdout",
       "text": [
        "4.65766622446 "
       ]
      },
      {
       "output_type": "stream",
       "stream": "stdout",
       "text": [
        "working on wIR=80.00, wGR=28.00.... "
       ]
      },
      {
       "output_type": "stream",
       "stream": "stdout",
       "text": [
        "0.684605598883 "
       ]
      },
      {
       "output_type": "stream",
       "stream": "stdout",
       "text": [
        "working on wIR=80.00, wGR=30.00.... "
       ]
      },
      {
       "output_type": "stream",
       "stream": "stdout",
       "text": [
        "0.785899284432 "
       ]
      },
      {
       "output_type": "stream",
       "stream": "stdout",
       "text": [
        "working on wIR=80.00, wGR=32.00.... "
       ]
      },
      {
       "output_type": "stream",
       "stream": "stdout",
       "text": [
        "0.894178741399 "
       ]
      },
      {
       "output_type": "stream",
       "stream": "stdout",
       "text": [
        "working on wIR=80.00, wGR=34.00.... "
       ]
      },
      {
       "output_type": "stream",
       "stream": "stdout",
       "text": [
        "1.00944396978 "
       ]
      },
      {
       "output_type": "stream",
       "stream": "stdout",
       "text": [
        "working on wIR=80.00, wGR=36.00.... "
       ]
      },
      {
       "output_type": "stream",
       "stream": "stdout",
       "text": [
        "1.1015217297 "
       ]
      },
      {
       "output_type": "stream",
       "stream": "stdout",
       "text": [
        "working on wIR=80.00, wGR=38.00.... "
       ]
      },
      {
       "output_type": "stream",
       "stream": "stdout",
       "text": [
        "1.18624953939 "
       ]
      },
      {
       "output_type": "stream",
       "stream": "stdout",
       "text": [
        "working on wIR=80.00, wGR=40.00.... "
       ]
      },
      {
       "output_type": "stream",
       "stream": "stdout",
       "text": [
        "1.27660779532 "
       ]
      },
      {
       "output_type": "stream",
       "stream": "stdout",
       "text": [
        "working on wIR=80.00, wGR=42.00.... "
       ]
      },
      {
       "output_type": "stream",
       "stream": "stdout",
       "text": [
        "1.36639096227 "
       ]
      },
      {
       "output_type": "stream",
       "stream": "stdout",
       "text": [
        "working on wIR=80.00, wGR=44.00.... "
       ]
      },
      {
       "output_type": "stream",
       "stream": "stdout",
       "text": [
        "1.47176480702 "
       ]
      },
      {
       "output_type": "stream",
       "stream": "stdout",
       "text": [
        "working on wIR=80.00, wGR=46.00.... "
       ]
      },
      {
       "output_type": "stream",
       "stream": "stdout",
       "text": [
        "1.57267146747 "
       ]
      },
      {
       "output_type": "stream",
       "stream": "stdout",
       "text": [
        "working on wIR=80.00, wGR=48.00.... "
       ]
      },
      {
       "output_type": "stream",
       "stream": "stdout",
       "text": [
        "1.67806164039 "
       ]
      },
      {
       "output_type": "stream",
       "stream": "stdout",
       "text": [
        "working on wIR=80.00, wGR=50.00.... "
       ]
      },
      {
       "output_type": "stream",
       "stream": "stdout",
       "text": [
        "1.80634579249 "
       ]
      },
      {
       "output_type": "stream",
       "stream": "stdout",
       "text": [
        "working on wIR=80.00, wGR=52.00.... "
       ]
      },
      {
       "output_type": "stream",
       "stream": "stdout",
       "text": [
        "1.90565099922 "
       ]
      },
      {
       "output_type": "stream",
       "stream": "stdout",
       "text": [
        "working on wIR=80.00, wGR=54.00.... "
       ]
      },
      {
       "output_type": "stream",
       "stream": "stdout",
       "text": [
        "2.03903194262 "
       ]
      },
      {
       "output_type": "stream",
       "stream": "stdout",
       "text": [
        "working on wIR=80.00, wGR=56.00.... "
       ]
      },
      {
       "output_type": "stream",
       "stream": "stdout",
       "text": [
        "2.17831371487 "
       ]
      },
      {
       "output_type": "stream",
       "stream": "stdout",
       "text": [
        "working on wIR=80.00, wGR=58.00.... "
       ]
      },
      {
       "output_type": "stream",
       "stream": "stdout",
       "text": [
        "2.30389440274 "
       ]
      },
      {
       "output_type": "stream",
       "stream": "stdout",
       "text": [
        "working on wIR=80.00, wGR=60.00.... "
       ]
      },
      {
       "output_type": "stream",
       "stream": "stdout",
       "text": [
        "2.44684220013 "
       ]
      },
      {
       "output_type": "stream",
       "stream": "stdout",
       "text": [
        "working on wIR=80.00, wGR=62.00.... "
       ]
      },
      {
       "output_type": "stream",
       "stream": "stdout",
       "text": [
        "2.58511327958 "
       ]
      },
      {
       "output_type": "stream",
       "stream": "stdout",
       "text": [
        "working on wIR=80.00, wGR=64.00.... "
       ]
      },
      {
       "output_type": "stream",
       "stream": "stdout",
       "text": [
        "2.73616131961 "
       ]
      },
      {
       "output_type": "stream",
       "stream": "stdout",
       "text": [
        "working on wIR=80.00, wGR=66.00.... "
       ]
      },
      {
       "output_type": "stream",
       "stream": "stdout",
       "text": [
        "2.88186739004 "
       ]
      },
      {
       "output_type": "stream",
       "stream": "stdout",
       "text": [
        "working on wIR=80.00, wGR=68.00.... "
       ]
      },
      {
       "output_type": "stream",
       "stream": "stdout",
       "text": [
        "3.03375843148 "
       ]
      },
      {
       "output_type": "stream",
       "stream": "stdout",
       "text": [
        "working on wIR=80.00, wGR=70.00.... "
       ]
      },
      {
       "output_type": "stream",
       "stream": "stdout",
       "text": [
        "3.21483916831 "
       ]
      },
      {
       "output_type": "stream",
       "stream": "stdout",
       "text": [
        "working on wIR=80.00, wGR=72.00.... "
       ]
      },
      {
       "output_type": "stream",
       "stream": "stdout",
       "text": [
        "3.37022637314 "
       ]
      },
      {
       "output_type": "stream",
       "stream": "stdout",
       "text": [
        "working on wIR=80.00, wGR=74.00.... "
       ]
      },
      {
       "output_type": "stream",
       "stream": "stdout",
       "text": [
        "3.54404946828 "
       ]
      },
      {
       "output_type": "stream",
       "stream": "stdout",
       "text": [
        "working on wIR=80.00, wGR=76.00.... "
       ]
      },
      {
       "output_type": "stream",
       "stream": "stdout",
       "text": [
        "3.71858874241 "
       ]
      },
      {
       "output_type": "stream",
       "stream": "stdout",
       "text": [
        "working on wIR=80.00, wGR=78.00.... "
       ]
      },
      {
       "output_type": "stream",
       "stream": "stdout",
       "text": [
        "3.89677430428 "
       ]
      },
      {
       "output_type": "stream",
       "stream": "stdout",
       "text": [
        "working on wIR=80.00, wGR=80.00.... "
       ]
      },
      {
       "output_type": "stream",
       "stream": "stdout",
       "text": [
        "4.06531642338 "
       ]
      },
      {
       "output_type": "stream",
       "stream": "stdout",
       "text": [
        "working on wIR=80.00, wGR=82.00.... "
       ]
      },
      {
       "output_type": "stream",
       "stream": "stdout",
       "text": [
        "4.25499968274 "
       ]
      },
      {
       "output_type": "stream",
       "stream": "stdout",
       "text": [
        "working on wIR=80.00, wGR=84.00.... "
       ]
      },
      {
       "output_type": "stream",
       "stream": "stdout",
       "text": [
        "4.44112425162 "
       ]
      },
      {
       "output_type": "stream",
       "stream": "stdout",
       "text": [
        "working on wIR=80.00, wGR=86.00.... "
       ]
      },
      {
       "output_type": "stream",
       "stream": "stdout",
       "text": [
        "4.61447490379\n"
       ]
      }
     ],
     "prompt_number": 3
    },
    {
     "cell_type": "markdown",
     "metadata": {},
     "source": [
      "## From here on, tests...."
     ]
    },
    {
     "cell_type": "code",
     "collapsed": false,
     "input": [
      "import optevap\n",
      "wIR = 64. \n",
      "wGR = 60.\n",
      "s=7.\n",
      "results = []\n",
      "results.append( [s, wIR, wGR]+optevap.optimal( s0=s, wL=wIR, wC=wGR ))\n",
      "print results "
     ],
     "language": "python",
     "metadata": {},
     "outputs": [
      {
       "output_type": "stream",
       "stream": "stdout",
       "text": [
        "merit(0.) =  "
       ]
      },
      {
       "output_type": "stream",
       "stream": "stdout",
       "text": [
        "12.8856393136\n",
        "4.33111092566"
       ]
      },
      {
       "output_type": "stream",
       "stream": "stdout",
       "text": [
        "\n",
        "[[7.0, 64.0, 60.0, 4.3311109256581863, 1.0301791294876872, 1873035.7975128621, 2.6590096259920779]]"
       ]
      },
      {
       "output_type": "stream",
       "stream": "stdout",
       "text": [
        "\n"
       ]
      }
     ],
     "prompt_number": 2
    },
    {
     "cell_type": "code",
     "collapsed": false,
     "input": [
      "import optevap\n",
      "wIR = 64. \n",
      "wGR = 60.\n",
      "s=7.\n",
      "results = []\n",
      "results.append( [s, wIR, wGR]+optevap.optimal( s0=s, wL=wIR, wC=wGR, Number=3e5 ))\n",
      "print results "
     ],
     "language": "python",
     "metadata": {},
     "outputs": [
      {
       "output_type": "stream",
       "stream": "stdout",
       "text": [
        "3.7279264649\n",
        "[[7.0, 64.0, 60.0, 3.7279264648980135, 2.6812634542676022, 295966.09583380911, 1.7289682779226434]]"
       ]
      },
      {
       "output_type": "stream",
       "stream": "stdout",
       "text": [
        "\n"
       ]
      }
     ],
     "prompt_number": 1
    },
    {
     "cell_type": "code",
     "collapsed": false,
     "input": [
      "import scubic\n",
      "import lda\n",
      "\n",
      "s=7.\n",
      "g=4.33\n",
      "wIR=64.\n",
      "wGR=60.\n",
      "\n",
      "pot = scubic.sc(allIR=s, allGR=g, allIRw=wIR, allGRw=wGR)\n",
      "test = lda.lda(potential = pot, a_s=650., globalMu='halfMott', verbose=True)\n",
      "fig = lda.plotLine( test , line_direction='111') \n",
      "\n"
     ],
     "language": "python",
     "metadata": {},
     "outputs": [
      {
       "output_type": "stream",
       "stream": "stdout",
       "text": [
        "OK: Bottom of the band has positive slope up to r111 = 10 um\n"
       ]
      },
      {
       "metadata": {},
       "output_type": "display_data",
       "png": "[encoded data removed]",
       "text": [
        "<matplotlib.figure.Figure at 0xbd1c76c>"
       ]
      }
     ],
     "prompt_number": 3
    },
    {
     "cell_type": "code",
     "collapsed": false,
     "input": [
      "import scubic\n",
      "import lda\n",
      "\n",
      "s=7.\n",
      "g=4.69\n",
      "wIR=64.\n",
      "wGR=60.\n",
      "\n",
      "pot = scubic.sc(allIR=s, allGR=g, allIRw=wIR, allGRw=wGR)\n",
      "test = lda.lda(potential = pot, a_s=650., globalMu='halfMott', verbose=True)\n",
      "fig = lda.plotLine( test , line_direction='111') "
     ],
     "language": "python",
     "metadata": {},
     "outputs": [
      {
       "output_type": "stream",
       "stream": "stdout",
       "text": [
        "OK: Bottom of the band has positive slope up to r111 = 10 um\n"
       ]
      },
      {
       "metadata": {},
       "output_type": "display_data",
       "png": "[encoded data removed]",
       "text": [
        "<matplotlib.figure.Figure at 0xa63ec8c>"
       ]
      }
     ],
     "prompt_number": 1
    },
    {
     "cell_type": "code",
     "collapsed": false,
     "input": [
      "x = np.linspace(-1., 2., 120) \n",
      "\n",
      "\n",
      "def penalty(x,p):\n",
      "    return np.piecewise(x, [x < 1., x >= 1.], [lambda x: np.exp(-(x-1.))**p, lambda x: x])\n",
      "\n",
      "\n",
      "y = penalty( x, 6 )\n",
      "plt.plot( x, y ) \n",
      "plt.gca().set_ylim(0.,2.)\n",
      "\n",
      "#y2 = penalty( -(x-1), 6 ) \n",
      "#plt.plot( x, y2 )"
     ],
     "language": "python",
     "metadata": {},
     "outputs": [
      {
       "metadata": {},
       "output_type": "pyout",
       "prompt_number": 2,
       "text": [
        "(0.0, 2.0)"
       ]
      },
      {
       "metadata": {},
       "output_type": "display_data",
       "png": "[encoded data removed]",
       "text": [
        "<matplotlib.figure.Figure at 0xb49392c>"
       ]
      }
     ],
     "prompt_number": 2
    },
    {
     "cell_type": "code",
     "collapsed": false,
     "input": [
      "penalty( 0.5, 2 ) "
     ],
     "language": "python",
     "metadata": {},
     "outputs": [
      {
       "ename": "ValueError",
       "evalue": "too many boolean indices",
       "output_type": "pyerr",
       "traceback": [
        "\u001b[1;31m---------------------------------------------------------------------------\u001b[0m\n\u001b[1;31mValueError\u001b[0m                                Traceback (most recent call last)",
        "\u001b[1;32m<ipython-input-3-8731c5f7acb8>\u001b[0m in \u001b[0;36m<module>\u001b[1;34m()\u001b[0m\n\u001b[1;32m----> 1\u001b[1;33m \u001b[0mpenalty\u001b[0m\u001b[1;33m(\u001b[0m \u001b[1;36m0.5\u001b[0m\u001b[1;33m,\u001b[0m \u001b[1;36m2\u001b[0m \u001b[1;33m)\u001b[0m\u001b[1;33m\u001b[0m\u001b[0m\n\u001b[0m",
        "\u001b[1;32m<ipython-input-2-9c4f4f6f8984>\u001b[0m in \u001b[0;36mpenalty\u001b[1;34m(x, p)\u001b[0m\n\u001b[0;32m      3\u001b[0m \u001b[1;33m\u001b[0m\u001b[0m\n\u001b[0;32m      4\u001b[0m \u001b[1;32mdef\u001b[0m \u001b[0mpenalty\u001b[0m\u001b[1;33m(\u001b[0m\u001b[0mx\u001b[0m\u001b[1;33m,\u001b[0m\u001b[0mp\u001b[0m\u001b[1;33m)\u001b[0m\u001b[1;33m:\u001b[0m\u001b[1;33m\u001b[0m\u001b[0m\n\u001b[1;32m----> 5\u001b[1;33m     \u001b[1;32mreturn\u001b[0m \u001b[0mnp\u001b[0m\u001b[1;33m.\u001b[0m\u001b[0mpiecewise\u001b[0m\u001b[1;33m(\u001b[0m\u001b[0mx\u001b[0m\u001b[1;33m,\u001b[0m \u001b[1;33m[\u001b[0m\u001b[0mx\u001b[0m \u001b[1;33m<\u001b[0m \u001b[1;36m1.\u001b[0m\u001b[1;33m,\u001b[0m \u001b[0mx\u001b[0m \u001b[1;33m>=\u001b[0m \u001b[1;36m1.\u001b[0m\u001b[1;33m]\u001b[0m\u001b[1;33m,\u001b[0m \u001b[1;33m[\u001b[0m\u001b[1;32mlambda\u001b[0m \u001b[0mx\u001b[0m\u001b[1;33m:\u001b[0m \u001b[0mnp\u001b[0m\u001b[1;33m.\u001b[0m\u001b[0mexp\u001b[0m\u001b[1;33m(\u001b[0m\u001b[1;33m-\u001b[0m\u001b[1;33m(\u001b[0m\u001b[0mx\u001b[0m\u001b[1;33m-\u001b[0m\u001b[1;36m1.\u001b[0m\u001b[1;33m)\u001b[0m\u001b[1;33m)\u001b[0m\u001b[1;33m**\u001b[0m\u001b[0mp\u001b[0m\u001b[1;33m,\u001b[0m \u001b[1;32mlambda\u001b[0m \u001b[0mx\u001b[0m\u001b[1;33m:\u001b[0m \u001b[0mx\u001b[0m\u001b[1;33m]\u001b[0m\u001b[1;33m)\u001b[0m\u001b[1;33m\u001b[0m\u001b[0m\n\u001b[0m\u001b[0;32m      6\u001b[0m \u001b[1;33m\u001b[0m\u001b[0m\n\u001b[0;32m      7\u001b[0m \u001b[1;33m\u001b[0m\u001b[0m\n",
        "\u001b[1;32m/usr/lib/python2.7/dist-packages/numpy/lib/function_base.pyc\u001b[0m in \u001b[0;36mpiecewise\u001b[1;34m(x, condlist, funclist, *args, **kw)\u001b[0m\n\u001b[0;32m    711\u001b[0m             \u001b[0my\u001b[0m\u001b[1;33m[\u001b[0m\u001b[0mcondlist\u001b[0m\u001b[1;33m[\u001b[0m\u001b[0mk\u001b[0m\u001b[1;33m]\u001b[0m\u001b[1;33m]\u001b[0m \u001b[1;33m=\u001b[0m \u001b[0mitem\u001b[0m\u001b[1;33m\u001b[0m\u001b[0m\n\u001b[0;32m    712\u001b[0m         \u001b[1;32melse\u001b[0m\u001b[1;33m:\u001b[0m\u001b[1;33m\u001b[0m\u001b[0m\n\u001b[1;32m--> 713\u001b[1;33m             \u001b[0mvals\u001b[0m \u001b[1;33m=\u001b[0m \u001b[0mx\u001b[0m\u001b[1;33m[\u001b[0m\u001b[0mcondlist\u001b[0m\u001b[1;33m[\u001b[0m\u001b[0mk\u001b[0m\u001b[1;33m]\u001b[0m\u001b[1;33m]\u001b[0m\u001b[1;33m\u001b[0m\u001b[0m\n\u001b[0m\u001b[0;32m    714\u001b[0m             \u001b[1;32mif\u001b[0m \u001b[0mvals\u001b[0m\u001b[1;33m.\u001b[0m\u001b[0msize\u001b[0m \u001b[1;33m>\u001b[0m \u001b[1;36m0\u001b[0m\u001b[1;33m:\u001b[0m\u001b[1;33m\u001b[0m\u001b[0m\n\u001b[0;32m    715\u001b[0m                 \u001b[0my\u001b[0m\u001b[1;33m[\u001b[0m\u001b[0mcondlist\u001b[0m\u001b[1;33m[\u001b[0m\u001b[0mk\u001b[0m\u001b[1;33m]\u001b[0m\u001b[1;33m]\u001b[0m \u001b[1;33m=\u001b[0m \u001b[0mitem\u001b[0m\u001b[1;33m(\u001b[0m\u001b[0mvals\u001b[0m\u001b[1;33m,\u001b[0m \u001b[1;33m*\u001b[0m\u001b[0margs\u001b[0m\u001b[1;33m,\u001b[0m \u001b[1;33m**\u001b[0m\u001b[0mkw\u001b[0m\u001b[1;33m)\u001b[0m\u001b[1;33m\u001b[0m\u001b[0m\n",
        "\u001b[1;31mValueError\u001b[0m: too many boolean indices"
       ]
      }
     ],
     "prompt_number": 3
    },
    {
     "cell_type": "code",
     "collapsed": false,
     "input": [],
     "language": "python",
     "metadata": {},
     "outputs": []
    }
   ],
   "metadata": {}
  }
 ]
}